{
 "cells": [
  {
   "cell_type": "code",
   "execution_count": 5,
   "metadata": {},
   "outputs": [
    {
     "name": "stdout",
     "output_type": "stream",
     "text": [
      "pygame 1.9.6\n",
      "Hello from the pygame community. https://www.pygame.org/contribute.html\n"
     ]
    }
   ],
   "source": [
    "import pygame\n",
    "from pygame.locals import *\n",
    "import time\n",
    "import requests\n",
    "from datetime import datetime\n",
    "import bs4\n",
    "import os"
   ]
  },
  {
   "cell_type": "code",
   "execution_count": 6,
   "metadata": {},
   "outputs": [],
   "source": [
    "pygame.init()\n",
    "musica = pygame.mixer.Sound('alert.wav')\n",
    "musica.set_volume(1)"
   ]
  },
  {
   "cell_type": "code",
   "execution_count": null,
   "metadata": {},
   "outputs": [],
   "source": []
  },
  {
   "cell_type": "code",
   "execution_count": null,
   "metadata": {},
   "outputs": [],
   "source": []
  },
  {
   "cell_type": "code",
   "execution_count": 43,
   "metadata": {},
   "outputs": [],
   "source": [
    "verified_events = []"
   ]
  },
  {
   "cell_type": "code",
   "execution_count": 7,
   "metadata": {},
   "outputs": [],
   "source": [
    "def playSong():\n",
    "    '''\n",
    "        Reproduz som de alerta\n",
    "    '''\n",
    "    try:\n",
    "        musica.play(-1)\n",
    "        time.sleep(10)\n",
    "        musica.stop()\n",
    "    except KeyboardInterrupt:\n",
    "        print('Stopped')\n",
    "        return True"
   ]
  },
  {
   "cell_type": "code",
   "execution_count": 1,
   "metadata": {},
   "outputs": [],
   "source": [
    "def getGameSequence(sequence_size, all_markets=True, market=None):\n",
    "    '''\n",
    "        Ira pegar uma sequencia de jogos under para poder apostar no over\n",
    "    '''\n",
    "    \n",
    "    futebol_virtual = 'https://www.betfair.com/sport/virtuals-results?sport=SOCCER&day='\n",
    "    mundial_virtual = 'https://www.betfair.com/sport/virtuals-results?sport=SOCCER_WORLD_CUP&day='\n",
    "    \n",
    "    if all_markets != True and market == 1:\n",
    "        urls = {'futebol_virtual':futebol_virtual}\n",
    "    elif all_markets != True and market == 2:\n",
    "        urls = {'futebol_mundial_virtual':mundial_virtual}\n",
    "    else:\n",
    "#         print('\\nVerificando se ha uma sequencia de {} jogos com under\\n'.format(sequence_size))\n",
    "        urls = {'futebol_virtual':futebol_virtual, 'futebol_mundial_virtual':mundial_virtual}\n",
    "    \n",
    "    last_games = []\n",
    "    for pos, url in enumerate(urls.keys()):\n",
    "        os.system('clear')\n",
    "        print('Verificando sequencia de eventos...\\n')\n",
    "        \n",
    "#         link = urls[url] + datetime.today().strftime('%Y-%m-%d')\n",
    "        link = urls[url] + \"2020-04-24\"\n",
    "        \n",
    "        req = requests.get(link)\n",
    "        if req.status_code == 200:\n",
    "            htmlPage = bs4.BeautifulSoup(req.content, features='html.parser')\n",
    "            table_results = htmlPage.find('div',{'class':'result-list-wrapper'})\n",
    "\n",
    "            global goals\n",
    "            goals = []\n",
    "    #         print('\\nUltimos {} jogos em {}'.format(sequence_size, url.replace('_', ' ').upper()))\n",
    "            for pos, content in enumerate(table_results.find_all('div',{'class':'result-title'})):\n",
    "                to_save = content.text\n",
    "                content = content.text.split('\\n')\n",
    "                team_A = int(content[4].split('-')[0])\n",
    "                team_B = int(content[4].split('-')[1])\n",
    "                if (team_A + team_B) > 2:\n",
    "                    goals.append(False)\n",
    "                else:\n",
    "                    goals.append(True)\n",
    "    #             print(content[4])\n",
    "\n",
    "                if pos == (sequence_size-1):\n",
    "                    break\n",
    "\n",
    "            if False not in goals and to_save not in verified_events:\n",
    "                os.system('clear')\n",
    "\n",
    "                print('\\n------------> COM BOA SEQUENCIA PARA {} <------------format'.format(url.replace('_', ' ')))\n",
    "                playSong()\n",
    "\n",
    "                input('\\n\\nPressione alguma tecla para continuar...')\n",
    "\n",
    "                goals = []\n",
    "                verified_events.append(to_save)\n",
    "                #salva o ultimo evento dessa sequencia como verificado\n",
    "            else:\n",
    "    #             print('\\n\\n------------> SEM BOA SEQUENCIA PARA {} <------------ \\n\\n\\n'.format(url.replace('_', ' ')))\n",
    "                goals = []\n",
    "        else:\n",
    "            print('problem with request')\n",
    "            time.sleep(10)"
   ]
  },
  {
   "cell_type": "code",
   "execution_count": 46,
   "metadata": {},
   "outputs": [
    {
     "name": "stdout",
     "output_type": "stream",
     "text": [
      "Verificando sequencia de eventos...\n",
      "\n",
      "Verificando sequencia de eventos...\n",
      "\n",
      "\n",
      "------------> COM BOA SEQUENCIA PARA futebol virtual <------------format\n",
      "\n",
      "\n",
      "Pressione alguma tecla para continuar...\n"
     ]
    },
    {
     "ename": "KeyboardInterrupt",
     "evalue": "",
     "output_type": "error",
     "traceback": [
      "\u001b[0;31m---------------------------------------------------------------------------\u001b[0m",
      "\u001b[0;31mKeyboardInterrupt\u001b[0m                         Traceback (most recent call last)",
      "\u001b[0;32m<ipython-input-46-177ca8bb0010>\u001b[0m in \u001b[0;36m<module>\u001b[0;34m\u001b[0m\n\u001b[1;32m      8\u001b[0m \u001b[0;31m#     getGameSequence(sequence_size=4, all_markets=False, market=2)\u001b[0m\u001b[0;34m\u001b[0m\u001b[0;34m\u001b[0m\u001b[0m\n\u001b[1;32m      9\u001b[0m     \u001b[0mgetGameSequence\u001b[0m\u001b[0;34m(\u001b[0m\u001b[0msequence_size\u001b[0m\u001b[0;34m=\u001b[0m\u001b[0;36m4\u001b[0m\u001b[0;34m,\u001b[0m \u001b[0mall_markets\u001b[0m\u001b[0;34m=\u001b[0m\u001b[0;32mTrue\u001b[0m\u001b[0;34m)\u001b[0m\u001b[0;34m\u001b[0m\u001b[0m\n\u001b[0;32m---> 10\u001b[0;31m     \u001b[0mtime\u001b[0m\u001b[0;34m.\u001b[0m\u001b[0msleep\u001b[0m\u001b[0;34m(\u001b[0m\u001b[0;36m30\u001b[0m\u001b[0;34m)\u001b[0m\u001b[0;34m\u001b[0m\u001b[0m\n\u001b[0m",
      "\u001b[0;31mKeyboardInterrupt\u001b[0m: "
     ]
    }
   ],
   "source": [
    "while True:\n",
    "    # 1 para FUTEBOL VIRTUAL\n",
    "    \n",
    "    # 2 PARA FUTEBOL VIRTUAL MUNDIAL\n",
    "    \n",
    "    # PARA OS DOIS MERCADOS:all_markets=True e sem parametro para market\n",
    "    \n",
    "#     getGameSequence(sequence_size=4, all_markets=False, market=2)    \n",
    "    getGameSequence(sequence_size=4, all_markets=True)\n",
    "    time.sleep(30)"
   ]
  },
  {
   "cell_type": "code",
   "execution_count": null,
   "metadata": {},
   "outputs": [],
   "source": []
  },
  {
   "cell_type": "code",
   "execution_count": null,
   "metadata": {},
   "outputs": [],
   "source": []
  }
 ],
 "metadata": {
  "kernelspec": {
   "display_name": "Python 3",
   "language": "python",
   "name": "python3"
  },
  "language_info": {
   "codemirror_mode": {
    "name": "ipython",
    "version": 3
   },
   "file_extension": ".py",
   "mimetype": "text/x-python",
   "name": "python",
   "nbconvert_exporter": "python",
   "pygments_lexer": "ipython3",
   "version": "3.5.3"
  }
 },
 "nbformat": 4,
 "nbformat_minor": 2
}
