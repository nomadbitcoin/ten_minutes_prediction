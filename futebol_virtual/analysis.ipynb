{
 "cells": [
  {
   "cell_type": "code",
   "execution_count": 90,
   "metadata": {},
   "outputs": [],
   "source": [
    "import pandas as pd\n",
    "import numpy as np\n",
    "pd.options.display.max_rows = 2000\n",
    "pd.options.display.max_columns = None\n",
    "\n",
    "from datetime import datetime"
   ]
  },
  {
   "cell_type": "code",
   "execution_count": 32,
   "metadata": {},
   "outputs": [],
   "source": [
    "import cufflinks as cf\n",
    "from plotly.offline import iplot"
   ]
  },
  {
   "cell_type": "code",
   "execution_count": 33,
   "metadata": {},
   "outputs": [
    {
     "data": {
      "text/html": [
       "        <script type=\"text/javascript\">\n",
       "        window.PlotlyConfig = {MathJaxConfig: 'local'};\n",
       "        if (window.MathJax) {MathJax.Hub.Config({SVG: {font: \"STIX-Web\"}});}\n",
       "        if (typeof require !== 'undefined') {\n",
       "        require.undef(\"plotly\");\n",
       "        requirejs.config({\n",
       "            paths: {\n",
       "                'plotly': ['https://cdn.plot.ly/plotly-latest.min']\n",
       "            }\n",
       "        });\n",
       "        require(['plotly'], function(Plotly) {\n",
       "            window._Plotly = Plotly;\n",
       "        });\n",
       "        }\n",
       "        </script>\n",
       "        "
      ]
     },
     "metadata": {},
     "output_type": "display_data"
    }
   ],
   "source": [
    "cf.go_offline()"
   ]
  },
  {
   "cell_type": "markdown",
   "metadata": {},
   "source": [
    "# Dados de futebol virtual de clubes"
   ]
  },
  {
   "cell_type": "code",
   "execution_count": 19,
   "metadata": {},
   "outputs": [],
   "source": [
    "df = pd.read_csv('data_futebol_clubes.csv')"
   ]
  },
  {
   "cell_type": "code",
   "execution_count": 92,
   "metadata": {},
   "outputs": [],
   "source": [
    "df = df.loc[:42724, :]"
   ]
  },
  {
   "cell_type": "code",
   "execution_count": 11,
   "metadata": {},
   "outputs": [],
   "source": [
    "df['over 2.5'] = False"
   ]
  },
  {
   "cell_type": "code",
   "execution_count": 12,
   "metadata": {},
   "outputs": [],
   "source": [
    "# SE A SOMA DOS GOLS DA PARTIDA FOREM MAIOR QUE 2 IRA MUDAR PARA TRUE\n",
    "for row, content in df[['goal_home', 'goal_back']].T.iteritems():\n",
    "    soma = int(content['goal_home']) + int(content['goal_back'])\n",
    "    if soma > 2:\n",
    "        df.loc[row, 'over 2.5'] = True"
   ]
  },
  {
   "cell_type": "code",
   "execution_count": 15,
   "metadata": {},
   "outputs": [],
   "source": [
    "df['sequence_size'] = np.nan"
   ]
  },
  {
   "cell_type": "code",
   "execution_count": 20,
   "metadata": {
    "scrolled": true
   },
   "outputs": [
    {
     "name": "stdout",
     "output_type": "stream",
     "text": [
      "0 rows processed\n",
      "1000 rows processed\n",
      "2000 rows processed\n",
      "3000 rows processed\n",
      "4000 rows processed\n",
      "5000 rows processed\n",
      "6000 rows processed\n",
      "7000 rows processed\n",
      "8000 rows processed\n",
      "9000 rows processed\n",
      "10000 rows processed\n",
      "11000 rows processed\n",
      "12000 rows processed\n",
      "13000 rows processed\n",
      "14000 rows processed\n",
      "15000 rows processed\n",
      "16000 rows processed\n",
      "17000 rows processed\n",
      "18000 rows processed\n",
      "19000 rows processed\n",
      "20000 rows processed\n",
      "21000 rows processed\n",
      "22000 rows processed\n",
      "23000 rows processed\n",
      "24000 rows processed\n",
      "25000 rows processed\n",
      "26000 rows processed\n",
      "27000 rows processed\n",
      "28000 rows processed\n",
      "29000 rows processed\n",
      "30000 rows processed\n",
      "31000 rows processed\n",
      "32000 rows processed\n",
      "33000 rows processed\n",
      "34000 rows processed\n",
      "35000 rows processed\n",
      "36000 rows processed\n",
      "37000 rows processed\n",
      "38000 rows processed\n",
      "39000 rows processed\n",
      "40000 rows processed\n",
      "41000 rows processed\n",
      "42000 rows processed\n",
      "43000 rows processed\n",
      "44000 rows processed\n"
     ]
    }
   ],
   "source": [
    "count = 0\n",
    "for row, content in enumerate(df['over 2.5']):\n",
    "    if content == False:\n",
    "        count +=1\n",
    "    else:\n",
    "        df.loc[row, 'sequence_size'] = int(count)\n",
    "        count = 0\n",
    "        \n",
    "    if row % 1000 == 0:\n",
    "        print('{} rows processed'.format(row))"
   ]
  },
  {
   "cell_type": "code",
   "execution_count": 39,
   "metadata": {},
   "outputs": [
    {
     "data": {
      "text/plain": [
       "17.0"
      ]
     },
     "execution_count": 39,
     "metadata": {},
     "output_type": "execute_result"
    }
   ],
   "source": [
    "# reverse.head(50)\n",
    "df['sequence_size'].max()"
   ]
  },
  {
   "cell_type": "code",
   "execution_count": 40,
   "metadata": {},
   "outputs": [],
   "source": []
  },
  {
   "cell_type": "code",
   "execution_count": 41,
   "metadata": {},
   "outputs": [
    {
     "data": {
      "application/vnd.plotly.v1+json": {
       "config": {
        "linkText": "Export to plot.ly",
        "plotlyServerURL": "https://plot.ly",
        "showLink": true
       },
       "data": [
        {
         "marker": {
          "color": "rgba(255, 153, 51, 0.6)",
          "line": {
           "color": "rgba(255, 153, 51, 1.0)",
           "width": 1
          }
         },
         "name": "sequence_size",
         "orientation": "v",
         "text": "",
         "type": "bar",
         "x": [
          0,
          1,
          2,
          3,
          4,
          5,
          6,
          7,
          8,
          9,
          10,
          11,
          12,
          13,
          14,
          16,
          15,
          17
         ],
         "y": [
          6100,
          3794,
          2361,
          1544,
          954,
          582,
          373,
          259,
          135,
          113,
          61,
          29,
          25,
          15,
          11,
          4,
          4,
          3
         ]
        }
       ],
       "layout": {
        "legend": {
         "bgcolor": "#F5F6F9",
         "font": {
          "color": "#4D5663"
         }
        },
        "paper_bgcolor": "#F5F6F9",
        "plot_bgcolor": "#F5F6F9",
        "template": {
         "data": {
          "bar": [
           {
            "error_x": {
             "color": "#2a3f5f"
            },
            "error_y": {
             "color": "#2a3f5f"
            },
            "marker": {
             "line": {
              "color": "#E5ECF6",
              "width": 0.5
             }
            },
            "type": "bar"
           }
          ],
          "barpolar": [
           {
            "marker": {
             "line": {
              "color": "#E5ECF6",
              "width": 0.5
             }
            },
            "type": "barpolar"
           }
          ],
          "carpet": [
           {
            "aaxis": {
             "endlinecolor": "#2a3f5f",
             "gridcolor": "white",
             "linecolor": "white",
             "minorgridcolor": "white",
             "startlinecolor": "#2a3f5f"
            },
            "baxis": {
             "endlinecolor": "#2a3f5f",
             "gridcolor": "white",
             "linecolor": "white",
             "minorgridcolor": "white",
             "startlinecolor": "#2a3f5f"
            },
            "type": "carpet"
           }
          ],
          "choropleth": [
           {
            "colorbar": {
             "outlinewidth": 0,
             "ticks": ""
            },
            "type": "choropleth"
           }
          ],
          "contour": [
           {
            "colorbar": {
             "outlinewidth": 0,
             "ticks": ""
            },
            "colorscale": [
             [
              0,
              "#0d0887"
             ],
             [
              0.1111111111111111,
              "#46039f"
             ],
             [
              0.2222222222222222,
              "#7201a8"
             ],
             [
              0.3333333333333333,
              "#9c179e"
             ],
             [
              0.4444444444444444,
              "#bd3786"
             ],
             [
              0.5555555555555556,
              "#d8576b"
             ],
             [
              0.6666666666666666,
              "#ed7953"
             ],
             [
              0.7777777777777778,
              "#fb9f3a"
             ],
             [
              0.8888888888888888,
              "#fdca26"
             ],
             [
              1,
              "#f0f921"
             ]
            ],
            "type": "contour"
           }
          ],
          "contourcarpet": [
           {
            "colorbar": {
             "outlinewidth": 0,
             "ticks": ""
            },
            "type": "contourcarpet"
           }
          ],
          "heatmap": [
           {
            "colorbar": {
             "outlinewidth": 0,
             "ticks": ""
            },
            "colorscale": [
             [
              0,
              "#0d0887"
             ],
             [
              0.1111111111111111,
              "#46039f"
             ],
             [
              0.2222222222222222,
              "#7201a8"
             ],
             [
              0.3333333333333333,
              "#9c179e"
             ],
             [
              0.4444444444444444,
              "#bd3786"
             ],
             [
              0.5555555555555556,
              "#d8576b"
             ],
             [
              0.6666666666666666,
              "#ed7953"
             ],
             [
              0.7777777777777778,
              "#fb9f3a"
             ],
             [
              0.8888888888888888,
              "#fdca26"
             ],
             [
              1,
              "#f0f921"
             ]
            ],
            "type": "heatmap"
           }
          ],
          "heatmapgl": [
           {
            "colorbar": {
             "outlinewidth": 0,
             "ticks": ""
            },
            "colorscale": [
             [
              0,
              "#0d0887"
             ],
             [
              0.1111111111111111,
              "#46039f"
             ],
             [
              0.2222222222222222,
              "#7201a8"
             ],
             [
              0.3333333333333333,
              "#9c179e"
             ],
             [
              0.4444444444444444,
              "#bd3786"
             ],
             [
              0.5555555555555556,
              "#d8576b"
             ],
             [
              0.6666666666666666,
              "#ed7953"
             ],
             [
              0.7777777777777778,
              "#fb9f3a"
             ],
             [
              0.8888888888888888,
              "#fdca26"
             ],
             [
              1,
              "#f0f921"
             ]
            ],
            "type": "heatmapgl"
           }
          ],
          "histogram": [
           {
            "marker": {
             "colorbar": {
              "outlinewidth": 0,
              "ticks": ""
             }
            },
            "type": "histogram"
           }
          ],
          "histogram2d": [
           {
            "colorbar": {
             "outlinewidth": 0,
             "ticks": ""
            },
            "colorscale": [
             [
              0,
              "#0d0887"
             ],
             [
              0.1111111111111111,
              "#46039f"
             ],
             [
              0.2222222222222222,
              "#7201a8"
             ],
             [
              0.3333333333333333,
              "#9c179e"
             ],
             [
              0.4444444444444444,
              "#bd3786"
             ],
             [
              0.5555555555555556,
              "#d8576b"
             ],
             [
              0.6666666666666666,
              "#ed7953"
             ],
             [
              0.7777777777777778,
              "#fb9f3a"
             ],
             [
              0.8888888888888888,
              "#fdca26"
             ],
             [
              1,
              "#f0f921"
             ]
            ],
            "type": "histogram2d"
           }
          ],
          "histogram2dcontour": [
           {
            "colorbar": {
             "outlinewidth": 0,
             "ticks": ""
            },
            "colorscale": [
             [
              0,
              "#0d0887"
             ],
             [
              0.1111111111111111,
              "#46039f"
             ],
             [
              0.2222222222222222,
              "#7201a8"
             ],
             [
              0.3333333333333333,
              "#9c179e"
             ],
             [
              0.4444444444444444,
              "#bd3786"
             ],
             [
              0.5555555555555556,
              "#d8576b"
             ],
             [
              0.6666666666666666,
              "#ed7953"
             ],
             [
              0.7777777777777778,
              "#fb9f3a"
             ],
             [
              0.8888888888888888,
              "#fdca26"
             ],
             [
              1,
              "#f0f921"
             ]
            ],
            "type": "histogram2dcontour"
           }
          ],
          "mesh3d": [
           {
            "colorbar": {
             "outlinewidth": 0,
             "ticks": ""
            },
            "type": "mesh3d"
           }
          ],
          "parcoords": [
           {
            "line": {
             "colorbar": {
              "outlinewidth": 0,
              "ticks": ""
             }
            },
            "type": "parcoords"
           }
          ],
          "pie": [
           {
            "automargin": true,
            "type": "pie"
           }
          ],
          "scatter": [
           {
            "marker": {
             "colorbar": {
              "outlinewidth": 0,
              "ticks": ""
             }
            },
            "type": "scatter"
           }
          ],
          "scatter3d": [
           {
            "line": {
             "colorbar": {
              "outlinewidth": 0,
              "ticks": ""
             }
            },
            "marker": {
             "colorbar": {
              "outlinewidth": 0,
              "ticks": ""
             }
            },
            "type": "scatter3d"
           }
          ],
          "scattercarpet": [
           {
            "marker": {
             "colorbar": {
              "outlinewidth": 0,
              "ticks": ""
             }
            },
            "type": "scattercarpet"
           }
          ],
          "scattergeo": [
           {
            "marker": {
             "colorbar": {
              "outlinewidth": 0,
              "ticks": ""
             }
            },
            "type": "scattergeo"
           }
          ],
          "scattergl": [
           {
            "marker": {
             "colorbar": {
              "outlinewidth": 0,
              "ticks": ""
             }
            },
            "type": "scattergl"
           }
          ],
          "scattermapbox": [
           {
            "marker": {
             "colorbar": {
              "outlinewidth": 0,
              "ticks": ""
             }
            },
            "type": "scattermapbox"
           }
          ],
          "scatterpolar": [
           {
            "marker": {
             "colorbar": {
              "outlinewidth": 0,
              "ticks": ""
             }
            },
            "type": "scatterpolar"
           }
          ],
          "scatterpolargl": [
           {
            "marker": {
             "colorbar": {
              "outlinewidth": 0,
              "ticks": ""
             }
            },
            "type": "scatterpolargl"
           }
          ],
          "scatterternary": [
           {
            "marker": {
             "colorbar": {
              "outlinewidth": 0,
              "ticks": ""
             }
            },
            "type": "scatterternary"
           }
          ],
          "surface": [
           {
            "colorbar": {
             "outlinewidth": 0,
             "ticks": ""
            },
            "colorscale": [
             [
              0,
              "#0d0887"
             ],
             [
              0.1111111111111111,
              "#46039f"
             ],
             [
              0.2222222222222222,
              "#7201a8"
             ],
             [
              0.3333333333333333,
              "#9c179e"
             ],
             [
              0.4444444444444444,
              "#bd3786"
             ],
             [
              0.5555555555555556,
              "#d8576b"
             ],
             [
              0.6666666666666666,
              "#ed7953"
             ],
             [
              0.7777777777777778,
              "#fb9f3a"
             ],
             [
              0.8888888888888888,
              "#fdca26"
             ],
             [
              1,
              "#f0f921"
             ]
            ],
            "type": "surface"
           }
          ],
          "table": [
           {
            "cells": {
             "fill": {
              "color": "#EBF0F8"
             },
             "line": {
              "color": "white"
             }
            },
            "header": {
             "fill": {
              "color": "#C8D4E3"
             },
             "line": {
              "color": "white"
             }
            },
            "type": "table"
           }
          ]
         },
         "layout": {
          "annotationdefaults": {
           "arrowcolor": "#2a3f5f",
           "arrowhead": 0,
           "arrowwidth": 1
          },
          "coloraxis": {
           "colorbar": {
            "outlinewidth": 0,
            "ticks": ""
           }
          },
          "colorscale": {
           "diverging": [
            [
             0,
             "#8e0152"
            ],
            [
             0.1,
             "#c51b7d"
            ],
            [
             0.2,
             "#de77ae"
            ],
            [
             0.3,
             "#f1b6da"
            ],
            [
             0.4,
             "#fde0ef"
            ],
            [
             0.5,
             "#f7f7f7"
            ],
            [
             0.6,
             "#e6f5d0"
            ],
            [
             0.7,
             "#b8e186"
            ],
            [
             0.8,
             "#7fbc41"
            ],
            [
             0.9,
             "#4d9221"
            ],
            [
             1,
             "#276419"
            ]
           ],
           "sequential": [
            [
             0,
             "#0d0887"
            ],
            [
             0.1111111111111111,
             "#46039f"
            ],
            [
             0.2222222222222222,
             "#7201a8"
            ],
            [
             0.3333333333333333,
             "#9c179e"
            ],
            [
             0.4444444444444444,
             "#bd3786"
            ],
            [
             0.5555555555555556,
             "#d8576b"
            ],
            [
             0.6666666666666666,
             "#ed7953"
            ],
            [
             0.7777777777777778,
             "#fb9f3a"
            ],
            [
             0.8888888888888888,
             "#fdca26"
            ],
            [
             1,
             "#f0f921"
            ]
           ],
           "sequentialminus": [
            [
             0,
             "#0d0887"
            ],
            [
             0.1111111111111111,
             "#46039f"
            ],
            [
             0.2222222222222222,
             "#7201a8"
            ],
            [
             0.3333333333333333,
             "#9c179e"
            ],
            [
             0.4444444444444444,
             "#bd3786"
            ],
            [
             0.5555555555555556,
             "#d8576b"
            ],
            [
             0.6666666666666666,
             "#ed7953"
            ],
            [
             0.7777777777777778,
             "#fb9f3a"
            ],
            [
             0.8888888888888888,
             "#fdca26"
            ],
            [
             1,
             "#f0f921"
            ]
           ]
          },
          "colorway": [
           "#636efa",
           "#EF553B",
           "#00cc96",
           "#ab63fa",
           "#FFA15A",
           "#19d3f3",
           "#FF6692",
           "#B6E880",
           "#FF97FF",
           "#FECB52"
          ],
          "font": {
           "color": "#2a3f5f"
          },
          "geo": {
           "bgcolor": "white",
           "lakecolor": "white",
           "landcolor": "#E5ECF6",
           "showlakes": true,
           "showland": true,
           "subunitcolor": "white"
          },
          "hoverlabel": {
           "align": "left"
          },
          "hovermode": "closest",
          "mapbox": {
           "style": "light"
          },
          "paper_bgcolor": "white",
          "plot_bgcolor": "#E5ECF6",
          "polar": {
           "angularaxis": {
            "gridcolor": "white",
            "linecolor": "white",
            "ticks": ""
           },
           "bgcolor": "#E5ECF6",
           "radialaxis": {
            "gridcolor": "white",
            "linecolor": "white",
            "ticks": ""
           }
          },
          "scene": {
           "xaxis": {
            "backgroundcolor": "#E5ECF6",
            "gridcolor": "white",
            "gridwidth": 2,
            "linecolor": "white",
            "showbackground": true,
            "ticks": "",
            "zerolinecolor": "white"
           },
           "yaxis": {
            "backgroundcolor": "#E5ECF6",
            "gridcolor": "white",
            "gridwidth": 2,
            "linecolor": "white",
            "showbackground": true,
            "ticks": "",
            "zerolinecolor": "white"
           },
           "zaxis": {
            "backgroundcolor": "#E5ECF6",
            "gridcolor": "white",
            "gridwidth": 2,
            "linecolor": "white",
            "showbackground": true,
            "ticks": "",
            "zerolinecolor": "white"
           }
          },
          "shapedefaults": {
           "line": {
            "color": "#2a3f5f"
           }
          },
          "ternary": {
           "aaxis": {
            "gridcolor": "white",
            "linecolor": "white",
            "ticks": ""
           },
           "baxis": {
            "gridcolor": "white",
            "linecolor": "white",
            "ticks": ""
           },
           "bgcolor": "#E5ECF6",
           "caxis": {
            "gridcolor": "white",
            "linecolor": "white",
            "ticks": ""
           }
          },
          "title": {
           "x": 0.05
          },
          "xaxis": {
           "automargin": true,
           "gridcolor": "white",
           "linecolor": "white",
           "ticks": "",
           "title": {
            "standoff": 15
           },
           "zerolinecolor": "white",
           "zerolinewidth": 2
          },
          "yaxis": {
           "automargin": true,
           "gridcolor": "white",
           "linecolor": "white",
           "ticks": "",
           "title": {
            "standoff": 15
           },
           "zerolinecolor": "white",
           "zerolinewidth": 2
          }
         }
        },
        "title": {
         "font": {
          "color": "#4D5663"
         },
         "text": "Gráfico de barras"
        },
        "xaxis": {
         "gridcolor": "#E1E5ED",
         "showgrid": true,
         "tickfont": {
          "color": "#4D5663"
         },
         "title": {
          "font": {
           "color": "#4D5663"
          },
          "text": ""
         },
         "zerolinecolor": "#E1E5ED"
        },
        "yaxis": {
         "gridcolor": "#E1E5ED",
         "showgrid": true,
         "tickfont": {
          "color": "#4D5663"
         },
         "title": {
          "font": {
           "color": "#4D5663"
          },
          "text": ""
         },
         "zerolinecolor": "#E1E5ED"
        }
       }
      },
      "text/html": [
       "<div>\n",
       "        \n",
       "        \n",
       "            <div id=\"70809a79-d445-4360-a74e-63f8d045fbf8\" class=\"plotly-graph-div\" style=\"height:525px; width:100%;\"></div>\n",
       "            <script type=\"text/javascript\">\n",
       "                require([\"plotly\"], function(Plotly) {\n",
       "                    window.PLOTLYENV=window.PLOTLYENV || {};\n",
       "                    window.PLOTLYENV.BASE_URL='https://plot.ly';\n",
       "                    \n",
       "                if (document.getElementById(\"70809a79-d445-4360-a74e-63f8d045fbf8\")) {\n",
       "                    Plotly.newPlot(\n",
       "                        '70809a79-d445-4360-a74e-63f8d045fbf8',\n",
       "                        [{\"marker\": {\"color\": \"rgba(255, 153, 51, 0.6)\", \"line\": {\"color\": \"rgba(255, 153, 51, 1.0)\", \"width\": 1}}, \"name\": \"sequence_size\", \"orientation\": \"v\", \"text\": \"\", \"type\": \"bar\", \"x\": [0.0, 1.0, 2.0, 3.0, 4.0, 5.0, 6.0, 7.0, 8.0, 9.0, 10.0, 11.0, 12.0, 13.0, 14.0, 16.0, 15.0, 17.0], \"y\": [6100, 3794, 2361, 1544, 954, 582, 373, 259, 135, 113, 61, 29, 25, 15, 11, 4, 4, 3]}],\n",
       "                        {\"legend\": {\"bgcolor\": \"#F5F6F9\", \"font\": {\"color\": \"#4D5663\"}}, \"paper_bgcolor\": \"#F5F6F9\", \"plot_bgcolor\": \"#F5F6F9\", \"template\": {\"data\": {\"bar\": [{\"error_x\": {\"color\": \"#2a3f5f\"}, \"error_y\": {\"color\": \"#2a3f5f\"}, \"marker\": {\"line\": {\"color\": \"#E5ECF6\", \"width\": 0.5}}, \"type\": \"bar\"}], \"barpolar\": [{\"marker\": {\"line\": {\"color\": \"#E5ECF6\", \"width\": 0.5}}, \"type\": \"barpolar\"}], \"carpet\": [{\"aaxis\": {\"endlinecolor\": \"#2a3f5f\", \"gridcolor\": \"white\", \"linecolor\": \"white\", \"minorgridcolor\": \"white\", \"startlinecolor\": \"#2a3f5f\"}, \"baxis\": {\"endlinecolor\": \"#2a3f5f\", \"gridcolor\": \"white\", \"linecolor\": \"white\", \"minorgridcolor\": \"white\", \"startlinecolor\": \"#2a3f5f\"}, \"type\": \"carpet\"}], \"choropleth\": [{\"colorbar\": {\"outlinewidth\": 0, \"ticks\": \"\"}, \"type\": \"choropleth\"}], \"contour\": [{\"colorbar\": {\"outlinewidth\": 0, \"ticks\": \"\"}, \"colorscale\": [[0.0, \"#0d0887\"], [0.1111111111111111, \"#46039f\"], [0.2222222222222222, \"#7201a8\"], [0.3333333333333333, \"#9c179e\"], [0.4444444444444444, \"#bd3786\"], [0.5555555555555556, \"#d8576b\"], [0.6666666666666666, \"#ed7953\"], [0.7777777777777778, \"#fb9f3a\"], [0.8888888888888888, \"#fdca26\"], [1.0, \"#f0f921\"]], \"type\": \"contour\"}], \"contourcarpet\": [{\"colorbar\": {\"outlinewidth\": 0, \"ticks\": \"\"}, \"type\": \"contourcarpet\"}], \"heatmap\": [{\"colorbar\": {\"outlinewidth\": 0, \"ticks\": \"\"}, \"colorscale\": [[0.0, \"#0d0887\"], [0.1111111111111111, \"#46039f\"], [0.2222222222222222, \"#7201a8\"], [0.3333333333333333, \"#9c179e\"], [0.4444444444444444, \"#bd3786\"], [0.5555555555555556, \"#d8576b\"], [0.6666666666666666, \"#ed7953\"], [0.7777777777777778, \"#fb9f3a\"], [0.8888888888888888, \"#fdca26\"], [1.0, \"#f0f921\"]], \"type\": \"heatmap\"}], \"heatmapgl\": [{\"colorbar\": {\"outlinewidth\": 0, \"ticks\": \"\"}, \"colorscale\": [[0.0, \"#0d0887\"], [0.1111111111111111, \"#46039f\"], [0.2222222222222222, \"#7201a8\"], [0.3333333333333333, \"#9c179e\"], [0.4444444444444444, \"#bd3786\"], [0.5555555555555556, \"#d8576b\"], [0.6666666666666666, \"#ed7953\"], [0.7777777777777778, \"#fb9f3a\"], [0.8888888888888888, \"#fdca26\"], [1.0, \"#f0f921\"]], \"type\": \"heatmapgl\"}], \"histogram\": [{\"marker\": {\"colorbar\": {\"outlinewidth\": 0, \"ticks\": \"\"}}, \"type\": \"histogram\"}], \"histogram2d\": [{\"colorbar\": {\"outlinewidth\": 0, \"ticks\": \"\"}, \"colorscale\": [[0.0, \"#0d0887\"], [0.1111111111111111, \"#46039f\"], [0.2222222222222222, \"#7201a8\"], [0.3333333333333333, \"#9c179e\"], [0.4444444444444444, \"#bd3786\"], [0.5555555555555556, \"#d8576b\"], [0.6666666666666666, \"#ed7953\"], [0.7777777777777778, \"#fb9f3a\"], [0.8888888888888888, \"#fdca26\"], [1.0, \"#f0f921\"]], \"type\": \"histogram2d\"}], \"histogram2dcontour\": [{\"colorbar\": {\"outlinewidth\": 0, \"ticks\": \"\"}, \"colorscale\": [[0.0, \"#0d0887\"], [0.1111111111111111, \"#46039f\"], [0.2222222222222222, \"#7201a8\"], [0.3333333333333333, \"#9c179e\"], [0.4444444444444444, \"#bd3786\"], [0.5555555555555556, \"#d8576b\"], [0.6666666666666666, \"#ed7953\"], [0.7777777777777778, \"#fb9f3a\"], [0.8888888888888888, \"#fdca26\"], [1.0, \"#f0f921\"]], \"type\": \"histogram2dcontour\"}], \"mesh3d\": [{\"colorbar\": {\"outlinewidth\": 0, \"ticks\": \"\"}, \"type\": \"mesh3d\"}], \"parcoords\": [{\"line\": {\"colorbar\": {\"outlinewidth\": 0, \"ticks\": \"\"}}, \"type\": \"parcoords\"}], \"pie\": [{\"automargin\": true, \"type\": \"pie\"}], \"scatter\": [{\"marker\": {\"colorbar\": {\"outlinewidth\": 0, \"ticks\": \"\"}}, \"type\": \"scatter\"}], \"scatter3d\": [{\"line\": {\"colorbar\": {\"outlinewidth\": 0, \"ticks\": \"\"}}, \"marker\": {\"colorbar\": {\"outlinewidth\": 0, \"ticks\": \"\"}}, \"type\": \"scatter3d\"}], \"scattercarpet\": [{\"marker\": {\"colorbar\": {\"outlinewidth\": 0, \"ticks\": \"\"}}, \"type\": \"scattercarpet\"}], \"scattergeo\": [{\"marker\": {\"colorbar\": {\"outlinewidth\": 0, \"ticks\": \"\"}}, \"type\": \"scattergeo\"}], \"scattergl\": [{\"marker\": {\"colorbar\": {\"outlinewidth\": 0, \"ticks\": \"\"}}, \"type\": \"scattergl\"}], \"scattermapbox\": [{\"marker\": {\"colorbar\": {\"outlinewidth\": 0, \"ticks\": \"\"}}, \"type\": \"scattermapbox\"}], \"scatterpolar\": [{\"marker\": {\"colorbar\": {\"outlinewidth\": 0, \"ticks\": \"\"}}, \"type\": \"scatterpolar\"}], \"scatterpolargl\": [{\"marker\": {\"colorbar\": {\"outlinewidth\": 0, \"ticks\": \"\"}}, \"type\": \"scatterpolargl\"}], \"scatterternary\": [{\"marker\": {\"colorbar\": {\"outlinewidth\": 0, \"ticks\": \"\"}}, \"type\": \"scatterternary\"}], \"surface\": [{\"colorbar\": {\"outlinewidth\": 0, \"ticks\": \"\"}, \"colorscale\": [[0.0, \"#0d0887\"], [0.1111111111111111, \"#46039f\"], [0.2222222222222222, \"#7201a8\"], [0.3333333333333333, \"#9c179e\"], [0.4444444444444444, \"#bd3786\"], [0.5555555555555556, \"#d8576b\"], [0.6666666666666666, \"#ed7953\"], [0.7777777777777778, \"#fb9f3a\"], [0.8888888888888888, \"#fdca26\"], [1.0, \"#f0f921\"]], \"type\": \"surface\"}], \"table\": [{\"cells\": {\"fill\": {\"color\": \"#EBF0F8\"}, \"line\": {\"color\": \"white\"}}, \"header\": {\"fill\": {\"color\": \"#C8D4E3\"}, \"line\": {\"color\": \"white\"}}, \"type\": \"table\"}]}, \"layout\": {\"annotationdefaults\": {\"arrowcolor\": \"#2a3f5f\", \"arrowhead\": 0, \"arrowwidth\": 1}, \"coloraxis\": {\"colorbar\": {\"outlinewidth\": 0, \"ticks\": \"\"}}, \"colorscale\": {\"diverging\": [[0, \"#8e0152\"], [0.1, \"#c51b7d\"], [0.2, \"#de77ae\"], [0.3, \"#f1b6da\"], [0.4, \"#fde0ef\"], [0.5, \"#f7f7f7\"], [0.6, \"#e6f5d0\"], [0.7, \"#b8e186\"], [0.8, \"#7fbc41\"], [0.9, \"#4d9221\"], [1, \"#276419\"]], \"sequential\": [[0.0, \"#0d0887\"], [0.1111111111111111, \"#46039f\"], [0.2222222222222222, \"#7201a8\"], [0.3333333333333333, \"#9c179e\"], [0.4444444444444444, \"#bd3786\"], [0.5555555555555556, \"#d8576b\"], [0.6666666666666666, \"#ed7953\"], [0.7777777777777778, \"#fb9f3a\"], [0.8888888888888888, \"#fdca26\"], [1.0, \"#f0f921\"]], \"sequentialminus\": [[0.0, \"#0d0887\"], [0.1111111111111111, \"#46039f\"], [0.2222222222222222, \"#7201a8\"], [0.3333333333333333, \"#9c179e\"], [0.4444444444444444, \"#bd3786\"], [0.5555555555555556, \"#d8576b\"], [0.6666666666666666, \"#ed7953\"], [0.7777777777777778, \"#fb9f3a\"], [0.8888888888888888, \"#fdca26\"], [1.0, \"#f0f921\"]]}, \"colorway\": [\"#636efa\", \"#EF553B\", \"#00cc96\", \"#ab63fa\", \"#FFA15A\", \"#19d3f3\", \"#FF6692\", \"#B6E880\", \"#FF97FF\", \"#FECB52\"], \"font\": {\"color\": \"#2a3f5f\"}, \"geo\": {\"bgcolor\": \"white\", \"lakecolor\": \"white\", \"landcolor\": \"#E5ECF6\", \"showlakes\": true, \"showland\": true, \"subunitcolor\": \"white\"}, \"hoverlabel\": {\"align\": \"left\"}, \"hovermode\": \"closest\", \"mapbox\": {\"style\": \"light\"}, \"paper_bgcolor\": \"white\", \"plot_bgcolor\": \"#E5ECF6\", \"polar\": {\"angularaxis\": {\"gridcolor\": \"white\", \"linecolor\": \"white\", \"ticks\": \"\"}, \"bgcolor\": \"#E5ECF6\", \"radialaxis\": {\"gridcolor\": \"white\", \"linecolor\": \"white\", \"ticks\": \"\"}}, \"scene\": {\"xaxis\": {\"backgroundcolor\": \"#E5ECF6\", \"gridcolor\": \"white\", \"gridwidth\": 2, \"linecolor\": \"white\", \"showbackground\": true, \"ticks\": \"\", \"zerolinecolor\": \"white\"}, \"yaxis\": {\"backgroundcolor\": \"#E5ECF6\", \"gridcolor\": \"white\", \"gridwidth\": 2, \"linecolor\": \"white\", \"showbackground\": true, \"ticks\": \"\", \"zerolinecolor\": \"white\"}, \"zaxis\": {\"backgroundcolor\": \"#E5ECF6\", \"gridcolor\": \"white\", \"gridwidth\": 2, \"linecolor\": \"white\", \"showbackground\": true, \"ticks\": \"\", \"zerolinecolor\": \"white\"}}, \"shapedefaults\": {\"line\": {\"color\": \"#2a3f5f\"}}, \"ternary\": {\"aaxis\": {\"gridcolor\": \"white\", \"linecolor\": \"white\", \"ticks\": \"\"}, \"baxis\": {\"gridcolor\": \"white\", \"linecolor\": \"white\", \"ticks\": \"\"}, \"bgcolor\": \"#E5ECF6\", \"caxis\": {\"gridcolor\": \"white\", \"linecolor\": \"white\", \"ticks\": \"\"}}, \"title\": {\"x\": 0.05}, \"xaxis\": {\"automargin\": true, \"gridcolor\": \"white\", \"linecolor\": \"white\", \"ticks\": \"\", \"title\": {\"standoff\": 15}, \"zerolinecolor\": \"white\", \"zerolinewidth\": 2}, \"yaxis\": {\"automargin\": true, \"gridcolor\": \"white\", \"linecolor\": \"white\", \"ticks\": \"\", \"title\": {\"standoff\": 15}, \"zerolinecolor\": \"white\", \"zerolinewidth\": 2}}}, \"title\": {\"font\": {\"color\": \"#4D5663\"}, \"text\": \"Gr\\u00e1fico de barras\"}, \"xaxis\": {\"gridcolor\": \"#E1E5ED\", \"showgrid\": true, \"tickfont\": {\"color\": \"#4D5663\"}, \"title\": {\"font\": {\"color\": \"#4D5663\"}, \"text\": \"\"}, \"zerolinecolor\": \"#E1E5ED\"}, \"yaxis\": {\"gridcolor\": \"#E1E5ED\", \"showgrid\": true, \"tickfont\": {\"color\": \"#4D5663\"}, \"title\": {\"font\": {\"color\": \"#4D5663\"}, \"text\": \"\"}, \"zerolinecolor\": \"#E1E5ED\"}},\n",
       "                        {\"showLink\": true, \"plotlyServerURL\": \"https://plot.ly\", \"responsive\": true, \"linkText\": \"Export to plot.ly\"}\n",
       "                    ).then(function(){\n",
       "                            \n",
       "var gd = document.getElementById('70809a79-d445-4360-a74e-63f8d045fbf8');\n",
       "var x = new MutationObserver(function (mutations, observer) {{\n",
       "        var display = window.getComputedStyle(gd).display;\n",
       "        if (!display || display === 'none') {{\n",
       "            console.log([gd, 'removed!']);\n",
       "            Plotly.purge(gd);\n",
       "            observer.disconnect();\n",
       "        }}\n",
       "}});\n",
       "\n",
       "// Listen for the removal of the full notebook cells\n",
       "var notebookContainer = gd.closest('#notebook-container');\n",
       "if (notebookContainer) {{\n",
       "    x.observe(notebookContainer, {childList: true});\n",
       "}}\n",
       "\n",
       "// Listen for the clearing of the current output cell\n",
       "var outputEl = gd.closest('.output');\n",
       "if (outputEl) {{\n",
       "    x.observe(outputEl, {childList: true});\n",
       "}}\n",
       "\n",
       "                        })\n",
       "                };\n",
       "                });\n",
       "            </script>\n",
       "        </div>"
      ]
     },
     "metadata": {},
     "output_type": "display_data"
    }
   ],
   "source": []
  },
  {
   "cell_type": "code",
   "execution_count": 29,
   "metadata": {},
   "outputs": [
    {
     "data": {
      "text/html": [
       "<div>\n",
       "<style scoped>\n",
       "    .dataframe tbody tr th:only-of-type {\n",
       "        vertical-align: middle;\n",
       "    }\n",
       "\n",
       "    .dataframe tbody tr th {\n",
       "        vertical-align: top;\n",
       "    }\n",
       "\n",
       "    .dataframe thead th {\n",
       "        text-align: right;\n",
       "    }\n",
       "</style>\n",
       "<table border=\"1\" class=\"dataframe\">\n",
       "  <thead>\n",
       "    <tr style=\"text-align: right;\">\n",
       "      <th></th>\n",
       "      <th>datetime</th>\n",
       "      <th>goal_back</th>\n",
       "      <th>goal_home</th>\n",
       "      <th>score</th>\n",
       "      <th>team_back</th>\n",
       "      <th>team_home</th>\n",
       "      <th>over 2.5</th>\n",
       "      <th>sequence_size</th>\n",
       "    </tr>\n",
       "  </thead>\n",
       "  <tbody>\n",
       "    <tr>\n",
       "      <th>43850</th>\n",
       "      <td>2020-04-24 08:47:00</td>\n",
       "      <td>0</td>\n",
       "      <td>0</td>\n",
       "      <td>0 - 0</td>\n",
       "      <td>Zagreb</td>\n",
       "      <td>Dynamo Whites</td>\n",
       "      <td>False</td>\n",
       "      <td>NaN</td>\n",
       "    </tr>\n",
       "    <tr>\n",
       "      <th>43851</th>\n",
       "      <td>2020-04-24 08:50:00</td>\n",
       "      <td>3</td>\n",
       "      <td>0</td>\n",
       "      <td>0 - 3</td>\n",
       "      <td>Giallorossi FC</td>\n",
       "      <td>Bergamo Rangers</td>\n",
       "      <td>True</td>\n",
       "      <td>1.0</td>\n",
       "    </tr>\n",
       "    <tr>\n",
       "      <th>43852</th>\n",
       "      <td>2020-04-24 08:53:00</td>\n",
       "      <td>0</td>\n",
       "      <td>0</td>\n",
       "      <td>0 - 0</td>\n",
       "      <td>Lisbon Reds</td>\n",
       "      <td>Porto Flames</td>\n",
       "      <td>False</td>\n",
       "      <td>NaN</td>\n",
       "    </tr>\n",
       "    <tr>\n",
       "      <th>43853</th>\n",
       "      <td>2020-04-24 08:56:00</td>\n",
       "      <td>2</td>\n",
       "      <td>1</td>\n",
       "      <td>1 - 2</td>\n",
       "      <td>South Saints</td>\n",
       "      <td>Islington Reds</td>\n",
       "      <td>True</td>\n",
       "      <td>1.0</td>\n",
       "    </tr>\n",
       "    <tr>\n",
       "      <th>43854</th>\n",
       "      <td>2020-04-24 08:59:00</td>\n",
       "      <td>0</td>\n",
       "      <td>0</td>\n",
       "      <td>0 - 0</td>\n",
       "      <td>Chelsea Pensioners</td>\n",
       "      <td>Valencia Juniors</td>\n",
       "      <td>False</td>\n",
       "      <td>NaN</td>\n",
       "    </tr>\n",
       "    <tr>\n",
       "      <th>43855</th>\n",
       "      <td>2020-04-24 09:02:00</td>\n",
       "      <td>2</td>\n",
       "      <td>2</td>\n",
       "      <td>2 - 2</td>\n",
       "      <td>Paris City</td>\n",
       "      <td>Valencia Juniors</td>\n",
       "      <td>True</td>\n",
       "      <td>1.0</td>\n",
       "    </tr>\n",
       "    <tr>\n",
       "      <th>43856</th>\n",
       "      <td>2020-04-24 09:05:00</td>\n",
       "      <td>0</td>\n",
       "      <td>2</td>\n",
       "      <td>2 - 0</td>\n",
       "      <td>St Petersburg</td>\n",
       "      <td>Madrid Juniors</td>\n",
       "      <td>False</td>\n",
       "      <td>NaN</td>\n",
       "    </tr>\n",
       "    <tr>\n",
       "      <th>43857</th>\n",
       "      <td>2020-04-24 09:08:00</td>\n",
       "      <td>0</td>\n",
       "      <td>1</td>\n",
       "      <td>1 - 0</td>\n",
       "      <td>Munich</td>\n",
       "      <td>Manchester Reds</td>\n",
       "      <td>False</td>\n",
       "      <td>NaN</td>\n",
       "    </tr>\n",
       "    <tr>\n",
       "      <th>43858</th>\n",
       "      <td>2020-04-24 09:11:00</td>\n",
       "      <td>0</td>\n",
       "      <td>1</td>\n",
       "      <td>1 - 0</td>\n",
       "      <td>Sassuolo Villa</td>\n",
       "      <td>Roma County</td>\n",
       "      <td>False</td>\n",
       "      <td>NaN</td>\n",
       "    </tr>\n",
       "    <tr>\n",
       "      <th>43859</th>\n",
       "      <td>2020-04-24 09:14:00</td>\n",
       "      <td>0</td>\n",
       "      <td>2</td>\n",
       "      <td>2 - 0</td>\n",
       "      <td>Leicester Utd</td>\n",
       "      <td>WBA Baggies</td>\n",
       "      <td>False</td>\n",
       "      <td>NaN</td>\n",
       "    </tr>\n",
       "    <tr>\n",
       "      <th>43860</th>\n",
       "      <td>2020-04-24 09:17:00</td>\n",
       "      <td>2</td>\n",
       "      <td>1</td>\n",
       "      <td>1 - 2</td>\n",
       "      <td>Borussia Foals</td>\n",
       "      <td>PSV Peasants</td>\n",
       "      <td>True</td>\n",
       "      <td>4.0</td>\n",
       "    </tr>\n",
       "    <tr>\n",
       "      <th>43861</th>\n",
       "      <td>2020-04-24 09:20:00</td>\n",
       "      <td>1</td>\n",
       "      <td>2</td>\n",
       "      <td>2 - 1</td>\n",
       "      <td>Nerazzurri FC</td>\n",
       "      <td>Blucerchiati</td>\n",
       "      <td>True</td>\n",
       "      <td>0.0</td>\n",
       "    </tr>\n",
       "    <tr>\n",
       "      <th>43862</th>\n",
       "      <td>2020-04-24 09:23:00</td>\n",
       "      <td>2</td>\n",
       "      <td>0</td>\n",
       "      <td>0 - 2</td>\n",
       "      <td>WBA Baggies</td>\n",
       "      <td>Watford Hornets</td>\n",
       "      <td>False</td>\n",
       "      <td>NaN</td>\n",
       "    </tr>\n",
       "    <tr>\n",
       "      <th>43863</th>\n",
       "      <td>2020-04-24 09:26:00</td>\n",
       "      <td>0</td>\n",
       "      <td>2</td>\n",
       "      <td>2 - 0</td>\n",
       "      <td>Bergamo Rangers</td>\n",
       "      <td>Napoli Blues</td>\n",
       "      <td>False</td>\n",
       "      <td>NaN</td>\n",
       "    </tr>\n",
       "    <tr>\n",
       "      <th>43864</th>\n",
       "      <td>2020-04-24 09:29:00</td>\n",
       "      <td>1</td>\n",
       "      <td>2</td>\n",
       "      <td>2 - 1</td>\n",
       "      <td>London Whites</td>\n",
       "      <td>Palace Eagles</td>\n",
       "      <td>True</td>\n",
       "      <td>2.0</td>\n",
       "    </tr>\n",
       "    <tr>\n",
       "      <th>43865</th>\n",
       "      <td>2020-04-24 09:32:00</td>\n",
       "      <td>1</td>\n",
       "      <td>0</td>\n",
       "      <td>0 - 1</td>\n",
       "      <td>Barysaw Yellows</td>\n",
       "      <td>Barcelona Braves</td>\n",
       "      <td>False</td>\n",
       "      <td>NaN</td>\n",
       "    </tr>\n",
       "    <tr>\n",
       "      <th>43866</th>\n",
       "      <td>2020-04-24 09:35:00</td>\n",
       "      <td>0</td>\n",
       "      <td>2</td>\n",
       "      <td>2 - 0</td>\n",
       "      <td>Saxon Wolves</td>\n",
       "      <td>Barcelona Braves</td>\n",
       "      <td>False</td>\n",
       "      <td>NaN</td>\n",
       "    </tr>\n",
       "    <tr>\n",
       "      <th>43867</th>\n",
       "      <td>2020-04-24 09:38:00</td>\n",
       "      <td>1</td>\n",
       "      <td>3</td>\n",
       "      <td>3 - 1</td>\n",
       "      <td>South Saints</td>\n",
       "      <td>Manchester Blues</td>\n",
       "      <td>True</td>\n",
       "      <td>2.0</td>\n",
       "    </tr>\n",
       "    <tr>\n",
       "      <th>43868</th>\n",
       "      <td>2020-04-24 09:41:00</td>\n",
       "      <td>1</td>\n",
       "      <td>2</td>\n",
       "      <td>2 - 1</td>\n",
       "      <td>Leicester Utd</td>\n",
       "      <td>Liverpool Stars</td>\n",
       "      <td>True</td>\n",
       "      <td>0.0</td>\n",
       "    </tr>\n",
       "    <tr>\n",
       "      <th>43869</th>\n",
       "      <td>2020-04-24 09:44:00</td>\n",
       "      <td>1</td>\n",
       "      <td>1</td>\n",
       "      <td>1 - 1</td>\n",
       "      <td>Barcelona Braves</td>\n",
       "      <td>Maccabi Stars</td>\n",
       "      <td>False</td>\n",
       "      <td>NaN</td>\n",
       "    </tr>\n",
       "    <tr>\n",
       "      <th>43870</th>\n",
       "      <td>2020-04-24 09:47:00</td>\n",
       "      <td>2</td>\n",
       "      <td>1</td>\n",
       "      <td>1 - 2</td>\n",
       "      <td>Manchester Blues</td>\n",
       "      <td>Aston City</td>\n",
       "      <td>True</td>\n",
       "      <td>1.0</td>\n",
       "    </tr>\n",
       "    <tr>\n",
       "      <th>43871</th>\n",
       "      <td>2020-04-24 09:50:00</td>\n",
       "      <td>0</td>\n",
       "      <td>4</td>\n",
       "      <td>4 - 0</td>\n",
       "      <td>Islington Reds</td>\n",
       "      <td>Stoke Utd</td>\n",
       "      <td>True</td>\n",
       "      <td>0.0</td>\n",
       "    </tr>\n",
       "    <tr>\n",
       "      <th>43872</th>\n",
       "      <td>2020-04-24 09:53:00</td>\n",
       "      <td>0</td>\n",
       "      <td>0</td>\n",
       "      <td>0 - 0</td>\n",
       "      <td>Genova Griffins</td>\n",
       "      <td>Milan Reds</td>\n",
       "      <td>False</td>\n",
       "      <td>NaN</td>\n",
       "    </tr>\n",
       "    <tr>\n",
       "      <th>43873</th>\n",
       "      <td>2020-04-24 09:56:00</td>\n",
       "      <td>2</td>\n",
       "      <td>0</td>\n",
       "      <td>0 - 2</td>\n",
       "      <td>Fiorentina Purples</td>\n",
       "      <td>Bergamo Rangers</td>\n",
       "      <td>False</td>\n",
       "      <td>NaN</td>\n",
       "    </tr>\n",
       "    <tr>\n",
       "      <th>43874</th>\n",
       "      <td>2020-04-24 09:59:00</td>\n",
       "      <td>0</td>\n",
       "      <td>3</td>\n",
       "      <td>3 - 0</td>\n",
       "      <td>Roma County</td>\n",
       "      <td>Verona City</td>\n",
       "      <td>True</td>\n",
       "      <td>2.0</td>\n",
       "    </tr>\n",
       "    <tr>\n",
       "      <th>43875</th>\n",
       "      <td>2020-04-24 10:02:00</td>\n",
       "      <td>0</td>\n",
       "      <td>1</td>\n",
       "      <td>1 - 0</td>\n",
       "      <td>Torino Bulls</td>\n",
       "      <td>Bergamo Rangers</td>\n",
       "      <td>False</td>\n",
       "      <td>NaN</td>\n",
       "    </tr>\n",
       "    <tr>\n",
       "      <th>43876</th>\n",
       "      <td>2020-04-24 10:05:00</td>\n",
       "      <td>0</td>\n",
       "      <td>1</td>\n",
       "      <td>1 - 0</td>\n",
       "      <td>Napoli Blues</td>\n",
       "      <td>Genova Griffins</td>\n",
       "      <td>False</td>\n",
       "      <td>NaN</td>\n",
       "    </tr>\n",
       "    <tr>\n",
       "      <th>43877</th>\n",
       "      <td>2020-04-24 10:08:00</td>\n",
       "      <td>0</td>\n",
       "      <td>3</td>\n",
       "      <td>3 - 0</td>\n",
       "      <td>Norwich Canaries</td>\n",
       "      <td>South Saints</td>\n",
       "      <td>True</td>\n",
       "      <td>2.0</td>\n",
       "    </tr>\n",
       "    <tr>\n",
       "      <th>43878</th>\n",
       "      <td>2020-04-24 10:11:00</td>\n",
       "      <td>0</td>\n",
       "      <td>2</td>\n",
       "      <td>2 - 0</td>\n",
       "      <td>Manchester Blues</td>\n",
       "      <td>Mersey Blues</td>\n",
       "      <td>False</td>\n",
       "      <td>NaN</td>\n",
       "    </tr>\n",
       "    <tr>\n",
       "      <th>43879</th>\n",
       "      <td>2020-04-24 10:14:00</td>\n",
       "      <td>2</td>\n",
       "      <td>0</td>\n",
       "      <td>0 - 2</td>\n",
       "      <td>Madrid Lightning</td>\n",
       "      <td>Chelsea Pensioners</td>\n",
       "      <td>False</td>\n",
       "      <td>NaN</td>\n",
       "    </tr>\n",
       "    <tr>\n",
       "      <th>43880</th>\n",
       "      <td>2020-04-24 10:17:00</td>\n",
       "      <td>2</td>\n",
       "      <td>1</td>\n",
       "      <td>1 - 2</td>\n",
       "      <td>Giallorossi FC</td>\n",
       "      <td>Madrid Juniors</td>\n",
       "      <td>True</td>\n",
       "      <td>2.0</td>\n",
       "    </tr>\n",
       "    <tr>\n",
       "      <th>43881</th>\n",
       "      <td>2020-04-24 10:20:00</td>\n",
       "      <td>1</td>\n",
       "      <td>2</td>\n",
       "      <td>2 - 1</td>\n",
       "      <td>Leicester Utd</td>\n",
       "      <td>Swansea Jacks</td>\n",
       "      <td>True</td>\n",
       "      <td>0.0</td>\n",
       "    </tr>\n",
       "    <tr>\n",
       "      <th>43882</th>\n",
       "      <td>2020-04-24 10:23:00</td>\n",
       "      <td>0</td>\n",
       "      <td>3</td>\n",
       "      <td>3 - 0</td>\n",
       "      <td>Giallorossi FC</td>\n",
       "      <td>Udine Utd</td>\n",
       "      <td>True</td>\n",
       "      <td>0.0</td>\n",
       "    </tr>\n",
       "    <tr>\n",
       "      <th>43883</th>\n",
       "      <td>2020-04-24 10:26:00</td>\n",
       "      <td>1</td>\n",
       "      <td>3</td>\n",
       "      <td>3 - 1</td>\n",
       "      <td>Barysaw Yellows</td>\n",
       "      <td>St Petersburg</td>\n",
       "      <td>True</td>\n",
       "      <td>0.0</td>\n",
       "    </tr>\n",
       "    <tr>\n",
       "      <th>43884</th>\n",
       "      <td>2020-04-24 10:29:00</td>\n",
       "      <td>0</td>\n",
       "      <td>1</td>\n",
       "      <td>1 - 0</td>\n",
       "      <td>Manchester Blues</td>\n",
       "      <td>Donetsk Arrows</td>\n",
       "      <td>False</td>\n",
       "      <td>NaN</td>\n",
       "    </tr>\n",
       "    <tr>\n",
       "      <th>43885</th>\n",
       "      <td>2020-04-24 10:32:00</td>\n",
       "      <td>0</td>\n",
       "      <td>1</td>\n",
       "      <td>1 - 0</td>\n",
       "      <td>Aston City</td>\n",
       "      <td>Leicester Utd</td>\n",
       "      <td>False</td>\n",
       "      <td>NaN</td>\n",
       "    </tr>\n",
       "    <tr>\n",
       "      <th>43886</th>\n",
       "      <td>2020-04-24 10:35:00</td>\n",
       "      <td>1</td>\n",
       "      <td>1</td>\n",
       "      <td>1 - 1</td>\n",
       "      <td>Borussia Foals</td>\n",
       "      <td>Giallorossi FC</td>\n",
       "      <td>False</td>\n",
       "      <td>NaN</td>\n",
       "    </tr>\n",
       "    <tr>\n",
       "      <th>43887</th>\n",
       "      <td>2020-04-24 10:38:00</td>\n",
       "      <td>1</td>\n",
       "      <td>2</td>\n",
       "      <td>2 - 1</td>\n",
       "      <td>Madrid Lightning</td>\n",
       "      <td>CSKA Russia</td>\n",
       "      <td>True</td>\n",
       "      <td>3.0</td>\n",
       "    </tr>\n",
       "    <tr>\n",
       "      <th>43888</th>\n",
       "      <td>2020-04-24 10:41:00</td>\n",
       "      <td>0</td>\n",
       "      <td>2</td>\n",
       "      <td>2 - 0</td>\n",
       "      <td>Udine Utd</td>\n",
       "      <td>Milan Reds</td>\n",
       "      <td>False</td>\n",
       "      <td>NaN</td>\n",
       "    </tr>\n",
       "    <tr>\n",
       "      <th>43889</th>\n",
       "      <td>2020-04-24 10:44:00</td>\n",
       "      <td>1</td>\n",
       "      <td>2</td>\n",
       "      <td>2 - 1</td>\n",
       "      <td>Maccabi Stars</td>\n",
       "      <td>Turin</td>\n",
       "      <td>True</td>\n",
       "      <td>1.0</td>\n",
       "    </tr>\n",
       "    <tr>\n",
       "      <th>43890</th>\n",
       "      <td>2020-04-24 10:47:00</td>\n",
       "      <td>0</td>\n",
       "      <td>0</td>\n",
       "      <td>0 - 0</td>\n",
       "      <td>Valencia Juniors</td>\n",
       "      <td>Turin</td>\n",
       "      <td>False</td>\n",
       "      <td>NaN</td>\n",
       "    </tr>\n",
       "    <tr>\n",
       "      <th>43891</th>\n",
       "      <td>2020-04-24 10:50:00</td>\n",
       "      <td>1</td>\n",
       "      <td>3</td>\n",
       "      <td>3 - 1</td>\n",
       "      <td>Manchester Reds</td>\n",
       "      <td>Chelsea Pensioners</td>\n",
       "      <td>True</td>\n",
       "      <td>1.0</td>\n",
       "    </tr>\n",
       "    <tr>\n",
       "      <th>43892</th>\n",
       "      <td>2020-04-24 10:53:00</td>\n",
       "      <td>1</td>\n",
       "      <td>1</td>\n",
       "      <td>1 - 1</td>\n",
       "      <td>Porto Flames</td>\n",
       "      <td>Lisbon Reds</td>\n",
       "      <td>False</td>\n",
       "      <td>NaN</td>\n",
       "    </tr>\n",
       "    <tr>\n",
       "      <th>43893</th>\n",
       "      <td>2020-04-24 10:56:00</td>\n",
       "      <td>1</td>\n",
       "      <td>0</td>\n",
       "      <td>0 - 1</td>\n",
       "      <td>Genova Griffins</td>\n",
       "      <td>Calcio Canaries</td>\n",
       "      <td>False</td>\n",
       "      <td>NaN</td>\n",
       "    </tr>\n",
       "    <tr>\n",
       "      <th>43894</th>\n",
       "      <td>2020-04-24 10:59:00</td>\n",
       "      <td>2</td>\n",
       "      <td>2</td>\n",
       "      <td>2 - 2</td>\n",
       "      <td>Palermo Town</td>\n",
       "      <td>Sassuolo Villa</td>\n",
       "      <td>True</td>\n",
       "      <td>2.0</td>\n",
       "    </tr>\n",
       "    <tr>\n",
       "      <th>43895</th>\n",
       "      <td>2020-04-24 11:02:00</td>\n",
       "      <td>1</td>\n",
       "      <td>3</td>\n",
       "      <td>3 - 1</td>\n",
       "      <td>London Whites</td>\n",
       "      <td>Leicester Utd</td>\n",
       "      <td>True</td>\n",
       "      <td>0.0</td>\n",
       "    </tr>\n",
       "    <tr>\n",
       "      <th>43896</th>\n",
       "      <td>2020-04-24 11:05:00</td>\n",
       "      <td>0</td>\n",
       "      <td>0</td>\n",
       "      <td>0 - 0</td>\n",
       "      <td>Donetsk Arrows</td>\n",
       "      <td>Galataistanbul</td>\n",
       "      <td>False</td>\n",
       "      <td>NaN</td>\n",
       "    </tr>\n",
       "    <tr>\n",
       "      <th>43897</th>\n",
       "      <td>2020-04-24 11:08:00</td>\n",
       "      <td>1</td>\n",
       "      <td>1</td>\n",
       "      <td>1 - 1</td>\n",
       "      <td>Olympique Juniors</td>\n",
       "      <td>Saxon Wolves</td>\n",
       "      <td>False</td>\n",
       "      <td>NaN</td>\n",
       "    </tr>\n",
       "    <tr>\n",
       "      <th>43898</th>\n",
       "      <td>2020-04-24 11:11:00</td>\n",
       "      <td>0</td>\n",
       "      <td>1</td>\n",
       "      <td>1 - 0</td>\n",
       "      <td>Aston City</td>\n",
       "      <td>Liverpool Stars</td>\n",
       "      <td>False</td>\n",
       "      <td>NaN</td>\n",
       "    </tr>\n",
       "    <tr>\n",
       "      <th>43899</th>\n",
       "      <td>2020-04-24 11:14:00</td>\n",
       "      <td>0</td>\n",
       "      <td>1</td>\n",
       "      <td>1 - 0</td>\n",
       "      <td>Milan Reds</td>\n",
       "      <td>Fiorentina Purples</td>\n",
       "      <td>False</td>\n",
       "      <td>NaN</td>\n",
       "    </tr>\n",
       "    <tr>\n",
       "      <th>43900</th>\n",
       "      <td>2020-04-24 11:17:00</td>\n",
       "      <td>1</td>\n",
       "      <td>2</td>\n",
       "      <td>2 - 1</td>\n",
       "      <td>Napoli Blues</td>\n",
       "      <td>Biancorossi</td>\n",
       "      <td>True</td>\n",
       "      <td>4.0</td>\n",
       "    </tr>\n",
       "    <tr>\n",
       "      <th>43901</th>\n",
       "      <td>2020-04-24 11:20:00</td>\n",
       "      <td>0</td>\n",
       "      <td>3</td>\n",
       "      <td>3 - 0</td>\n",
       "      <td>WBA Baggies</td>\n",
       "      <td>The Cherries</td>\n",
       "      <td>True</td>\n",
       "      <td>0.0</td>\n",
       "    </tr>\n",
       "    <tr>\n",
       "      <th>43902</th>\n",
       "      <td>2020-04-24 11:23:00</td>\n",
       "      <td>1</td>\n",
       "      <td>0</td>\n",
       "      <td>0 - 1</td>\n",
       "      <td>South Saints</td>\n",
       "      <td>Watford Hornets</td>\n",
       "      <td>False</td>\n",
       "      <td>NaN</td>\n",
       "    </tr>\n",
       "    <tr>\n",
       "      <th>43903</th>\n",
       "      <td>2020-04-24 11:26:00</td>\n",
       "      <td>0</td>\n",
       "      <td>2</td>\n",
       "      <td>2 - 0</td>\n",
       "      <td>Kazakh Stripes</td>\n",
       "      <td>Porto Flames</td>\n",
       "      <td>False</td>\n",
       "      <td>NaN</td>\n",
       "    </tr>\n",
       "    <tr>\n",
       "      <th>43904</th>\n",
       "      <td>2020-04-24 11:29:00</td>\n",
       "      <td>2</td>\n",
       "      <td>1</td>\n",
       "      <td>1 - 2</td>\n",
       "      <td>Manchester Reds</td>\n",
       "      <td>Norwich Canaries</td>\n",
       "      <td>True</td>\n",
       "      <td>2.0</td>\n",
       "    </tr>\n",
       "    <tr>\n",
       "      <th>43905</th>\n",
       "      <td>2020-04-24 11:32:00</td>\n",
       "      <td>1</td>\n",
       "      <td>1</td>\n",
       "      <td>1 - 1</td>\n",
       "      <td>Maccabi Stars</td>\n",
       "      <td>PSV Peasants</td>\n",
       "      <td>False</td>\n",
       "      <td>NaN</td>\n",
       "    </tr>\n",
       "    <tr>\n",
       "      <th>43906</th>\n",
       "      <td>2020-04-24 11:35:00</td>\n",
       "      <td>1</td>\n",
       "      <td>3</td>\n",
       "      <td>3 - 1</td>\n",
       "      <td>Manchester Reds</td>\n",
       "      <td>Giallorossi FC</td>\n",
       "      <td>True</td>\n",
       "      <td>1.0</td>\n",
       "    </tr>\n",
       "    <tr>\n",
       "      <th>43907</th>\n",
       "      <td>2020-04-24 11:38:00</td>\n",
       "      <td>1</td>\n",
       "      <td>2</td>\n",
       "      <td>2 - 1</td>\n",
       "      <td>Lisbon Reds</td>\n",
       "      <td>Zagreb</td>\n",
       "      <td>True</td>\n",
       "      <td>0.0</td>\n",
       "    </tr>\n",
       "    <tr>\n",
       "      <th>43908</th>\n",
       "      <td>2020-04-24 11:41:00</td>\n",
       "      <td>0</td>\n",
       "      <td>3</td>\n",
       "      <td>3 - 0</td>\n",
       "      <td>Borussia Foals</td>\n",
       "      <td>Valencia Juniors</td>\n",
       "      <td>True</td>\n",
       "      <td>0.0</td>\n",
       "    </tr>\n",
       "    <tr>\n",
       "      <th>43909</th>\n",
       "      <td>2020-04-24 11:44:00</td>\n",
       "      <td>0</td>\n",
       "      <td>3</td>\n",
       "      <td>3 - 0</td>\n",
       "      <td>Olympique Juniors</td>\n",
       "      <td>CSKA Russia</td>\n",
       "      <td>True</td>\n",
       "      <td>0.0</td>\n",
       "    </tr>\n",
       "    <tr>\n",
       "      <th>43910</th>\n",
       "      <td>2020-04-24 11:47:00</td>\n",
       "      <td>0</td>\n",
       "      <td>0</td>\n",
       "      <td>0 - 0</td>\n",
       "      <td>Stoke Utd</td>\n",
       "      <td>Manchester Reds</td>\n",
       "      <td>False</td>\n",
       "      <td>NaN</td>\n",
       "    </tr>\n",
       "    <tr>\n",
       "      <th>43911</th>\n",
       "      <td>2020-04-24 11:50:00</td>\n",
       "      <td>1</td>\n",
       "      <td>3</td>\n",
       "      <td>3 - 1</td>\n",
       "      <td>Galataistanbul</td>\n",
       "      <td>Chelsea Pensioners</td>\n",
       "      <td>True</td>\n",
       "      <td>1.0</td>\n",
       "    </tr>\n",
       "    <tr>\n",
       "      <th>43912</th>\n",
       "      <td>2020-04-24 11:53:00</td>\n",
       "      <td>1</td>\n",
       "      <td>2</td>\n",
       "      <td>2 - 1</td>\n",
       "      <td>Leicester Utd</td>\n",
       "      <td>London Whites</td>\n",
       "      <td>True</td>\n",
       "      <td>0.0</td>\n",
       "    </tr>\n",
       "    <tr>\n",
       "      <th>43913</th>\n",
       "      <td>2020-04-24 11:56:00</td>\n",
       "      <td>0</td>\n",
       "      <td>0</td>\n",
       "      <td>0 - 0</td>\n",
       "      <td>Aston City</td>\n",
       "      <td>Sunderland Cats</td>\n",
       "      <td>False</td>\n",
       "      <td>NaN</td>\n",
       "    </tr>\n",
       "    <tr>\n",
       "      <th>43914</th>\n",
       "      <td>2020-04-24 11:59:00</td>\n",
       "      <td>1</td>\n",
       "      <td>0</td>\n",
       "      <td>0 - 1</td>\n",
       "      <td>South Saints</td>\n",
       "      <td>WBA Baggies</td>\n",
       "      <td>False</td>\n",
       "      <td>NaN</td>\n",
       "    </tr>\n",
       "    <tr>\n",
       "      <th>43915</th>\n",
       "      <td>2020-04-24 12:02:00</td>\n",
       "      <td>0</td>\n",
       "      <td>1</td>\n",
       "      <td>1 - 0</td>\n",
       "      <td>WBA Baggies</td>\n",
       "      <td>Leicester Utd</td>\n",
       "      <td>False</td>\n",
       "      <td>NaN</td>\n",
       "    </tr>\n",
       "    <tr>\n",
       "      <th>43916</th>\n",
       "      <td>2020-04-24 12:05:00</td>\n",
       "      <td>1</td>\n",
       "      <td>2</td>\n",
       "      <td>2 - 1</td>\n",
       "      <td>Mersey Blues</td>\n",
       "      <td>Swansea Jacks</td>\n",
       "      <td>True</td>\n",
       "      <td>3.0</td>\n",
       "    </tr>\n",
       "    <tr>\n",
       "      <th>43917</th>\n",
       "      <td>2020-04-24 12:08:00</td>\n",
       "      <td>1</td>\n",
       "      <td>1</td>\n",
       "      <td>1 - 1</td>\n",
       "      <td>Maccabi Stars</td>\n",
       "      <td>Borussia Foals</td>\n",
       "      <td>False</td>\n",
       "      <td>NaN</td>\n",
       "    </tr>\n",
       "    <tr>\n",
       "      <th>43918</th>\n",
       "      <td>2020-04-24 12:11:00</td>\n",
       "      <td>0</td>\n",
       "      <td>2</td>\n",
       "      <td>2 - 0</td>\n",
       "      <td>Kazakh Stripes</td>\n",
       "      <td>Galataistanbul</td>\n",
       "      <td>False</td>\n",
       "      <td>NaN</td>\n",
       "    </tr>\n",
       "    <tr>\n",
       "      <th>43919</th>\n",
       "      <td>2020-04-24 12:14:00</td>\n",
       "      <td>0</td>\n",
       "      <td>1</td>\n",
       "      <td>1 - 0</td>\n",
       "      <td>Manchester Reds</td>\n",
       "      <td>London Whites</td>\n",
       "      <td>False</td>\n",
       "      <td>NaN</td>\n",
       "    </tr>\n",
       "    <tr>\n",
       "      <th>43920</th>\n",
       "      <td>2020-04-24 12:17:00</td>\n",
       "      <td>0</td>\n",
       "      <td>1</td>\n",
       "      <td>1 - 0</td>\n",
       "      <td>Bergamo Rangers</td>\n",
       "      <td>Giallorossi FC</td>\n",
       "      <td>False</td>\n",
       "      <td>NaN</td>\n",
       "    </tr>\n",
       "    <tr>\n",
       "      <th>43921</th>\n",
       "      <td>2020-04-24 12:20:00</td>\n",
       "      <td>1</td>\n",
       "      <td>1</td>\n",
       "      <td>1 - 1</td>\n",
       "      <td>Aston City</td>\n",
       "      <td>London Whites</td>\n",
       "      <td>False</td>\n",
       "      <td>NaN</td>\n",
       "    </tr>\n",
       "    <tr>\n",
       "      <th>43922</th>\n",
       "      <td>2020-04-24 12:23:00</td>\n",
       "      <td>0</td>\n",
       "      <td>1</td>\n",
       "      <td>1 - 0</td>\n",
       "      <td>PSV Peasants</td>\n",
       "      <td>Galataistanbul</td>\n",
       "      <td>False</td>\n",
       "      <td>NaN</td>\n",
       "    </tr>\n",
       "    <tr>\n",
       "      <th>43923</th>\n",
       "      <td>2020-04-24 12:26:00</td>\n",
       "      <td>1</td>\n",
       "      <td>3</td>\n",
       "      <td>3 - 1</td>\n",
       "      <td>Lisbon Reds</td>\n",
       "      <td>Barcelona Braves</td>\n",
       "      <td>True</td>\n",
       "      <td>6.0</td>\n",
       "    </tr>\n",
       "    <tr>\n",
       "      <th>43924</th>\n",
       "      <td>2020-04-24 12:29:00</td>\n",
       "      <td>0</td>\n",
       "      <td>1</td>\n",
       "      <td>1 - 0</td>\n",
       "      <td>London Whites</td>\n",
       "      <td>Islington Reds</td>\n",
       "      <td>False</td>\n",
       "      <td>NaN</td>\n",
       "    </tr>\n",
       "    <tr>\n",
       "      <th>43925</th>\n",
       "      <td>2020-04-24 12:32:00</td>\n",
       "      <td>0</td>\n",
       "      <td>2</td>\n",
       "      <td>2 - 0</td>\n",
       "      <td>Swansea Jacks</td>\n",
       "      <td>Watford Hornets</td>\n",
       "      <td>False</td>\n",
       "      <td>NaN</td>\n",
       "    </tr>\n",
       "    <tr>\n",
       "      <th>43926</th>\n",
       "      <td>2020-04-24 12:35:00</td>\n",
       "      <td>0</td>\n",
       "      <td>0</td>\n",
       "      <td>0 - 0</td>\n",
       "      <td>Biancorossi</td>\n",
       "      <td>Turin</td>\n",
       "      <td>False</td>\n",
       "      <td>NaN</td>\n",
       "    </tr>\n",
       "    <tr>\n",
       "      <th>43927</th>\n",
       "      <td>2020-04-24 12:38:00</td>\n",
       "      <td>1</td>\n",
       "      <td>0</td>\n",
       "      <td>0 - 1</td>\n",
       "      <td>Fiorentina Purples</td>\n",
       "      <td>Biancorossi</td>\n",
       "      <td>False</td>\n",
       "      <td>NaN</td>\n",
       "    </tr>\n",
       "    <tr>\n",
       "      <th>43928</th>\n",
       "      <td>2020-04-24 12:41:00</td>\n",
       "      <td>1</td>\n",
       "      <td>3</td>\n",
       "      <td>3 - 1</td>\n",
       "      <td>Barysaw Yellows</td>\n",
       "      <td>Madrid Lightning</td>\n",
       "      <td>True</td>\n",
       "      <td>4.0</td>\n",
       "    </tr>\n",
       "    <tr>\n",
       "      <th>43929</th>\n",
       "      <td>2020-04-24 12:44:00</td>\n",
       "      <td>2</td>\n",
       "      <td>2</td>\n",
       "      <td>2 - 2</td>\n",
       "      <td>Olympic Athens</td>\n",
       "      <td>Munich</td>\n",
       "      <td>True</td>\n",
       "      <td>0.0</td>\n",
       "    </tr>\n",
       "    <tr>\n",
       "      <th>43930</th>\n",
       "      <td>2020-04-24 12:47:00</td>\n",
       "      <td>0</td>\n",
       "      <td>0</td>\n",
       "      <td>0 - 0</td>\n",
       "      <td>Fiorentina Purples</td>\n",
       "      <td>Empoli Farmers</td>\n",
       "      <td>False</td>\n",
       "      <td>NaN</td>\n",
       "    </tr>\n",
       "    <tr>\n",
       "      <th>43931</th>\n",
       "      <td>2020-04-24 12:50:00</td>\n",
       "      <td>1</td>\n",
       "      <td>0</td>\n",
       "      <td>0 - 1</td>\n",
       "      <td>Manchester Reds</td>\n",
       "      <td>East End Utd</td>\n",
       "      <td>False</td>\n",
       "      <td>NaN</td>\n",
       "    </tr>\n",
       "    <tr>\n",
       "      <th>43932</th>\n",
       "      <td>2020-04-24 12:53:00</td>\n",
       "      <td>2</td>\n",
       "      <td>1</td>\n",
       "      <td>1 - 2</td>\n",
       "      <td>Palace Eagles</td>\n",
       "      <td>Manchester Blues</td>\n",
       "      <td>True</td>\n",
       "      <td>2.0</td>\n",
       "    </tr>\n",
       "    <tr>\n",
       "      <th>43933</th>\n",
       "      <td>2020-04-24 12:56:00</td>\n",
       "      <td>2</td>\n",
       "      <td>1</td>\n",
       "      <td>1 - 2</td>\n",
       "      <td>Olympique Juniors</td>\n",
       "      <td>Belgium Buffalos</td>\n",
       "      <td>True</td>\n",
       "      <td>0.0</td>\n",
       "    </tr>\n",
       "    <tr>\n",
       "      <th>43934</th>\n",
       "      <td>2020-04-24 12:59:00</td>\n",
       "      <td>2</td>\n",
       "      <td>0</td>\n",
       "      <td>0 - 2</td>\n",
       "      <td>Watford Hornets</td>\n",
       "      <td>Sunderland Cats</td>\n",
       "      <td>False</td>\n",
       "      <td>NaN</td>\n",
       "    </tr>\n",
       "    <tr>\n",
       "      <th>43935</th>\n",
       "      <td>2020-04-24 13:02:00</td>\n",
       "      <td>0</td>\n",
       "      <td>0</td>\n",
       "      <td>0 - 0</td>\n",
       "      <td>Blucerchiati</td>\n",
       "      <td>Empoli Farmers</td>\n",
       "      <td>False</td>\n",
       "      <td>NaN</td>\n",
       "    </tr>\n",
       "    <tr>\n",
       "      <th>43936</th>\n",
       "      <td>2020-04-24 13:05:00</td>\n",
       "      <td>2</td>\n",
       "      <td>1</td>\n",
       "      <td>1 - 2</td>\n",
       "      <td>Malmo Sky Blues</td>\n",
       "      <td>Madrid Juniors</td>\n",
       "      <td>True</td>\n",
       "      <td>2.0</td>\n",
       "    </tr>\n",
       "    <tr>\n",
       "      <th>43937</th>\n",
       "      <td>2020-04-24 13:08:00</td>\n",
       "      <td>0</td>\n",
       "      <td>1</td>\n",
       "      <td>1 - 0</td>\n",
       "      <td>Calcio Canaries</td>\n",
       "      <td>Milan Reds</td>\n",
       "      <td>False</td>\n",
       "      <td>NaN</td>\n",
       "    </tr>\n",
       "    <tr>\n",
       "      <th>43938</th>\n",
       "      <td>2020-04-24 13:11:00</td>\n",
       "      <td>0</td>\n",
       "      <td>1</td>\n",
       "      <td>1 - 0</td>\n",
       "      <td>Norwich Canaries</td>\n",
       "      <td>Manchester Blues</td>\n",
       "      <td>False</td>\n",
       "      <td>NaN</td>\n",
       "    </tr>\n",
       "    <tr>\n",
       "      <th>43939</th>\n",
       "      <td>2020-04-24 13:14:00</td>\n",
       "      <td>1</td>\n",
       "      <td>0</td>\n",
       "      <td>0 - 1</td>\n",
       "      <td>Aston City</td>\n",
       "      <td>Norwich Canaries</td>\n",
       "      <td>False</td>\n",
       "      <td>NaN</td>\n",
       "    </tr>\n",
       "    <tr>\n",
       "      <th>43940</th>\n",
       "      <td>2020-04-24 13:17:00</td>\n",
       "      <td>2</td>\n",
       "      <td>2</td>\n",
       "      <td>2 - 2</td>\n",
       "      <td>CSKA Russia</td>\n",
       "      <td>Maccabi Stars</td>\n",
       "      <td>True</td>\n",
       "      <td>3.0</td>\n",
       "    </tr>\n",
       "    <tr>\n",
       "      <th>43941</th>\n",
       "      <td>2020-04-24 13:20:00</td>\n",
       "      <td>0</td>\n",
       "      <td>1</td>\n",
       "      <td>1 - 0</td>\n",
       "      <td>Palace Eagles</td>\n",
       "      <td>Manchester Reds</td>\n",
       "      <td>False</td>\n",
       "      <td>NaN</td>\n",
       "    </tr>\n",
       "    <tr>\n",
       "      <th>43942</th>\n",
       "      <td>2020-04-24 13:23:00</td>\n",
       "      <td>2</td>\n",
       "      <td>1</td>\n",
       "      <td>1 - 2</td>\n",
       "      <td>Palermo Town</td>\n",
       "      <td>Bergamo Rangers</td>\n",
       "      <td>True</td>\n",
       "      <td>1.0</td>\n",
       "    </tr>\n",
       "    <tr>\n",
       "      <th>43943</th>\n",
       "      <td>2020-04-24 13:26:00</td>\n",
       "      <td>1</td>\n",
       "      <td>1</td>\n",
       "      <td>1 - 1</td>\n",
       "      <td>Liverpool Stars</td>\n",
       "      <td>Manchester Reds</td>\n",
       "      <td>False</td>\n",
       "      <td>NaN</td>\n",
       "    </tr>\n",
       "    <tr>\n",
       "      <th>43944</th>\n",
       "      <td>2020-04-24 13:29:00</td>\n",
       "      <td>0</td>\n",
       "      <td>1</td>\n",
       "      <td>1 - 0</td>\n",
       "      <td>South Saints</td>\n",
       "      <td>Aston City</td>\n",
       "      <td>False</td>\n",
       "      <td>NaN</td>\n",
       "    </tr>\n",
       "    <tr>\n",
       "      <th>43945</th>\n",
       "      <td>2020-04-24 13:32:00</td>\n",
       "      <td>1</td>\n",
       "      <td>3</td>\n",
       "      <td>3 - 1</td>\n",
       "      <td>Stoke Utd</td>\n",
       "      <td>London Whites</td>\n",
       "      <td>True</td>\n",
       "      <td>2.0</td>\n",
       "    </tr>\n",
       "    <tr>\n",
       "      <th>43946</th>\n",
       "      <td>2020-04-24 13:35:00</td>\n",
       "      <td>0</td>\n",
       "      <td>1</td>\n",
       "      <td>1 - 0</td>\n",
       "      <td>Calcio Canaries</td>\n",
       "      <td>Villanova Stripes</td>\n",
       "      <td>False</td>\n",
       "      <td>NaN</td>\n",
       "    </tr>\n",
       "    <tr>\n",
       "      <th>43947</th>\n",
       "      <td>2020-04-24 13:38:00</td>\n",
       "      <td>1</td>\n",
       "      <td>3</td>\n",
       "      <td>3 - 1</td>\n",
       "      <td>Villanova Stripes</td>\n",
       "      <td>Biancorossi</td>\n",
       "      <td>True</td>\n",
       "      <td>1.0</td>\n",
       "    </tr>\n",
       "    <tr>\n",
       "      <th>43948</th>\n",
       "      <td>2020-04-24 13:41:00</td>\n",
       "      <td>2</td>\n",
       "      <td>1</td>\n",
       "      <td>1 - 2</td>\n",
       "      <td>Dynamo Whites</td>\n",
       "      <td>Lisbon Reds</td>\n",
       "      <td>True</td>\n",
       "      <td>0.0</td>\n",
       "    </tr>\n",
       "    <tr>\n",
       "      <th>43949</th>\n",
       "      <td>2020-04-24 13:44:00</td>\n",
       "      <td>0</td>\n",
       "      <td>3</td>\n",
       "      <td>3 - 0</td>\n",
       "      <td>Saxon Wolves</td>\n",
       "      <td>Chelsea Pensioners</td>\n",
       "      <td>True</td>\n",
       "      <td>0.0</td>\n",
       "    </tr>\n",
       "    <tr>\n",
       "      <th>43950</th>\n",
       "      <td>2020-04-24 13:47:00</td>\n",
       "      <td>1</td>\n",
       "      <td>1</td>\n",
       "      <td>1 - 1</td>\n",
       "      <td>Liverpool Stars</td>\n",
       "      <td>London Whites</td>\n",
       "      <td>False</td>\n",
       "      <td>NaN</td>\n",
       "    </tr>\n",
       "    <tr>\n",
       "      <th>43951</th>\n",
       "      <td>2020-04-24 13:50:00</td>\n",
       "      <td>0</td>\n",
       "      <td>1</td>\n",
       "      <td>1 - 0</td>\n",
       "      <td>Napoli Blues</td>\n",
       "      <td>Roma County</td>\n",
       "      <td>False</td>\n",
       "      <td>NaN</td>\n",
       "    </tr>\n",
       "    <tr>\n",
       "      <th>43952</th>\n",
       "      <td>2020-04-24 13:53:00</td>\n",
       "      <td>1</td>\n",
       "      <td>0</td>\n",
       "      <td>0 - 1</td>\n",
       "      <td>Roma County</td>\n",
       "      <td>Milan Reds</td>\n",
       "      <td>False</td>\n",
       "      <td>NaN</td>\n",
       "    </tr>\n",
       "    <tr>\n",
       "      <th>43953</th>\n",
       "      <td>2020-04-24 13:56:00</td>\n",
       "      <td>0</td>\n",
       "      <td>2</td>\n",
       "      <td>2 - 0</td>\n",
       "      <td>The Cherries</td>\n",
       "      <td>Manchester Reds</td>\n",
       "      <td>False</td>\n",
       "      <td>NaN</td>\n",
       "    </tr>\n",
       "    <tr>\n",
       "      <th>43954</th>\n",
       "      <td>2020-04-24 13:59:00</td>\n",
       "      <td>1</td>\n",
       "      <td>0</td>\n",
       "      <td>0 - 1</td>\n",
       "      <td>Biancorossi</td>\n",
       "      <td>Verona Wanderers</td>\n",
       "      <td>False</td>\n",
       "      <td>NaN</td>\n",
       "    </tr>\n",
       "    <tr>\n",
       "      <th>43955</th>\n",
       "      <td>2020-04-24 14:02:00</td>\n",
       "      <td>1</td>\n",
       "      <td>1</td>\n",
       "      <td>1 - 1</td>\n",
       "      <td>Turin</td>\n",
       "      <td>Empoli Farmers</td>\n",
       "      <td>False</td>\n",
       "      <td>NaN</td>\n",
       "    </tr>\n",
       "    <tr>\n",
       "      <th>43956</th>\n",
       "      <td>2020-04-24 14:05:00</td>\n",
       "      <td>1</td>\n",
       "      <td>1</td>\n",
       "      <td>1 - 1</td>\n",
       "      <td>South Saints</td>\n",
       "      <td>London Whites</td>\n",
       "      <td>False</td>\n",
       "      <td>NaN</td>\n",
       "    </tr>\n",
       "    <tr>\n",
       "      <th>43957</th>\n",
       "      <td>2020-04-24 14:08:00</td>\n",
       "      <td>1</td>\n",
       "      <td>3</td>\n",
       "      <td>3 - 1</td>\n",
       "      <td>Sunderland Cats</td>\n",
       "      <td>Watford Hornets</td>\n",
       "      <td>True</td>\n",
       "      <td>7.0</td>\n",
       "    </tr>\n",
       "    <tr>\n",
       "      <th>43958</th>\n",
       "      <td>2020-04-24 14:11:00</td>\n",
       "      <td>1</td>\n",
       "      <td>2</td>\n",
       "      <td>2 - 1</td>\n",
       "      <td>Villanova Stripes</td>\n",
       "      <td>Calcio Canaries</td>\n",
       "      <td>True</td>\n",
       "      <td>0.0</td>\n",
       "    </tr>\n",
       "    <tr>\n",
       "      <th>43959</th>\n",
       "      <td>2020-04-24 14:14:00</td>\n",
       "      <td>1</td>\n",
       "      <td>0</td>\n",
       "      <td>0 - 1</td>\n",
       "      <td>Villanova Stripes</td>\n",
       "      <td>Verona City</td>\n",
       "      <td>False</td>\n",
       "      <td>NaN</td>\n",
       "    </tr>\n",
       "    <tr>\n",
       "      <th>43960</th>\n",
       "      <td>2020-04-24 14:17:00</td>\n",
       "      <td>0</td>\n",
       "      <td>1</td>\n",
       "      <td>1 - 0</td>\n",
       "      <td>Kazakh Stripes</td>\n",
       "      <td>Sevilla Tower</td>\n",
       "      <td>False</td>\n",
       "      <td>NaN</td>\n",
       "    </tr>\n",
       "    <tr>\n",
       "      <th>43961</th>\n",
       "      <td>2020-04-24 14:20:00</td>\n",
       "      <td>0</td>\n",
       "      <td>4</td>\n",
       "      <td>4 - 0</td>\n",
       "      <td>Chelsea Pensioners</td>\n",
       "      <td>Liverpool Stars</td>\n",
       "      <td>True</td>\n",
       "      <td>2.0</td>\n",
       "    </tr>\n",
       "    <tr>\n",
       "      <th>43962</th>\n",
       "      <td>2020-04-24 14:23:00</td>\n",
       "      <td>1</td>\n",
       "      <td>1</td>\n",
       "      <td>1 - 1</td>\n",
       "      <td>Dynamo Whites</td>\n",
       "      <td>Donetsk Arrows</td>\n",
       "      <td>False</td>\n",
       "      <td>NaN</td>\n",
       "    </tr>\n",
       "    <tr>\n",
       "      <th>43963</th>\n",
       "      <td>2020-04-24 14:26:00</td>\n",
       "      <td>1</td>\n",
       "      <td>3</td>\n",
       "      <td>3 - 1</td>\n",
       "      <td>WBA Baggies</td>\n",
       "      <td>Newcastle AFC</td>\n",
       "      <td>True</td>\n",
       "      <td>1.0</td>\n",
       "    </tr>\n",
       "    <tr>\n",
       "      <th>43964</th>\n",
       "      <td>2020-04-24 14:29:00</td>\n",
       "      <td>2</td>\n",
       "      <td>2</td>\n",
       "      <td>2 - 2</td>\n",
       "      <td>Madrid Juniors</td>\n",
       "      <td>St Petersburg</td>\n",
       "      <td>True</td>\n",
       "      <td>0.0</td>\n",
       "    </tr>\n",
       "    <tr>\n",
       "      <th>43965</th>\n",
       "      <td>2020-04-24 14:32:00</td>\n",
       "      <td>0</td>\n",
       "      <td>2</td>\n",
       "      <td>2 - 0</td>\n",
       "      <td>Verona Wanderers</td>\n",
       "      <td>Napoli Blues</td>\n",
       "      <td>False</td>\n",
       "      <td>NaN</td>\n",
       "    </tr>\n",
       "    <tr>\n",
       "      <th>43966</th>\n",
       "      <td>2020-04-24 14:35:00</td>\n",
       "      <td>2</td>\n",
       "      <td>1</td>\n",
       "      <td>1 - 2</td>\n",
       "      <td>Malmo Sky Blues</td>\n",
       "      <td>Leverkusen</td>\n",
       "      <td>True</td>\n",
       "      <td>1.0</td>\n",
       "    </tr>\n",
       "    <tr>\n",
       "      <th>43967</th>\n",
       "      <td>2020-04-24 14:38:00</td>\n",
       "      <td>0</td>\n",
       "      <td>2</td>\n",
       "      <td>2 - 0</td>\n",
       "      <td>Maccabi Stars</td>\n",
       "      <td>Leverkusen</td>\n",
       "      <td>False</td>\n",
       "      <td>NaN</td>\n",
       "    </tr>\n",
       "    <tr>\n",
       "      <th>43968</th>\n",
       "      <td>2020-04-24 14:41:00</td>\n",
       "      <td>1</td>\n",
       "      <td>2</td>\n",
       "      <td>2 - 1</td>\n",
       "      <td>Newcastle AFC</td>\n",
       "      <td>East End Utd</td>\n",
       "      <td>True</td>\n",
       "      <td>1.0</td>\n",
       "    </tr>\n",
       "    <tr>\n",
       "      <th>43969</th>\n",
       "      <td>2020-04-24 14:44:00</td>\n",
       "      <td>3</td>\n",
       "      <td>1</td>\n",
       "      <td>1 - 3</td>\n",
       "      <td>Norwich Canaries</td>\n",
       "      <td>The Cherries</td>\n",
       "      <td>True</td>\n",
       "      <td>0.0</td>\n",
       "    </tr>\n",
       "    <tr>\n",
       "      <th>43970</th>\n",
       "      <td>2020-04-24 14:47:00</td>\n",
       "      <td>0</td>\n",
       "      <td>1</td>\n",
       "      <td>1 - 0</td>\n",
       "      <td>Sassuolo Villa</td>\n",
       "      <td>Fiorentina Purples</td>\n",
       "      <td>False</td>\n",
       "      <td>NaN</td>\n",
       "    </tr>\n",
       "    <tr>\n",
       "      <th>43971</th>\n",
       "      <td>2020-04-24 14:50:00</td>\n",
       "      <td>1</td>\n",
       "      <td>0</td>\n",
       "      <td>0 - 1</td>\n",
       "      <td>Calcio Canaries</td>\n",
       "      <td>Palermo Town</td>\n",
       "      <td>False</td>\n",
       "      <td>NaN</td>\n",
       "    </tr>\n",
       "    <tr>\n",
       "      <th>43972</th>\n",
       "      <td>2020-04-24 14:53:00</td>\n",
       "      <td>2</td>\n",
       "      <td>1</td>\n",
       "      <td>1 - 2</td>\n",
       "      <td>Zagreb</td>\n",
       "      <td>Olympique Juniors</td>\n",
       "      <td>True</td>\n",
       "      <td>2.0</td>\n",
       "    </tr>\n",
       "    <tr>\n",
       "      <th>43973</th>\n",
       "      <td>2020-04-24 14:56:00</td>\n",
       "      <td>1</td>\n",
       "      <td>1</td>\n",
       "      <td>1 - 1</td>\n",
       "      <td>Manchester Reds</td>\n",
       "      <td>Zagreb</td>\n",
       "      <td>False</td>\n",
       "      <td>NaN</td>\n",
       "    </tr>\n",
       "    <tr>\n",
       "      <th>43974</th>\n",
       "      <td>2020-04-24 14:59:00</td>\n",
       "      <td>0</td>\n",
       "      <td>1</td>\n",
       "      <td>1 - 0</td>\n",
       "      <td>Blucerchiati</td>\n",
       "      <td>Napoli Blues</td>\n",
       "      <td>False</td>\n",
       "      <td>NaN</td>\n",
       "    </tr>\n",
       "    <tr>\n",
       "      <th>43975</th>\n",
       "      <td>2020-04-24 15:02:00</td>\n",
       "      <td>0</td>\n",
       "      <td>2</td>\n",
       "      <td>2 - 0</td>\n",
       "      <td>Calcio Canaries</td>\n",
       "      <td>Verona Wanderers</td>\n",
       "      <td>False</td>\n",
       "      <td>NaN</td>\n",
       "    </tr>\n",
       "    <tr>\n",
       "      <th>43976</th>\n",
       "      <td>2020-04-24 15:05:00</td>\n",
       "      <td>0</td>\n",
       "      <td>3</td>\n",
       "      <td>3 - 0</td>\n",
       "      <td>Fiorentina Purples</td>\n",
       "      <td>Villanova Stripes</td>\n",
       "      <td>True</td>\n",
       "      <td>3.0</td>\n",
       "    </tr>\n",
       "    <tr>\n",
       "      <th>43977</th>\n",
       "      <td>2020-04-24 15:08:00</td>\n",
       "      <td>1</td>\n",
       "      <td>1</td>\n",
       "      <td>1 - 1</td>\n",
       "      <td>Sassuolo Villa</td>\n",
       "      <td>Villanova Stripes</td>\n",
       "      <td>False</td>\n",
       "      <td>NaN</td>\n",
       "    </tr>\n",
       "    <tr>\n",
       "      <th>43978</th>\n",
       "      <td>2020-04-24 15:11:00</td>\n",
       "      <td>1</td>\n",
       "      <td>2</td>\n",
       "      <td>2 - 1</td>\n",
       "      <td>Stoke Utd</td>\n",
       "      <td>Chelsea Pensioners</td>\n",
       "      <td>True</td>\n",
       "      <td>1.0</td>\n",
       "    </tr>\n",
       "    <tr>\n",
       "      <th>43979</th>\n",
       "      <td>2020-04-24 15:14:00</td>\n",
       "      <td>2</td>\n",
       "      <td>1</td>\n",
       "      <td>1 - 2</td>\n",
       "      <td>Verona Wanderers</td>\n",
       "      <td>Calcio Canaries</td>\n",
       "      <td>True</td>\n",
       "      <td>0.0</td>\n",
       "    </tr>\n",
       "    <tr>\n",
       "      <th>43980</th>\n",
       "      <td>2020-04-24 15:17:00</td>\n",
       "      <td>1</td>\n",
       "      <td>1</td>\n",
       "      <td>1 - 1</td>\n",
       "      <td>Manchester Blues</td>\n",
       "      <td>London Whites</td>\n",
       "      <td>False</td>\n",
       "      <td>NaN</td>\n",
       "    </tr>\n",
       "    <tr>\n",
       "      <th>43981</th>\n",
       "      <td>2020-04-24 15:20:00</td>\n",
       "      <td>2</td>\n",
       "      <td>2</td>\n",
       "      <td>2 - 2</td>\n",
       "      <td>Mersey Blues</td>\n",
       "      <td>Chelsea Pensioners</td>\n",
       "      <td>True</td>\n",
       "      <td>1.0</td>\n",
       "    </tr>\n",
       "    <tr>\n",
       "      <th>43982</th>\n",
       "      <td>2020-04-24 15:23:00</td>\n",
       "      <td>1</td>\n",
       "      <td>2</td>\n",
       "      <td>2 - 1</td>\n",
       "      <td>Napoli Blues</td>\n",
       "      <td>Calcio Canaries</td>\n",
       "      <td>True</td>\n",
       "      <td>0.0</td>\n",
       "    </tr>\n",
       "    <tr>\n",
       "      <th>43983</th>\n",
       "      <td>2020-04-24 15:26:00</td>\n",
       "      <td>2</td>\n",
       "      <td>0</td>\n",
       "      <td>0 - 2</td>\n",
       "      <td>Milan Reds</td>\n",
       "      <td>Verona Wanderers</td>\n",
       "      <td>False</td>\n",
       "      <td>NaN</td>\n",
       "    </tr>\n",
       "    <tr>\n",
       "      <th>43984</th>\n",
       "      <td>2020-04-24 15:29:00</td>\n",
       "      <td>1</td>\n",
       "      <td>2</td>\n",
       "      <td>2 - 1</td>\n",
       "      <td>Lisbon Reds</td>\n",
       "      <td>Saxon Wolves</td>\n",
       "      <td>True</td>\n",
       "      <td>1.0</td>\n",
       "    </tr>\n",
       "    <tr>\n",
       "      <th>43985</th>\n",
       "      <td>2020-04-24 15:32:00</td>\n",
       "      <td>2</td>\n",
       "      <td>0</td>\n",
       "      <td>0 - 2</td>\n",
       "      <td>Barcelona Braves</td>\n",
       "      <td>PSV Peasants</td>\n",
       "      <td>False</td>\n",
       "      <td>NaN</td>\n",
       "    </tr>\n",
       "    <tr>\n",
       "      <th>43986</th>\n",
       "      <td>2020-04-24 15:35:00</td>\n",
       "      <td>2</td>\n",
       "      <td>2</td>\n",
       "      <td>2 - 2</td>\n",
       "      <td>Chelsea Pensioners</td>\n",
       "      <td>PSV Peasants</td>\n",
       "      <td>True</td>\n",
       "      <td>1.0</td>\n",
       "    </tr>\n",
       "    <tr>\n",
       "      <th>43987</th>\n",
       "      <td>2020-04-24 15:38:00</td>\n",
       "      <td>1</td>\n",
       "      <td>1</td>\n",
       "      <td>1 - 1</td>\n",
       "      <td>Barcelona Braves</td>\n",
       "      <td>Giallorossi FC</td>\n",
       "      <td>False</td>\n",
       "      <td>NaN</td>\n",
       "    </tr>\n",
       "    <tr>\n",
       "      <th>43988</th>\n",
       "      <td>2020-04-24 15:41:00</td>\n",
       "      <td>2</td>\n",
       "      <td>1</td>\n",
       "      <td>1 - 2</td>\n",
       "      <td>Zagreb</td>\n",
       "      <td>Islington Reds</td>\n",
       "      <td>True</td>\n",
       "      <td>1.0</td>\n",
       "    </tr>\n",
       "    <tr>\n",
       "      <th>43989</th>\n",
       "      <td>2020-04-24 15:44:00</td>\n",
       "      <td>2</td>\n",
       "      <td>1</td>\n",
       "      <td>1 - 2</td>\n",
       "      <td>Udine Utd</td>\n",
       "      <td>Napoli Blues</td>\n",
       "      <td>True</td>\n",
       "      <td>0.0</td>\n",
       "    </tr>\n",
       "    <tr>\n",
       "      <th>43990</th>\n",
       "      <td>2020-04-24 15:47:00</td>\n",
       "      <td>0</td>\n",
       "      <td>1</td>\n",
       "      <td>1 - 0</td>\n",
       "      <td>Udine Utd</td>\n",
       "      <td>Genova Griffins</td>\n",
       "      <td>False</td>\n",
       "      <td>NaN</td>\n",
       "    </tr>\n",
       "    <tr>\n",
       "      <th>43991</th>\n",
       "      <td>2020-04-24 15:50:00</td>\n",
       "      <td>0</td>\n",
       "      <td>1</td>\n",
       "      <td>1 - 0</td>\n",
       "      <td>Genova Griffins</td>\n",
       "      <td>Giallorossi FC</td>\n",
       "      <td>False</td>\n",
       "      <td>NaN</td>\n",
       "    </tr>\n",
       "    <tr>\n",
       "      <th>43992</th>\n",
       "      <td>2020-04-24 15:53:00</td>\n",
       "      <td>1</td>\n",
       "      <td>1</td>\n",
       "      <td>1 - 1</td>\n",
       "      <td>PSV Peasants</td>\n",
       "      <td>St Petersburg</td>\n",
       "      <td>False</td>\n",
       "      <td>NaN</td>\n",
       "    </tr>\n",
       "    <tr>\n",
       "      <th>43993</th>\n",
       "      <td>2020-04-24 15:56:00</td>\n",
       "      <td>1</td>\n",
       "      <td>1</td>\n",
       "      <td>1 - 1</td>\n",
       "      <td>Turin</td>\n",
       "      <td>Blucerchiati</td>\n",
       "      <td>False</td>\n",
       "      <td>NaN</td>\n",
       "    </tr>\n",
       "    <tr>\n",
       "      <th>43994</th>\n",
       "      <td>2020-04-24 15:59:00</td>\n",
       "      <td>0</td>\n",
       "      <td>0</td>\n",
       "      <td>0 - 0</td>\n",
       "      <td>Verona City</td>\n",
       "      <td>Udine Utd</td>\n",
       "      <td>False</td>\n",
       "      <td>NaN</td>\n",
       "    </tr>\n",
       "    <tr>\n",
       "      <th>43995</th>\n",
       "      <td>2020-04-24 16:02:00</td>\n",
       "      <td>1</td>\n",
       "      <td>0</td>\n",
       "      <td>0 - 1</td>\n",
       "      <td>Manchester Reds</td>\n",
       "      <td>Donetsk Arrows</td>\n",
       "      <td>False</td>\n",
       "      <td>NaN</td>\n",
       "    </tr>\n",
       "    <tr>\n",
       "      <th>43996</th>\n",
       "      <td>2020-04-24 16:05:00</td>\n",
       "      <td>0</td>\n",
       "      <td>1</td>\n",
       "      <td>1 - 0</td>\n",
       "      <td>East End Utd</td>\n",
       "      <td>Leicester Utd</td>\n",
       "      <td>False</td>\n",
       "      <td>NaN</td>\n",
       "    </tr>\n",
       "    <tr>\n",
       "      <th>43997</th>\n",
       "      <td>2020-04-24 16:08:00</td>\n",
       "      <td>1</td>\n",
       "      <td>3</td>\n",
       "      <td>3 - 1</td>\n",
       "      <td>Sevilla Tower</td>\n",
       "      <td>Giallorossi FC</td>\n",
       "      <td>True</td>\n",
       "      <td>7.0</td>\n",
       "    </tr>\n",
       "    <tr>\n",
       "      <th>43998</th>\n",
       "      <td>2020-04-24 16:11:00</td>\n",
       "      <td>1</td>\n",
       "      <td>1</td>\n",
       "      <td>1 - 1</td>\n",
       "      <td>Fiorentina Purples</td>\n",
       "      <td>Milan Reds</td>\n",
       "      <td>False</td>\n",
       "      <td>NaN</td>\n",
       "    </tr>\n",
       "    <tr>\n",
       "      <th>43999</th>\n",
       "      <td>2020-04-24 16:14:00</td>\n",
       "      <td>1</td>\n",
       "      <td>0</td>\n",
       "      <td>0 - 1</td>\n",
       "      <td>Manchester Reds</td>\n",
       "      <td>Mersey Blues</td>\n",
       "      <td>False</td>\n",
       "      <td>NaN</td>\n",
       "    </tr>\n",
       "    <tr>\n",
       "      <th>44000</th>\n",
       "      <td>2020-04-24 16:17:00</td>\n",
       "      <td>0</td>\n",
       "      <td>2</td>\n",
       "      <td>2 - 0</td>\n",
       "      <td>Bergamo Rangers</td>\n",
       "      <td>Biancorossi</td>\n",
       "      <td>False</td>\n",
       "      <td>NaN</td>\n",
       "    </tr>\n",
       "    <tr>\n",
       "      <th>44001</th>\n",
       "      <td>2020-04-24 16:20:00</td>\n",
       "      <td>1</td>\n",
       "      <td>0</td>\n",
       "      <td>0 - 1</td>\n",
       "      <td>Manchester Blues</td>\n",
       "      <td>South Saints</td>\n",
       "      <td>False</td>\n",
       "      <td>NaN</td>\n",
       "    </tr>\n",
       "    <tr>\n",
       "      <th>44002</th>\n",
       "      <td>2020-04-24 16:23:00</td>\n",
       "      <td>0</td>\n",
       "      <td>1</td>\n",
       "      <td>1 - 0</td>\n",
       "      <td>East End Utd</td>\n",
       "      <td>London Whites</td>\n",
       "      <td>False</td>\n",
       "      <td>NaN</td>\n",
       "    </tr>\n",
       "    <tr>\n",
       "      <th>44003</th>\n",
       "      <td>2020-04-24 16:26:00</td>\n",
       "      <td>2</td>\n",
       "      <td>0</td>\n",
       "      <td>0 - 2</td>\n",
       "      <td>Turin</td>\n",
       "      <td>Genova Griffins</td>\n",
       "      <td>False</td>\n",
       "      <td>NaN</td>\n",
       "    </tr>\n",
       "    <tr>\n",
       "      <th>44004</th>\n",
       "      <td>2020-04-24 16:29:00</td>\n",
       "      <td>1</td>\n",
       "      <td>1</td>\n",
       "      <td>1 - 1</td>\n",
       "      <td>Udine Utd</td>\n",
       "      <td>Empoli Farmers</td>\n",
       "      <td>False</td>\n",
       "      <td>NaN</td>\n",
       "    </tr>\n",
       "    <tr>\n",
       "      <th>44005</th>\n",
       "      <td>2020-04-24 16:32:00</td>\n",
       "      <td>0</td>\n",
       "      <td>1</td>\n",
       "      <td>1 - 0</td>\n",
       "      <td>Villanova Stripes</td>\n",
       "      <td>Blucerchiati</td>\n",
       "      <td>False</td>\n",
       "      <td>NaN</td>\n",
       "    </tr>\n",
       "    <tr>\n",
       "      <th>44006</th>\n",
       "      <td>2020-04-24 16:35:00</td>\n",
       "      <td>0</td>\n",
       "      <td>3</td>\n",
       "      <td>3 - 0</td>\n",
       "      <td>Lisbon Reds</td>\n",
       "      <td>Chelsea Pensioners</td>\n",
       "      <td>True</td>\n",
       "      <td>8.0</td>\n",
       "    </tr>\n",
       "    <tr>\n",
       "      <th>44007</th>\n",
       "      <td>2020-04-24 16:38:00</td>\n",
       "      <td>1</td>\n",
       "      <td>1</td>\n",
       "      <td>1 - 1</td>\n",
       "      <td>Turin</td>\n",
       "      <td>Napoli Blues</td>\n",
       "      <td>False</td>\n",
       "      <td>NaN</td>\n",
       "    </tr>\n",
       "    <tr>\n",
       "      <th>44008</th>\n",
       "      <td>2020-04-24 16:41:00</td>\n",
       "      <td>0</td>\n",
       "      <td>3</td>\n",
       "      <td>3 - 0</td>\n",
       "      <td>Barysaw Yellows</td>\n",
       "      <td>Maccabi Stars</td>\n",
       "      <td>True</td>\n",
       "      <td>1.0</td>\n",
       "    </tr>\n",
       "    <tr>\n",
       "      <th>44009</th>\n",
       "      <td>2020-04-24 16:44:00</td>\n",
       "      <td>4</td>\n",
       "      <td>0</td>\n",
       "      <td>0 - 4</td>\n",
       "      <td>Madrid Juniors</td>\n",
       "      <td>Valencia Juniors</td>\n",
       "      <td>True</td>\n",
       "      <td>0.0</td>\n",
       "    </tr>\n",
       "    <tr>\n",
       "      <th>44010</th>\n",
       "      <td>2020-04-24 16:47:00</td>\n",
       "      <td>2</td>\n",
       "      <td>1</td>\n",
       "      <td>1 - 2</td>\n",
       "      <td>Nerazzurri FC</td>\n",
       "      <td>Fiorentina Purples</td>\n",
       "      <td>True</td>\n",
       "      <td>0.0</td>\n",
       "    </tr>\n",
       "    <tr>\n",
       "      <th>44011</th>\n",
       "      <td>2020-04-24 16:50:00</td>\n",
       "      <td>0</td>\n",
       "      <td>4</td>\n",
       "      <td>4 - 0</td>\n",
       "      <td>Newcastle AFC</td>\n",
       "      <td>WBA Baggies</td>\n",
       "      <td>True</td>\n",
       "      <td>0.0</td>\n",
       "    </tr>\n",
       "    <tr>\n",
       "      <th>44012</th>\n",
       "      <td>2020-04-24 16:53:00</td>\n",
       "      <td>1</td>\n",
       "      <td>2</td>\n",
       "      <td>2 - 1</td>\n",
       "      <td>Zagreb</td>\n",
       "      <td>Sevilla Tower</td>\n",
       "      <td>True</td>\n",
       "      <td>0.0</td>\n",
       "    </tr>\n",
       "    <tr>\n",
       "      <th>44013</th>\n",
       "      <td>2020-04-24 16:56:00</td>\n",
       "      <td>1</td>\n",
       "      <td>1</td>\n",
       "      <td>1 - 1</td>\n",
       "      <td>PSV Peasants</td>\n",
       "      <td>Olympic Athens</td>\n",
       "      <td>False</td>\n",
       "      <td>NaN</td>\n",
       "    </tr>\n",
       "    <tr>\n",
       "      <th>44014</th>\n",
       "      <td>2020-04-24 16:59:00</td>\n",
       "      <td>2</td>\n",
       "      <td>0</td>\n",
       "      <td>0 - 2</td>\n",
       "      <td>Milan Reds</td>\n",
       "      <td>Napoli Blues</td>\n",
       "      <td>False</td>\n",
       "      <td>NaN</td>\n",
       "    </tr>\n",
       "    <tr>\n",
       "      <th>44015</th>\n",
       "      <td>2020-04-24 17:02:00</td>\n",
       "      <td>1</td>\n",
       "      <td>1</td>\n",
       "      <td>1 - 1</td>\n",
       "      <td>Newcastle AFC</td>\n",
       "      <td>Stoke Utd</td>\n",
       "      <td>False</td>\n",
       "      <td>NaN</td>\n",
       "    </tr>\n",
       "    <tr>\n",
       "      <th>44016</th>\n",
       "      <td>2020-04-24 17:05:00</td>\n",
       "      <td>0</td>\n",
       "      <td>0</td>\n",
       "      <td>0 - 0</td>\n",
       "      <td>Liverpool Stars</td>\n",
       "      <td>East End Utd</td>\n",
       "      <td>False</td>\n",
       "      <td>NaN</td>\n",
       "    </tr>\n",
       "    <tr>\n",
       "      <th>44017</th>\n",
       "      <td>2020-04-24 17:08:00</td>\n",
       "      <td>0</td>\n",
       "      <td>1</td>\n",
       "      <td>1 - 0</td>\n",
       "      <td>Turin</td>\n",
       "      <td>Madrid Juniors</td>\n",
       "      <td>False</td>\n",
       "      <td>NaN</td>\n",
       "    </tr>\n",
       "    <tr>\n",
       "      <th>44018</th>\n",
       "      <td>2020-04-24 17:11:00</td>\n",
       "      <td>0</td>\n",
       "      <td>2</td>\n",
       "      <td>2 - 0</td>\n",
       "      <td>Sevilla Tower</td>\n",
       "      <td>Chelsea Pensioners</td>\n",
       "      <td>False</td>\n",
       "      <td>NaN</td>\n",
       "    </tr>\n",
       "    <tr>\n",
       "      <th>44019</th>\n",
       "      <td>2020-04-24 17:14:00</td>\n",
       "      <td>1</td>\n",
       "      <td>3</td>\n",
       "      <td>3 - 1</td>\n",
       "      <td>Olympique Juniors</td>\n",
       "      <td>Leverkusen</td>\n",
       "      <td>True</td>\n",
       "      <td>6.0</td>\n",
       "    </tr>\n",
       "    <tr>\n",
       "      <th>44020</th>\n",
       "      <td>2020-04-24 17:17:00</td>\n",
       "      <td>1</td>\n",
       "      <td>2</td>\n",
       "      <td>2 - 1</td>\n",
       "      <td>Nerazzurri FC</td>\n",
       "      <td>Empoli Farmers</td>\n",
       "      <td>True</td>\n",
       "      <td>0.0</td>\n",
       "    </tr>\n",
       "    <tr>\n",
       "      <th>44021</th>\n",
       "      <td>2020-04-24 17:20:00</td>\n",
       "      <td>1</td>\n",
       "      <td>1</td>\n",
       "      <td>1 - 1</td>\n",
       "      <td>Belgium Buffalos</td>\n",
       "      <td>Dynamo Whites</td>\n",
       "      <td>False</td>\n",
       "      <td>NaN</td>\n",
       "    </tr>\n",
       "    <tr>\n",
       "      <th>44022</th>\n",
       "      <td>2020-04-24 17:23:00</td>\n",
       "      <td>1</td>\n",
       "      <td>0</td>\n",
       "      <td>0 - 1</td>\n",
       "      <td>Mersey Blues</td>\n",
       "      <td>London Whites</td>\n",
       "      <td>False</td>\n",
       "      <td>NaN</td>\n",
       "    </tr>\n",
       "    <tr>\n",
       "      <th>44023</th>\n",
       "      <td>2020-04-24 17:26:00</td>\n",
       "      <td>0</td>\n",
       "      <td>2</td>\n",
       "      <td>2 - 0</td>\n",
       "      <td>Valencia Juniors</td>\n",
       "      <td>Galataistanbul</td>\n",
       "      <td>False</td>\n",
       "      <td>NaN</td>\n",
       "    </tr>\n",
       "    <tr>\n",
       "      <th>44024</th>\n",
       "      <td>2020-04-24 17:29:00</td>\n",
       "      <td>1</td>\n",
       "      <td>3</td>\n",
       "      <td>3 - 1</td>\n",
       "      <td>Sassuolo Villa</td>\n",
       "      <td>Milan Reds</td>\n",
       "      <td>True</td>\n",
       "      <td>3.0</td>\n",
       "    </tr>\n",
       "    <tr>\n",
       "      <th>44025</th>\n",
       "      <td>2020-04-24 17:32:00</td>\n",
       "      <td>1</td>\n",
       "      <td>0</td>\n",
       "      <td>0 - 1</td>\n",
       "      <td>Donetsk Arrows</td>\n",
       "      <td>Manchester Blues</td>\n",
       "      <td>False</td>\n",
       "      <td>NaN</td>\n",
       "    </tr>\n",
       "    <tr>\n",
       "      <th>44026</th>\n",
       "      <td>2020-04-24 17:35:00</td>\n",
       "      <td>2</td>\n",
       "      <td>1</td>\n",
       "      <td>1 - 2</td>\n",
       "      <td>Fiorentina Purples</td>\n",
       "      <td>Bergamo Rangers</td>\n",
       "      <td>True</td>\n",
       "      <td>1.0</td>\n",
       "    </tr>\n",
       "    <tr>\n",
       "      <th>44027</th>\n",
       "      <td>2020-04-24 17:38:00</td>\n",
       "      <td>0</td>\n",
       "      <td>0</td>\n",
       "      <td>0 - 0</td>\n",
       "      <td>Manchester Blues</td>\n",
       "      <td>Palace Eagles</td>\n",
       "      <td>False</td>\n",
       "      <td>NaN</td>\n",
       "    </tr>\n",
       "    <tr>\n",
       "      <th>44028</th>\n",
       "      <td>2020-04-24 17:41:00</td>\n",
       "      <td>0</td>\n",
       "      <td>0</td>\n",
       "      <td>0 - 0</td>\n",
       "      <td>Manchester Blues</td>\n",
       "      <td>Liverpool Stars</td>\n",
       "      <td>False</td>\n",
       "      <td>NaN</td>\n",
       "    </tr>\n",
       "    <tr>\n",
       "      <th>44029</th>\n",
       "      <td>2020-04-24 17:44:00</td>\n",
       "      <td>0</td>\n",
       "      <td>2</td>\n",
       "      <td>2 - 0</td>\n",
       "      <td>Bergamo Rangers</td>\n",
       "      <td>Genova Griffins</td>\n",
       "      <td>False</td>\n",
       "      <td>NaN</td>\n",
       "    </tr>\n",
       "    <tr>\n",
       "      <th>44030</th>\n",
       "      <td>2020-04-24 17:47:00</td>\n",
       "      <td>2</td>\n",
       "      <td>0</td>\n",
       "      <td>0 - 2</td>\n",
       "      <td>Napoli Blues</td>\n",
       "      <td>Fiorentina Purples</td>\n",
       "      <td>False</td>\n",
       "      <td>NaN</td>\n",
       "    </tr>\n",
       "    <tr>\n",
       "      <th>44031</th>\n",
       "      <td>2020-04-24 17:50:00</td>\n",
       "      <td>2</td>\n",
       "      <td>0</td>\n",
       "      <td>0 - 2</td>\n",
       "      <td>Mersey Blues</td>\n",
       "      <td>WBA Baggies</td>\n",
       "      <td>False</td>\n",
       "      <td>NaN</td>\n",
       "    </tr>\n",
       "    <tr>\n",
       "      <th>44032</th>\n",
       "      <td>2020-04-24 17:53:00</td>\n",
       "      <td>1</td>\n",
       "      <td>3</td>\n",
       "      <td>3 - 1</td>\n",
       "      <td>Paris City</td>\n",
       "      <td>Chelsea Pensioners</td>\n",
       "      <td>True</td>\n",
       "      <td>5.0</td>\n",
       "    </tr>\n",
       "    <tr>\n",
       "      <th>44033</th>\n",
       "      <td>2020-04-24 17:56:00</td>\n",
       "      <td>0</td>\n",
       "      <td>1</td>\n",
       "      <td>1 - 0</td>\n",
       "      <td>Olympic Athens</td>\n",
       "      <td>Manchester Reds</td>\n",
       "      <td>False</td>\n",
       "      <td>NaN</td>\n",
       "    </tr>\n",
       "    <tr>\n",
       "      <th>44034</th>\n",
       "      <td>2020-04-24 18:02:00</td>\n",
       "      <td>1</td>\n",
       "      <td>2</td>\n",
       "      <td>2 - 1</td>\n",
       "      <td>Verona Wanderers</td>\n",
       "      <td>Genova Griffins</td>\n",
       "      <td>True</td>\n",
       "      <td>1.0</td>\n",
       "    </tr>\n",
       "    <tr>\n",
       "      <th>44035</th>\n",
       "      <td>2020-04-24 18:05:00</td>\n",
       "      <td>3</td>\n",
       "      <td>0</td>\n",
       "      <td>0 - 3</td>\n",
       "      <td>Sevilla Tower</td>\n",
       "      <td>Dynamo Whites</td>\n",
       "      <td>True</td>\n",
       "      <td>0.0</td>\n",
       "    </tr>\n",
       "    <tr>\n",
       "      <th>44036</th>\n",
       "      <td>2020-04-24 18:08:00</td>\n",
       "      <td>0</td>\n",
       "      <td>0</td>\n",
       "      <td>0 - 0</td>\n",
       "      <td>Nerazzurri FC</td>\n",
       "      <td>Verona City</td>\n",
       "      <td>False</td>\n",
       "      <td>NaN</td>\n",
       "    </tr>\n",
       "    <tr>\n",
       "      <th>44037</th>\n",
       "      <td>2020-04-24 18:11:00</td>\n",
       "      <td>0</td>\n",
       "      <td>2</td>\n",
       "      <td>2 - 0</td>\n",
       "      <td>Stoke Utd</td>\n",
       "      <td>Palace Eagles</td>\n",
       "      <td>False</td>\n",
       "      <td>NaN</td>\n",
       "    </tr>\n",
       "    <tr>\n",
       "      <th>44038</th>\n",
       "      <td>2020-04-24 18:14:00</td>\n",
       "      <td>0</td>\n",
       "      <td>2</td>\n",
       "      <td>2 - 0</td>\n",
       "      <td>Watford Hornets</td>\n",
       "      <td>Palace Eagles</td>\n",
       "      <td>False</td>\n",
       "      <td>NaN</td>\n",
       "    </tr>\n",
       "    <tr>\n",
       "      <th>44039</th>\n",
       "      <td>2020-04-24 18:17:00</td>\n",
       "      <td>1</td>\n",
       "      <td>1</td>\n",
       "      <td>1 - 1</td>\n",
       "      <td>Chelsea Pensioners</td>\n",
       "      <td>Leicester Utd</td>\n",
       "      <td>False</td>\n",
       "      <td>NaN</td>\n",
       "    </tr>\n",
       "    <tr>\n",
       "      <th>44040</th>\n",
       "      <td>2020-04-24 18:20:00</td>\n",
       "      <td>1</td>\n",
       "      <td>1</td>\n",
       "      <td>1 - 1</td>\n",
       "      <td>Galataistanbul</td>\n",
       "      <td>Zagreb</td>\n",
       "      <td>False</td>\n",
       "      <td>NaN</td>\n",
       "    </tr>\n",
       "    <tr>\n",
       "      <th>44041</th>\n",
       "      <td>2020-04-24 18:23:00</td>\n",
       "      <td>2</td>\n",
       "      <td>2</td>\n",
       "      <td>2 - 2</td>\n",
       "      <td>East End Utd</td>\n",
       "      <td>Palace Eagles</td>\n",
       "      <td>True</td>\n",
       "      <td>5.0</td>\n",
       "    </tr>\n",
       "    <tr>\n",
       "      <th>44042</th>\n",
       "      <td>2020-04-24 18:26:00</td>\n",
       "      <td>0</td>\n",
       "      <td>0</td>\n",
       "      <td>0 - 0</td>\n",
       "      <td>Stoke Utd</td>\n",
       "      <td>Leicester Utd</td>\n",
       "      <td>False</td>\n",
       "      <td>NaN</td>\n",
       "    </tr>\n",
       "    <tr>\n",
       "      <th>44043</th>\n",
       "      <td>2020-04-24 18:29:00</td>\n",
       "      <td>0</td>\n",
       "      <td>4</td>\n",
       "      <td>4 - 0</td>\n",
       "      <td>Empoli Farmers</td>\n",
       "      <td>Turin</td>\n",
       "      <td>True</td>\n",
       "      <td>1.0</td>\n",
       "    </tr>\n",
       "    <tr>\n",
       "      <th>44044</th>\n",
       "      <td>2020-04-24 18:32:00</td>\n",
       "      <td>0</td>\n",
       "      <td>4</td>\n",
       "      <td>4 - 0</td>\n",
       "      <td>Nerazzurri FC</td>\n",
       "      <td>Turin</td>\n",
       "      <td>True</td>\n",
       "      <td>0.0</td>\n",
       "    </tr>\n",
       "    <tr>\n",
       "      <th>44045</th>\n",
       "      <td>2020-04-24 18:35:00</td>\n",
       "      <td>1</td>\n",
       "      <td>1</td>\n",
       "      <td>1 - 1</td>\n",
       "      <td>Villanova Stripes</td>\n",
       "      <td>Genova Griffins</td>\n",
       "      <td>False</td>\n",
       "      <td>NaN</td>\n",
       "    </tr>\n",
       "    <tr>\n",
       "      <th>44046</th>\n",
       "      <td>2020-04-24 18:38:00</td>\n",
       "      <td>1</td>\n",
       "      <td>1</td>\n",
       "      <td>1 - 1</td>\n",
       "      <td>Udine Utd</td>\n",
       "      <td>Calcio Canaries</td>\n",
       "      <td>False</td>\n",
       "      <td>NaN</td>\n",
       "    </tr>\n",
       "    <tr>\n",
       "      <th>44047</th>\n",
       "      <td>2020-04-24 18:41:00</td>\n",
       "      <td>3</td>\n",
       "      <td>1</td>\n",
       "      <td>1 - 3</td>\n",
       "      <td>Giallorossi FC</td>\n",
       "      <td>Napoli Blues</td>\n",
       "      <td>True</td>\n",
       "      <td>2.0</td>\n",
       "    </tr>\n",
       "    <tr>\n",
       "      <th>44048</th>\n",
       "      <td>2020-04-24 18:44:00</td>\n",
       "      <td>0</td>\n",
       "      <td>2</td>\n",
       "      <td>2 - 0</td>\n",
       "      <td>St Petersburg</td>\n",
       "      <td>Saxon Wolves</td>\n",
       "      <td>False</td>\n",
       "      <td>NaN</td>\n",
       "    </tr>\n",
       "    <tr>\n",
       "      <th>44049</th>\n",
       "      <td>2020-04-24 18:47:00</td>\n",
       "      <td>2</td>\n",
       "      <td>1</td>\n",
       "      <td>1 - 2</td>\n",
       "      <td>Turin</td>\n",
       "      <td>Milan Reds</td>\n",
       "      <td>True</td>\n",
       "      <td>1.0</td>\n",
       "    </tr>\n",
       "    <tr>\n",
       "      <th>44050</th>\n",
       "      <td>2020-04-24 18:50:00</td>\n",
       "      <td>0</td>\n",
       "      <td>2</td>\n",
       "      <td>2 - 0</td>\n",
       "      <td>London Whites</td>\n",
       "      <td>WBA Baggies</td>\n",
       "      <td>False</td>\n",
       "      <td>NaN</td>\n",
       "    </tr>\n",
       "    <tr>\n",
       "      <th>44051</th>\n",
       "      <td>2020-04-24 18:53:00</td>\n",
       "      <td>0</td>\n",
       "      <td>1</td>\n",
       "      <td>1 - 0</td>\n",
       "      <td>Torino Bulls</td>\n",
       "      <td>Giallorossi FC</td>\n",
       "      <td>False</td>\n",
       "      <td>NaN</td>\n",
       "    </tr>\n",
       "    <tr>\n",
       "      <th>44052</th>\n",
       "      <td>2020-04-24 18:56:00</td>\n",
       "      <td>0</td>\n",
       "      <td>0</td>\n",
       "      <td>0 - 0</td>\n",
       "      <td>Aston City</td>\n",
       "      <td>The Cherries</td>\n",
       "      <td>False</td>\n",
       "      <td>NaN</td>\n",
       "    </tr>\n",
       "    <tr>\n",
       "      <th>44053</th>\n",
       "      <td>2020-04-24 18:59:00</td>\n",
       "      <td>0</td>\n",
       "      <td>2</td>\n",
       "      <td>2 - 0</td>\n",
       "      <td>Lisbon Reds</td>\n",
       "      <td>Kazakh Stripes</td>\n",
       "      <td>False</td>\n",
       "      <td>NaN</td>\n",
       "    </tr>\n",
       "    <tr>\n",
       "      <th>44054</th>\n",
       "      <td>2020-04-24 19:02:00</td>\n",
       "      <td>0</td>\n",
       "      <td>0</td>\n",
       "      <td>0 - 0</td>\n",
       "      <td>Verona Wanderers</td>\n",
       "      <td>Verona City</td>\n",
       "      <td>False</td>\n",
       "      <td>NaN</td>\n",
       "    </tr>\n",
       "    <tr>\n",
       "      <th>44055</th>\n",
       "      <td>2020-04-24 19:05:00</td>\n",
       "      <td>1</td>\n",
       "      <td>1</td>\n",
       "      <td>1 - 1</td>\n",
       "      <td>Verona City</td>\n",
       "      <td>Biancorossi</td>\n",
       "      <td>False</td>\n",
       "      <td>NaN</td>\n",
       "    </tr>\n",
       "    <tr>\n",
       "      <th>44056</th>\n",
       "      <td>2020-04-24 19:08:00</td>\n",
       "      <td>0</td>\n",
       "      <td>0</td>\n",
       "      <td>0 - 0</td>\n",
       "      <td>Genova Griffins</td>\n",
       "      <td>Empoli Farmers</td>\n",
       "      <td>False</td>\n",
       "      <td>NaN</td>\n",
       "    </tr>\n",
       "    <tr>\n",
       "      <th>44057</th>\n",
       "      <td>2020-04-24 19:11:00</td>\n",
       "      <td>2</td>\n",
       "      <td>0</td>\n",
       "      <td>0 - 2</td>\n",
       "      <td>Manchester Reds</td>\n",
       "      <td>Maccabi Stars</td>\n",
       "      <td>False</td>\n",
       "      <td>NaN</td>\n",
       "    </tr>\n",
       "    <tr>\n",
       "      <th>44058</th>\n",
       "      <td>2020-04-24 19:14:00</td>\n",
       "      <td>0</td>\n",
       "      <td>0</td>\n",
       "      <td>0 - 0</td>\n",
       "      <td>CSKA Russia</td>\n",
       "      <td>Sevilla Tower</td>\n",
       "      <td>False</td>\n",
       "      <td>NaN</td>\n",
       "    </tr>\n",
       "    <tr>\n",
       "      <th>44059</th>\n",
       "      <td>2020-04-24 19:17:00</td>\n",
       "      <td>3</td>\n",
       "      <td>1</td>\n",
       "      <td>1 - 3</td>\n",
       "      <td>Empoli Farmers</td>\n",
       "      <td>Biancorossi</td>\n",
       "      <td>True</td>\n",
       "      <td>9.0</td>\n",
       "    </tr>\n",
       "    <tr>\n",
       "      <th>44060</th>\n",
       "      <td>2020-04-24 19:20:00</td>\n",
       "      <td>0</td>\n",
       "      <td>3</td>\n",
       "      <td>3 - 0</td>\n",
       "      <td>Napoli Blues</td>\n",
       "      <td>Bergamo Rangers</td>\n",
       "      <td>True</td>\n",
       "      <td>0.0</td>\n",
       "    </tr>\n",
       "    <tr>\n",
       "      <th>44061</th>\n",
       "      <td>2020-04-24 19:23:00</td>\n",
       "      <td>1</td>\n",
       "      <td>1</td>\n",
       "      <td>1 - 1</td>\n",
       "      <td>Leverkusen</td>\n",
       "      <td>Zagreb</td>\n",
       "      <td>False</td>\n",
       "      <td>NaN</td>\n",
       "    </tr>\n",
       "    <tr>\n",
       "      <th>44062</th>\n",
       "      <td>2020-04-24 19:26:00</td>\n",
       "      <td>0</td>\n",
       "      <td>4</td>\n",
       "      <td>4 - 0</td>\n",
       "      <td>Borussia Foals</td>\n",
       "      <td>Munich</td>\n",
       "      <td>True</td>\n",
       "      <td>1.0</td>\n",
       "    </tr>\n",
       "    <tr>\n",
       "      <th>44063</th>\n",
       "      <td>2020-04-24 19:29:00</td>\n",
       "      <td>0</td>\n",
       "      <td>0</td>\n",
       "      <td>0 - 0</td>\n",
       "      <td>Chelsea Pensioners</td>\n",
       "      <td>Porto Flames</td>\n",
       "      <td>False</td>\n",
       "      <td>NaN</td>\n",
       "    </tr>\n",
       "    <tr>\n",
       "      <th>44064</th>\n",
       "      <td>2020-04-24 19:32:00</td>\n",
       "      <td>3</td>\n",
       "      <td>1</td>\n",
       "      <td>1 - 3</td>\n",
       "      <td>Stoke Utd</td>\n",
       "      <td>Watford Hornets</td>\n",
       "      <td>True</td>\n",
       "      <td>1.0</td>\n",
       "    </tr>\n",
       "    <tr>\n",
       "      <th>44065</th>\n",
       "      <td>2020-04-24 19:35:00</td>\n",
       "      <td>0</td>\n",
       "      <td>1</td>\n",
       "      <td>1 - 0</td>\n",
       "      <td>Verona Wanderers</td>\n",
       "      <td>Giallorossi FC</td>\n",
       "      <td>False</td>\n",
       "      <td>NaN</td>\n",
       "    </tr>\n",
       "    <tr>\n",
       "      <th>44066</th>\n",
       "      <td>2020-04-24 19:38:00</td>\n",
       "      <td>0</td>\n",
       "      <td>0</td>\n",
       "      <td>0 - 0</td>\n",
       "      <td>Sunderland Cats</td>\n",
       "      <td>East End Utd</td>\n",
       "      <td>False</td>\n",
       "      <td>NaN</td>\n",
       "    </tr>\n",
       "    <tr>\n",
       "      <th>44067</th>\n",
       "      <td>2020-04-24 19:41:00</td>\n",
       "      <td>2</td>\n",
       "      <td>0</td>\n",
       "      <td>0 - 2</td>\n",
       "      <td>Fiorentina Purples</td>\n",
       "      <td>Torino Bulls</td>\n",
       "      <td>False</td>\n",
       "      <td>NaN</td>\n",
       "    </tr>\n",
       "    <tr>\n",
       "      <th>44068</th>\n",
       "      <td>2020-04-24 19:44:00</td>\n",
       "      <td>2</td>\n",
       "      <td>2</td>\n",
       "      <td>2 - 2</td>\n",
       "      <td>Paris City</td>\n",
       "      <td>PSV Peasants</td>\n",
       "      <td>True</td>\n",
       "      <td>3.0</td>\n",
       "    </tr>\n",
       "    <tr>\n",
       "      <th>44069</th>\n",
       "      <td>2020-04-24 19:47:00</td>\n",
       "      <td>1</td>\n",
       "      <td>0</td>\n",
       "      <td>0 - 1</td>\n",
       "      <td>Manchester Blues</td>\n",
       "      <td>London Whites</td>\n",
       "      <td>False</td>\n",
       "      <td>NaN</td>\n",
       "    </tr>\n",
       "    <tr>\n",
       "      <th>44070</th>\n",
       "      <td>2020-04-24 19:50:00</td>\n",
       "      <td>0</td>\n",
       "      <td>3</td>\n",
       "      <td>3 - 0</td>\n",
       "      <td>Leverkusen</td>\n",
       "      <td>Madrid Lightning</td>\n",
       "      <td>True</td>\n",
       "      <td>1.0</td>\n",
       "    </tr>\n",
       "    <tr>\n",
       "      <th>44071</th>\n",
       "      <td>2020-04-24 19:53:00</td>\n",
       "      <td>0</td>\n",
       "      <td>0</td>\n",
       "      <td>0 - 0</td>\n",
       "      <td>Porto Flames</td>\n",
       "      <td>Leverkusen</td>\n",
       "      <td>False</td>\n",
       "      <td>NaN</td>\n",
       "    </tr>\n",
       "    <tr>\n",
       "      <th>44072</th>\n",
       "      <td>2020-04-24 19:56:00</td>\n",
       "      <td>0</td>\n",
       "      <td>3</td>\n",
       "      <td>3 - 0</td>\n",
       "      <td>Valencia Juniors</td>\n",
       "      <td>Donetsk Arrows</td>\n",
       "      <td>True</td>\n",
       "      <td>1.0</td>\n",
       "    </tr>\n",
       "    <tr>\n",
       "      <th>44073</th>\n",
       "      <td>2020-04-24 19:59:00</td>\n",
       "      <td>1</td>\n",
       "      <td>0</td>\n",
       "      <td>0 - 1</td>\n",
       "      <td>Sevilla Tower</td>\n",
       "      <td>Munich</td>\n",
       "      <td>False</td>\n",
       "      <td>NaN</td>\n",
       "    </tr>\n",
       "    <tr>\n",
       "      <th>44074</th>\n",
       "      <td>2020-04-24 20:02:00</td>\n",
       "      <td>0</td>\n",
       "      <td>1</td>\n",
       "      <td>1 - 0</td>\n",
       "      <td>Mersey Blues</td>\n",
       "      <td>Palace Eagles</td>\n",
       "      <td>False</td>\n",
       "      <td>NaN</td>\n",
       "    </tr>\n",
       "    <tr>\n",
       "      <th>44075</th>\n",
       "      <td>2020-04-24 20:05:00</td>\n",
       "      <td>0</td>\n",
       "      <td>1</td>\n",
       "      <td>1 - 0</td>\n",
       "      <td>Aston City</td>\n",
       "      <td>The Cherries</td>\n",
       "      <td>False</td>\n",
       "      <td>NaN</td>\n",
       "    </tr>\n",
       "    <tr>\n",
       "      <th>44076</th>\n",
       "      <td>2020-04-24 20:08:00</td>\n",
       "      <td>0</td>\n",
       "      <td>0</td>\n",
       "      <td>0 - 0</td>\n",
       "      <td>Bergamo Rangers</td>\n",
       "      <td>Blucerchiati</td>\n",
       "      <td>False</td>\n",
       "      <td>NaN</td>\n",
       "    </tr>\n",
       "    <tr>\n",
       "      <th>44077</th>\n",
       "      <td>2020-04-24 20:11:00</td>\n",
       "      <td>0</td>\n",
       "      <td>1</td>\n",
       "      <td>1 - 0</td>\n",
       "      <td>Nerazzurri FC</td>\n",
       "      <td>Roma County</td>\n",
       "      <td>False</td>\n",
       "      <td>NaN</td>\n",
       "    </tr>\n",
       "    <tr>\n",
       "      <th>44078</th>\n",
       "      <td>2020-04-24 20:14:00</td>\n",
       "      <td>0</td>\n",
       "      <td>2</td>\n",
       "      <td>2 - 0</td>\n",
       "      <td>Madrid Lightning</td>\n",
       "      <td>Madrid Juniors</td>\n",
       "      <td>False</td>\n",
       "      <td>NaN</td>\n",
       "    </tr>\n",
       "    <tr>\n",
       "      <th>44079</th>\n",
       "      <td>2020-04-24 20:17:00</td>\n",
       "      <td>0</td>\n",
       "      <td>0</td>\n",
       "      <td>0 - 0</td>\n",
       "      <td>Napoli Blues</td>\n",
       "      <td>Giallorossi FC</td>\n",
       "      <td>False</td>\n",
       "      <td>NaN</td>\n",
       "    </tr>\n",
       "    <tr>\n",
       "      <th>44080</th>\n",
       "      <td>2020-04-24 20:20:00</td>\n",
       "      <td>0</td>\n",
       "      <td>3</td>\n",
       "      <td>3 - 0</td>\n",
       "      <td>Kazakh Stripes</td>\n",
       "      <td>Olympic Athens</td>\n",
       "      <td>True</td>\n",
       "      <td>7.0</td>\n",
       "    </tr>\n",
       "    <tr>\n",
       "      <th>44081</th>\n",
       "      <td>2020-04-24 20:23:00</td>\n",
       "      <td>0</td>\n",
       "      <td>1</td>\n",
       "      <td>1 - 0</td>\n",
       "      <td>Valencia Juniors</td>\n",
       "      <td>Sevilla Tower</td>\n",
       "      <td>False</td>\n",
       "      <td>NaN</td>\n",
       "    </tr>\n",
       "    <tr>\n",
       "      <th>44082</th>\n",
       "      <td>2020-04-24 20:26:00</td>\n",
       "      <td>0</td>\n",
       "      <td>0</td>\n",
       "      <td>0 - 0</td>\n",
       "      <td>St Petersburg</td>\n",
       "      <td>Islington Reds</td>\n",
       "      <td>False</td>\n",
       "      <td>NaN</td>\n",
       "    </tr>\n",
       "    <tr>\n",
       "      <th>44083</th>\n",
       "      <td>2020-04-24 20:29:00</td>\n",
       "      <td>1</td>\n",
       "      <td>0</td>\n",
       "      <td>0 - 1</td>\n",
       "      <td>Napoli Blues</td>\n",
       "      <td>Villanova Stripes</td>\n",
       "      <td>False</td>\n",
       "      <td>NaN</td>\n",
       "    </tr>\n",
       "    <tr>\n",
       "      <th>44084</th>\n",
       "      <td>2020-04-24 20:32:00</td>\n",
       "      <td>0</td>\n",
       "      <td>1</td>\n",
       "      <td>1 - 0</td>\n",
       "      <td>London Whites</td>\n",
       "      <td>Aston City</td>\n",
       "      <td>False</td>\n",
       "      <td>NaN</td>\n",
       "    </tr>\n",
       "    <tr>\n",
       "      <th>44085</th>\n",
       "      <td>2020-04-24 20:35:00</td>\n",
       "      <td>1</td>\n",
       "      <td>2</td>\n",
       "      <td>2 - 1</td>\n",
       "      <td>Norwich Canaries</td>\n",
       "      <td>Mersey Blues</td>\n",
       "      <td>True</td>\n",
       "      <td>4.0</td>\n",
       "    </tr>\n",
       "    <tr>\n",
       "      <th>44086</th>\n",
       "      <td>2020-04-24 20:38:00</td>\n",
       "      <td>0</td>\n",
       "      <td>1</td>\n",
       "      <td>1 - 0</td>\n",
       "      <td>Kazakh Stripes</td>\n",
       "      <td>Madrid Juniors</td>\n",
       "      <td>False</td>\n",
       "      <td>NaN</td>\n",
       "    </tr>\n",
       "    <tr>\n",
       "      <th>44087</th>\n",
       "      <td>2020-04-24 20:41:00</td>\n",
       "      <td>0</td>\n",
       "      <td>3</td>\n",
       "      <td>3 - 0</td>\n",
       "      <td>Zagreb</td>\n",
       "      <td>Valencia Juniors</td>\n",
       "      <td>True</td>\n",
       "      <td>1.0</td>\n",
       "    </tr>\n",
       "    <tr>\n",
       "      <th>44088</th>\n",
       "      <td>2020-04-24 20:44:00</td>\n",
       "      <td>0</td>\n",
       "      <td>2</td>\n",
       "      <td>2 - 0</td>\n",
       "      <td>Mersey Blues</td>\n",
       "      <td>Chelsea Pensioners</td>\n",
       "      <td>False</td>\n",
       "      <td>NaN</td>\n",
       "    </tr>\n",
       "    <tr>\n",
       "      <th>44089</th>\n",
       "      <td>2020-04-24 20:47:00</td>\n",
       "      <td>0</td>\n",
       "      <td>2</td>\n",
       "      <td>2 - 0</td>\n",
       "      <td>Bergamo Rangers</td>\n",
       "      <td>Nerazzurri FC</td>\n",
       "      <td>False</td>\n",
       "      <td>NaN</td>\n",
       "    </tr>\n",
       "    <tr>\n",
       "      <th>44090</th>\n",
       "      <td>2020-04-24 20:50:00</td>\n",
       "      <td>0</td>\n",
       "      <td>1</td>\n",
       "      <td>1 - 0</td>\n",
       "      <td>St Petersburg</td>\n",
       "      <td>Lisbon Reds</td>\n",
       "      <td>False</td>\n",
       "      <td>NaN</td>\n",
       "    </tr>\n",
       "    <tr>\n",
       "      <th>44091</th>\n",
       "      <td>2020-04-24 20:53:00</td>\n",
       "      <td>0</td>\n",
       "      <td>4</td>\n",
       "      <td>4 - 0</td>\n",
       "      <td>Aston City</td>\n",
       "      <td>Islington Reds</td>\n",
       "      <td>True</td>\n",
       "      <td>3.0</td>\n",
       "    </tr>\n",
       "    <tr>\n",
       "      <th>44092</th>\n",
       "      <td>2020-04-24 20:56:00</td>\n",
       "      <td>2</td>\n",
       "      <td>0</td>\n",
       "      <td>0 - 2</td>\n",
       "      <td>Munich</td>\n",
       "      <td>Olympic Athens</td>\n",
       "      <td>False</td>\n",
       "      <td>NaN</td>\n",
       "    </tr>\n",
       "    <tr>\n",
       "      <th>44093</th>\n",
       "      <td>2020-04-24 20:59:00</td>\n",
       "      <td>2</td>\n",
       "      <td>1</td>\n",
       "      <td>1 - 2</td>\n",
       "      <td>Empoli Farmers</td>\n",
       "      <td>Sassuolo Villa</td>\n",
       "      <td>True</td>\n",
       "      <td>1.0</td>\n",
       "    </tr>\n",
       "    <tr>\n",
       "      <th>44094</th>\n",
       "      <td>2020-04-24 21:02:00</td>\n",
       "      <td>2</td>\n",
       "      <td>0</td>\n",
       "      <td>0 - 2</td>\n",
       "      <td>Madrid Juniors</td>\n",
       "      <td>Malmo Sky Blues</td>\n",
       "      <td>False</td>\n",
       "      <td>NaN</td>\n",
       "    </tr>\n",
       "    <tr>\n",
       "      <th>44095</th>\n",
       "      <td>2020-04-24 21:05:00</td>\n",
       "      <td>2</td>\n",
       "      <td>0</td>\n",
       "      <td>0 - 2</td>\n",
       "      <td>Milan Reds</td>\n",
       "      <td>Verona Wanderers</td>\n",
       "      <td>False</td>\n",
       "      <td>NaN</td>\n",
       "    </tr>\n",
       "    <tr>\n",
       "      <th>44096</th>\n",
       "      <td>2020-04-24 21:08:00</td>\n",
       "      <td>0</td>\n",
       "      <td>0</td>\n",
       "      <td>0 - 0</td>\n",
       "      <td>Manchester Reds</td>\n",
       "      <td>Sunderland Cats</td>\n",
       "      <td>False</td>\n",
       "      <td>NaN</td>\n",
       "    </tr>\n",
       "    <tr>\n",
       "      <th>44097</th>\n",
       "      <td>2020-04-24 21:11:00</td>\n",
       "      <td>1</td>\n",
       "      <td>0</td>\n",
       "      <td>0 - 1</td>\n",
       "      <td>Manchester Reds</td>\n",
       "      <td>Barcelona Braves</td>\n",
       "      <td>False</td>\n",
       "      <td>NaN</td>\n",
       "    </tr>\n",
       "    <tr>\n",
       "      <th>44098</th>\n",
       "      <td>2020-04-24 21:14:00</td>\n",
       "      <td>3</td>\n",
       "      <td>1</td>\n",
       "      <td>1 - 3</td>\n",
       "      <td>Barcelona Braves</td>\n",
       "      <td>Belgium Buffalos</td>\n",
       "      <td>True</td>\n",
       "      <td>4.0</td>\n",
       "    </tr>\n",
       "    <tr>\n",
       "      <th>44099</th>\n",
       "      <td>2020-04-24 21:17:00</td>\n",
       "      <td>0</td>\n",
       "      <td>2</td>\n",
       "      <td>2 - 0</td>\n",
       "      <td>Verona City</td>\n",
       "      <td>Sassuolo Villa</td>\n",
       "      <td>False</td>\n",
       "      <td>NaN</td>\n",
       "    </tr>\n",
       "    <tr>\n",
       "      <th>44100</th>\n",
       "      <td>2020-04-24 21:20:00</td>\n",
       "      <td>0</td>\n",
       "      <td>1</td>\n",
       "      <td>1 - 0</td>\n",
       "      <td>Dynamo Whites</td>\n",
       "      <td>Madrid Juniors</td>\n",
       "      <td>False</td>\n",
       "      <td>NaN</td>\n",
       "    </tr>\n",
       "    <tr>\n",
       "      <th>44101</th>\n",
       "      <td>2020-04-24 21:23:00</td>\n",
       "      <td>2</td>\n",
       "      <td>0</td>\n",
       "      <td>0 - 2</td>\n",
       "      <td>Napoli Blues</td>\n",
       "      <td>Genova Griffins</td>\n",
       "      <td>False</td>\n",
       "      <td>NaN</td>\n",
       "    </tr>\n",
       "    <tr>\n",
       "      <th>44102</th>\n",
       "      <td>2020-04-24 21:26:00</td>\n",
       "      <td>0</td>\n",
       "      <td>0</td>\n",
       "      <td>0 - 0</td>\n",
       "      <td>Bergamo Rangers</td>\n",
       "      <td>Calcio Canaries</td>\n",
       "      <td>False</td>\n",
       "      <td>NaN</td>\n",
       "    </tr>\n",
       "    <tr>\n",
       "      <th>44103</th>\n",
       "      <td>2020-04-24 21:29:00</td>\n",
       "      <td>1</td>\n",
       "      <td>0</td>\n",
       "      <td>0 - 1</td>\n",
       "      <td>Napoli Blues</td>\n",
       "      <td>Blucerchiati</td>\n",
       "      <td>False</td>\n",
       "      <td>NaN</td>\n",
       "    </tr>\n",
       "    <tr>\n",
       "      <th>44104</th>\n",
       "      <td>2020-04-24 21:32:00</td>\n",
       "      <td>1</td>\n",
       "      <td>1</td>\n",
       "      <td>1 - 1</td>\n",
       "      <td>Milan Reds</td>\n",
       "      <td>Biancorossi</td>\n",
       "      <td>False</td>\n",
       "      <td>NaN</td>\n",
       "    </tr>\n",
       "    <tr>\n",
       "      <th>44105</th>\n",
       "      <td>2020-04-24 21:35:00</td>\n",
       "      <td>1</td>\n",
       "      <td>0</td>\n",
       "      <td>0 - 1</td>\n",
       "      <td>Blucerchiati</td>\n",
       "      <td>Villanova Stripes</td>\n",
       "      <td>False</td>\n",
       "      <td>NaN</td>\n",
       "    </tr>\n",
       "    <tr>\n",
       "      <th>44106</th>\n",
       "      <td>2020-04-24 21:38:00</td>\n",
       "      <td>2</td>\n",
       "      <td>1</td>\n",
       "      <td>1 - 2</td>\n",
       "      <td>WBA Baggies</td>\n",
       "      <td>South Saints</td>\n",
       "      <td>True</td>\n",
       "      <td>7.0</td>\n",
       "    </tr>\n",
       "    <tr>\n",
       "      <th>44107</th>\n",
       "      <td>2020-04-24 21:41:00</td>\n",
       "      <td>1</td>\n",
       "      <td>0</td>\n",
       "      <td>0 - 1</td>\n",
       "      <td>Lisbon Reds</td>\n",
       "      <td>Olympique Juniors</td>\n",
       "      <td>False</td>\n",
       "      <td>NaN</td>\n",
       "    </tr>\n",
       "    <tr>\n",
       "      <th>44108</th>\n",
       "      <td>2020-04-24 21:44:00</td>\n",
       "      <td>1</td>\n",
       "      <td>0</td>\n",
       "      <td>0 - 1</td>\n",
       "      <td>Olympique Juniors</td>\n",
       "      <td>Barcelona Braves</td>\n",
       "      <td>False</td>\n",
       "      <td>NaN</td>\n",
       "    </tr>\n",
       "    <tr>\n",
       "      <th>44109</th>\n",
       "      <td>2020-04-24 21:47:00</td>\n",
       "      <td>0</td>\n",
       "      <td>1</td>\n",
       "      <td>1 - 0</td>\n",
       "      <td>Olympic Athens</td>\n",
       "      <td>Donetsk Arrows</td>\n",
       "      <td>False</td>\n",
       "      <td>NaN</td>\n",
       "    </tr>\n",
       "    <tr>\n",
       "      <th>44110</th>\n",
       "      <td>2020-04-24 21:50:00</td>\n",
       "      <td>1</td>\n",
       "      <td>2</td>\n",
       "      <td>2 - 1</td>\n",
       "      <td>Norwich Canaries</td>\n",
       "      <td>South Saints</td>\n",
       "      <td>True</td>\n",
       "      <td>3.0</td>\n",
       "    </tr>\n",
       "    <tr>\n",
       "      <th>44111</th>\n",
       "      <td>2020-04-24 21:53:00</td>\n",
       "      <td>0</td>\n",
       "      <td>0</td>\n",
       "      <td>0 - 0</td>\n",
       "      <td>Milan Reds</td>\n",
       "      <td>Bergamo Rangers</td>\n",
       "      <td>False</td>\n",
       "      <td>NaN</td>\n",
       "    </tr>\n",
       "    <tr>\n",
       "      <th>44112</th>\n",
       "      <td>2020-04-24 21:56:00</td>\n",
       "      <td>2</td>\n",
       "      <td>2</td>\n",
       "      <td>2 - 2</td>\n",
       "      <td>Sunderland Cats</td>\n",
       "      <td>Leicester Utd</td>\n",
       "      <td>True</td>\n",
       "      <td>1.0</td>\n",
       "    </tr>\n",
       "    <tr>\n",
       "      <th>44113</th>\n",
       "      <td>2020-04-24 21:59:00</td>\n",
       "      <td>0</td>\n",
       "      <td>4</td>\n",
       "      <td>4 - 0</td>\n",
       "      <td>Madrid Juniors</td>\n",
       "      <td>Madrid Lightning</td>\n",
       "      <td>True</td>\n",
       "      <td>0.0</td>\n",
       "    </tr>\n",
       "    <tr>\n",
       "      <th>44114</th>\n",
       "      <td>2020-04-24 22:02:00</td>\n",
       "      <td>1</td>\n",
       "      <td>1</td>\n",
       "      <td>1 - 1</td>\n",
       "      <td>Manchester Reds</td>\n",
       "      <td>Manchester Blues</td>\n",
       "      <td>False</td>\n",
       "      <td>NaN</td>\n",
       "    </tr>\n",
       "    <tr>\n",
       "      <th>44115</th>\n",
       "      <td>2020-04-24 22:05:00</td>\n",
       "      <td>3</td>\n",
       "      <td>0</td>\n",
       "      <td>0 - 3</td>\n",
       "      <td>Swansea Jacks</td>\n",
       "      <td>London Whites</td>\n",
       "      <td>True</td>\n",
       "      <td>1.0</td>\n",
       "    </tr>\n",
       "    <tr>\n",
       "      <th>44116</th>\n",
       "      <td>2020-04-24 22:08:00</td>\n",
       "      <td>0</td>\n",
       "      <td>1</td>\n",
       "      <td>1 - 0</td>\n",
       "      <td>Zagreb</td>\n",
       "      <td>Saxon Wolves</td>\n",
       "      <td>False</td>\n",
       "      <td>NaN</td>\n",
       "    </tr>\n",
       "    <tr>\n",
       "      <th>44117</th>\n",
       "      <td>2020-04-24 22:11:00</td>\n",
       "      <td>1</td>\n",
       "      <td>1</td>\n",
       "      <td>1 - 1</td>\n",
       "      <td>Udine Utd</td>\n",
       "      <td>Verona City</td>\n",
       "      <td>False</td>\n",
       "      <td>NaN</td>\n",
       "    </tr>\n",
       "    <tr>\n",
       "      <th>44118</th>\n",
       "      <td>2020-04-24 22:14:00</td>\n",
       "      <td>1</td>\n",
       "      <td>2</td>\n",
       "      <td>2 - 1</td>\n",
       "      <td>Milan Reds</td>\n",
       "      <td>Giallorossi FC</td>\n",
       "      <td>True</td>\n",
       "      <td>2.0</td>\n",
       "    </tr>\n",
       "    <tr>\n",
       "      <th>44119</th>\n",
       "      <td>2020-04-24 22:17:00</td>\n",
       "      <td>0</td>\n",
       "      <td>4</td>\n",
       "      <td>4 - 0</td>\n",
       "      <td>Norwich Canaries</td>\n",
       "      <td>Watford Hornets</td>\n",
       "      <td>True</td>\n",
       "      <td>0.0</td>\n",
       "    </tr>\n",
       "    <tr>\n",
       "      <th>44120</th>\n",
       "      <td>2020-04-24 22:20:00</td>\n",
       "      <td>2</td>\n",
       "      <td>1</td>\n",
       "      <td>1 - 2</td>\n",
       "      <td>Stoke Utd</td>\n",
       "      <td>Norwich Canaries</td>\n",
       "      <td>True</td>\n",
       "      <td>0.0</td>\n",
       "    </tr>\n",
       "    <tr>\n",
       "      <th>44121</th>\n",
       "      <td>2020-04-24 22:23:00</td>\n",
       "      <td>3</td>\n",
       "      <td>1</td>\n",
       "      <td>1 - 3</td>\n",
       "      <td>Nerazzurri FC</td>\n",
       "      <td>Empoli Farmers</td>\n",
       "      <td>True</td>\n",
       "      <td>0.0</td>\n",
       "    </tr>\n",
       "    <tr>\n",
       "      <th>44122</th>\n",
       "      <td>2020-04-24 22:26:00</td>\n",
       "      <td>0</td>\n",
       "      <td>2</td>\n",
       "      <td>2 - 0</td>\n",
       "      <td>Palace Eagles</td>\n",
       "      <td>Chelsea Pensioners</td>\n",
       "      <td>False</td>\n",
       "      <td>NaN</td>\n",
       "    </tr>\n",
       "    <tr>\n",
       "      <th>44123</th>\n",
       "      <td>2020-04-24 22:29:00</td>\n",
       "      <td>0</td>\n",
       "      <td>3</td>\n",
       "      <td>3 - 0</td>\n",
       "      <td>Villanova Stripes</td>\n",
       "      <td>Bergamo Rangers</td>\n",
       "      <td>True</td>\n",
       "      <td>1.0</td>\n",
       "    </tr>\n",
       "    <tr>\n",
       "      <th>44124</th>\n",
       "      <td>2020-04-24 22:32:00</td>\n",
       "      <td>2</td>\n",
       "      <td>1</td>\n",
       "      <td>1 - 2</td>\n",
       "      <td>Liverpool Stars</td>\n",
       "      <td>Swansea Jacks</td>\n",
       "      <td>True</td>\n",
       "      <td>0.0</td>\n",
       "    </tr>\n",
       "    <tr>\n",
       "      <th>44125</th>\n",
       "      <td>2020-04-24 22:35:00</td>\n",
       "      <td>0</td>\n",
       "      <td>0</td>\n",
       "      <td>0 - 0</td>\n",
       "      <td>Biancorossi</td>\n",
       "      <td>Nerazzurri FC</td>\n",
       "      <td>False</td>\n",
       "      <td>NaN</td>\n",
       "    </tr>\n",
       "    <tr>\n",
       "      <th>44126</th>\n",
       "      <td>2020-04-24 22:38:00</td>\n",
       "      <td>2</td>\n",
       "      <td>1</td>\n",
       "      <td>1 - 2</td>\n",
       "      <td>Borussia Foals</td>\n",
       "      <td>Lisbon Reds</td>\n",
       "      <td>True</td>\n",
       "      <td>1.0</td>\n",
       "    </tr>\n",
       "    <tr>\n",
       "      <th>44127</th>\n",
       "      <td>2020-04-24 22:41:00</td>\n",
       "      <td>0</td>\n",
       "      <td>0</td>\n",
       "      <td>0 - 0</td>\n",
       "      <td>Sassuolo Villa</td>\n",
       "      <td>Genova Griffins</td>\n",
       "      <td>False</td>\n",
       "      <td>NaN</td>\n",
       "    </tr>\n",
       "    <tr>\n",
       "      <th>44128</th>\n",
       "      <td>2020-04-24 22:44:00</td>\n",
       "      <td>0</td>\n",
       "      <td>1</td>\n",
       "      <td>1 - 0</td>\n",
       "      <td>Maccabi Stars</td>\n",
       "      <td>Lisbon Reds</td>\n",
       "      <td>False</td>\n",
       "      <td>NaN</td>\n",
       "    </tr>\n",
       "    <tr>\n",
       "      <th>44129</th>\n",
       "      <td>2020-04-24 22:47:00</td>\n",
       "      <td>1</td>\n",
       "      <td>1</td>\n",
       "      <td>1 - 1</td>\n",
       "      <td>Leverkusen</td>\n",
       "      <td>Olympic Athens</td>\n",
       "      <td>False</td>\n",
       "      <td>NaN</td>\n",
       "    </tr>\n",
       "    <tr>\n",
       "      <th>44130</th>\n",
       "      <td>2020-04-24 22:50:00</td>\n",
       "      <td>0</td>\n",
       "      <td>0</td>\n",
       "      <td>0 - 0</td>\n",
       "      <td>Leverkusen</td>\n",
       "      <td>Turin</td>\n",
       "      <td>False</td>\n",
       "      <td>NaN</td>\n",
       "    </tr>\n",
       "    <tr>\n",
       "      <th>44131</th>\n",
       "      <td>2020-04-24 22:53:00</td>\n",
       "      <td>1</td>\n",
       "      <td>2</td>\n",
       "      <td>2 - 1</td>\n",
       "      <td>Galataistanbul</td>\n",
       "      <td>Valencia Juniors</td>\n",
       "      <td>True</td>\n",
       "      <td>4.0</td>\n",
       "    </tr>\n",
       "    <tr>\n",
       "      <th>44132</th>\n",
       "      <td>2020-04-24 22:56:00</td>\n",
       "      <td>0</td>\n",
       "      <td>2</td>\n",
       "      <td>2 - 0</td>\n",
       "      <td>Villanova Stripes</td>\n",
       "      <td>Verona Wanderers</td>\n",
       "      <td>False</td>\n",
       "      <td>NaN</td>\n",
       "    </tr>\n",
       "    <tr>\n",
       "      <th>44133</th>\n",
       "      <td>2020-04-24 22:59:00</td>\n",
       "      <td>1</td>\n",
       "      <td>0</td>\n",
       "      <td>0 - 1</td>\n",
       "      <td>Calcio Canaries</td>\n",
       "      <td>Turin</td>\n",
       "      <td>False</td>\n",
       "      <td>NaN</td>\n",
       "    </tr>\n",
       "    <tr>\n",
       "      <th>44134</th>\n",
       "      <td>2020-04-24 23:02:00</td>\n",
       "      <td>1</td>\n",
       "      <td>1</td>\n",
       "      <td>1 - 1</td>\n",
       "      <td>Watford Hornets</td>\n",
       "      <td>London Whites</td>\n",
       "      <td>False</td>\n",
       "      <td>NaN</td>\n",
       "    </tr>\n",
       "    <tr>\n",
       "      <th>44135</th>\n",
       "      <td>2020-04-24 23:05:00</td>\n",
       "      <td>1</td>\n",
       "      <td>1</td>\n",
       "      <td>1 - 1</td>\n",
       "      <td>Sevilla Tower</td>\n",
       "      <td>Saxon Wolves</td>\n",
       "      <td>False</td>\n",
       "      <td>NaN</td>\n",
       "    </tr>\n",
       "    <tr>\n",
       "      <th>44136</th>\n",
       "      <td>2020-04-24 23:08:00</td>\n",
       "      <td>0</td>\n",
       "      <td>4</td>\n",
       "      <td>4 - 0</td>\n",
       "      <td>Donetsk Arrows</td>\n",
       "      <td>Olympic Athens</td>\n",
       "      <td>True</td>\n",
       "      <td>4.0</td>\n",
       "    </tr>\n",
       "    <tr>\n",
       "      <th>44137</th>\n",
       "      <td>2020-04-24 23:11:00</td>\n",
       "      <td>1</td>\n",
       "      <td>3</td>\n",
       "      <td>3 - 1</td>\n",
       "      <td>Zagreb</td>\n",
       "      <td>Olympic Athens</td>\n",
       "      <td>True</td>\n",
       "      <td>0.0</td>\n",
       "    </tr>\n",
       "    <tr>\n",
       "      <th>44138</th>\n",
       "      <td>2020-04-24 23:26:00</td>\n",
       "      <td>0</td>\n",
       "      <td>0</td>\n",
       "      <td>0 - 0</td>\n",
       "      <td>Udine Utd</td>\n",
       "      <td>Torino Bulls</td>\n",
       "      <td>False</td>\n",
       "      <td>NaN</td>\n",
       "    </tr>\n",
       "    <tr>\n",
       "      <th>44139</th>\n",
       "      <td>2020-04-24 23:29:00</td>\n",
       "      <td>1</td>\n",
       "      <td>1</td>\n",
       "      <td>1 - 1</td>\n",
       "      <td>London Whites</td>\n",
       "      <td>Chelsea Pensioners</td>\n",
       "      <td>False</td>\n",
       "      <td>NaN</td>\n",
       "    </tr>\n",
       "    <tr>\n",
       "      <th>44140</th>\n",
       "      <td>2020-04-24 23:32:00</td>\n",
       "      <td>1</td>\n",
       "      <td>0</td>\n",
       "      <td>0 - 1</td>\n",
       "      <td>PSV Peasants</td>\n",
       "      <td>Donetsk Arrows</td>\n",
       "      <td>False</td>\n",
       "      <td>NaN</td>\n",
       "    </tr>\n",
       "    <tr>\n",
       "      <th>44141</th>\n",
       "      <td>2020-04-24 23:35:00</td>\n",
       "      <td>1</td>\n",
       "      <td>2</td>\n",
       "      <td>2 - 1</td>\n",
       "      <td>Chelsea Pensioners</td>\n",
       "      <td>WBA Baggies</td>\n",
       "      <td>True</td>\n",
       "      <td>3.0</td>\n",
       "    </tr>\n",
       "    <tr>\n",
       "      <th>44142</th>\n",
       "      <td>2020-04-24 23:38:00</td>\n",
       "      <td>0</td>\n",
       "      <td>0</td>\n",
       "      <td>0 - 0</td>\n",
       "      <td>Stoke Utd</td>\n",
       "      <td>Leicester Utd</td>\n",
       "      <td>False</td>\n",
       "      <td>NaN</td>\n",
       "    </tr>\n",
       "    <tr>\n",
       "      <th>44143</th>\n",
       "      <td>2020-04-24 23:41:00</td>\n",
       "      <td>0</td>\n",
       "      <td>1</td>\n",
       "      <td>1 - 0</td>\n",
       "      <td>Porto Flames</td>\n",
       "      <td>Sevilla Tower</td>\n",
       "      <td>False</td>\n",
       "      <td>NaN</td>\n",
       "    </tr>\n",
       "    <tr>\n",
       "      <th>44144</th>\n",
       "      <td>2020-04-24 23:44:00</td>\n",
       "      <td>0</td>\n",
       "      <td>1</td>\n",
       "      <td>1 - 0</td>\n",
       "      <td>Sevilla Tower</td>\n",
       "      <td>Zagreb</td>\n",
       "      <td>False</td>\n",
       "      <td>NaN</td>\n",
       "    </tr>\n",
       "    <tr>\n",
       "      <th>44145</th>\n",
       "      <td>2020-04-24 23:47:00</td>\n",
       "      <td>1</td>\n",
       "      <td>1</td>\n",
       "      <td>1 - 1</td>\n",
       "      <td>Manchester Blues</td>\n",
       "      <td>South Saints</td>\n",
       "      <td>False</td>\n",
       "      <td>NaN</td>\n",
       "    </tr>\n",
       "    <tr>\n",
       "      <th>44146</th>\n",
       "      <td>2020-04-24 23:50:00</td>\n",
       "      <td>0</td>\n",
       "      <td>0</td>\n",
       "      <td>0 - 0</td>\n",
       "      <td>Stoke Utd</td>\n",
       "      <td>Aston City</td>\n",
       "      <td>False</td>\n",
       "      <td>NaN</td>\n",
       "    </tr>\n",
       "    <tr>\n",
       "      <th>44147</th>\n",
       "      <td>2020-04-24 23:53:00</td>\n",
       "      <td>1</td>\n",
       "      <td>1</td>\n",
       "      <td>1 - 1</td>\n",
       "      <td>Genova Griffins</td>\n",
       "      <td>Biancorossi</td>\n",
       "      <td>False</td>\n",
       "      <td>NaN</td>\n",
       "    </tr>\n",
       "    <tr>\n",
       "      <th>44148</th>\n",
       "      <td>2020-04-24 23:56:00</td>\n",
       "      <td>0</td>\n",
       "      <td>1</td>\n",
       "      <td>1 - 0</td>\n",
       "      <td>Liverpool Stars</td>\n",
       "      <td>The Cherries</td>\n",
       "      <td>False</td>\n",
       "      <td>NaN</td>\n",
       "    </tr>\n",
       "    <tr>\n",
       "      <th>44149</th>\n",
       "      <td>2020-04-24 23:59:00</td>\n",
       "      <td>0</td>\n",
       "      <td>0</td>\n",
       "      <td>0 - 0</td>\n",
       "      <td>South Saints</td>\n",
       "      <td>Palace Eagles</td>\n",
       "      <td>False</td>\n",
       "      <td>NaN</td>\n",
       "    </tr>\n",
       "  </tbody>\n",
       "</table>\n",
       "</div>"
      ],
      "text/plain": [
       "                  datetime  goal_back  goal_home                      score  \\\n",
       "43850  2020-04-24 08:47:00          0          0                      0 - 0   \n",
       "43851  2020-04-24 08:50:00          3          0                      0 - 3   \n",
       "43852  2020-04-24 08:53:00          0          0                      0 - 0   \n",
       "43853  2020-04-24 08:56:00          2          1                      1 - 2   \n",
       "43854  2020-04-24 08:59:00          0          0                      0 - 0   \n",
       "43855  2020-04-24 09:02:00          2          2                      2 - 2   \n",
       "43856  2020-04-24 09:05:00          0          2                      2 - 0   \n",
       "43857  2020-04-24 09:08:00          0          1                      1 - 0   \n",
       "43858  2020-04-24 09:11:00          0          1                      1 - 0   \n",
       "43859  2020-04-24 09:14:00          0          2                      2 - 0   \n",
       "43860  2020-04-24 09:17:00          2          1                      1 - 2   \n",
       "43861  2020-04-24 09:20:00          1          2                      2 - 1   \n",
       "43862  2020-04-24 09:23:00          2          0                      0 - 2   \n",
       "43863  2020-04-24 09:26:00          0          2                      2 - 0   \n",
       "43864  2020-04-24 09:29:00          1          2                      2 - 1   \n",
       "43865  2020-04-24 09:32:00          1          0                      0 - 1   \n",
       "43866  2020-04-24 09:35:00          0          2                      2 - 0   \n",
       "43867  2020-04-24 09:38:00          1          3                      3 - 1   \n",
       "43868  2020-04-24 09:41:00          1          2                      2 - 1   \n",
       "43869  2020-04-24 09:44:00          1          1                      1 - 1   \n",
       "43870  2020-04-24 09:47:00          2          1                      1 - 2   \n",
       "43871  2020-04-24 09:50:00          0          4                      4 - 0   \n",
       "43872  2020-04-24 09:53:00          0          0                      0 - 0   \n",
       "43873  2020-04-24 09:56:00          2          0                      0 - 2   \n",
       "43874  2020-04-24 09:59:00          0          3                      3 - 0   \n",
       "43875  2020-04-24 10:02:00          0          1                      1 - 0   \n",
       "43876  2020-04-24 10:05:00          0          1                      1 - 0   \n",
       "43877  2020-04-24 10:08:00          0          3                      3 - 0   \n",
       "43878  2020-04-24 10:11:00          0          2                      2 - 0   \n",
       "43879  2020-04-24 10:14:00          2          0                      0 - 2   \n",
       "43880  2020-04-24 10:17:00          2          1                      1 - 2   \n",
       "43881  2020-04-24 10:20:00          1          2                      2 - 1   \n",
       "43882  2020-04-24 10:23:00          0          3                      3 - 0   \n",
       "43883  2020-04-24 10:26:00          1          3                      3 - 1   \n",
       "43884  2020-04-24 10:29:00          0          1                      1 - 0   \n",
       "43885  2020-04-24 10:32:00          0          1                      1 - 0   \n",
       "43886  2020-04-24 10:35:00          1          1                      1 - 1   \n",
       "43887  2020-04-24 10:38:00          1          2                      2 - 1   \n",
       "43888  2020-04-24 10:41:00          0          2                      2 - 0   \n",
       "43889  2020-04-24 10:44:00          1          2                      2 - 1   \n",
       "43890  2020-04-24 10:47:00          0          0                      0 - 0   \n",
       "43891  2020-04-24 10:50:00          1          3                      3 - 1   \n",
       "43892  2020-04-24 10:53:00          1          1                      1 - 1   \n",
       "43893  2020-04-24 10:56:00          1          0                      0 - 1   \n",
       "43894  2020-04-24 10:59:00          2          2                      2 - 2   \n",
       "43895  2020-04-24 11:02:00          1          3                      3 - 1   \n",
       "43896  2020-04-24 11:05:00          0          0                      0 - 0   \n",
       "43897  2020-04-24 11:08:00          1          1                      1 - 1   \n",
       "43898  2020-04-24 11:11:00          0          1                      1 - 0   \n",
       "43899  2020-04-24 11:14:00          0          1                      1 - 0   \n",
       "43900  2020-04-24 11:17:00          1          2                      2 - 1   \n",
       "43901  2020-04-24 11:20:00          0          3                      3 - 0   \n",
       "43902  2020-04-24 11:23:00          1          0                      0 - 1   \n",
       "43903  2020-04-24 11:26:00          0          2                      2 - 0   \n",
       "43904  2020-04-24 11:29:00          2          1                      1 - 2   \n",
       "43905  2020-04-24 11:32:00          1          1                      1 - 1   \n",
       "43906  2020-04-24 11:35:00          1          3                      3 - 1   \n",
       "43907  2020-04-24 11:38:00          1          2                      2 - 1   \n",
       "43908  2020-04-24 11:41:00          0          3                      3 - 0   \n",
       "43909  2020-04-24 11:44:00          0          3                      3 - 0   \n",
       "43910  2020-04-24 11:47:00          0          0                      0 - 0   \n",
       "43911  2020-04-24 11:50:00          1          3                      3 - 1   \n",
       "43912  2020-04-24 11:53:00          1          2                      2 - 1   \n",
       "43913  2020-04-24 11:56:00          0          0                      0 - 0   \n",
       "43914  2020-04-24 11:59:00          1          0                      0 - 1   \n",
       "43915  2020-04-24 12:02:00          0          1                      1 - 0   \n",
       "43916  2020-04-24 12:05:00          1          2                      2 - 1   \n",
       "43917  2020-04-24 12:08:00          1          1                      1 - 1   \n",
       "43918  2020-04-24 12:11:00          0          2                      2 - 0   \n",
       "43919  2020-04-24 12:14:00          0          1                      1 - 0   \n",
       "43920  2020-04-24 12:17:00          0          1                      1 - 0   \n",
       "43921  2020-04-24 12:20:00          1          1                      1 - 1   \n",
       "43922  2020-04-24 12:23:00          0          1                      1 - 0   \n",
       "43923  2020-04-24 12:26:00          1          3                      3 - 1   \n",
       "43924  2020-04-24 12:29:00          0          1                      1 - 0   \n",
       "43925  2020-04-24 12:32:00          0          2                      2 - 0   \n",
       "43926  2020-04-24 12:35:00          0          0                      0 - 0   \n",
       "43927  2020-04-24 12:38:00          1          0                      0 - 1   \n",
       "43928  2020-04-24 12:41:00          1          3                      3 - 1   \n",
       "43929  2020-04-24 12:44:00          2          2                      2 - 2   \n",
       "43930  2020-04-24 12:47:00          0          0                      0 - 0   \n",
       "43931  2020-04-24 12:50:00          1          0                      0 - 1   \n",
       "43932  2020-04-24 12:53:00          2          1                      1 - 2   \n",
       "43933  2020-04-24 12:56:00          2          1                      1 - 2   \n",
       "43934  2020-04-24 12:59:00          2          0                      0 - 2   \n",
       "43935  2020-04-24 13:02:00          0          0                      0 - 0   \n",
       "43936  2020-04-24 13:05:00          2          1                      1 - 2   \n",
       "43937  2020-04-24 13:08:00          0          1                      1 - 0   \n",
       "43938  2020-04-24 13:11:00          0          1                      1 - 0   \n",
       "43939  2020-04-24 13:14:00          1          0                      0 - 1   \n",
       "43940  2020-04-24 13:17:00          2          2                      2 - 2   \n",
       "43941  2020-04-24 13:20:00          0          1                      1 - 0   \n",
       "43942  2020-04-24 13:23:00          2          1                      1 - 2   \n",
       "43943  2020-04-24 13:26:00          1          1                      1 - 1   \n",
       "43944  2020-04-24 13:29:00          0          1                      1 - 0   \n",
       "43945  2020-04-24 13:32:00          1          3                      3 - 1   \n",
       "43946  2020-04-24 13:35:00          0          1                      1 - 0   \n",
       "43947  2020-04-24 13:38:00          1          3                      3 - 1   \n",
       "43948  2020-04-24 13:41:00          2          1                      1 - 2   \n",
       "43949  2020-04-24 13:44:00          0          3                      3 - 0   \n",
       "43950  2020-04-24 13:47:00          1          1                      1 - 1   \n",
       "43951  2020-04-24 13:50:00          0          1                      1 - 0   \n",
       "43952  2020-04-24 13:53:00          1          0                      0 - 1   \n",
       "43953  2020-04-24 13:56:00          0          2                      2 - 0   \n",
       "43954  2020-04-24 13:59:00          1          0                      0 - 1   \n",
       "43955  2020-04-24 14:02:00          1          1                      1 - 1   \n",
       "43956  2020-04-24 14:05:00          1          1                      1 - 1   \n",
       "43957  2020-04-24 14:08:00          1          3                      3 - 1   \n",
       "43958  2020-04-24 14:11:00          1          2                      2 - 1   \n",
       "43959  2020-04-24 14:14:00          1          0                      0 - 1   \n",
       "43960  2020-04-24 14:17:00          0          1                      1 - 0   \n",
       "43961  2020-04-24 14:20:00          0          4                      4 - 0   \n",
       "43962  2020-04-24 14:23:00          1          1                      1 - 1   \n",
       "43963  2020-04-24 14:26:00          1          3                      3 - 1   \n",
       "43964  2020-04-24 14:29:00          2          2                      2 - 2   \n",
       "43965  2020-04-24 14:32:00          0          2                      2 - 0   \n",
       "43966  2020-04-24 14:35:00          2          1                      1 - 2   \n",
       "43967  2020-04-24 14:38:00          0          2                      2 - 0   \n",
       "43968  2020-04-24 14:41:00          1          2                      2 - 1   \n",
       "43969  2020-04-24 14:44:00          3          1                      1 - 3   \n",
       "43970  2020-04-24 14:47:00          0          1                      1 - 0   \n",
       "43971  2020-04-24 14:50:00          1          0                      0 - 1   \n",
       "43972  2020-04-24 14:53:00          2          1                      1 - 2   \n",
       "43973  2020-04-24 14:56:00          1          1                      1 - 1   \n",
       "43974  2020-04-24 14:59:00          0          1                      1 - 0   \n",
       "43975  2020-04-24 15:02:00          0          2                      2 - 0   \n",
       "43976  2020-04-24 15:05:00          0          3                      3 - 0   \n",
       "43977  2020-04-24 15:08:00          1          1                      1 - 1   \n",
       "43978  2020-04-24 15:11:00          1          2                      2 - 1   \n",
       "43979  2020-04-24 15:14:00          2          1                      1 - 2   \n",
       "43980  2020-04-24 15:17:00          1          1                      1 - 1   \n",
       "43981  2020-04-24 15:20:00          2          2                      2 - 2   \n",
       "43982  2020-04-24 15:23:00          1          2                      2 - 1   \n",
       "43983  2020-04-24 15:26:00          2          0                      0 - 2   \n",
       "43984  2020-04-24 15:29:00          1          2                      2 - 1   \n",
       "43985  2020-04-24 15:32:00          2          0                      0 - 2   \n",
       "43986  2020-04-24 15:35:00          2          2                      2 - 2   \n",
       "43987  2020-04-24 15:38:00          1          1                      1 - 1   \n",
       "43988  2020-04-24 15:41:00          2          1                      1 - 2   \n",
       "43989  2020-04-24 15:44:00          2          1                      1 - 2   \n",
       "43990  2020-04-24 15:47:00          0          1                      1 - 0   \n",
       "43991  2020-04-24 15:50:00          0          1                      1 - 0   \n",
       "43992  2020-04-24 15:53:00          1          1                      1 - 1   \n",
       "43993  2020-04-24 15:56:00          1          1                      1 - 1   \n",
       "43994  2020-04-24 15:59:00          0          0                      0 - 0   \n",
       "43995  2020-04-24 16:02:00          1          0                      0 - 1   \n",
       "43996  2020-04-24 16:05:00          0          1                      1 - 0   \n",
       "43997  2020-04-24 16:08:00          1          3                      3 - 1   \n",
       "43998  2020-04-24 16:11:00          1          1                      1 - 1   \n",
       "43999  2020-04-24 16:14:00          1          0                      0 - 1   \n",
       "44000  2020-04-24 16:17:00          0          2                      2 - 0   \n",
       "44001  2020-04-24 16:20:00          1          0                      0 - 1   \n",
       "44002  2020-04-24 16:23:00          0          1                      1 - 0   \n",
       "44003  2020-04-24 16:26:00          2          0                      0 - 2   \n",
       "44004  2020-04-24 16:29:00          1          1                      1 - 1   \n",
       "44005  2020-04-24 16:32:00          0          1                      1 - 0   \n",
       "44006  2020-04-24 16:35:00          0          3                      3 - 0   \n",
       "44007  2020-04-24 16:38:00          1          1                      1 - 1   \n",
       "44008  2020-04-24 16:41:00          0          3                      3 - 0   \n",
       "44009  2020-04-24 16:44:00          4          0                      0 - 4   \n",
       "44010  2020-04-24 16:47:00          2          1                      1 - 2   \n",
       "44011  2020-04-24 16:50:00          0          4                      4 - 0   \n",
       "44012  2020-04-24 16:53:00          1          2                      2 - 1   \n",
       "44013  2020-04-24 16:56:00          1          1                      1 - 1   \n",
       "44014  2020-04-24 16:59:00          2          0                      0 - 2   \n",
       "44015  2020-04-24 17:02:00          1          1                      1 - 1   \n",
       "44016  2020-04-24 17:05:00          0          0                      0 - 0   \n",
       "44017  2020-04-24 17:08:00          0          1                      1 - 0   \n",
       "44018  2020-04-24 17:11:00          0          2                      2 - 0   \n",
       "44019  2020-04-24 17:14:00          1          3                      3 - 1   \n",
       "44020  2020-04-24 17:17:00          1          2                      2 - 1   \n",
       "44021  2020-04-24 17:20:00          1          1                      1 - 1   \n",
       "44022  2020-04-24 17:23:00          1          0                      0 - 1   \n",
       "44023  2020-04-24 17:26:00          0          2                      2 - 0   \n",
       "44024  2020-04-24 17:29:00          1          3                      3 - 1   \n",
       "44025  2020-04-24 17:32:00          1          0                      0 - 1   \n",
       "44026  2020-04-24 17:35:00          2          1                      1 - 2   \n",
       "44027  2020-04-24 17:38:00          0          0                      0 - 0   \n",
       "44028  2020-04-24 17:41:00          0          0                      0 - 0   \n",
       "44029  2020-04-24 17:44:00          0          2                      2 - 0   \n",
       "44030  2020-04-24 17:47:00          2          0                      0 - 2   \n",
       "44031  2020-04-24 17:50:00          2          0                      0 - 2   \n",
       "44032  2020-04-24 17:53:00          1          3                      3 - 1   \n",
       "44033  2020-04-24 17:56:00          0          1                      1 - 0   \n",
       "44034  2020-04-24 18:02:00          1          2                      2 - 1   \n",
       "44035  2020-04-24 18:05:00          3          0                      0 - 3   \n",
       "44036  2020-04-24 18:08:00          0          0                      0 - 0   \n",
       "44037  2020-04-24 18:11:00          0          2                      2 - 0   \n",
       "44038  2020-04-24 18:14:00          0          2                      2 - 0   \n",
       "44039  2020-04-24 18:17:00          1          1                      1 - 1   \n",
       "44040  2020-04-24 18:20:00          1          1                      1 - 1   \n",
       "44041  2020-04-24 18:23:00          2          2                      2 - 2   \n",
       "44042  2020-04-24 18:26:00          0          0                      0 - 0   \n",
       "44043  2020-04-24 18:29:00          0          4                      4 - 0   \n",
       "44044  2020-04-24 18:32:00          0          4                      4 - 0   \n",
       "44045  2020-04-24 18:35:00          1          1                      1 - 1   \n",
       "44046  2020-04-24 18:38:00          1          1                      1 - 1   \n",
       "44047  2020-04-24 18:41:00          3          1                      1 - 3   \n",
       "44048  2020-04-24 18:44:00          0          2                      2 - 0   \n",
       "44049  2020-04-24 18:47:00          2          1                      1 - 2   \n",
       "44050  2020-04-24 18:50:00          0          2                      2 - 0   \n",
       "44051  2020-04-24 18:53:00          0          1                      1 - 0   \n",
       "44052  2020-04-24 18:56:00          0          0                      0 - 0   \n",
       "44053  2020-04-24 18:59:00          0          2                      2 - 0   \n",
       "44054  2020-04-24 19:02:00          0          0                      0 - 0   \n",
       "44055  2020-04-24 19:05:00          1          1                      1 - 1   \n",
       "44056  2020-04-24 19:08:00          0          0                      0 - 0   \n",
       "44057  2020-04-24 19:11:00          2          0                      0 - 2   \n",
       "44058  2020-04-24 19:14:00          0          0                      0 - 0   \n",
       "44059  2020-04-24 19:17:00          3          1                      1 - 3   \n",
       "44060  2020-04-24 19:20:00          0          3                      3 - 0   \n",
       "44061  2020-04-24 19:23:00          1          1                      1 - 1   \n",
       "44062  2020-04-24 19:26:00          0          4                      4 - 0   \n",
       "44063  2020-04-24 19:29:00          0          0                      0 - 0   \n",
       "44064  2020-04-24 19:32:00          3          1                      1 - 3   \n",
       "44065  2020-04-24 19:35:00          0          1                      1 - 0   \n",
       "44066  2020-04-24 19:38:00          0          0                      0 - 0   \n",
       "44067  2020-04-24 19:41:00          2          0                      0 - 2   \n",
       "44068  2020-04-24 19:44:00          2          2                      2 - 2   \n",
       "44069  2020-04-24 19:47:00          1          0                      0 - 1   \n",
       "44070  2020-04-24 19:50:00          0          3                      3 - 0   \n",
       "44071  2020-04-24 19:53:00          0          0                      0 - 0   \n",
       "44072  2020-04-24 19:56:00          0          3                      3 - 0   \n",
       "44073  2020-04-24 19:59:00          1          0                      0 - 1   \n",
       "44074  2020-04-24 20:02:00          0          1                      1 - 0   \n",
       "44075  2020-04-24 20:05:00          0          1                      1 - 0   \n",
       "44076  2020-04-24 20:08:00          0          0                      0 - 0   \n",
       "44077  2020-04-24 20:11:00          0          1                      1 - 0   \n",
       "44078  2020-04-24 20:14:00          0          2                      2 - 0   \n",
       "44079  2020-04-24 20:17:00          0          0                      0 - 0   \n",
       "44080  2020-04-24 20:20:00          0          3                      3 - 0   \n",
       "44081  2020-04-24 20:23:00          0          1                      1 - 0   \n",
       "44082  2020-04-24 20:26:00          0          0                      0 - 0   \n",
       "44083  2020-04-24 20:29:00          1          0                      0 - 1   \n",
       "44084  2020-04-24 20:32:00          0          1                      1 - 0   \n",
       "44085  2020-04-24 20:35:00          1          2                      2 - 1   \n",
       "44086  2020-04-24 20:38:00          0          1                      1 - 0   \n",
       "44087  2020-04-24 20:41:00          0          3                      3 - 0   \n",
       "44088  2020-04-24 20:44:00          0          2                      2 - 0   \n",
       "44089  2020-04-24 20:47:00          0          2                      2 - 0   \n",
       "44090  2020-04-24 20:50:00          0          1                      1 - 0   \n",
       "44091  2020-04-24 20:53:00          0          4                      4 - 0   \n",
       "44092  2020-04-24 20:56:00          2          0                      0 - 2   \n",
       "44093  2020-04-24 20:59:00          2          1                      1 - 2   \n",
       "44094  2020-04-24 21:02:00          2          0                      0 - 2   \n",
       "44095  2020-04-24 21:05:00          2          0                      0 - 2   \n",
       "44096  2020-04-24 21:08:00          0          0                      0 - 0   \n",
       "44097  2020-04-24 21:11:00          1          0                      0 - 1   \n",
       "44098  2020-04-24 21:14:00          3          1                      1 - 3   \n",
       "44099  2020-04-24 21:17:00          0          2                      2 - 0   \n",
       "44100  2020-04-24 21:20:00          0          1                      1 - 0   \n",
       "44101  2020-04-24 21:23:00          2          0                      0 - 2   \n",
       "44102  2020-04-24 21:26:00          0          0                      0 - 0   \n",
       "44103  2020-04-24 21:29:00          1          0                      0 - 1   \n",
       "44104  2020-04-24 21:32:00          1          1                      1 - 1   \n",
       "44105  2020-04-24 21:35:00          1          0                      0 - 1   \n",
       "44106  2020-04-24 21:38:00          2          1                      1 - 2   \n",
       "44107  2020-04-24 21:41:00          1          0                      0 - 1   \n",
       "44108  2020-04-24 21:44:00          1          0                      0 - 1   \n",
       "44109  2020-04-24 21:47:00          0          1                      1 - 0   \n",
       "44110  2020-04-24 21:50:00          1          2                      2 - 1   \n",
       "44111  2020-04-24 21:53:00          0          0                      0 - 0   \n",
       "44112  2020-04-24 21:56:00          2          2                      2 - 2   \n",
       "44113  2020-04-24 21:59:00          0          4                      4 - 0   \n",
       "44114  2020-04-24 22:02:00          1          1                      1 - 1   \n",
       "44115  2020-04-24 22:05:00          3          0                      0 - 3   \n",
       "44116  2020-04-24 22:08:00          0          1                      1 - 0   \n",
       "44117  2020-04-24 22:11:00          1          1                      1 - 1   \n",
       "44118  2020-04-24 22:14:00          1          2                      2 - 1   \n",
       "44119  2020-04-24 22:17:00          0          4                      4 - 0   \n",
       "44120  2020-04-24 22:20:00          2          1                      1 - 2   \n",
       "44121  2020-04-24 22:23:00          3          1                      1 - 3   \n",
       "44122  2020-04-24 22:26:00          0          2                      2 - 0   \n",
       "44123  2020-04-24 22:29:00          0          3                      3 - 0   \n",
       "44124  2020-04-24 22:32:00          2          1                      1 - 2   \n",
       "44125  2020-04-24 22:35:00          0          0                      0 - 0   \n",
       "44126  2020-04-24 22:38:00          2          1                      1 - 2   \n",
       "44127  2020-04-24 22:41:00          0          0                      0 - 0   \n",
       "44128  2020-04-24 22:44:00          0          1                      1 - 0   \n",
       "44129  2020-04-24 22:47:00          1          1                      1 - 1   \n",
       "44130  2020-04-24 22:50:00          0          0                      0 - 0   \n",
       "44131  2020-04-24 22:53:00          1          2                      2 - 1   \n",
       "44132  2020-04-24 22:56:00          0          2                      2 - 0   \n",
       "44133  2020-04-24 22:59:00          1          0                      0 - 1   \n",
       "44134  2020-04-24 23:02:00          1          1                      1 - 1   \n",
       "44135  2020-04-24 23:05:00          1          1                      1 - 1   \n",
       "44136  2020-04-24 23:08:00          0          4                      4 - 0   \n",
       "44137  2020-04-24 23:11:00          1          3                      3 - 1   \n",
       "44138  2020-04-24 23:26:00          0          0                      0 - 0   \n",
       "44139  2020-04-24 23:29:00          1          1                      1 - 1   \n",
       "44140  2020-04-24 23:32:00          1          0                      0 - 1   \n",
       "44141  2020-04-24 23:35:00          1          2                      2 - 1   \n",
       "44142  2020-04-24 23:38:00          0          0                      0 - 0   \n",
       "44143  2020-04-24 23:41:00          0          1                      1 - 0   \n",
       "44144  2020-04-24 23:44:00          0          1                      1 - 0   \n",
       "44145  2020-04-24 23:47:00          1          1                      1 - 1   \n",
       "44146  2020-04-24 23:50:00          0          0                      0 - 0   \n",
       "44147  2020-04-24 23:53:00          1          1                      1 - 1   \n",
       "44148  2020-04-24 23:56:00          0          1                      1 - 0   \n",
       "44149  2020-04-24 23:59:00          0          0                      0 - 0   \n",
       "\n",
       "                                team_back                           team_home  \\\n",
       "43850                              Zagreb                       Dynamo Whites   \n",
       "43851                      Giallorossi FC                     Bergamo Rangers   \n",
       "43852                         Lisbon Reds                        Porto Flames   \n",
       "43853                        South Saints                      Islington Reds   \n",
       "43854                  Chelsea Pensioners                    Valencia Juniors   \n",
       "43855                          Paris City                    Valencia Juniors   \n",
       "43856                       St Petersburg                      Madrid Juniors   \n",
       "43857                              Munich                     Manchester Reds   \n",
       "43858                      Sassuolo Villa                         Roma County   \n",
       "43859                       Leicester Utd                         WBA Baggies   \n",
       "43860                      Borussia Foals                        PSV Peasants   \n",
       "43861                       Nerazzurri FC                        Blucerchiati   \n",
       "43862                         WBA Baggies                     Watford Hornets   \n",
       "43863                     Bergamo Rangers                        Napoli Blues   \n",
       "43864                       London Whites                       Palace Eagles   \n",
       "43865                     Barysaw Yellows                    Barcelona Braves   \n",
       "43866                        Saxon Wolves                    Barcelona Braves   \n",
       "43867                        South Saints                    Manchester Blues   \n",
       "43868                       Leicester Utd                     Liverpool Stars   \n",
       "43869                    Barcelona Braves                       Maccabi Stars   \n",
       "43870                    Manchester Blues                          Aston City   \n",
       "43871                      Islington Reds                           Stoke Utd   \n",
       "43872                     Genova Griffins                          Milan Reds   \n",
       "43873                  Fiorentina Purples                     Bergamo Rangers   \n",
       "43874                         Roma County                         Verona City   \n",
       "43875                        Torino Bulls                     Bergamo Rangers   \n",
       "43876                        Napoli Blues                     Genova Griffins   \n",
       "43877                    Norwich Canaries                        South Saints   \n",
       "43878                    Manchester Blues                        Mersey Blues   \n",
       "43879                    Madrid Lightning                  Chelsea Pensioners   \n",
       "43880                      Giallorossi FC                      Madrid Juniors   \n",
       "43881                       Leicester Utd                       Swansea Jacks   \n",
       "43882                      Giallorossi FC                           Udine Utd   \n",
       "43883                     Barysaw Yellows                       St Petersburg   \n",
       "43884                    Manchester Blues                      Donetsk Arrows   \n",
       "43885                          Aston City                       Leicester Utd   \n",
       "43886                      Borussia Foals                      Giallorossi FC   \n",
       "43887                    Madrid Lightning                         CSKA Russia   \n",
       "43888                           Udine Utd                          Milan Reds   \n",
       "43889                       Maccabi Stars                               Turin   \n",
       "43890                    Valencia Juniors                               Turin   \n",
       "43891                     Manchester Reds                  Chelsea Pensioners   \n",
       "43892                        Porto Flames                         Lisbon Reds   \n",
       "43893                     Genova Griffins                     Calcio Canaries   \n",
       "43894                        Palermo Town                      Sassuolo Villa   \n",
       "43895                       London Whites                       Leicester Utd   \n",
       "43896                      Donetsk Arrows                      Galataistanbul   \n",
       "43897                   Olympique Juniors                        Saxon Wolves   \n",
       "43898                          Aston City                     Liverpool Stars   \n",
       "43899                          Milan Reds                  Fiorentina Purples   \n",
       "43900                        Napoli Blues                         Biancorossi   \n",
       "43901                         WBA Baggies                        The Cherries   \n",
       "43902                        South Saints                     Watford Hornets   \n",
       "43903                      Kazakh Stripes                        Porto Flames   \n",
       "43904                     Manchester Reds                    Norwich Canaries   \n",
       "43905                       Maccabi Stars                        PSV Peasants   \n",
       "43906                     Manchester Reds                      Giallorossi FC   \n",
       "43907                         Lisbon Reds                              Zagreb   \n",
       "43908                      Borussia Foals                    Valencia Juniors   \n",
       "43909                   Olympique Juniors                         CSKA Russia   \n",
       "43910                           Stoke Utd                     Manchester Reds   \n",
       "43911                      Galataistanbul                  Chelsea Pensioners   \n",
       "43912                       Leicester Utd                       London Whites   \n",
       "43913                          Aston City                     Sunderland Cats   \n",
       "43914                        South Saints                         WBA Baggies   \n",
       "43915                         WBA Baggies                       Leicester Utd   \n",
       "43916                        Mersey Blues                       Swansea Jacks   \n",
       "43917                       Maccabi Stars                      Borussia Foals   \n",
       "43918                      Kazakh Stripes                      Galataistanbul   \n",
       "43919                     Manchester Reds                       London Whites   \n",
       "43920                     Bergamo Rangers                      Giallorossi FC   \n",
       "43921                          Aston City                       London Whites   \n",
       "43922                        PSV Peasants                      Galataistanbul   \n",
       "43923                         Lisbon Reds                    Barcelona Braves   \n",
       "43924                       London Whites                      Islington Reds   \n",
       "43925                       Swansea Jacks                     Watford Hornets   \n",
       "43926                         Biancorossi                               Turin   \n",
       "43927                  Fiorentina Purples                         Biancorossi   \n",
       "43928                     Barysaw Yellows                    Madrid Lightning   \n",
       "43929                      Olympic Athens                              Munich   \n",
       "43930                  Fiorentina Purples                      Empoli Farmers   \n",
       "43931                     Manchester Reds                        East End Utd   \n",
       "43932                       Palace Eagles                    Manchester Blues   \n",
       "43933                   Olympique Juniors                    Belgium Buffalos   \n",
       "43934                     Watford Hornets                     Sunderland Cats   \n",
       "43935                        Blucerchiati                      Empoli Farmers   \n",
       "43936                     Malmo Sky Blues                      Madrid Juniors   \n",
       "43937                     Calcio Canaries                          Milan Reds   \n",
       "43938                    Norwich Canaries                    Manchester Blues   \n",
       "43939                          Aston City                    Norwich Canaries   \n",
       "43940                         CSKA Russia                       Maccabi Stars   \n",
       "43941                       Palace Eagles                     Manchester Reds   \n",
       "43942                        Palermo Town                     Bergamo Rangers   \n",
       "43943                     Liverpool Stars                     Manchester Reds   \n",
       "43944                        South Saints                          Aston City   \n",
       "43945                           Stoke Utd                       London Whites   \n",
       "43946                     Calcio Canaries                   Villanova Stripes   \n",
       "43947                   Villanova Stripes                         Biancorossi   \n",
       "43948                       Dynamo Whites                         Lisbon Reds   \n",
       "43949                        Saxon Wolves                  Chelsea Pensioners   \n",
       "43950                     Liverpool Stars                       London Whites   \n",
       "43951                        Napoli Blues                         Roma County   \n",
       "43952                         Roma County                          Milan Reds   \n",
       "43953                        The Cherries                     Manchester Reds   \n",
       "43954                         Biancorossi                    Verona Wanderers   \n",
       "43955                               Turin                      Empoli Farmers   \n",
       "43956                        South Saints                       London Whites   \n",
       "43957                     Sunderland Cats                     Watford Hornets   \n",
       "43958                   Villanova Stripes                     Calcio Canaries   \n",
       "43959                   Villanova Stripes                         Verona City   \n",
       "43960                      Kazakh Stripes                       Sevilla Tower   \n",
       "43961                  Chelsea Pensioners                     Liverpool Stars   \n",
       "43962                       Dynamo Whites                      Donetsk Arrows   \n",
       "43963                         WBA Baggies                       Newcastle AFC   \n",
       "43964                      Madrid Juniors                       St Petersburg   \n",
       "43965                    Verona Wanderers                        Napoli Blues   \n",
       "43966                     Malmo Sky Blues                          Leverkusen   \n",
       "43967                       Maccabi Stars                          Leverkusen   \n",
       "43968                       Newcastle AFC                        East End Utd   \n",
       "43969                    Norwich Canaries                        The Cherries   \n",
       "43970                      Sassuolo Villa                  Fiorentina Purples   \n",
       "43971                     Calcio Canaries                        Palermo Town   \n",
       "43972                              Zagreb                   Olympique Juniors   \n",
       "43973                     Manchester Reds                              Zagreb   \n",
       "43974                        Blucerchiati                        Napoli Blues   \n",
       "43975                     Calcio Canaries                    Verona Wanderers   \n",
       "43976                  Fiorentina Purples                   Villanova Stripes   \n",
       "43977                      Sassuolo Villa                   Villanova Stripes   \n",
       "43978                           Stoke Utd                  Chelsea Pensioners   \n",
       "43979                    Verona Wanderers                     Calcio Canaries   \n",
       "43980                    Manchester Blues                       London Whites   \n",
       "43981                        Mersey Blues                  Chelsea Pensioners   \n",
       "43982                        Napoli Blues                     Calcio Canaries   \n",
       "43983                          Milan Reds                    Verona Wanderers   \n",
       "43984                         Lisbon Reds                        Saxon Wolves   \n",
       "43985                    Barcelona Braves                        PSV Peasants   \n",
       "43986                  Chelsea Pensioners                        PSV Peasants   \n",
       "43987                    Barcelona Braves                      Giallorossi FC   \n",
       "43988                              Zagreb                      Islington Reds   \n",
       "43989                           Udine Utd                        Napoli Blues   \n",
       "43990                           Udine Utd                     Genova Griffins   \n",
       "43991                     Genova Griffins                      Giallorossi FC   \n",
       "43992                        PSV Peasants                       St Petersburg   \n",
       "43993                               Turin                        Blucerchiati   \n",
       "43994                         Verona City                           Udine Utd   \n",
       "43995                     Manchester Reds                      Donetsk Arrows   \n",
       "43996                        East End Utd                       Leicester Utd   \n",
       "43997                       Sevilla Tower                      Giallorossi FC   \n",
       "43998                  Fiorentina Purples                          Milan Reds   \n",
       "43999                     Manchester Reds                        Mersey Blues   \n",
       "44000                     Bergamo Rangers                         Biancorossi   \n",
       "44001                    Manchester Blues                        South Saints   \n",
       "44002                        East End Utd                       London Whites   \n",
       "44003                               Turin                     Genova Griffins   \n",
       "44004                           Udine Utd                      Empoli Farmers   \n",
       "44005                   Villanova Stripes                        Blucerchiati   \n",
       "44006                         Lisbon Reds                  Chelsea Pensioners   \n",
       "44007                               Turin                        Napoli Blues   \n",
       "44008                     Barysaw Yellows                       Maccabi Stars   \n",
       "44009                      Madrid Juniors                    Valencia Juniors   \n",
       "44010                       Nerazzurri FC                  Fiorentina Purples   \n",
       "44011                       Newcastle AFC                         WBA Baggies   \n",
       "44012                              Zagreb                       Sevilla Tower   \n",
       "44013                        PSV Peasants                      Olympic Athens   \n",
       "44014                          Milan Reds                        Napoli Blues   \n",
       "44015                       Newcastle AFC                           Stoke Utd   \n",
       "44016                     Liverpool Stars                        East End Utd   \n",
       "44017                               Turin                      Madrid Juniors   \n",
       "44018                       Sevilla Tower                  Chelsea Pensioners   \n",
       "44019                   Olympique Juniors                          Leverkusen   \n",
       "44020                       Nerazzurri FC                      Empoli Farmers   \n",
       "44021                    Belgium Buffalos                       Dynamo Whites   \n",
       "44022                        Mersey Blues                       London Whites   \n",
       "44023                    Valencia Juniors                      Galataistanbul   \n",
       "44024                      Sassuolo Villa                          Milan Reds   \n",
       "44025                      Donetsk Arrows                    Manchester Blues   \n",
       "44026                  Fiorentina Purples                     Bergamo Rangers   \n",
       "44027                    Manchester Blues                       Palace Eagles   \n",
       "44028                    Manchester Blues                     Liverpool Stars   \n",
       "44029                     Bergamo Rangers                     Genova Griffins   \n",
       "44030                        Napoli Blues                  Fiorentina Purples   \n",
       "44031                        Mersey Blues                         WBA Baggies   \n",
       "44032                          Paris City                  Chelsea Pensioners   \n",
       "44033                      Olympic Athens                     Manchester Reds   \n",
       "44034                    Verona Wanderers                     Genova Griffins   \n",
       "44035                       Sevilla Tower                       Dynamo Whites   \n",
       "44036                       Nerazzurri FC                         Verona City   \n",
       "44037                           Stoke Utd                       Palace Eagles   \n",
       "44038                     Watford Hornets                       Palace Eagles   \n",
       "44039                  Chelsea Pensioners                       Leicester Utd   \n",
       "44040                      Galataistanbul                              Zagreb   \n",
       "44041                        East End Utd                       Palace Eagles   \n",
       "44042                           Stoke Utd                       Leicester Utd   \n",
       "44043                      Empoli Farmers                               Turin   \n",
       "44044                       Nerazzurri FC                               Turin   \n",
       "44045                   Villanova Stripes                     Genova Griffins   \n",
       "44046                           Udine Utd                     Calcio Canaries   \n",
       "44047                      Giallorossi FC                        Napoli Blues   \n",
       "44048                       St Petersburg                        Saxon Wolves   \n",
       "44049                               Turin                          Milan Reds   \n",
       "44050                       London Whites                         WBA Baggies   \n",
       "44051                        Torino Bulls                      Giallorossi FC   \n",
       "44052                          Aston City                        The Cherries   \n",
       "44053                         Lisbon Reds                      Kazakh Stripes   \n",
       "44054                    Verona Wanderers                         Verona City   \n",
       "44055                         Verona City                         Biancorossi   \n",
       "44056                     Genova Griffins                      Empoli Farmers   \n",
       "44057                     Manchester Reds                       Maccabi Stars   \n",
       "44058                         CSKA Russia                       Sevilla Tower   \n",
       "44059                      Empoli Farmers                         Biancorossi   \n",
       "44060                        Napoli Blues                     Bergamo Rangers   \n",
       "44061                          Leverkusen                              Zagreb   \n",
       "44062                      Borussia Foals                              Munich   \n",
       "44063                  Chelsea Pensioners                        Porto Flames   \n",
       "44064                           Stoke Utd                     Watford Hornets   \n",
       "44065                    Verona Wanderers                      Giallorossi FC   \n",
       "44066                     Sunderland Cats                        East End Utd   \n",
       "44067                  Fiorentina Purples                        Torino Bulls   \n",
       "44068                          Paris City                        PSV Peasants   \n",
       "44069                    Manchester Blues                       London Whites   \n",
       "44070                          Leverkusen                    Madrid Lightning   \n",
       "44071                        Porto Flames                          Leverkusen   \n",
       "44072                    Valencia Juniors                      Donetsk Arrows   \n",
       "44073                       Sevilla Tower                              Munich   \n",
       "44074                        Mersey Blues                       Palace Eagles   \n",
       "44075                          Aston City                        The Cherries   \n",
       "44076                     Bergamo Rangers                        Blucerchiati   \n",
       "44077                       Nerazzurri FC                         Roma County   \n",
       "44078                    Madrid Lightning                      Madrid Juniors   \n",
       "44079                        Napoli Blues                      Giallorossi FC   \n",
       "44080                      Kazakh Stripes                      Olympic Athens   \n",
       "44081                    Valencia Juniors                       Sevilla Tower   \n",
       "44082                       St Petersburg                      Islington Reds   \n",
       "44083                        Napoli Blues                   Villanova Stripes   \n",
       "44084                       London Whites                          Aston City   \n",
       "44085                    Norwich Canaries                        Mersey Blues   \n",
       "44086                      Kazakh Stripes                      Madrid Juniors   \n",
       "44087                              Zagreb                    Valencia Juniors   \n",
       "44088                        Mersey Blues                  Chelsea Pensioners   \n",
       "44089                     Bergamo Rangers                       Nerazzurri FC   \n",
       "44090                       St Petersburg                         Lisbon Reds   \n",
       "44091                          Aston City                      Islington Reds   \n",
       "44092                              Munich                      Olympic Athens   \n",
       "44093                      Empoli Farmers                      Sassuolo Villa   \n",
       "44094                      Madrid Juniors                     Malmo Sky Blues   \n",
       "44095                          Milan Reds                    Verona Wanderers   \n",
       "44096                     Manchester Reds                     Sunderland Cats   \n",
       "44097                     Manchester Reds                    Barcelona Braves   \n",
       "44098                    Barcelona Braves                    Belgium Buffalos   \n",
       "44099                         Verona City                      Sassuolo Villa   \n",
       "44100                       Dynamo Whites                      Madrid Juniors   \n",
       "44101                        Napoli Blues                     Genova Griffins   \n",
       "44102                     Bergamo Rangers                     Calcio Canaries   \n",
       "44103                        Napoli Blues                        Blucerchiati   \n",
       "44104                          Milan Reds                         Biancorossi   \n",
       "44105                        Blucerchiati                   Villanova Stripes   \n",
       "44106                         WBA Baggies                        South Saints   \n",
       "44107                         Lisbon Reds                   Olympique Juniors   \n",
       "44108                   Olympique Juniors                    Barcelona Braves   \n",
       "44109                      Olympic Athens                      Donetsk Arrows   \n",
       "44110                    Norwich Canaries                        South Saints   \n",
       "44111                          Milan Reds                     Bergamo Rangers   \n",
       "44112                     Sunderland Cats                       Leicester Utd   \n",
       "44113                      Madrid Juniors                    Madrid Lightning   \n",
       "44114                     Manchester Reds                    Manchester Blues   \n",
       "44115                       Swansea Jacks                       London Whites   \n",
       "44116                              Zagreb                        Saxon Wolves   \n",
       "44117                           Udine Utd                         Verona City   \n",
       "44118                          Milan Reds                      Giallorossi FC   \n",
       "44119                    Norwich Canaries                     Watford Hornets   \n",
       "44120                           Stoke Utd                    Norwich Canaries   \n",
       "44121                       Nerazzurri FC                      Empoli Farmers   \n",
       "44122                       Palace Eagles                  Chelsea Pensioners   \n",
       "44123                   Villanova Stripes                     Bergamo Rangers   \n",
       "44124                     Liverpool Stars                       Swansea Jacks   \n",
       "44125                         Biancorossi                       Nerazzurri FC   \n",
       "44126                      Borussia Foals                         Lisbon Reds   \n",
       "44127                      Sassuolo Villa                     Genova Griffins   \n",
       "44128                       Maccabi Stars                         Lisbon Reds   \n",
       "44129                          Leverkusen                      Olympic Athens   \n",
       "44130                          Leverkusen                               Turin   \n",
       "44131                      Galataistanbul                    Valencia Juniors   \n",
       "44132                   Villanova Stripes                    Verona Wanderers   \n",
       "44133                     Calcio Canaries                               Turin   \n",
       "44134                     Watford Hornets                       London Whites   \n",
       "44135                       Sevilla Tower                        Saxon Wolves   \n",
       "44136                      Donetsk Arrows                      Olympic Athens   \n",
       "44137                              Zagreb                      Olympic Athens   \n",
       "44138                           Udine Utd                        Torino Bulls   \n",
       "44139                       London Whites                  Chelsea Pensioners   \n",
       "44140                        PSV Peasants                      Donetsk Arrows   \n",
       "44141                  Chelsea Pensioners                         WBA Baggies   \n",
       "44142                           Stoke Utd                       Leicester Utd   \n",
       "44143                        Porto Flames                       Sevilla Tower   \n",
       "44144                       Sevilla Tower                              Zagreb   \n",
       "44145                    Manchester Blues                        South Saints   \n",
       "44146                           Stoke Utd                          Aston City   \n",
       "44147                     Genova Griffins                         Biancorossi   \n",
       "44148                     Liverpool Stars                        The Cherries   \n",
       "44149                        South Saints                       Palace Eagles   \n",
       "\n",
       "       over 2.5  sequence_size  \n",
       "43850     False            NaN  \n",
       "43851      True            1.0  \n",
       "43852     False            NaN  \n",
       "43853      True            1.0  \n",
       "43854     False            NaN  \n",
       "43855      True            1.0  \n",
       "43856     False            NaN  \n",
       "43857     False            NaN  \n",
       "43858     False            NaN  \n",
       "43859     False            NaN  \n",
       "43860      True            4.0  \n",
       "43861      True            0.0  \n",
       "43862     False            NaN  \n",
       "43863     False            NaN  \n",
       "43864      True            2.0  \n",
       "43865     False            NaN  \n",
       "43866     False            NaN  \n",
       "43867      True            2.0  \n",
       "43868      True            0.0  \n",
       "43869     False            NaN  \n",
       "43870      True            1.0  \n",
       "43871      True            0.0  \n",
       "43872     False            NaN  \n",
       "43873     False            NaN  \n",
       "43874      True            2.0  \n",
       "43875     False            NaN  \n",
       "43876     False            NaN  \n",
       "43877      True            2.0  \n",
       "43878     False            NaN  \n",
       "43879     False            NaN  \n",
       "43880      True            2.0  \n",
       "43881      True            0.0  \n",
       "43882      True            0.0  \n",
       "43883      True            0.0  \n",
       "43884     False            NaN  \n",
       "43885     False            NaN  \n",
       "43886     False            NaN  \n",
       "43887      True            3.0  \n",
       "43888     False            NaN  \n",
       "43889      True            1.0  \n",
       "43890     False            NaN  \n",
       "43891      True            1.0  \n",
       "43892     False            NaN  \n",
       "43893     False            NaN  \n",
       "43894      True            2.0  \n",
       "43895      True            0.0  \n",
       "43896     False            NaN  \n",
       "43897     False            NaN  \n",
       "43898     False            NaN  \n",
       "43899     False            NaN  \n",
       "43900      True            4.0  \n",
       "43901      True            0.0  \n",
       "43902     False            NaN  \n",
       "43903     False            NaN  \n",
       "43904      True            2.0  \n",
       "43905     False            NaN  \n",
       "43906      True            1.0  \n",
       "43907      True            0.0  \n",
       "43908      True            0.0  \n",
       "43909      True            0.0  \n",
       "43910     False            NaN  \n",
       "43911      True            1.0  \n",
       "43912      True            0.0  \n",
       "43913     False            NaN  \n",
       "43914     False            NaN  \n",
       "43915     False            NaN  \n",
       "43916      True            3.0  \n",
       "43917     False            NaN  \n",
       "43918     False            NaN  \n",
       "43919     False            NaN  \n",
       "43920     False            NaN  \n",
       "43921     False            NaN  \n",
       "43922     False            NaN  \n",
       "43923      True            6.0  \n",
       "43924     False            NaN  \n",
       "43925     False            NaN  \n",
       "43926     False            NaN  \n",
       "43927     False            NaN  \n",
       "43928      True            4.0  \n",
       "43929      True            0.0  \n",
       "43930     False            NaN  \n",
       "43931     False            NaN  \n",
       "43932      True            2.0  \n",
       "43933      True            0.0  \n",
       "43934     False            NaN  \n",
       "43935     False            NaN  \n",
       "43936      True            2.0  \n",
       "43937     False            NaN  \n",
       "43938     False            NaN  \n",
       "43939     False            NaN  \n",
       "43940      True            3.0  \n",
       "43941     False            NaN  \n",
       "43942      True            1.0  \n",
       "43943     False            NaN  \n",
       "43944     False            NaN  \n",
       "43945      True            2.0  \n",
       "43946     False            NaN  \n",
       "43947      True            1.0  \n",
       "43948      True            0.0  \n",
       "43949      True            0.0  \n",
       "43950     False            NaN  \n",
       "43951     False            NaN  \n",
       "43952     False            NaN  \n",
       "43953     False            NaN  \n",
       "43954     False            NaN  \n",
       "43955     False            NaN  \n",
       "43956     False            NaN  \n",
       "43957      True            7.0  \n",
       "43958      True            0.0  \n",
       "43959     False            NaN  \n",
       "43960     False            NaN  \n",
       "43961      True            2.0  \n",
       "43962     False            NaN  \n",
       "43963      True            1.0  \n",
       "43964      True            0.0  \n",
       "43965     False            NaN  \n",
       "43966      True            1.0  \n",
       "43967     False            NaN  \n",
       "43968      True            1.0  \n",
       "43969      True            0.0  \n",
       "43970     False            NaN  \n",
       "43971     False            NaN  \n",
       "43972      True            2.0  \n",
       "43973     False            NaN  \n",
       "43974     False            NaN  \n",
       "43975     False            NaN  \n",
       "43976      True            3.0  \n",
       "43977     False            NaN  \n",
       "43978      True            1.0  \n",
       "43979      True            0.0  \n",
       "43980     False            NaN  \n",
       "43981      True            1.0  \n",
       "43982      True            0.0  \n",
       "43983     False            NaN  \n",
       "43984      True            1.0  \n",
       "43985     False            NaN  \n",
       "43986      True            1.0  \n",
       "43987     False            NaN  \n",
       "43988      True            1.0  \n",
       "43989      True            0.0  \n",
       "43990     False            NaN  \n",
       "43991     False            NaN  \n",
       "43992     False            NaN  \n",
       "43993     False            NaN  \n",
       "43994     False            NaN  \n",
       "43995     False            NaN  \n",
       "43996     False            NaN  \n",
       "43997      True            7.0  \n",
       "43998     False            NaN  \n",
       "43999     False            NaN  \n",
       "44000     False            NaN  \n",
       "44001     False            NaN  \n",
       "44002     False            NaN  \n",
       "44003     False            NaN  \n",
       "44004     False            NaN  \n",
       "44005     False            NaN  \n",
       "44006      True            8.0  \n",
       "44007     False            NaN  \n",
       "44008      True            1.0  \n",
       "44009      True            0.0  \n",
       "44010      True            0.0  \n",
       "44011      True            0.0  \n",
       "44012      True            0.0  \n",
       "44013     False            NaN  \n",
       "44014     False            NaN  \n",
       "44015     False            NaN  \n",
       "44016     False            NaN  \n",
       "44017     False            NaN  \n",
       "44018     False            NaN  \n",
       "44019      True            6.0  \n",
       "44020      True            0.0  \n",
       "44021     False            NaN  \n",
       "44022     False            NaN  \n",
       "44023     False            NaN  \n",
       "44024      True            3.0  \n",
       "44025     False            NaN  \n",
       "44026      True            1.0  \n",
       "44027     False            NaN  \n",
       "44028     False            NaN  \n",
       "44029     False            NaN  \n",
       "44030     False            NaN  \n",
       "44031     False            NaN  \n",
       "44032      True            5.0  \n",
       "44033     False            NaN  \n",
       "44034      True            1.0  \n",
       "44035      True            0.0  \n",
       "44036     False            NaN  \n",
       "44037     False            NaN  \n",
       "44038     False            NaN  \n",
       "44039     False            NaN  \n",
       "44040     False            NaN  \n",
       "44041      True            5.0  \n",
       "44042     False            NaN  \n",
       "44043      True            1.0  \n",
       "44044      True            0.0  \n",
       "44045     False            NaN  \n",
       "44046     False            NaN  \n",
       "44047      True            2.0  \n",
       "44048     False            NaN  \n",
       "44049      True            1.0  \n",
       "44050     False            NaN  \n",
       "44051     False            NaN  \n",
       "44052     False            NaN  \n",
       "44053     False            NaN  \n",
       "44054     False            NaN  \n",
       "44055     False            NaN  \n",
       "44056     False            NaN  \n",
       "44057     False            NaN  \n",
       "44058     False            NaN  \n",
       "44059      True            9.0  \n",
       "44060      True            0.0  \n",
       "44061     False            NaN  \n",
       "44062      True            1.0  \n",
       "44063     False            NaN  \n",
       "44064      True            1.0  \n",
       "44065     False            NaN  \n",
       "44066     False            NaN  \n",
       "44067     False            NaN  \n",
       "44068      True            3.0  \n",
       "44069     False            NaN  \n",
       "44070      True            1.0  \n",
       "44071     False            NaN  \n",
       "44072      True            1.0  \n",
       "44073     False            NaN  \n",
       "44074     False            NaN  \n",
       "44075     False            NaN  \n",
       "44076     False            NaN  \n",
       "44077     False            NaN  \n",
       "44078     False            NaN  \n",
       "44079     False            NaN  \n",
       "44080      True            7.0  \n",
       "44081     False            NaN  \n",
       "44082     False            NaN  \n",
       "44083     False            NaN  \n",
       "44084     False            NaN  \n",
       "44085      True            4.0  \n",
       "44086     False            NaN  \n",
       "44087      True            1.0  \n",
       "44088     False            NaN  \n",
       "44089     False            NaN  \n",
       "44090     False            NaN  \n",
       "44091      True            3.0  \n",
       "44092     False            NaN  \n",
       "44093      True            1.0  \n",
       "44094     False            NaN  \n",
       "44095     False            NaN  \n",
       "44096     False            NaN  \n",
       "44097     False            NaN  \n",
       "44098      True            4.0  \n",
       "44099     False            NaN  \n",
       "44100     False            NaN  \n",
       "44101     False            NaN  \n",
       "44102     False            NaN  \n",
       "44103     False            NaN  \n",
       "44104     False            NaN  \n",
       "44105     False            NaN  \n",
       "44106      True            7.0  \n",
       "44107     False            NaN  \n",
       "44108     False            NaN  \n",
       "44109     False            NaN  \n",
       "44110      True            3.0  \n",
       "44111     False            NaN  \n",
       "44112      True            1.0  \n",
       "44113      True            0.0  \n",
       "44114     False            NaN  \n",
       "44115      True            1.0  \n",
       "44116     False            NaN  \n",
       "44117     False            NaN  \n",
       "44118      True            2.0  \n",
       "44119      True            0.0  \n",
       "44120      True            0.0  \n",
       "44121      True            0.0  \n",
       "44122     False            NaN  \n",
       "44123      True            1.0  \n",
       "44124      True            0.0  \n",
       "44125     False            NaN  \n",
       "44126      True            1.0  \n",
       "44127     False            NaN  \n",
       "44128     False            NaN  \n",
       "44129     False            NaN  \n",
       "44130     False            NaN  \n",
       "44131      True            4.0  \n",
       "44132     False            NaN  \n",
       "44133     False            NaN  \n",
       "44134     False            NaN  \n",
       "44135     False            NaN  \n",
       "44136      True            4.0  \n",
       "44137      True            0.0  \n",
       "44138     False            NaN  \n",
       "44139     False            NaN  \n",
       "44140     False            NaN  \n",
       "44141      True            3.0  \n",
       "44142     False            NaN  \n",
       "44143     False            NaN  \n",
       "44144     False            NaN  \n",
       "44145     False            NaN  \n",
       "44146     False            NaN  \n",
       "44147     False            NaN  \n",
       "44148     False            NaN  \n",
       "44149     False            NaN  "
      ]
     },
     "execution_count": 29,
     "metadata": {},
     "output_type": "execute_result"
    }
   ],
   "source": [
    "df.tail(300)"
   ]
  },
  {
   "cell_type": "code",
   "execution_count": 17,
   "metadata": {},
   "outputs": [
    {
     "name": "stdout",
     "output_type": "stream",
     "text": [
      "0\n",
      "1000\n"
     ]
    }
   ],
   "source": [
    "#PARA JUNTAR AS COLUNAS DE TIME DATE EM UMA SO\n",
    "for row, content in df2.T.iteritems():\n",
    "    datee = content['date'] + ' ' + content['time']\n",
    "    df2.loc[row, 'datetime'] = datee\n",
    "    \n",
    "    if (row % 1000) == 0:\n",
    "        print(row)\n",
    "        \n",
    "df2.drop(['date', 'time'], axis=1, inplace=True)"
   ]
  },
  {
   "cell_type": "code",
   "execution_count": 19,
   "metadata": {},
   "outputs": [
    {
     "name": "stdout",
     "output_type": "stream",
     "text": [
      "0\n",
      "1000\n"
     ]
    }
   ],
   "source": [
    "# PARA SEPARAR OS GOLS DE CASA E FORA\n",
    "for row, content in df2.T.iteritems():\n",
    "    goals = content['score'].split(' - ')\n",
    "    df2.loc[row, 'goal_home'] = goals[0]\n",
    "    df2.loc[row, 'goal_back'] = goals[1]\n",
    "    \n",
    "    if (row % 1000) == 0:\n",
    "        print(row)"
   ]
  },
  {
   "cell_type": "code",
   "execution_count": null,
   "metadata": {},
   "outputs": [],
   "source": [
    "# TRANSFORMANDO EM DATETIME A COLUNA COM HORARIO E DATA DOS EVENTOS\n",
    "df2['datetime'] = pd.to_datetime(df2['datetime'])"
   ]
  },
  {
   "cell_type": "code",
   "execution_count": 21,
   "metadata": {},
   "outputs": [],
   "source": []
  },
  {
   "cell_type": "markdown",
   "metadata": {},
   "source": [
    "# Pergundas aos dados:\n",
    "\n",
    "\n",
    " - Quais os dias do mês que mais acontecem Under\n",
    " - Quais os horarios do dia que mais acontecem Under\n",
    " - Com que frequencia acontecem sequencias de mais de 9 Unders\n",
    " - Quais dias do mes tiveram menos Unders"
   ]
  },
  {
   "cell_type": "code",
   "execution_count": 81,
   "metadata": {},
   "outputs": [
    {
     "data": {
      "text/html": [
       "        <script type=\"text/javascript\">\n",
       "        window.PlotlyConfig = {MathJaxConfig: 'local'};\n",
       "        if (window.MathJax) {MathJax.Hub.Config({SVG: {font: \"STIX-Web\"}});}\n",
       "        if (typeof require !== 'undefined') {\n",
       "        require.undef(\"plotly\");\n",
       "        requirejs.config({\n",
       "            paths: {\n",
       "                'plotly': ['https://cdn.plot.ly/plotly-latest.min']\n",
       "            }\n",
       "        });\n",
       "        require(['plotly'], function(Plotly) {\n",
       "            window._Plotly = Plotly;\n",
       "        });\n",
       "        }\n",
       "        </script>\n",
       "        "
      ]
     },
     "metadata": {},
     "output_type": "display_data"
    }
   ],
   "source": [
    "import plotly\n",
    "import plotly.offline as py\n",
    "import plotly.graph_objs as go\n",
    "\n",
    "plotly.offline.init_notebook_mode(connected=True)"
   ]
  },
  {
   "cell_type": "code",
   "execution_count": 50,
   "metadata": {},
   "outputs": [],
   "source": [
    "# df.info()"
   ]
  },
  {
   "cell_type": "code",
   "execution_count": 49,
   "metadata": {},
   "outputs": [
    {
     "data": {
      "application/vnd.plotly.v1+json": {
       "config": {
        "linkText": "Export to plot.ly",
        "plotlyServerURL": "https://plot.ly",
        "showLink": true
       },
       "data": [
        {
         "marker": {
          "color": "rgba(255, 153, 51, 0.6)",
          "line": {
           "color": "rgba(255, 153, 51, 1.0)",
           "width": 1
          }
         },
         "name": "sequence_size",
         "orientation": "v",
         "text": "",
         "type": "bar",
         "x": [
          0,
          1,
          2,
          3,
          4,
          5,
          6,
          7,
          8,
          9,
          10,
          11,
          12,
          13,
          14,
          16,
          15,
          17
         ],
         "y": [
          6100,
          3794,
          2361,
          1544,
          954,
          582,
          373,
          259,
          135,
          113,
          61,
          29,
          25,
          15,
          11,
          4,
          4,
          3
         ]
        }
       ],
       "layout": {
        "legend": {
         "bgcolor": "#F5F6F9",
         "font": {
          "color": "#4D5663"
         }
        },
        "paper_bgcolor": "#F5F6F9",
        "plot_bgcolor": "#F5F6F9",
        "template": {
         "data": {
          "bar": [
           {
            "error_x": {
             "color": "#2a3f5f"
            },
            "error_y": {
             "color": "#2a3f5f"
            },
            "marker": {
             "line": {
              "color": "#E5ECF6",
              "width": 0.5
             }
            },
            "type": "bar"
           }
          ],
          "barpolar": [
           {
            "marker": {
             "line": {
              "color": "#E5ECF6",
              "width": 0.5
             }
            },
            "type": "barpolar"
           }
          ],
          "carpet": [
           {
            "aaxis": {
             "endlinecolor": "#2a3f5f",
             "gridcolor": "white",
             "linecolor": "white",
             "minorgridcolor": "white",
             "startlinecolor": "#2a3f5f"
            },
            "baxis": {
             "endlinecolor": "#2a3f5f",
             "gridcolor": "white",
             "linecolor": "white",
             "minorgridcolor": "white",
             "startlinecolor": "#2a3f5f"
            },
            "type": "carpet"
           }
          ],
          "choropleth": [
           {
            "colorbar": {
             "outlinewidth": 0,
             "ticks": ""
            },
            "type": "choropleth"
           }
          ],
          "contour": [
           {
            "colorbar": {
             "outlinewidth": 0,
             "ticks": ""
            },
            "colorscale": [
             [
              0,
              "#0d0887"
             ],
             [
              0.1111111111111111,
              "#46039f"
             ],
             [
              0.2222222222222222,
              "#7201a8"
             ],
             [
              0.3333333333333333,
              "#9c179e"
             ],
             [
              0.4444444444444444,
              "#bd3786"
             ],
             [
              0.5555555555555556,
              "#d8576b"
             ],
             [
              0.6666666666666666,
              "#ed7953"
             ],
             [
              0.7777777777777778,
              "#fb9f3a"
             ],
             [
              0.8888888888888888,
              "#fdca26"
             ],
             [
              1,
              "#f0f921"
             ]
            ],
            "type": "contour"
           }
          ],
          "contourcarpet": [
           {
            "colorbar": {
             "outlinewidth": 0,
             "ticks": ""
            },
            "type": "contourcarpet"
           }
          ],
          "heatmap": [
           {
            "colorbar": {
             "outlinewidth": 0,
             "ticks": ""
            },
            "colorscale": [
             [
              0,
              "#0d0887"
             ],
             [
              0.1111111111111111,
              "#46039f"
             ],
             [
              0.2222222222222222,
              "#7201a8"
             ],
             [
              0.3333333333333333,
              "#9c179e"
             ],
             [
              0.4444444444444444,
              "#bd3786"
             ],
             [
              0.5555555555555556,
              "#d8576b"
             ],
             [
              0.6666666666666666,
              "#ed7953"
             ],
             [
              0.7777777777777778,
              "#fb9f3a"
             ],
             [
              0.8888888888888888,
              "#fdca26"
             ],
             [
              1,
              "#f0f921"
             ]
            ],
            "type": "heatmap"
           }
          ],
          "heatmapgl": [
           {
            "colorbar": {
             "outlinewidth": 0,
             "ticks": ""
            },
            "colorscale": [
             [
              0,
              "#0d0887"
             ],
             [
              0.1111111111111111,
              "#46039f"
             ],
             [
              0.2222222222222222,
              "#7201a8"
             ],
             [
              0.3333333333333333,
              "#9c179e"
             ],
             [
              0.4444444444444444,
              "#bd3786"
             ],
             [
              0.5555555555555556,
              "#d8576b"
             ],
             [
              0.6666666666666666,
              "#ed7953"
             ],
             [
              0.7777777777777778,
              "#fb9f3a"
             ],
             [
              0.8888888888888888,
              "#fdca26"
             ],
             [
              1,
              "#f0f921"
             ]
            ],
            "type": "heatmapgl"
           }
          ],
          "histogram": [
           {
            "marker": {
             "colorbar": {
              "outlinewidth": 0,
              "ticks": ""
             }
            },
            "type": "histogram"
           }
          ],
          "histogram2d": [
           {
            "colorbar": {
             "outlinewidth": 0,
             "ticks": ""
            },
            "colorscale": [
             [
              0,
              "#0d0887"
             ],
             [
              0.1111111111111111,
              "#46039f"
             ],
             [
              0.2222222222222222,
              "#7201a8"
             ],
             [
              0.3333333333333333,
              "#9c179e"
             ],
             [
              0.4444444444444444,
              "#bd3786"
             ],
             [
              0.5555555555555556,
              "#d8576b"
             ],
             [
              0.6666666666666666,
              "#ed7953"
             ],
             [
              0.7777777777777778,
              "#fb9f3a"
             ],
             [
              0.8888888888888888,
              "#fdca26"
             ],
             [
              1,
              "#f0f921"
             ]
            ],
            "type": "histogram2d"
           }
          ],
          "histogram2dcontour": [
           {
            "colorbar": {
             "outlinewidth": 0,
             "ticks": ""
            },
            "colorscale": [
             [
              0,
              "#0d0887"
             ],
             [
              0.1111111111111111,
              "#46039f"
             ],
             [
              0.2222222222222222,
              "#7201a8"
             ],
             [
              0.3333333333333333,
              "#9c179e"
             ],
             [
              0.4444444444444444,
              "#bd3786"
             ],
             [
              0.5555555555555556,
              "#d8576b"
             ],
             [
              0.6666666666666666,
              "#ed7953"
             ],
             [
              0.7777777777777778,
              "#fb9f3a"
             ],
             [
              0.8888888888888888,
              "#fdca26"
             ],
             [
              1,
              "#f0f921"
             ]
            ],
            "type": "histogram2dcontour"
           }
          ],
          "mesh3d": [
           {
            "colorbar": {
             "outlinewidth": 0,
             "ticks": ""
            },
            "type": "mesh3d"
           }
          ],
          "parcoords": [
           {
            "line": {
             "colorbar": {
              "outlinewidth": 0,
              "ticks": ""
             }
            },
            "type": "parcoords"
           }
          ],
          "pie": [
           {
            "automargin": true,
            "type": "pie"
           }
          ],
          "scatter": [
           {
            "marker": {
             "colorbar": {
              "outlinewidth": 0,
              "ticks": ""
             }
            },
            "type": "scatter"
           }
          ],
          "scatter3d": [
           {
            "line": {
             "colorbar": {
              "outlinewidth": 0,
              "ticks": ""
             }
            },
            "marker": {
             "colorbar": {
              "outlinewidth": 0,
              "ticks": ""
             }
            },
            "type": "scatter3d"
           }
          ],
          "scattercarpet": [
           {
            "marker": {
             "colorbar": {
              "outlinewidth": 0,
              "ticks": ""
             }
            },
            "type": "scattercarpet"
           }
          ],
          "scattergeo": [
           {
            "marker": {
             "colorbar": {
              "outlinewidth": 0,
              "ticks": ""
             }
            },
            "type": "scattergeo"
           }
          ],
          "scattergl": [
           {
            "marker": {
             "colorbar": {
              "outlinewidth": 0,
              "ticks": ""
             }
            },
            "type": "scattergl"
           }
          ],
          "scattermapbox": [
           {
            "marker": {
             "colorbar": {
              "outlinewidth": 0,
              "ticks": ""
             }
            },
            "type": "scattermapbox"
           }
          ],
          "scatterpolar": [
           {
            "marker": {
             "colorbar": {
              "outlinewidth": 0,
              "ticks": ""
             }
            },
            "type": "scatterpolar"
           }
          ],
          "scatterpolargl": [
           {
            "marker": {
             "colorbar": {
              "outlinewidth": 0,
              "ticks": ""
             }
            },
            "type": "scatterpolargl"
           }
          ],
          "scatterternary": [
           {
            "marker": {
             "colorbar": {
              "outlinewidth": 0,
              "ticks": ""
             }
            },
            "type": "scatterternary"
           }
          ],
          "surface": [
           {
            "colorbar": {
             "outlinewidth": 0,
             "ticks": ""
            },
            "colorscale": [
             [
              0,
              "#0d0887"
             ],
             [
              0.1111111111111111,
              "#46039f"
             ],
             [
              0.2222222222222222,
              "#7201a8"
             ],
             [
              0.3333333333333333,
              "#9c179e"
             ],
             [
              0.4444444444444444,
              "#bd3786"
             ],
             [
              0.5555555555555556,
              "#d8576b"
             ],
             [
              0.6666666666666666,
              "#ed7953"
             ],
             [
              0.7777777777777778,
              "#fb9f3a"
             ],
             [
              0.8888888888888888,
              "#fdca26"
             ],
             [
              1,
              "#f0f921"
             ]
            ],
            "type": "surface"
           }
          ],
          "table": [
           {
            "cells": {
             "fill": {
              "color": "#EBF0F8"
             },
             "line": {
              "color": "white"
             }
            },
            "header": {
             "fill": {
              "color": "#C8D4E3"
             },
             "line": {
              "color": "white"
             }
            },
            "type": "table"
           }
          ]
         },
         "layout": {
          "annotationdefaults": {
           "arrowcolor": "#2a3f5f",
           "arrowhead": 0,
           "arrowwidth": 1
          },
          "coloraxis": {
           "colorbar": {
            "outlinewidth": 0,
            "ticks": ""
           }
          },
          "colorscale": {
           "diverging": [
            [
             0,
             "#8e0152"
            ],
            [
             0.1,
             "#c51b7d"
            ],
            [
             0.2,
             "#de77ae"
            ],
            [
             0.3,
             "#f1b6da"
            ],
            [
             0.4,
             "#fde0ef"
            ],
            [
             0.5,
             "#f7f7f7"
            ],
            [
             0.6,
             "#e6f5d0"
            ],
            [
             0.7,
             "#b8e186"
            ],
            [
             0.8,
             "#7fbc41"
            ],
            [
             0.9,
             "#4d9221"
            ],
            [
             1,
             "#276419"
            ]
           ],
           "sequential": [
            [
             0,
             "#0d0887"
            ],
            [
             0.1111111111111111,
             "#46039f"
            ],
            [
             0.2222222222222222,
             "#7201a8"
            ],
            [
             0.3333333333333333,
             "#9c179e"
            ],
            [
             0.4444444444444444,
             "#bd3786"
            ],
            [
             0.5555555555555556,
             "#d8576b"
            ],
            [
             0.6666666666666666,
             "#ed7953"
            ],
            [
             0.7777777777777778,
             "#fb9f3a"
            ],
            [
             0.8888888888888888,
             "#fdca26"
            ],
            [
             1,
             "#f0f921"
            ]
           ],
           "sequentialminus": [
            [
             0,
             "#0d0887"
            ],
            [
             0.1111111111111111,
             "#46039f"
            ],
            [
             0.2222222222222222,
             "#7201a8"
            ],
            [
             0.3333333333333333,
             "#9c179e"
            ],
            [
             0.4444444444444444,
             "#bd3786"
            ],
            [
             0.5555555555555556,
             "#d8576b"
            ],
            [
             0.6666666666666666,
             "#ed7953"
            ],
            [
             0.7777777777777778,
             "#fb9f3a"
            ],
            [
             0.8888888888888888,
             "#fdca26"
            ],
            [
             1,
             "#f0f921"
            ]
           ]
          },
          "colorway": [
           "#636efa",
           "#EF553B",
           "#00cc96",
           "#ab63fa",
           "#FFA15A",
           "#19d3f3",
           "#FF6692",
           "#B6E880",
           "#FF97FF",
           "#FECB52"
          ],
          "font": {
           "color": "#2a3f5f"
          },
          "geo": {
           "bgcolor": "white",
           "lakecolor": "white",
           "landcolor": "#E5ECF6",
           "showlakes": true,
           "showland": true,
           "subunitcolor": "white"
          },
          "hoverlabel": {
           "align": "left"
          },
          "hovermode": "closest",
          "mapbox": {
           "style": "light"
          },
          "paper_bgcolor": "white",
          "plot_bgcolor": "#E5ECF6",
          "polar": {
           "angularaxis": {
            "gridcolor": "white",
            "linecolor": "white",
            "ticks": ""
           },
           "bgcolor": "#E5ECF6",
           "radialaxis": {
            "gridcolor": "white",
            "linecolor": "white",
            "ticks": ""
           }
          },
          "scene": {
           "xaxis": {
            "backgroundcolor": "#E5ECF6",
            "gridcolor": "white",
            "gridwidth": 2,
            "linecolor": "white",
            "showbackground": true,
            "ticks": "",
            "zerolinecolor": "white"
           },
           "yaxis": {
            "backgroundcolor": "#E5ECF6",
            "gridcolor": "white",
            "gridwidth": 2,
            "linecolor": "white",
            "showbackground": true,
            "ticks": "",
            "zerolinecolor": "white"
           },
           "zaxis": {
            "backgroundcolor": "#E5ECF6",
            "gridcolor": "white",
            "gridwidth": 2,
            "linecolor": "white",
            "showbackground": true,
            "ticks": "",
            "zerolinecolor": "white"
           }
          },
          "shapedefaults": {
           "line": {
            "color": "#2a3f5f"
           }
          },
          "ternary": {
           "aaxis": {
            "gridcolor": "white",
            "linecolor": "white",
            "ticks": ""
           },
           "baxis": {
            "gridcolor": "white",
            "linecolor": "white",
            "ticks": ""
           },
           "bgcolor": "#E5ECF6",
           "caxis": {
            "gridcolor": "white",
            "linecolor": "white",
            "ticks": ""
           }
          },
          "title": {
           "x": 0.05
          },
          "xaxis": {
           "automargin": true,
           "gridcolor": "white",
           "linecolor": "white",
           "ticks": "",
           "title": {
            "standoff": 15
           },
           "zerolinecolor": "white",
           "zerolinewidth": 2
          },
          "yaxis": {
           "automargin": true,
           "gridcolor": "white",
           "linecolor": "white",
           "ticks": "",
           "title": {
            "standoff": 15
           },
           "zerolinecolor": "white",
           "zerolinewidth": 2
          }
         }
        },
        "title": {
         "font": {
          "color": "#4D5663"
         },
         "text": "Gráfico de barras"
        },
        "xaxis": {
         "gridcolor": "#E1E5ED",
         "showgrid": true,
         "tickfont": {
          "color": "#4D5663"
         },
         "title": {
          "font": {
           "color": "#4D5663"
          },
          "text": ""
         },
         "zerolinecolor": "#E1E5ED"
        },
        "yaxis": {
         "gridcolor": "#E1E5ED",
         "showgrid": true,
         "tickfont": {
          "color": "#4D5663"
         },
         "title": {
          "font": {
           "color": "#4D5663"
          },
          "text": ""
         },
         "zerolinecolor": "#E1E5ED"
        }
       }
      },
      "text/html": [
       "<div>\n",
       "        \n",
       "        \n",
       "            <div id=\"21b24667-4783-4ace-96a8-1018b1e4e9ce\" class=\"plotly-graph-div\" style=\"height:525px; width:100%;\"></div>\n",
       "            <script type=\"text/javascript\">\n",
       "                require([\"plotly\"], function(Plotly) {\n",
       "                    window.PLOTLYENV=window.PLOTLYENV || {};\n",
       "                    window.PLOTLYENV.BASE_URL='https://plot.ly';\n",
       "                    \n",
       "                if (document.getElementById(\"21b24667-4783-4ace-96a8-1018b1e4e9ce\")) {\n",
       "                    Plotly.newPlot(\n",
       "                        '21b24667-4783-4ace-96a8-1018b1e4e9ce',\n",
       "                        [{\"marker\": {\"color\": \"rgba(255, 153, 51, 0.6)\", \"line\": {\"color\": \"rgba(255, 153, 51, 1.0)\", \"width\": 1}}, \"name\": \"sequence_size\", \"orientation\": \"v\", \"text\": \"\", \"type\": \"bar\", \"x\": [0.0, 1.0, 2.0, 3.0, 4.0, 5.0, 6.0, 7.0, 8.0, 9.0, 10.0, 11.0, 12.0, 13.0, 14.0, 16.0, 15.0, 17.0], \"y\": [6100, 3794, 2361, 1544, 954, 582, 373, 259, 135, 113, 61, 29, 25, 15, 11, 4, 4, 3]}],\n",
       "                        {\"legend\": {\"bgcolor\": \"#F5F6F9\", \"font\": {\"color\": \"#4D5663\"}}, \"paper_bgcolor\": \"#F5F6F9\", \"plot_bgcolor\": \"#F5F6F9\", \"template\": {\"data\": {\"bar\": [{\"error_x\": {\"color\": \"#2a3f5f\"}, \"error_y\": {\"color\": \"#2a3f5f\"}, \"marker\": {\"line\": {\"color\": \"#E5ECF6\", \"width\": 0.5}}, \"type\": \"bar\"}], \"barpolar\": [{\"marker\": {\"line\": {\"color\": \"#E5ECF6\", \"width\": 0.5}}, \"type\": \"barpolar\"}], \"carpet\": [{\"aaxis\": {\"endlinecolor\": \"#2a3f5f\", \"gridcolor\": \"white\", \"linecolor\": \"white\", \"minorgridcolor\": \"white\", \"startlinecolor\": \"#2a3f5f\"}, \"baxis\": {\"endlinecolor\": \"#2a3f5f\", \"gridcolor\": \"white\", \"linecolor\": \"white\", \"minorgridcolor\": \"white\", \"startlinecolor\": \"#2a3f5f\"}, \"type\": \"carpet\"}], \"choropleth\": [{\"colorbar\": {\"outlinewidth\": 0, \"ticks\": \"\"}, \"type\": \"choropleth\"}], \"contour\": [{\"colorbar\": {\"outlinewidth\": 0, \"ticks\": \"\"}, \"colorscale\": [[0.0, \"#0d0887\"], [0.1111111111111111, \"#46039f\"], [0.2222222222222222, \"#7201a8\"], [0.3333333333333333, \"#9c179e\"], [0.4444444444444444, \"#bd3786\"], [0.5555555555555556, \"#d8576b\"], [0.6666666666666666, \"#ed7953\"], [0.7777777777777778, \"#fb9f3a\"], [0.8888888888888888, \"#fdca26\"], [1.0, \"#f0f921\"]], \"type\": \"contour\"}], \"contourcarpet\": [{\"colorbar\": {\"outlinewidth\": 0, \"ticks\": \"\"}, \"type\": \"contourcarpet\"}], \"heatmap\": [{\"colorbar\": {\"outlinewidth\": 0, \"ticks\": \"\"}, \"colorscale\": [[0.0, \"#0d0887\"], [0.1111111111111111, \"#46039f\"], [0.2222222222222222, \"#7201a8\"], [0.3333333333333333, \"#9c179e\"], [0.4444444444444444, \"#bd3786\"], [0.5555555555555556, \"#d8576b\"], [0.6666666666666666, \"#ed7953\"], [0.7777777777777778, \"#fb9f3a\"], [0.8888888888888888, \"#fdca26\"], [1.0, \"#f0f921\"]], \"type\": \"heatmap\"}], \"heatmapgl\": [{\"colorbar\": {\"outlinewidth\": 0, \"ticks\": \"\"}, \"colorscale\": [[0.0, \"#0d0887\"], [0.1111111111111111, \"#46039f\"], [0.2222222222222222, \"#7201a8\"], [0.3333333333333333, \"#9c179e\"], [0.4444444444444444, \"#bd3786\"], [0.5555555555555556, \"#d8576b\"], [0.6666666666666666, \"#ed7953\"], [0.7777777777777778, \"#fb9f3a\"], [0.8888888888888888, \"#fdca26\"], [1.0, \"#f0f921\"]], \"type\": \"heatmapgl\"}], \"histogram\": [{\"marker\": {\"colorbar\": {\"outlinewidth\": 0, \"ticks\": \"\"}}, \"type\": \"histogram\"}], \"histogram2d\": [{\"colorbar\": {\"outlinewidth\": 0, \"ticks\": \"\"}, \"colorscale\": [[0.0, \"#0d0887\"], [0.1111111111111111, \"#46039f\"], [0.2222222222222222, \"#7201a8\"], [0.3333333333333333, \"#9c179e\"], [0.4444444444444444, \"#bd3786\"], [0.5555555555555556, \"#d8576b\"], [0.6666666666666666, \"#ed7953\"], [0.7777777777777778, \"#fb9f3a\"], [0.8888888888888888, \"#fdca26\"], [1.0, \"#f0f921\"]], \"type\": \"histogram2d\"}], \"histogram2dcontour\": [{\"colorbar\": {\"outlinewidth\": 0, \"ticks\": \"\"}, \"colorscale\": [[0.0, \"#0d0887\"], [0.1111111111111111, \"#46039f\"], [0.2222222222222222, \"#7201a8\"], [0.3333333333333333, \"#9c179e\"], [0.4444444444444444, \"#bd3786\"], [0.5555555555555556, \"#d8576b\"], [0.6666666666666666, \"#ed7953\"], [0.7777777777777778, \"#fb9f3a\"], [0.8888888888888888, \"#fdca26\"], [1.0, \"#f0f921\"]], \"type\": \"histogram2dcontour\"}], \"mesh3d\": [{\"colorbar\": {\"outlinewidth\": 0, \"ticks\": \"\"}, \"type\": \"mesh3d\"}], \"parcoords\": [{\"line\": {\"colorbar\": {\"outlinewidth\": 0, \"ticks\": \"\"}}, \"type\": \"parcoords\"}], \"pie\": [{\"automargin\": true, \"type\": \"pie\"}], \"scatter\": [{\"marker\": {\"colorbar\": {\"outlinewidth\": 0, \"ticks\": \"\"}}, \"type\": \"scatter\"}], \"scatter3d\": [{\"line\": {\"colorbar\": {\"outlinewidth\": 0, \"ticks\": \"\"}}, \"marker\": {\"colorbar\": {\"outlinewidth\": 0, \"ticks\": \"\"}}, \"type\": \"scatter3d\"}], \"scattercarpet\": [{\"marker\": {\"colorbar\": {\"outlinewidth\": 0, \"ticks\": \"\"}}, \"type\": \"scattercarpet\"}], \"scattergeo\": [{\"marker\": {\"colorbar\": {\"outlinewidth\": 0, \"ticks\": \"\"}}, \"type\": \"scattergeo\"}], \"scattergl\": [{\"marker\": {\"colorbar\": {\"outlinewidth\": 0, \"ticks\": \"\"}}, \"type\": \"scattergl\"}], \"scattermapbox\": [{\"marker\": {\"colorbar\": {\"outlinewidth\": 0, \"ticks\": \"\"}}, \"type\": \"scattermapbox\"}], \"scatterpolar\": [{\"marker\": {\"colorbar\": {\"outlinewidth\": 0, \"ticks\": \"\"}}, \"type\": \"scatterpolar\"}], \"scatterpolargl\": [{\"marker\": {\"colorbar\": {\"outlinewidth\": 0, \"ticks\": \"\"}}, \"type\": \"scatterpolargl\"}], \"scatterternary\": [{\"marker\": {\"colorbar\": {\"outlinewidth\": 0, \"ticks\": \"\"}}, \"type\": \"scatterternary\"}], \"surface\": [{\"colorbar\": {\"outlinewidth\": 0, \"ticks\": \"\"}, \"colorscale\": [[0.0, \"#0d0887\"], [0.1111111111111111, \"#46039f\"], [0.2222222222222222, \"#7201a8\"], [0.3333333333333333, \"#9c179e\"], [0.4444444444444444, \"#bd3786\"], [0.5555555555555556, \"#d8576b\"], [0.6666666666666666, \"#ed7953\"], [0.7777777777777778, \"#fb9f3a\"], [0.8888888888888888, \"#fdca26\"], [1.0, \"#f0f921\"]], \"type\": \"surface\"}], \"table\": [{\"cells\": {\"fill\": {\"color\": \"#EBF0F8\"}, \"line\": {\"color\": \"white\"}}, \"header\": {\"fill\": {\"color\": \"#C8D4E3\"}, \"line\": {\"color\": \"white\"}}, \"type\": \"table\"}]}, \"layout\": {\"annotationdefaults\": {\"arrowcolor\": \"#2a3f5f\", \"arrowhead\": 0, \"arrowwidth\": 1}, \"coloraxis\": {\"colorbar\": {\"outlinewidth\": 0, \"ticks\": \"\"}}, \"colorscale\": {\"diverging\": [[0, \"#8e0152\"], [0.1, \"#c51b7d\"], [0.2, \"#de77ae\"], [0.3, \"#f1b6da\"], [0.4, \"#fde0ef\"], [0.5, \"#f7f7f7\"], [0.6, \"#e6f5d0\"], [0.7, \"#b8e186\"], [0.8, \"#7fbc41\"], [0.9, \"#4d9221\"], [1, \"#276419\"]], \"sequential\": [[0.0, \"#0d0887\"], [0.1111111111111111, \"#46039f\"], [0.2222222222222222, \"#7201a8\"], [0.3333333333333333, \"#9c179e\"], [0.4444444444444444, \"#bd3786\"], [0.5555555555555556, \"#d8576b\"], [0.6666666666666666, \"#ed7953\"], [0.7777777777777778, \"#fb9f3a\"], [0.8888888888888888, \"#fdca26\"], [1.0, \"#f0f921\"]], \"sequentialminus\": [[0.0, \"#0d0887\"], [0.1111111111111111, \"#46039f\"], [0.2222222222222222, \"#7201a8\"], [0.3333333333333333, \"#9c179e\"], [0.4444444444444444, \"#bd3786\"], [0.5555555555555556, \"#d8576b\"], [0.6666666666666666, \"#ed7953\"], [0.7777777777777778, \"#fb9f3a\"], [0.8888888888888888, \"#fdca26\"], [1.0, \"#f0f921\"]]}, \"colorway\": [\"#636efa\", \"#EF553B\", \"#00cc96\", \"#ab63fa\", \"#FFA15A\", \"#19d3f3\", \"#FF6692\", \"#B6E880\", \"#FF97FF\", \"#FECB52\"], \"font\": {\"color\": \"#2a3f5f\"}, \"geo\": {\"bgcolor\": \"white\", \"lakecolor\": \"white\", \"landcolor\": \"#E5ECF6\", \"showlakes\": true, \"showland\": true, \"subunitcolor\": \"white\"}, \"hoverlabel\": {\"align\": \"left\"}, \"hovermode\": \"closest\", \"mapbox\": {\"style\": \"light\"}, \"paper_bgcolor\": \"white\", \"plot_bgcolor\": \"#E5ECF6\", \"polar\": {\"angularaxis\": {\"gridcolor\": \"white\", \"linecolor\": \"white\", \"ticks\": \"\"}, \"bgcolor\": \"#E5ECF6\", \"radialaxis\": {\"gridcolor\": \"white\", \"linecolor\": \"white\", \"ticks\": \"\"}}, \"scene\": {\"xaxis\": {\"backgroundcolor\": \"#E5ECF6\", \"gridcolor\": \"white\", \"gridwidth\": 2, \"linecolor\": \"white\", \"showbackground\": true, \"ticks\": \"\", \"zerolinecolor\": \"white\"}, \"yaxis\": {\"backgroundcolor\": \"#E5ECF6\", \"gridcolor\": \"white\", \"gridwidth\": 2, \"linecolor\": \"white\", \"showbackground\": true, \"ticks\": \"\", \"zerolinecolor\": \"white\"}, \"zaxis\": {\"backgroundcolor\": \"#E5ECF6\", \"gridcolor\": \"white\", \"gridwidth\": 2, \"linecolor\": \"white\", \"showbackground\": true, \"ticks\": \"\", \"zerolinecolor\": \"white\"}}, \"shapedefaults\": {\"line\": {\"color\": \"#2a3f5f\"}}, \"ternary\": {\"aaxis\": {\"gridcolor\": \"white\", \"linecolor\": \"white\", \"ticks\": \"\"}, \"baxis\": {\"gridcolor\": \"white\", \"linecolor\": \"white\", \"ticks\": \"\"}, \"bgcolor\": \"#E5ECF6\", \"caxis\": {\"gridcolor\": \"white\", \"linecolor\": \"white\", \"ticks\": \"\"}}, \"title\": {\"x\": 0.05}, \"xaxis\": {\"automargin\": true, \"gridcolor\": \"white\", \"linecolor\": \"white\", \"ticks\": \"\", \"title\": {\"standoff\": 15}, \"zerolinecolor\": \"white\", \"zerolinewidth\": 2}, \"yaxis\": {\"automargin\": true, \"gridcolor\": \"white\", \"linecolor\": \"white\", \"ticks\": \"\", \"title\": {\"standoff\": 15}, \"zerolinecolor\": \"white\", \"zerolinewidth\": 2}}}, \"title\": {\"font\": {\"color\": \"#4D5663\"}, \"text\": \"Gr\\u00e1fico de barras\"}, \"xaxis\": {\"gridcolor\": \"#E1E5ED\", \"showgrid\": true, \"tickfont\": {\"color\": \"#4D5663\"}, \"title\": {\"font\": {\"color\": \"#4D5663\"}, \"text\": \"\"}, \"zerolinecolor\": \"#E1E5ED\"}, \"yaxis\": {\"gridcolor\": \"#E1E5ED\", \"showgrid\": true, \"tickfont\": {\"color\": \"#4D5663\"}, \"title\": {\"font\": {\"color\": \"#4D5663\"}, \"text\": \"\"}, \"zerolinecolor\": \"#E1E5ED\"}},\n",
       "                        {\"showLink\": true, \"plotlyServerURL\": \"https://plot.ly\", \"responsive\": true, \"linkText\": \"Export to plot.ly\"}\n",
       "                    ).then(function(){\n",
       "                            \n",
       "var gd = document.getElementById('21b24667-4783-4ace-96a8-1018b1e4e9ce');\n",
       "var x = new MutationObserver(function (mutations, observer) {{\n",
       "        var display = window.getComputedStyle(gd).display;\n",
       "        if (!display || display === 'none') {{\n",
       "            console.log([gd, 'removed!']);\n",
       "            Plotly.purge(gd);\n",
       "            observer.disconnect();\n",
       "        }}\n",
       "}});\n",
       "\n",
       "// Listen for the removal of the full notebook cells\n",
       "var notebookContainer = gd.closest('#notebook-container');\n",
       "if (notebookContainer) {{\n",
       "    x.observe(notebookContainer, {childList: true});\n",
       "}}\n",
       "\n",
       "// Listen for the clearing of the current output cell\n",
       "var outputEl = gd.closest('.output');\n",
       "if (outputEl) {{\n",
       "    x.observe(outputEl, {childList: true});\n",
       "}}\n",
       "\n",
       "                        })\n",
       "                };\n",
       "                });\n",
       "            </script>\n",
       "        </div>"
      ]
     },
     "metadata": {},
     "output_type": "display_data"
    }
   ],
   "source": [
    "quantidade_sequencias = df['sequence_size'].value_counts()\n",
    "quantidade_sequencias.iplot(kind='bar', title='Gráfico de barras')"
   ]
  },
  {
   "cell_type": "markdown",
   "metadata": {},
   "source": [
    "### Extraindo o dia da data e criando uma nova coluna"
   ]
  },
  {
   "cell_type": "code",
   "execution_count": 72,
   "metadata": {},
   "outputs": [],
   "source": [
    "# df['datetime'] = pd.to_datetime(df['datetime'], errors='coerce')\n",
    "\n",
    "df['day'] = df.datetime.dt.to_period('D').astype(str)"
   ]
  },
  {
   "cell_type": "markdown",
   "metadata": {},
   "source": [
    "### Soma os unders em sequencia para cada dia"
   ]
  },
  {
   "cell_type": "code",
   "execution_count": 94,
   "metadata": {},
   "outputs": [],
   "source": [
    "unders_por_dia = df.groupby(by='day').sequence_size.sum()"
   ]
  },
  {
   "cell_type": "code",
   "execution_count": 95,
   "metadata": {},
   "outputs": [
    {
     "data": {
      "application/vnd.plotly.v1+json": {
       "config": {
        "linkText": "Export to plot.ly",
        "plotlyServerURL": "https://plot.ly",
        "showLink": false
       },
       "data": [
        {
         "type": "scatter",
         "x": [
          "2020-01-21",
          "2020-01-22",
          "2020-01-23",
          "2020-01-24",
          "2020-01-25",
          "2020-01-26",
          "2020-01-27",
          "2020-01-28",
          "2020-01-29",
          "2020-01-30",
          "2020-01-31",
          "2020-02-01",
          "2020-02-02",
          "2020-02-03",
          "2020-02-04",
          "2020-02-05",
          "2020-02-06",
          "2020-02-07",
          "2020-02-08",
          "2020-02-09",
          "2020-02-10",
          "2020-02-11",
          "2020-02-12",
          "2020-02-13",
          "2020-02-14",
          "2020-02-15",
          "2020-02-16",
          "2020-02-17",
          "2020-02-18",
          "2020-02-19",
          "2020-02-20",
          "2020-02-21",
          "2020-02-22",
          "2020-02-23",
          "2020-02-24",
          "2020-02-25",
          "2020-02-26",
          "2020-02-27",
          "2020-02-28",
          "2020-02-29",
          "2020-03-01",
          "2020-03-02",
          "2020-03-03",
          "2020-03-04",
          "2020-03-05",
          "2020-03-06",
          "2020-03-07",
          "2020-03-08",
          "2020-03-09",
          "2020-03-10",
          "2020-03-11",
          "2020-03-12",
          "2020-03-13",
          "2020-03-14",
          "2020-03-15",
          "2020-03-16",
          "2020-03-17",
          "2020-03-18",
          "2020-03-19",
          "2020-03-20",
          "2020-03-21",
          "2020-03-22",
          "2020-03-23",
          "2020-03-24",
          "2020-03-25",
          "2020-03-26",
          "2020-03-27",
          "2020-03-28",
          "2020-03-29",
          "2020-03-30",
          "2020-03-31",
          "2020-04-01",
          "2020-04-02",
          "2020-04-03",
          "2020-04-04",
          "2020-04-05",
          "2020-04-06",
          "2020-04-07",
          "2020-04-08",
          "2020-04-09",
          "2020-04-10",
          "2020-04-11",
          "2020-04-12",
          "2020-04-13",
          "2020-04-14",
          "2020-04-15",
          "2020-04-16",
          "2020-04-17",
          "2020-04-18",
          "2020-04-19"
         ],
         "y": [
          303,
          301,
          306,
          318,
          311,
          290,
          285,
          314,
          304,
          284,
          276,
          312,
          301,
          314,
          299,
          300,
          307,
          305,
          295,
          299,
          315,
          314,
          290,
          281,
          299,
          292,
          316,
          303,
          284,
          303,
          282,
          310,
          282,
          296,
          283,
          303,
          291,
          305,
          316,
          295,
          301,
          294,
          280,
          280,
          296,
          292,
          302,
          301,
          302,
          298,
          301,
          316,
          286,
          314,
          312,
          305,
          303,
          319,
          307,
          308,
          288,
          300,
          299,
          301,
          314,
          303,
          284,
          291,
          294,
          305,
          300,
          303,
          317,
          307,
          266,
          298,
          294,
          281,
          297,
          286,
          316,
          286,
          301,
          295,
          295,
          304,
          301,
          278,
          292,
          295
         ]
        }
       ],
       "layout": {
        "template": {
         "data": {
          "bar": [
           {
            "error_x": {
             "color": "#2a3f5f"
            },
            "error_y": {
             "color": "#2a3f5f"
            },
            "marker": {
             "line": {
              "color": "#E5ECF6",
              "width": 0.5
             }
            },
            "type": "bar"
           }
          ],
          "barpolar": [
           {
            "marker": {
             "line": {
              "color": "#E5ECF6",
              "width": 0.5
             }
            },
            "type": "barpolar"
           }
          ],
          "carpet": [
           {
            "aaxis": {
             "endlinecolor": "#2a3f5f",
             "gridcolor": "white",
             "linecolor": "white",
             "minorgridcolor": "white",
             "startlinecolor": "#2a3f5f"
            },
            "baxis": {
             "endlinecolor": "#2a3f5f",
             "gridcolor": "white",
             "linecolor": "white",
             "minorgridcolor": "white",
             "startlinecolor": "#2a3f5f"
            },
            "type": "carpet"
           }
          ],
          "choropleth": [
           {
            "colorbar": {
             "outlinewidth": 0,
             "ticks": ""
            },
            "type": "choropleth"
           }
          ],
          "contour": [
           {
            "colorbar": {
             "outlinewidth": 0,
             "ticks": ""
            },
            "colorscale": [
             [
              0,
              "#0d0887"
             ],
             [
              0.1111111111111111,
              "#46039f"
             ],
             [
              0.2222222222222222,
              "#7201a8"
             ],
             [
              0.3333333333333333,
              "#9c179e"
             ],
             [
              0.4444444444444444,
              "#bd3786"
             ],
             [
              0.5555555555555556,
              "#d8576b"
             ],
             [
              0.6666666666666666,
              "#ed7953"
             ],
             [
              0.7777777777777778,
              "#fb9f3a"
             ],
             [
              0.8888888888888888,
              "#fdca26"
             ],
             [
              1,
              "#f0f921"
             ]
            ],
            "type": "contour"
           }
          ],
          "contourcarpet": [
           {
            "colorbar": {
             "outlinewidth": 0,
             "ticks": ""
            },
            "type": "contourcarpet"
           }
          ],
          "heatmap": [
           {
            "colorbar": {
             "outlinewidth": 0,
             "ticks": ""
            },
            "colorscale": [
             [
              0,
              "#0d0887"
             ],
             [
              0.1111111111111111,
              "#46039f"
             ],
             [
              0.2222222222222222,
              "#7201a8"
             ],
             [
              0.3333333333333333,
              "#9c179e"
             ],
             [
              0.4444444444444444,
              "#bd3786"
             ],
             [
              0.5555555555555556,
              "#d8576b"
             ],
             [
              0.6666666666666666,
              "#ed7953"
             ],
             [
              0.7777777777777778,
              "#fb9f3a"
             ],
             [
              0.8888888888888888,
              "#fdca26"
             ],
             [
              1,
              "#f0f921"
             ]
            ],
            "type": "heatmap"
           }
          ],
          "heatmapgl": [
           {
            "colorbar": {
             "outlinewidth": 0,
             "ticks": ""
            },
            "colorscale": [
             [
              0,
              "#0d0887"
             ],
             [
              0.1111111111111111,
              "#46039f"
             ],
             [
              0.2222222222222222,
              "#7201a8"
             ],
             [
              0.3333333333333333,
              "#9c179e"
             ],
             [
              0.4444444444444444,
              "#bd3786"
             ],
             [
              0.5555555555555556,
              "#d8576b"
             ],
             [
              0.6666666666666666,
              "#ed7953"
             ],
             [
              0.7777777777777778,
              "#fb9f3a"
             ],
             [
              0.8888888888888888,
              "#fdca26"
             ],
             [
              1,
              "#f0f921"
             ]
            ],
            "type": "heatmapgl"
           }
          ],
          "histogram": [
           {
            "marker": {
             "colorbar": {
              "outlinewidth": 0,
              "ticks": ""
             }
            },
            "type": "histogram"
           }
          ],
          "histogram2d": [
           {
            "colorbar": {
             "outlinewidth": 0,
             "ticks": ""
            },
            "colorscale": [
             [
              0,
              "#0d0887"
             ],
             [
              0.1111111111111111,
              "#46039f"
             ],
             [
              0.2222222222222222,
              "#7201a8"
             ],
             [
              0.3333333333333333,
              "#9c179e"
             ],
             [
              0.4444444444444444,
              "#bd3786"
             ],
             [
              0.5555555555555556,
              "#d8576b"
             ],
             [
              0.6666666666666666,
              "#ed7953"
             ],
             [
              0.7777777777777778,
              "#fb9f3a"
             ],
             [
              0.8888888888888888,
              "#fdca26"
             ],
             [
              1,
              "#f0f921"
             ]
            ],
            "type": "histogram2d"
           }
          ],
          "histogram2dcontour": [
           {
            "colorbar": {
             "outlinewidth": 0,
             "ticks": ""
            },
            "colorscale": [
             [
              0,
              "#0d0887"
             ],
             [
              0.1111111111111111,
              "#46039f"
             ],
             [
              0.2222222222222222,
              "#7201a8"
             ],
             [
              0.3333333333333333,
              "#9c179e"
             ],
             [
              0.4444444444444444,
              "#bd3786"
             ],
             [
              0.5555555555555556,
              "#d8576b"
             ],
             [
              0.6666666666666666,
              "#ed7953"
             ],
             [
              0.7777777777777778,
              "#fb9f3a"
             ],
             [
              0.8888888888888888,
              "#fdca26"
             ],
             [
              1,
              "#f0f921"
             ]
            ],
            "type": "histogram2dcontour"
           }
          ],
          "mesh3d": [
           {
            "colorbar": {
             "outlinewidth": 0,
             "ticks": ""
            },
            "type": "mesh3d"
           }
          ],
          "parcoords": [
           {
            "line": {
             "colorbar": {
              "outlinewidth": 0,
              "ticks": ""
             }
            },
            "type": "parcoords"
           }
          ],
          "pie": [
           {
            "automargin": true,
            "type": "pie"
           }
          ],
          "scatter": [
           {
            "marker": {
             "colorbar": {
              "outlinewidth": 0,
              "ticks": ""
             }
            },
            "type": "scatter"
           }
          ],
          "scatter3d": [
           {
            "line": {
             "colorbar": {
              "outlinewidth": 0,
              "ticks": ""
             }
            },
            "marker": {
             "colorbar": {
              "outlinewidth": 0,
              "ticks": ""
             }
            },
            "type": "scatter3d"
           }
          ],
          "scattercarpet": [
           {
            "marker": {
             "colorbar": {
              "outlinewidth": 0,
              "ticks": ""
             }
            },
            "type": "scattercarpet"
           }
          ],
          "scattergeo": [
           {
            "marker": {
             "colorbar": {
              "outlinewidth": 0,
              "ticks": ""
             }
            },
            "type": "scattergeo"
           }
          ],
          "scattergl": [
           {
            "marker": {
             "colorbar": {
              "outlinewidth": 0,
              "ticks": ""
             }
            },
            "type": "scattergl"
           }
          ],
          "scattermapbox": [
           {
            "marker": {
             "colorbar": {
              "outlinewidth": 0,
              "ticks": ""
             }
            },
            "type": "scattermapbox"
           }
          ],
          "scatterpolar": [
           {
            "marker": {
             "colorbar": {
              "outlinewidth": 0,
              "ticks": ""
             }
            },
            "type": "scatterpolar"
           }
          ],
          "scatterpolargl": [
           {
            "marker": {
             "colorbar": {
              "outlinewidth": 0,
              "ticks": ""
             }
            },
            "type": "scatterpolargl"
           }
          ],
          "scatterternary": [
           {
            "marker": {
             "colorbar": {
              "outlinewidth": 0,
              "ticks": ""
             }
            },
            "type": "scatterternary"
           }
          ],
          "surface": [
           {
            "colorbar": {
             "outlinewidth": 0,
             "ticks": ""
            },
            "colorscale": [
             [
              0,
              "#0d0887"
             ],
             [
              0.1111111111111111,
              "#46039f"
             ],
             [
              0.2222222222222222,
              "#7201a8"
             ],
             [
              0.3333333333333333,
              "#9c179e"
             ],
             [
              0.4444444444444444,
              "#bd3786"
             ],
             [
              0.5555555555555556,
              "#d8576b"
             ],
             [
              0.6666666666666666,
              "#ed7953"
             ],
             [
              0.7777777777777778,
              "#fb9f3a"
             ],
             [
              0.8888888888888888,
              "#fdca26"
             ],
             [
              1,
              "#f0f921"
             ]
            ],
            "type": "surface"
           }
          ],
          "table": [
           {
            "cells": {
             "fill": {
              "color": "#EBF0F8"
             },
             "line": {
              "color": "white"
             }
            },
            "header": {
             "fill": {
              "color": "#C8D4E3"
             },
             "line": {
              "color": "white"
             }
            },
            "type": "table"
           }
          ]
         },
         "layout": {
          "annotationdefaults": {
           "arrowcolor": "#2a3f5f",
           "arrowhead": 0,
           "arrowwidth": 1
          },
          "coloraxis": {
           "colorbar": {
            "outlinewidth": 0,
            "ticks": ""
           }
          },
          "colorscale": {
           "diverging": [
            [
             0,
             "#8e0152"
            ],
            [
             0.1,
             "#c51b7d"
            ],
            [
             0.2,
             "#de77ae"
            ],
            [
             0.3,
             "#f1b6da"
            ],
            [
             0.4,
             "#fde0ef"
            ],
            [
             0.5,
             "#f7f7f7"
            ],
            [
             0.6,
             "#e6f5d0"
            ],
            [
             0.7,
             "#b8e186"
            ],
            [
             0.8,
             "#7fbc41"
            ],
            [
             0.9,
             "#4d9221"
            ],
            [
             1,
             "#276419"
            ]
           ],
           "sequential": [
            [
             0,
             "#0d0887"
            ],
            [
             0.1111111111111111,
             "#46039f"
            ],
            [
             0.2222222222222222,
             "#7201a8"
            ],
            [
             0.3333333333333333,
             "#9c179e"
            ],
            [
             0.4444444444444444,
             "#bd3786"
            ],
            [
             0.5555555555555556,
             "#d8576b"
            ],
            [
             0.6666666666666666,
             "#ed7953"
            ],
            [
             0.7777777777777778,
             "#fb9f3a"
            ],
            [
             0.8888888888888888,
             "#fdca26"
            ],
            [
             1,
             "#f0f921"
            ]
           ],
           "sequentialminus": [
            [
             0,
             "#0d0887"
            ],
            [
             0.1111111111111111,
             "#46039f"
            ],
            [
             0.2222222222222222,
             "#7201a8"
            ],
            [
             0.3333333333333333,
             "#9c179e"
            ],
            [
             0.4444444444444444,
             "#bd3786"
            ],
            [
             0.5555555555555556,
             "#d8576b"
            ],
            [
             0.6666666666666666,
             "#ed7953"
            ],
            [
             0.7777777777777778,
             "#fb9f3a"
            ],
            [
             0.8888888888888888,
             "#fdca26"
            ],
            [
             1,
             "#f0f921"
            ]
           ]
          },
          "colorway": [
           "#636efa",
           "#EF553B",
           "#00cc96",
           "#ab63fa",
           "#FFA15A",
           "#19d3f3",
           "#FF6692",
           "#B6E880",
           "#FF97FF",
           "#FECB52"
          ],
          "font": {
           "color": "#2a3f5f"
          },
          "geo": {
           "bgcolor": "white",
           "lakecolor": "white",
           "landcolor": "#E5ECF6",
           "showlakes": true,
           "showland": true,
           "subunitcolor": "white"
          },
          "hoverlabel": {
           "align": "left"
          },
          "hovermode": "closest",
          "mapbox": {
           "style": "light"
          },
          "paper_bgcolor": "white",
          "plot_bgcolor": "#E5ECF6",
          "polar": {
           "angularaxis": {
            "gridcolor": "white",
            "linecolor": "white",
            "ticks": ""
           },
           "bgcolor": "#E5ECF6",
           "radialaxis": {
            "gridcolor": "white",
            "linecolor": "white",
            "ticks": ""
           }
          },
          "scene": {
           "xaxis": {
            "backgroundcolor": "#E5ECF6",
            "gridcolor": "white",
            "gridwidth": 2,
            "linecolor": "white",
            "showbackground": true,
            "ticks": "",
            "zerolinecolor": "white"
           },
           "yaxis": {
            "backgroundcolor": "#E5ECF6",
            "gridcolor": "white",
            "gridwidth": 2,
            "linecolor": "white",
            "showbackground": true,
            "ticks": "",
            "zerolinecolor": "white"
           },
           "zaxis": {
            "backgroundcolor": "#E5ECF6",
            "gridcolor": "white",
            "gridwidth": 2,
            "linecolor": "white",
            "showbackground": true,
            "ticks": "",
            "zerolinecolor": "white"
           }
          },
          "shapedefaults": {
           "line": {
            "color": "#2a3f5f"
           }
          },
          "ternary": {
           "aaxis": {
            "gridcolor": "white",
            "linecolor": "white",
            "ticks": ""
           },
           "baxis": {
            "gridcolor": "white",
            "linecolor": "white",
            "ticks": ""
           },
           "bgcolor": "#E5ECF6",
           "caxis": {
            "gridcolor": "white",
            "linecolor": "white",
            "ticks": ""
           }
          },
          "title": {
           "x": 0.05
          },
          "xaxis": {
           "automargin": true,
           "gridcolor": "white",
           "linecolor": "white",
           "ticks": "",
           "title": {
            "standoff": 15
           },
           "zerolinecolor": "white",
           "zerolinewidth": 2
          },
          "yaxis": {
           "automargin": true,
           "gridcolor": "white",
           "linecolor": "white",
           "ticks": "",
           "title": {
            "standoff": 15
           },
           "zerolinecolor": "white",
           "zerolinewidth": 2
          }
         }
        },
        "title": {
         "text": "Soma das Sequencias de Unders por dia"
        },
        "xaxis": {
         "title": {
          "text": "Periodo"
         }
        },
        "yaxis": {
         "title": {
          "text": "Quantidade"
         }
        }
       }
      },
      "text/html": [
       "<div>\n",
       "        \n",
       "        \n",
       "            <div id=\"130cfa78-22b7-48ac-91c0-a26164949253\" class=\"plotly-graph-div\" style=\"height:525px; width:100%;\"></div>\n",
       "            <script type=\"text/javascript\">\n",
       "                require([\"plotly\"], function(Plotly) {\n",
       "                    window.PLOTLYENV=window.PLOTLYENV || {};\n",
       "                    \n",
       "                if (document.getElementById(\"130cfa78-22b7-48ac-91c0-a26164949253\")) {\n",
       "                    Plotly.newPlot(\n",
       "                        '130cfa78-22b7-48ac-91c0-a26164949253',\n",
       "                        [{\"type\": \"scatter\", \"x\": [\"2020-01-21\", \"2020-01-22\", \"2020-01-23\", \"2020-01-24\", \"2020-01-25\", \"2020-01-26\", \"2020-01-27\", \"2020-01-28\", \"2020-01-29\", \"2020-01-30\", \"2020-01-31\", \"2020-02-01\", \"2020-02-02\", \"2020-02-03\", \"2020-02-04\", \"2020-02-05\", \"2020-02-06\", \"2020-02-07\", \"2020-02-08\", \"2020-02-09\", \"2020-02-10\", \"2020-02-11\", \"2020-02-12\", \"2020-02-13\", \"2020-02-14\", \"2020-02-15\", \"2020-02-16\", \"2020-02-17\", \"2020-02-18\", \"2020-02-19\", \"2020-02-20\", \"2020-02-21\", \"2020-02-22\", \"2020-02-23\", \"2020-02-24\", \"2020-02-25\", \"2020-02-26\", \"2020-02-27\", \"2020-02-28\", \"2020-02-29\", \"2020-03-01\", \"2020-03-02\", \"2020-03-03\", \"2020-03-04\", \"2020-03-05\", \"2020-03-06\", \"2020-03-07\", \"2020-03-08\", \"2020-03-09\", \"2020-03-10\", \"2020-03-11\", \"2020-03-12\", \"2020-03-13\", \"2020-03-14\", \"2020-03-15\", \"2020-03-16\", \"2020-03-17\", \"2020-03-18\", \"2020-03-19\", \"2020-03-20\", \"2020-03-21\", \"2020-03-22\", \"2020-03-23\", \"2020-03-24\", \"2020-03-25\", \"2020-03-26\", \"2020-03-27\", \"2020-03-28\", \"2020-03-29\", \"2020-03-30\", \"2020-03-31\", \"2020-04-01\", \"2020-04-02\", \"2020-04-03\", \"2020-04-04\", \"2020-04-05\", \"2020-04-06\", \"2020-04-07\", \"2020-04-08\", \"2020-04-09\", \"2020-04-10\", \"2020-04-11\", \"2020-04-12\", \"2020-04-13\", \"2020-04-14\", \"2020-04-15\", \"2020-04-16\", \"2020-04-17\", \"2020-04-18\", \"2020-04-19\"], \"y\": [303.0, 301.0, 306.0, 318.0, 311.0, 290.0, 285.0, 314.0, 304.0, 284.0, 276.0, 312.0, 301.0, 314.0, 299.0, 300.0, 307.0, 305.0, 295.0, 299.0, 315.0, 314.0, 290.0, 281.0, 299.0, 292.0, 316.0, 303.0, 284.0, 303.0, 282.0, 310.0, 282.0, 296.0, 283.0, 303.0, 291.0, 305.0, 316.0, 295.0, 301.0, 294.0, 280.0, 280.0, 296.0, 292.0, 302.0, 301.0, 302.0, 298.0, 301.0, 316.0, 286.0, 314.0, 312.0, 305.0, 303.0, 319.0, 307.0, 308.0, 288.0, 300.0, 299.0, 301.0, 314.0, 303.0, 284.0, 291.0, 294.0, 305.0, 300.0, 303.0, 317.0, 307.0, 266.0, 298.0, 294.0, 281.0, 297.0, 286.0, 316.0, 286.0, 301.0, 295.0, 295.0, 304.0, 301.0, 278.0, 292.0, 295.0]}],\n",
       "                        {\"template\": {\"data\": {\"bar\": [{\"error_x\": {\"color\": \"#2a3f5f\"}, \"error_y\": {\"color\": \"#2a3f5f\"}, \"marker\": {\"line\": {\"color\": \"#E5ECF6\", \"width\": 0.5}}, \"type\": \"bar\"}], \"barpolar\": [{\"marker\": {\"line\": {\"color\": \"#E5ECF6\", \"width\": 0.5}}, \"type\": \"barpolar\"}], \"carpet\": [{\"aaxis\": {\"endlinecolor\": \"#2a3f5f\", \"gridcolor\": \"white\", \"linecolor\": \"white\", \"minorgridcolor\": \"white\", \"startlinecolor\": \"#2a3f5f\"}, \"baxis\": {\"endlinecolor\": \"#2a3f5f\", \"gridcolor\": \"white\", \"linecolor\": \"white\", \"minorgridcolor\": \"white\", \"startlinecolor\": \"#2a3f5f\"}, \"type\": \"carpet\"}], \"choropleth\": [{\"colorbar\": {\"outlinewidth\": 0, \"ticks\": \"\"}, \"type\": \"choropleth\"}], \"contour\": [{\"colorbar\": {\"outlinewidth\": 0, \"ticks\": \"\"}, \"colorscale\": [[0.0, \"#0d0887\"], [0.1111111111111111, \"#46039f\"], [0.2222222222222222, \"#7201a8\"], [0.3333333333333333, \"#9c179e\"], [0.4444444444444444, \"#bd3786\"], [0.5555555555555556, \"#d8576b\"], [0.6666666666666666, \"#ed7953\"], [0.7777777777777778, \"#fb9f3a\"], [0.8888888888888888, \"#fdca26\"], [1.0, \"#f0f921\"]], \"type\": \"contour\"}], \"contourcarpet\": [{\"colorbar\": {\"outlinewidth\": 0, \"ticks\": \"\"}, \"type\": \"contourcarpet\"}], \"heatmap\": [{\"colorbar\": {\"outlinewidth\": 0, \"ticks\": \"\"}, \"colorscale\": [[0.0, \"#0d0887\"], [0.1111111111111111, \"#46039f\"], [0.2222222222222222, \"#7201a8\"], [0.3333333333333333, \"#9c179e\"], [0.4444444444444444, \"#bd3786\"], [0.5555555555555556, \"#d8576b\"], [0.6666666666666666, \"#ed7953\"], [0.7777777777777778, \"#fb9f3a\"], [0.8888888888888888, \"#fdca26\"], [1.0, \"#f0f921\"]], \"type\": \"heatmap\"}], \"heatmapgl\": [{\"colorbar\": {\"outlinewidth\": 0, \"ticks\": \"\"}, \"colorscale\": [[0.0, \"#0d0887\"], [0.1111111111111111, \"#46039f\"], [0.2222222222222222, \"#7201a8\"], [0.3333333333333333, \"#9c179e\"], [0.4444444444444444, \"#bd3786\"], [0.5555555555555556, \"#d8576b\"], [0.6666666666666666, \"#ed7953\"], [0.7777777777777778, \"#fb9f3a\"], [0.8888888888888888, \"#fdca26\"], [1.0, \"#f0f921\"]], \"type\": \"heatmapgl\"}], \"histogram\": [{\"marker\": {\"colorbar\": {\"outlinewidth\": 0, \"ticks\": \"\"}}, \"type\": \"histogram\"}], \"histogram2d\": [{\"colorbar\": {\"outlinewidth\": 0, \"ticks\": \"\"}, \"colorscale\": [[0.0, \"#0d0887\"], [0.1111111111111111, \"#46039f\"], [0.2222222222222222, \"#7201a8\"], [0.3333333333333333, \"#9c179e\"], [0.4444444444444444, \"#bd3786\"], [0.5555555555555556, \"#d8576b\"], [0.6666666666666666, \"#ed7953\"], [0.7777777777777778, \"#fb9f3a\"], [0.8888888888888888, \"#fdca26\"], [1.0, \"#f0f921\"]], \"type\": \"histogram2d\"}], \"histogram2dcontour\": [{\"colorbar\": {\"outlinewidth\": 0, \"ticks\": \"\"}, \"colorscale\": [[0.0, \"#0d0887\"], [0.1111111111111111, \"#46039f\"], [0.2222222222222222, \"#7201a8\"], [0.3333333333333333, \"#9c179e\"], [0.4444444444444444, \"#bd3786\"], [0.5555555555555556, \"#d8576b\"], [0.6666666666666666, \"#ed7953\"], [0.7777777777777778, \"#fb9f3a\"], [0.8888888888888888, \"#fdca26\"], [1.0, \"#f0f921\"]], \"type\": \"histogram2dcontour\"}], \"mesh3d\": [{\"colorbar\": {\"outlinewidth\": 0, \"ticks\": \"\"}, \"type\": \"mesh3d\"}], \"parcoords\": [{\"line\": {\"colorbar\": {\"outlinewidth\": 0, \"ticks\": \"\"}}, \"type\": \"parcoords\"}], \"pie\": [{\"automargin\": true, \"type\": \"pie\"}], \"scatter\": [{\"marker\": {\"colorbar\": {\"outlinewidth\": 0, \"ticks\": \"\"}}, \"type\": \"scatter\"}], \"scatter3d\": [{\"line\": {\"colorbar\": {\"outlinewidth\": 0, \"ticks\": \"\"}}, \"marker\": {\"colorbar\": {\"outlinewidth\": 0, \"ticks\": \"\"}}, \"type\": \"scatter3d\"}], \"scattercarpet\": [{\"marker\": {\"colorbar\": {\"outlinewidth\": 0, \"ticks\": \"\"}}, \"type\": \"scattercarpet\"}], \"scattergeo\": [{\"marker\": {\"colorbar\": {\"outlinewidth\": 0, \"ticks\": \"\"}}, \"type\": \"scattergeo\"}], \"scattergl\": [{\"marker\": {\"colorbar\": {\"outlinewidth\": 0, \"ticks\": \"\"}}, \"type\": \"scattergl\"}], \"scattermapbox\": [{\"marker\": {\"colorbar\": {\"outlinewidth\": 0, \"ticks\": \"\"}}, \"type\": \"scattermapbox\"}], \"scatterpolar\": [{\"marker\": {\"colorbar\": {\"outlinewidth\": 0, \"ticks\": \"\"}}, \"type\": \"scatterpolar\"}], \"scatterpolargl\": [{\"marker\": {\"colorbar\": {\"outlinewidth\": 0, \"ticks\": \"\"}}, \"type\": \"scatterpolargl\"}], \"scatterternary\": [{\"marker\": {\"colorbar\": {\"outlinewidth\": 0, \"ticks\": \"\"}}, \"type\": \"scatterternary\"}], \"surface\": [{\"colorbar\": {\"outlinewidth\": 0, \"ticks\": \"\"}, \"colorscale\": [[0.0, \"#0d0887\"], [0.1111111111111111, \"#46039f\"], [0.2222222222222222, \"#7201a8\"], [0.3333333333333333, \"#9c179e\"], [0.4444444444444444, \"#bd3786\"], [0.5555555555555556, \"#d8576b\"], [0.6666666666666666, \"#ed7953\"], [0.7777777777777778, \"#fb9f3a\"], [0.8888888888888888, \"#fdca26\"], [1.0, \"#f0f921\"]], \"type\": \"surface\"}], \"table\": [{\"cells\": {\"fill\": {\"color\": \"#EBF0F8\"}, \"line\": {\"color\": \"white\"}}, \"header\": {\"fill\": {\"color\": \"#C8D4E3\"}, \"line\": {\"color\": \"white\"}}, \"type\": \"table\"}]}, \"layout\": {\"annotationdefaults\": {\"arrowcolor\": \"#2a3f5f\", \"arrowhead\": 0, \"arrowwidth\": 1}, \"coloraxis\": {\"colorbar\": {\"outlinewidth\": 0, \"ticks\": \"\"}}, \"colorscale\": {\"diverging\": [[0, \"#8e0152\"], [0.1, \"#c51b7d\"], [0.2, \"#de77ae\"], [0.3, \"#f1b6da\"], [0.4, \"#fde0ef\"], [0.5, \"#f7f7f7\"], [0.6, \"#e6f5d0\"], [0.7, \"#b8e186\"], [0.8, \"#7fbc41\"], [0.9, \"#4d9221\"], [1, \"#276419\"]], \"sequential\": [[0.0, \"#0d0887\"], [0.1111111111111111, \"#46039f\"], [0.2222222222222222, \"#7201a8\"], [0.3333333333333333, \"#9c179e\"], [0.4444444444444444, \"#bd3786\"], [0.5555555555555556, \"#d8576b\"], [0.6666666666666666, \"#ed7953\"], [0.7777777777777778, \"#fb9f3a\"], [0.8888888888888888, \"#fdca26\"], [1.0, \"#f0f921\"]], \"sequentialminus\": [[0.0, \"#0d0887\"], [0.1111111111111111, \"#46039f\"], [0.2222222222222222, \"#7201a8\"], [0.3333333333333333, \"#9c179e\"], [0.4444444444444444, \"#bd3786\"], [0.5555555555555556, \"#d8576b\"], [0.6666666666666666, \"#ed7953\"], [0.7777777777777778, \"#fb9f3a\"], [0.8888888888888888, \"#fdca26\"], [1.0, \"#f0f921\"]]}, \"colorway\": [\"#636efa\", \"#EF553B\", \"#00cc96\", \"#ab63fa\", \"#FFA15A\", \"#19d3f3\", \"#FF6692\", \"#B6E880\", \"#FF97FF\", \"#FECB52\"], \"font\": {\"color\": \"#2a3f5f\"}, \"geo\": {\"bgcolor\": \"white\", \"lakecolor\": \"white\", \"landcolor\": \"#E5ECF6\", \"showlakes\": true, \"showland\": true, \"subunitcolor\": \"white\"}, \"hoverlabel\": {\"align\": \"left\"}, \"hovermode\": \"closest\", \"mapbox\": {\"style\": \"light\"}, \"paper_bgcolor\": \"white\", \"plot_bgcolor\": \"#E5ECF6\", \"polar\": {\"angularaxis\": {\"gridcolor\": \"white\", \"linecolor\": \"white\", \"ticks\": \"\"}, \"bgcolor\": \"#E5ECF6\", \"radialaxis\": {\"gridcolor\": \"white\", \"linecolor\": \"white\", \"ticks\": \"\"}}, \"scene\": {\"xaxis\": {\"backgroundcolor\": \"#E5ECF6\", \"gridcolor\": \"white\", \"gridwidth\": 2, \"linecolor\": \"white\", \"showbackground\": true, \"ticks\": \"\", \"zerolinecolor\": \"white\"}, \"yaxis\": {\"backgroundcolor\": \"#E5ECF6\", \"gridcolor\": \"white\", \"gridwidth\": 2, \"linecolor\": \"white\", \"showbackground\": true, \"ticks\": \"\", \"zerolinecolor\": \"white\"}, \"zaxis\": {\"backgroundcolor\": \"#E5ECF6\", \"gridcolor\": \"white\", \"gridwidth\": 2, \"linecolor\": \"white\", \"showbackground\": true, \"ticks\": \"\", \"zerolinecolor\": \"white\"}}, \"shapedefaults\": {\"line\": {\"color\": \"#2a3f5f\"}}, \"ternary\": {\"aaxis\": {\"gridcolor\": \"white\", \"linecolor\": \"white\", \"ticks\": \"\"}, \"baxis\": {\"gridcolor\": \"white\", \"linecolor\": \"white\", \"ticks\": \"\"}, \"bgcolor\": \"#E5ECF6\", \"caxis\": {\"gridcolor\": \"white\", \"linecolor\": \"white\", \"ticks\": \"\"}}, \"title\": {\"x\": 0.05}, \"xaxis\": {\"automargin\": true, \"gridcolor\": \"white\", \"linecolor\": \"white\", \"ticks\": \"\", \"title\": {\"standoff\": 15}, \"zerolinecolor\": \"white\", \"zerolinewidth\": 2}, \"yaxis\": {\"automargin\": true, \"gridcolor\": \"white\", \"linecolor\": \"white\", \"ticks\": \"\", \"title\": {\"standoff\": 15}, \"zerolinecolor\": \"white\", \"zerolinewidth\": 2}}}, \"title\": {\"text\": \"Soma das Sequencias de Unders por dia\"}, \"xaxis\": {\"title\": {\"text\": \"Periodo\"}}, \"yaxis\": {\"title\": {\"text\": \"Quantidade\"}}},\n",
       "                        {\"responsive\": true}\n",
       "                    ).then(function(){\n",
       "                            \n",
       "var gd = document.getElementById('130cfa78-22b7-48ac-91c0-a26164949253');\n",
       "var x = new MutationObserver(function (mutations, observer) {{\n",
       "        var display = window.getComputedStyle(gd).display;\n",
       "        if (!display || display === 'none') {{\n",
       "            console.log([gd, 'removed!']);\n",
       "            Plotly.purge(gd);\n",
       "            observer.disconnect();\n",
       "        }}\n",
       "}});\n",
       "\n",
       "// Listen for the removal of the full notebook cells\n",
       "var notebookContainer = gd.closest('#notebook-container');\n",
       "if (notebookContainer) {{\n",
       "    x.observe(notebookContainer, {childList: true});\n",
       "}}\n",
       "\n",
       "// Listen for the clearing of the current output cell\n",
       "var outputEl = gd.closest('.output');\n",
       "if (outputEl) {{\n",
       "    x.observe(outputEl, {childList: true});\n",
       "}}\n",
       "\n",
       "                        })\n",
       "                };\n",
       "                });\n",
       "            </script>\n",
       "        </div>"
      ]
     },
     "metadata": {},
     "output_type": "display_data"
    }
   ],
   "source": [
    "data = [go.Scatter(x=unders_por_dia.index, y=unders_por_dia.values)]\n",
    "\n",
    "configuracoes_layout =  go.Layout(title='Soma das Sequencias de Unders por dia', yaxis={'title':'Quantidade'}, xaxis={'title': 'Periodo'})\n",
    "\n",
    "figura = go.Figure(data=data, layout=configuracoes_layout)\n",
    "\n",
    "py.iplot(figura)"
   ]
  },
  {
   "cell_type": "code",
   "execution_count": 96,
   "metadata": {},
   "outputs": [
    {
     "data": {
      "application/vnd.plotly.v1+json": {
       "config": {
        "linkText": "Export to plot.ly",
        "plotlyServerURL": "https://plot.ly",
        "showLink": false
       },
       "data": [
        {
         "type": "bar",
         "x": [
          "2020-01-21",
          "2020-01-22",
          "2020-01-23",
          "2020-01-24",
          "2020-01-25",
          "2020-01-26",
          "2020-01-27",
          "2020-01-28",
          "2020-01-29",
          "2020-01-30",
          "2020-01-31",
          "2020-02-01",
          "2020-02-02",
          "2020-02-03",
          "2020-02-04",
          "2020-02-05",
          "2020-02-06",
          "2020-02-07",
          "2020-02-08",
          "2020-02-09",
          "2020-02-10",
          "2020-02-11",
          "2020-02-12",
          "2020-02-13",
          "2020-02-14",
          "2020-02-15",
          "2020-02-16",
          "2020-02-17",
          "2020-02-18",
          "2020-02-19",
          "2020-02-20",
          "2020-02-21",
          "2020-02-22",
          "2020-02-23",
          "2020-02-24",
          "2020-02-25",
          "2020-02-26",
          "2020-02-27",
          "2020-02-28",
          "2020-02-29",
          "2020-03-01",
          "2020-03-02",
          "2020-03-03",
          "2020-03-04",
          "2020-03-05",
          "2020-03-06",
          "2020-03-07",
          "2020-03-08",
          "2020-03-09",
          "2020-03-10",
          "2020-03-11",
          "2020-03-12",
          "2020-03-13",
          "2020-03-14",
          "2020-03-15",
          "2020-03-16",
          "2020-03-17",
          "2020-03-18",
          "2020-03-19",
          "2020-03-20",
          "2020-03-21",
          "2020-03-22",
          "2020-03-23",
          "2020-03-24",
          "2020-03-25",
          "2020-03-26",
          "2020-03-27",
          "2020-03-28",
          "2020-03-29",
          "2020-03-30",
          "2020-03-31",
          "2020-04-01",
          "2020-04-02",
          "2020-04-03",
          "2020-04-04",
          "2020-04-05",
          "2020-04-06",
          "2020-04-07",
          "2020-04-08",
          "2020-04-09",
          "2020-04-10",
          "2020-04-11",
          "2020-04-12",
          "2020-04-13",
          "2020-04-14",
          "2020-04-15",
          "2020-04-16",
          "2020-04-17",
          "2020-04-18",
          "2020-04-19"
         ],
         "y": [
          303,
          301,
          306,
          318,
          311,
          290,
          285,
          314,
          304,
          284,
          276,
          312,
          301,
          314,
          299,
          300,
          307,
          305,
          295,
          299,
          315,
          314,
          290,
          281,
          299,
          292,
          316,
          303,
          284,
          303,
          282,
          310,
          282,
          296,
          283,
          303,
          291,
          305,
          316,
          295,
          301,
          294,
          280,
          280,
          296,
          292,
          302,
          301,
          302,
          298,
          301,
          316,
          286,
          314,
          312,
          305,
          303,
          319,
          307,
          308,
          288,
          300,
          299,
          301,
          314,
          303,
          284,
          291,
          294,
          305,
          300,
          303,
          317,
          307,
          266,
          298,
          294,
          281,
          297,
          286,
          316,
          286,
          301,
          295,
          295,
          304,
          301,
          278,
          292,
          295
         ]
        }
       ],
       "layout": {
        "template": {
         "data": {
          "bar": [
           {
            "error_x": {
             "color": "#2a3f5f"
            },
            "error_y": {
             "color": "#2a3f5f"
            },
            "marker": {
             "line": {
              "color": "#E5ECF6",
              "width": 0.5
             }
            },
            "type": "bar"
           }
          ],
          "barpolar": [
           {
            "marker": {
             "line": {
              "color": "#E5ECF6",
              "width": 0.5
             }
            },
            "type": "barpolar"
           }
          ],
          "carpet": [
           {
            "aaxis": {
             "endlinecolor": "#2a3f5f",
             "gridcolor": "white",
             "linecolor": "white",
             "minorgridcolor": "white",
             "startlinecolor": "#2a3f5f"
            },
            "baxis": {
             "endlinecolor": "#2a3f5f",
             "gridcolor": "white",
             "linecolor": "white",
             "minorgridcolor": "white",
             "startlinecolor": "#2a3f5f"
            },
            "type": "carpet"
           }
          ],
          "choropleth": [
           {
            "colorbar": {
             "outlinewidth": 0,
             "ticks": ""
            },
            "type": "choropleth"
           }
          ],
          "contour": [
           {
            "colorbar": {
             "outlinewidth": 0,
             "ticks": ""
            },
            "colorscale": [
             [
              0,
              "#0d0887"
             ],
             [
              0.1111111111111111,
              "#46039f"
             ],
             [
              0.2222222222222222,
              "#7201a8"
             ],
             [
              0.3333333333333333,
              "#9c179e"
             ],
             [
              0.4444444444444444,
              "#bd3786"
             ],
             [
              0.5555555555555556,
              "#d8576b"
             ],
             [
              0.6666666666666666,
              "#ed7953"
             ],
             [
              0.7777777777777778,
              "#fb9f3a"
             ],
             [
              0.8888888888888888,
              "#fdca26"
             ],
             [
              1,
              "#f0f921"
             ]
            ],
            "type": "contour"
           }
          ],
          "contourcarpet": [
           {
            "colorbar": {
             "outlinewidth": 0,
             "ticks": ""
            },
            "type": "contourcarpet"
           }
          ],
          "heatmap": [
           {
            "colorbar": {
             "outlinewidth": 0,
             "ticks": ""
            },
            "colorscale": [
             [
              0,
              "#0d0887"
             ],
             [
              0.1111111111111111,
              "#46039f"
             ],
             [
              0.2222222222222222,
              "#7201a8"
             ],
             [
              0.3333333333333333,
              "#9c179e"
             ],
             [
              0.4444444444444444,
              "#bd3786"
             ],
             [
              0.5555555555555556,
              "#d8576b"
             ],
             [
              0.6666666666666666,
              "#ed7953"
             ],
             [
              0.7777777777777778,
              "#fb9f3a"
             ],
             [
              0.8888888888888888,
              "#fdca26"
             ],
             [
              1,
              "#f0f921"
             ]
            ],
            "type": "heatmap"
           }
          ],
          "heatmapgl": [
           {
            "colorbar": {
             "outlinewidth": 0,
             "ticks": ""
            },
            "colorscale": [
             [
              0,
              "#0d0887"
             ],
             [
              0.1111111111111111,
              "#46039f"
             ],
             [
              0.2222222222222222,
              "#7201a8"
             ],
             [
              0.3333333333333333,
              "#9c179e"
             ],
             [
              0.4444444444444444,
              "#bd3786"
             ],
             [
              0.5555555555555556,
              "#d8576b"
             ],
             [
              0.6666666666666666,
              "#ed7953"
             ],
             [
              0.7777777777777778,
              "#fb9f3a"
             ],
             [
              0.8888888888888888,
              "#fdca26"
             ],
             [
              1,
              "#f0f921"
             ]
            ],
            "type": "heatmapgl"
           }
          ],
          "histogram": [
           {
            "marker": {
             "colorbar": {
              "outlinewidth": 0,
              "ticks": ""
             }
            },
            "type": "histogram"
           }
          ],
          "histogram2d": [
           {
            "colorbar": {
             "outlinewidth": 0,
             "ticks": ""
            },
            "colorscale": [
             [
              0,
              "#0d0887"
             ],
             [
              0.1111111111111111,
              "#46039f"
             ],
             [
              0.2222222222222222,
              "#7201a8"
             ],
             [
              0.3333333333333333,
              "#9c179e"
             ],
             [
              0.4444444444444444,
              "#bd3786"
             ],
             [
              0.5555555555555556,
              "#d8576b"
             ],
             [
              0.6666666666666666,
              "#ed7953"
             ],
             [
              0.7777777777777778,
              "#fb9f3a"
             ],
             [
              0.8888888888888888,
              "#fdca26"
             ],
             [
              1,
              "#f0f921"
             ]
            ],
            "type": "histogram2d"
           }
          ],
          "histogram2dcontour": [
           {
            "colorbar": {
             "outlinewidth": 0,
             "ticks": ""
            },
            "colorscale": [
             [
              0,
              "#0d0887"
             ],
             [
              0.1111111111111111,
              "#46039f"
             ],
             [
              0.2222222222222222,
              "#7201a8"
             ],
             [
              0.3333333333333333,
              "#9c179e"
             ],
             [
              0.4444444444444444,
              "#bd3786"
             ],
             [
              0.5555555555555556,
              "#d8576b"
             ],
             [
              0.6666666666666666,
              "#ed7953"
             ],
             [
              0.7777777777777778,
              "#fb9f3a"
             ],
             [
              0.8888888888888888,
              "#fdca26"
             ],
             [
              1,
              "#f0f921"
             ]
            ],
            "type": "histogram2dcontour"
           }
          ],
          "mesh3d": [
           {
            "colorbar": {
             "outlinewidth": 0,
             "ticks": ""
            },
            "type": "mesh3d"
           }
          ],
          "parcoords": [
           {
            "line": {
             "colorbar": {
              "outlinewidth": 0,
              "ticks": ""
             }
            },
            "type": "parcoords"
           }
          ],
          "pie": [
           {
            "automargin": true,
            "type": "pie"
           }
          ],
          "scatter": [
           {
            "marker": {
             "colorbar": {
              "outlinewidth": 0,
              "ticks": ""
             }
            },
            "type": "scatter"
           }
          ],
          "scatter3d": [
           {
            "line": {
             "colorbar": {
              "outlinewidth": 0,
              "ticks": ""
             }
            },
            "marker": {
             "colorbar": {
              "outlinewidth": 0,
              "ticks": ""
             }
            },
            "type": "scatter3d"
           }
          ],
          "scattercarpet": [
           {
            "marker": {
             "colorbar": {
              "outlinewidth": 0,
              "ticks": ""
             }
            },
            "type": "scattercarpet"
           }
          ],
          "scattergeo": [
           {
            "marker": {
             "colorbar": {
              "outlinewidth": 0,
              "ticks": ""
             }
            },
            "type": "scattergeo"
           }
          ],
          "scattergl": [
           {
            "marker": {
             "colorbar": {
              "outlinewidth": 0,
              "ticks": ""
             }
            },
            "type": "scattergl"
           }
          ],
          "scattermapbox": [
           {
            "marker": {
             "colorbar": {
              "outlinewidth": 0,
              "ticks": ""
             }
            },
            "type": "scattermapbox"
           }
          ],
          "scatterpolar": [
           {
            "marker": {
             "colorbar": {
              "outlinewidth": 0,
              "ticks": ""
             }
            },
            "type": "scatterpolar"
           }
          ],
          "scatterpolargl": [
           {
            "marker": {
             "colorbar": {
              "outlinewidth": 0,
              "ticks": ""
             }
            },
            "type": "scatterpolargl"
           }
          ],
          "scatterternary": [
           {
            "marker": {
             "colorbar": {
              "outlinewidth": 0,
              "ticks": ""
             }
            },
            "type": "scatterternary"
           }
          ],
          "surface": [
           {
            "colorbar": {
             "outlinewidth": 0,
             "ticks": ""
            },
            "colorscale": [
             [
              0,
              "#0d0887"
             ],
             [
              0.1111111111111111,
              "#46039f"
             ],
             [
              0.2222222222222222,
              "#7201a8"
             ],
             [
              0.3333333333333333,
              "#9c179e"
             ],
             [
              0.4444444444444444,
              "#bd3786"
             ],
             [
              0.5555555555555556,
              "#d8576b"
             ],
             [
              0.6666666666666666,
              "#ed7953"
             ],
             [
              0.7777777777777778,
              "#fb9f3a"
             ],
             [
              0.8888888888888888,
              "#fdca26"
             ],
             [
              1,
              "#f0f921"
             ]
            ],
            "type": "surface"
           }
          ],
          "table": [
           {
            "cells": {
             "fill": {
              "color": "#EBF0F8"
             },
             "line": {
              "color": "white"
             }
            },
            "header": {
             "fill": {
              "color": "#C8D4E3"
             },
             "line": {
              "color": "white"
             }
            },
            "type": "table"
           }
          ]
         },
         "layout": {
          "annotationdefaults": {
           "arrowcolor": "#2a3f5f",
           "arrowhead": 0,
           "arrowwidth": 1
          },
          "coloraxis": {
           "colorbar": {
            "outlinewidth": 0,
            "ticks": ""
           }
          },
          "colorscale": {
           "diverging": [
            [
             0,
             "#8e0152"
            ],
            [
             0.1,
             "#c51b7d"
            ],
            [
             0.2,
             "#de77ae"
            ],
            [
             0.3,
             "#f1b6da"
            ],
            [
             0.4,
             "#fde0ef"
            ],
            [
             0.5,
             "#f7f7f7"
            ],
            [
             0.6,
             "#e6f5d0"
            ],
            [
             0.7,
             "#b8e186"
            ],
            [
             0.8,
             "#7fbc41"
            ],
            [
             0.9,
             "#4d9221"
            ],
            [
             1,
             "#276419"
            ]
           ],
           "sequential": [
            [
             0,
             "#0d0887"
            ],
            [
             0.1111111111111111,
             "#46039f"
            ],
            [
             0.2222222222222222,
             "#7201a8"
            ],
            [
             0.3333333333333333,
             "#9c179e"
            ],
            [
             0.4444444444444444,
             "#bd3786"
            ],
            [
             0.5555555555555556,
             "#d8576b"
            ],
            [
             0.6666666666666666,
             "#ed7953"
            ],
            [
             0.7777777777777778,
             "#fb9f3a"
            ],
            [
             0.8888888888888888,
             "#fdca26"
            ],
            [
             1,
             "#f0f921"
            ]
           ],
           "sequentialminus": [
            [
             0,
             "#0d0887"
            ],
            [
             0.1111111111111111,
             "#46039f"
            ],
            [
             0.2222222222222222,
             "#7201a8"
            ],
            [
             0.3333333333333333,
             "#9c179e"
            ],
            [
             0.4444444444444444,
             "#bd3786"
            ],
            [
             0.5555555555555556,
             "#d8576b"
            ],
            [
             0.6666666666666666,
             "#ed7953"
            ],
            [
             0.7777777777777778,
             "#fb9f3a"
            ],
            [
             0.8888888888888888,
             "#fdca26"
            ],
            [
             1,
             "#f0f921"
            ]
           ]
          },
          "colorway": [
           "#636efa",
           "#EF553B",
           "#00cc96",
           "#ab63fa",
           "#FFA15A",
           "#19d3f3",
           "#FF6692",
           "#B6E880",
           "#FF97FF",
           "#FECB52"
          ],
          "font": {
           "color": "#2a3f5f"
          },
          "geo": {
           "bgcolor": "white",
           "lakecolor": "white",
           "landcolor": "#E5ECF6",
           "showlakes": true,
           "showland": true,
           "subunitcolor": "white"
          },
          "hoverlabel": {
           "align": "left"
          },
          "hovermode": "closest",
          "mapbox": {
           "style": "light"
          },
          "paper_bgcolor": "white",
          "plot_bgcolor": "#E5ECF6",
          "polar": {
           "angularaxis": {
            "gridcolor": "white",
            "linecolor": "white",
            "ticks": ""
           },
           "bgcolor": "#E5ECF6",
           "radialaxis": {
            "gridcolor": "white",
            "linecolor": "white",
            "ticks": ""
           }
          },
          "scene": {
           "xaxis": {
            "backgroundcolor": "#E5ECF6",
            "gridcolor": "white",
            "gridwidth": 2,
            "linecolor": "white",
            "showbackground": true,
            "ticks": "",
            "zerolinecolor": "white"
           },
           "yaxis": {
            "backgroundcolor": "#E5ECF6",
            "gridcolor": "white",
            "gridwidth": 2,
            "linecolor": "white",
            "showbackground": true,
            "ticks": "",
            "zerolinecolor": "white"
           },
           "zaxis": {
            "backgroundcolor": "#E5ECF6",
            "gridcolor": "white",
            "gridwidth": 2,
            "linecolor": "white",
            "showbackground": true,
            "ticks": "",
            "zerolinecolor": "white"
           }
          },
          "shapedefaults": {
           "line": {
            "color": "#2a3f5f"
           }
          },
          "ternary": {
           "aaxis": {
            "gridcolor": "white",
            "linecolor": "white",
            "ticks": ""
           },
           "baxis": {
            "gridcolor": "white",
            "linecolor": "white",
            "ticks": ""
           },
           "bgcolor": "#E5ECF6",
           "caxis": {
            "gridcolor": "white",
            "linecolor": "white",
            "ticks": ""
           }
          },
          "title": {
           "x": 0.05
          },
          "xaxis": {
           "automargin": true,
           "gridcolor": "white",
           "linecolor": "white",
           "ticks": "",
           "title": {
            "standoff": 15
           },
           "zerolinecolor": "white",
           "zerolinewidth": 2
          },
          "yaxis": {
           "automargin": true,
           "gridcolor": "white",
           "linecolor": "white",
           "ticks": "",
           "title": {
            "standoff": 15
           },
           "zerolinecolor": "white",
           "zerolinewidth": 2
          }
         }
        },
        "title": {
         "text": "Soma das Sequencias de Unders por dia"
        },
        "xaxis": {
         "title": {
          "text": "Periodo"
         }
        },
        "yaxis": {
         "title": {
          "text": "Quantidade"
         }
        }
       }
      },
      "text/html": [
       "<div>\n",
       "        \n",
       "        \n",
       "            <div id=\"85fe1b13-6992-43eb-8bae-c90318b7c986\" class=\"plotly-graph-div\" style=\"height:525px; width:100%;\"></div>\n",
       "            <script type=\"text/javascript\">\n",
       "                require([\"plotly\"], function(Plotly) {\n",
       "                    window.PLOTLYENV=window.PLOTLYENV || {};\n",
       "                    \n",
       "                if (document.getElementById(\"85fe1b13-6992-43eb-8bae-c90318b7c986\")) {\n",
       "                    Plotly.newPlot(\n",
       "                        '85fe1b13-6992-43eb-8bae-c90318b7c986',\n",
       "                        [{\"type\": \"bar\", \"x\": [\"2020-01-21\", \"2020-01-22\", \"2020-01-23\", \"2020-01-24\", \"2020-01-25\", \"2020-01-26\", \"2020-01-27\", \"2020-01-28\", \"2020-01-29\", \"2020-01-30\", \"2020-01-31\", \"2020-02-01\", \"2020-02-02\", \"2020-02-03\", \"2020-02-04\", \"2020-02-05\", \"2020-02-06\", \"2020-02-07\", \"2020-02-08\", \"2020-02-09\", \"2020-02-10\", \"2020-02-11\", \"2020-02-12\", \"2020-02-13\", \"2020-02-14\", \"2020-02-15\", \"2020-02-16\", \"2020-02-17\", \"2020-02-18\", \"2020-02-19\", \"2020-02-20\", \"2020-02-21\", \"2020-02-22\", \"2020-02-23\", \"2020-02-24\", \"2020-02-25\", \"2020-02-26\", \"2020-02-27\", \"2020-02-28\", \"2020-02-29\", \"2020-03-01\", \"2020-03-02\", \"2020-03-03\", \"2020-03-04\", \"2020-03-05\", \"2020-03-06\", \"2020-03-07\", \"2020-03-08\", \"2020-03-09\", \"2020-03-10\", \"2020-03-11\", \"2020-03-12\", \"2020-03-13\", \"2020-03-14\", \"2020-03-15\", \"2020-03-16\", \"2020-03-17\", \"2020-03-18\", \"2020-03-19\", \"2020-03-20\", \"2020-03-21\", \"2020-03-22\", \"2020-03-23\", \"2020-03-24\", \"2020-03-25\", \"2020-03-26\", \"2020-03-27\", \"2020-03-28\", \"2020-03-29\", \"2020-03-30\", \"2020-03-31\", \"2020-04-01\", \"2020-04-02\", \"2020-04-03\", \"2020-04-04\", \"2020-04-05\", \"2020-04-06\", \"2020-04-07\", \"2020-04-08\", \"2020-04-09\", \"2020-04-10\", \"2020-04-11\", \"2020-04-12\", \"2020-04-13\", \"2020-04-14\", \"2020-04-15\", \"2020-04-16\", \"2020-04-17\", \"2020-04-18\", \"2020-04-19\"], \"y\": [303.0, 301.0, 306.0, 318.0, 311.0, 290.0, 285.0, 314.0, 304.0, 284.0, 276.0, 312.0, 301.0, 314.0, 299.0, 300.0, 307.0, 305.0, 295.0, 299.0, 315.0, 314.0, 290.0, 281.0, 299.0, 292.0, 316.0, 303.0, 284.0, 303.0, 282.0, 310.0, 282.0, 296.0, 283.0, 303.0, 291.0, 305.0, 316.0, 295.0, 301.0, 294.0, 280.0, 280.0, 296.0, 292.0, 302.0, 301.0, 302.0, 298.0, 301.0, 316.0, 286.0, 314.0, 312.0, 305.0, 303.0, 319.0, 307.0, 308.0, 288.0, 300.0, 299.0, 301.0, 314.0, 303.0, 284.0, 291.0, 294.0, 305.0, 300.0, 303.0, 317.0, 307.0, 266.0, 298.0, 294.0, 281.0, 297.0, 286.0, 316.0, 286.0, 301.0, 295.0, 295.0, 304.0, 301.0, 278.0, 292.0, 295.0]}],\n",
       "                        {\"template\": {\"data\": {\"bar\": [{\"error_x\": {\"color\": \"#2a3f5f\"}, \"error_y\": {\"color\": \"#2a3f5f\"}, \"marker\": {\"line\": {\"color\": \"#E5ECF6\", \"width\": 0.5}}, \"type\": \"bar\"}], \"barpolar\": [{\"marker\": {\"line\": {\"color\": \"#E5ECF6\", \"width\": 0.5}}, \"type\": \"barpolar\"}], \"carpet\": [{\"aaxis\": {\"endlinecolor\": \"#2a3f5f\", \"gridcolor\": \"white\", \"linecolor\": \"white\", \"minorgridcolor\": \"white\", \"startlinecolor\": \"#2a3f5f\"}, \"baxis\": {\"endlinecolor\": \"#2a3f5f\", \"gridcolor\": \"white\", \"linecolor\": \"white\", \"minorgridcolor\": \"white\", \"startlinecolor\": \"#2a3f5f\"}, \"type\": \"carpet\"}], \"choropleth\": [{\"colorbar\": {\"outlinewidth\": 0, \"ticks\": \"\"}, \"type\": \"choropleth\"}], \"contour\": [{\"colorbar\": {\"outlinewidth\": 0, \"ticks\": \"\"}, \"colorscale\": [[0.0, \"#0d0887\"], [0.1111111111111111, \"#46039f\"], [0.2222222222222222, \"#7201a8\"], [0.3333333333333333, \"#9c179e\"], [0.4444444444444444, \"#bd3786\"], [0.5555555555555556, \"#d8576b\"], [0.6666666666666666, \"#ed7953\"], [0.7777777777777778, \"#fb9f3a\"], [0.8888888888888888, \"#fdca26\"], [1.0, \"#f0f921\"]], \"type\": \"contour\"}], \"contourcarpet\": [{\"colorbar\": {\"outlinewidth\": 0, \"ticks\": \"\"}, \"type\": \"contourcarpet\"}], \"heatmap\": [{\"colorbar\": {\"outlinewidth\": 0, \"ticks\": \"\"}, \"colorscale\": [[0.0, \"#0d0887\"], [0.1111111111111111, \"#46039f\"], [0.2222222222222222, \"#7201a8\"], [0.3333333333333333, \"#9c179e\"], [0.4444444444444444, \"#bd3786\"], [0.5555555555555556, \"#d8576b\"], [0.6666666666666666, \"#ed7953\"], [0.7777777777777778, \"#fb9f3a\"], [0.8888888888888888, \"#fdca26\"], [1.0, \"#f0f921\"]], \"type\": \"heatmap\"}], \"heatmapgl\": [{\"colorbar\": {\"outlinewidth\": 0, \"ticks\": \"\"}, \"colorscale\": [[0.0, \"#0d0887\"], [0.1111111111111111, \"#46039f\"], [0.2222222222222222, \"#7201a8\"], [0.3333333333333333, \"#9c179e\"], [0.4444444444444444, \"#bd3786\"], [0.5555555555555556, \"#d8576b\"], [0.6666666666666666, \"#ed7953\"], [0.7777777777777778, \"#fb9f3a\"], [0.8888888888888888, \"#fdca26\"], [1.0, \"#f0f921\"]], \"type\": \"heatmapgl\"}], \"histogram\": [{\"marker\": {\"colorbar\": {\"outlinewidth\": 0, \"ticks\": \"\"}}, \"type\": \"histogram\"}], \"histogram2d\": [{\"colorbar\": {\"outlinewidth\": 0, \"ticks\": \"\"}, \"colorscale\": [[0.0, \"#0d0887\"], [0.1111111111111111, \"#46039f\"], [0.2222222222222222, \"#7201a8\"], [0.3333333333333333, \"#9c179e\"], [0.4444444444444444, \"#bd3786\"], [0.5555555555555556, \"#d8576b\"], [0.6666666666666666, \"#ed7953\"], [0.7777777777777778, \"#fb9f3a\"], [0.8888888888888888, \"#fdca26\"], [1.0, \"#f0f921\"]], \"type\": \"histogram2d\"}], \"histogram2dcontour\": [{\"colorbar\": {\"outlinewidth\": 0, \"ticks\": \"\"}, \"colorscale\": [[0.0, \"#0d0887\"], [0.1111111111111111, \"#46039f\"], [0.2222222222222222, \"#7201a8\"], [0.3333333333333333, \"#9c179e\"], [0.4444444444444444, \"#bd3786\"], [0.5555555555555556, \"#d8576b\"], [0.6666666666666666, \"#ed7953\"], [0.7777777777777778, \"#fb9f3a\"], [0.8888888888888888, \"#fdca26\"], [1.0, \"#f0f921\"]], \"type\": \"histogram2dcontour\"}], \"mesh3d\": [{\"colorbar\": {\"outlinewidth\": 0, \"ticks\": \"\"}, \"type\": \"mesh3d\"}], \"parcoords\": [{\"line\": {\"colorbar\": {\"outlinewidth\": 0, \"ticks\": \"\"}}, \"type\": \"parcoords\"}], \"pie\": [{\"automargin\": true, \"type\": \"pie\"}], \"scatter\": [{\"marker\": {\"colorbar\": {\"outlinewidth\": 0, \"ticks\": \"\"}}, \"type\": \"scatter\"}], \"scatter3d\": [{\"line\": {\"colorbar\": {\"outlinewidth\": 0, \"ticks\": \"\"}}, \"marker\": {\"colorbar\": {\"outlinewidth\": 0, \"ticks\": \"\"}}, \"type\": \"scatter3d\"}], \"scattercarpet\": [{\"marker\": {\"colorbar\": {\"outlinewidth\": 0, \"ticks\": \"\"}}, \"type\": \"scattercarpet\"}], \"scattergeo\": [{\"marker\": {\"colorbar\": {\"outlinewidth\": 0, \"ticks\": \"\"}}, \"type\": \"scattergeo\"}], \"scattergl\": [{\"marker\": {\"colorbar\": {\"outlinewidth\": 0, \"ticks\": \"\"}}, \"type\": \"scattergl\"}], \"scattermapbox\": [{\"marker\": {\"colorbar\": {\"outlinewidth\": 0, \"ticks\": \"\"}}, \"type\": \"scattermapbox\"}], \"scatterpolar\": [{\"marker\": {\"colorbar\": {\"outlinewidth\": 0, \"ticks\": \"\"}}, \"type\": \"scatterpolar\"}], \"scatterpolargl\": [{\"marker\": {\"colorbar\": {\"outlinewidth\": 0, \"ticks\": \"\"}}, \"type\": \"scatterpolargl\"}], \"scatterternary\": [{\"marker\": {\"colorbar\": {\"outlinewidth\": 0, \"ticks\": \"\"}}, \"type\": \"scatterternary\"}], \"surface\": [{\"colorbar\": {\"outlinewidth\": 0, \"ticks\": \"\"}, \"colorscale\": [[0.0, \"#0d0887\"], [0.1111111111111111, \"#46039f\"], [0.2222222222222222, \"#7201a8\"], [0.3333333333333333, \"#9c179e\"], [0.4444444444444444, \"#bd3786\"], [0.5555555555555556, \"#d8576b\"], [0.6666666666666666, \"#ed7953\"], [0.7777777777777778, \"#fb9f3a\"], [0.8888888888888888, \"#fdca26\"], [1.0, \"#f0f921\"]], \"type\": \"surface\"}], \"table\": [{\"cells\": {\"fill\": {\"color\": \"#EBF0F8\"}, \"line\": {\"color\": \"white\"}}, \"header\": {\"fill\": {\"color\": \"#C8D4E3\"}, \"line\": {\"color\": \"white\"}}, \"type\": \"table\"}]}, \"layout\": {\"annotationdefaults\": {\"arrowcolor\": \"#2a3f5f\", \"arrowhead\": 0, \"arrowwidth\": 1}, \"coloraxis\": {\"colorbar\": {\"outlinewidth\": 0, \"ticks\": \"\"}}, \"colorscale\": {\"diverging\": [[0, \"#8e0152\"], [0.1, \"#c51b7d\"], [0.2, \"#de77ae\"], [0.3, \"#f1b6da\"], [0.4, \"#fde0ef\"], [0.5, \"#f7f7f7\"], [0.6, \"#e6f5d0\"], [0.7, \"#b8e186\"], [0.8, \"#7fbc41\"], [0.9, \"#4d9221\"], [1, \"#276419\"]], \"sequential\": [[0.0, \"#0d0887\"], [0.1111111111111111, \"#46039f\"], [0.2222222222222222, \"#7201a8\"], [0.3333333333333333, \"#9c179e\"], [0.4444444444444444, \"#bd3786\"], [0.5555555555555556, \"#d8576b\"], [0.6666666666666666, \"#ed7953\"], [0.7777777777777778, \"#fb9f3a\"], [0.8888888888888888, \"#fdca26\"], [1.0, \"#f0f921\"]], \"sequentialminus\": [[0.0, \"#0d0887\"], [0.1111111111111111, \"#46039f\"], [0.2222222222222222, \"#7201a8\"], [0.3333333333333333, \"#9c179e\"], [0.4444444444444444, \"#bd3786\"], [0.5555555555555556, \"#d8576b\"], [0.6666666666666666, \"#ed7953\"], [0.7777777777777778, \"#fb9f3a\"], [0.8888888888888888, \"#fdca26\"], [1.0, \"#f0f921\"]]}, \"colorway\": [\"#636efa\", \"#EF553B\", \"#00cc96\", \"#ab63fa\", \"#FFA15A\", \"#19d3f3\", \"#FF6692\", \"#B6E880\", \"#FF97FF\", \"#FECB52\"], \"font\": {\"color\": \"#2a3f5f\"}, \"geo\": {\"bgcolor\": \"white\", \"lakecolor\": \"white\", \"landcolor\": \"#E5ECF6\", \"showlakes\": true, \"showland\": true, \"subunitcolor\": \"white\"}, \"hoverlabel\": {\"align\": \"left\"}, \"hovermode\": \"closest\", \"mapbox\": {\"style\": \"light\"}, \"paper_bgcolor\": \"white\", \"plot_bgcolor\": \"#E5ECF6\", \"polar\": {\"angularaxis\": {\"gridcolor\": \"white\", \"linecolor\": \"white\", \"ticks\": \"\"}, \"bgcolor\": \"#E5ECF6\", \"radialaxis\": {\"gridcolor\": \"white\", \"linecolor\": \"white\", \"ticks\": \"\"}}, \"scene\": {\"xaxis\": {\"backgroundcolor\": \"#E5ECF6\", \"gridcolor\": \"white\", \"gridwidth\": 2, \"linecolor\": \"white\", \"showbackground\": true, \"ticks\": \"\", \"zerolinecolor\": \"white\"}, \"yaxis\": {\"backgroundcolor\": \"#E5ECF6\", \"gridcolor\": \"white\", \"gridwidth\": 2, \"linecolor\": \"white\", \"showbackground\": true, \"ticks\": \"\", \"zerolinecolor\": \"white\"}, \"zaxis\": {\"backgroundcolor\": \"#E5ECF6\", \"gridcolor\": \"white\", \"gridwidth\": 2, \"linecolor\": \"white\", \"showbackground\": true, \"ticks\": \"\", \"zerolinecolor\": \"white\"}}, \"shapedefaults\": {\"line\": {\"color\": \"#2a3f5f\"}}, \"ternary\": {\"aaxis\": {\"gridcolor\": \"white\", \"linecolor\": \"white\", \"ticks\": \"\"}, \"baxis\": {\"gridcolor\": \"white\", \"linecolor\": \"white\", \"ticks\": \"\"}, \"bgcolor\": \"#E5ECF6\", \"caxis\": {\"gridcolor\": \"white\", \"linecolor\": \"white\", \"ticks\": \"\"}}, \"title\": {\"x\": 0.05}, \"xaxis\": {\"automargin\": true, \"gridcolor\": \"white\", \"linecolor\": \"white\", \"ticks\": \"\", \"title\": {\"standoff\": 15}, \"zerolinecolor\": \"white\", \"zerolinewidth\": 2}, \"yaxis\": {\"automargin\": true, \"gridcolor\": \"white\", \"linecolor\": \"white\", \"ticks\": \"\", \"title\": {\"standoff\": 15}, \"zerolinecolor\": \"white\", \"zerolinewidth\": 2}}}, \"title\": {\"text\": \"Soma das Sequencias de Unders por dia\"}, \"xaxis\": {\"title\": {\"text\": \"Periodo\"}}, \"yaxis\": {\"title\": {\"text\": \"Quantidade\"}}},\n",
       "                        {\"responsive\": true}\n",
       "                    ).then(function(){\n",
       "                            \n",
       "var gd = document.getElementById('85fe1b13-6992-43eb-8bae-c90318b7c986');\n",
       "var x = new MutationObserver(function (mutations, observer) {{\n",
       "        var display = window.getComputedStyle(gd).display;\n",
       "        if (!display || display === 'none') {{\n",
       "            console.log([gd, 'removed!']);\n",
       "            Plotly.purge(gd);\n",
       "            observer.disconnect();\n",
       "        }}\n",
       "}});\n",
       "\n",
       "// Listen for the removal of the full notebook cells\n",
       "var notebookContainer = gd.closest('#notebook-container');\n",
       "if (notebookContainer) {{\n",
       "    x.observe(notebookContainer, {childList: true});\n",
       "}}\n",
       "\n",
       "// Listen for the clearing of the current output cell\n",
       "var outputEl = gd.closest('.output');\n",
       "if (outputEl) {{\n",
       "    x.observe(outputEl, {childList: true});\n",
       "}}\n",
       "\n",
       "                        })\n",
       "                };\n",
       "                });\n",
       "            </script>\n",
       "        </div>"
      ]
     },
     "metadata": {},
     "output_type": "display_data"
    }
   ],
   "source": [
    "data = [go.Bar(x=unders_por_dia.index, y=unders_por_dia.values)]\n",
    "\n",
    "configuracoes_layout =  go.Layout(title='Soma das Sequencias de Unders por dia', yaxis={'title':'Quantidade'}, xaxis={'title': 'Periodo'})\n",
    "\n",
    "figura = go.Figure(data=data, layout=configuracoes_layout)\n",
    "\n",
    "py.iplot(figura)"
   ]
  },
  {
   "cell_type": "code",
   "execution_count": 102,
   "metadata": {},
   "outputs": [],
   "source": [
    "media = unders_por_dia.mean()\n",
    "max_under = unders_por_dia.max()"
   ]
  },
  {
   "cell_type": "code",
   "execution_count": 111,
   "metadata": {},
   "outputs": [],
   "source": [
    "cores = []\n",
    "for x in unders_por_dia.values:\n",
    "    if x < media:\n",
    "        cores.append('red')\n",
    "    else:\n",
    "        cores.append('lightblue')"
   ]
  },
  {
   "cell_type": "code",
   "execution_count": 114,
   "metadata": {},
   "outputs": [
    {
     "data": {
      "application/vnd.plotly.v1+json": {
       "config": {
        "linkText": "Export to plot.ly",
        "plotlyServerURL": "https://plot.ly",
        "showLink": false
       },
       "data": [
        {
         "marker": {
          "color": [
           "lightblue",
           "lightblue",
           "lightblue",
           "lightblue",
           "lightblue",
           "red",
           "red",
           "lightblue",
           "lightblue",
           "red",
           "red",
           "lightblue",
           "lightblue",
           "lightblue",
           "lightblue",
           "lightblue",
           "lightblue",
           "lightblue",
           "red",
           "lightblue",
           "lightblue",
           "lightblue",
           "red",
           "red",
           "lightblue",
           "red",
           "lightblue",
           "lightblue",
           "red",
           "lightblue",
           "red",
           "lightblue",
           "red",
           "red",
           "red",
           "lightblue",
           "red",
           "lightblue",
           "lightblue",
           "red",
           "lightblue",
           "red",
           "red",
           "red",
           "red",
           "red",
           "lightblue",
           "lightblue",
           "lightblue",
           "red",
           "lightblue",
           "lightblue",
           "red",
           "lightblue",
           "lightblue",
           "lightblue",
           "lightblue",
           "lightblue",
           "lightblue",
           "lightblue",
           "red",
           "lightblue",
           "lightblue",
           "lightblue",
           "lightblue",
           "lightblue",
           "red",
           "red",
           "red",
           "lightblue",
           "lightblue",
           "lightblue",
           "lightblue",
           "lightblue",
           "red",
           "red",
           "red",
           "red",
           "red",
           "red",
           "lightblue",
           "red",
           "lightblue",
           "red",
           "red",
           "lightblue",
           "lightblue",
           "red",
           "red",
           "red"
          ],
          "line": {
           "color": "#333",
           "width": 2
          }
         },
         "opacity": 0.7,
         "type": "bar",
         "x": [
          "2020-01-21",
          "2020-01-22",
          "2020-01-23",
          "2020-01-24",
          "2020-01-25",
          "2020-01-26",
          "2020-01-27",
          "2020-01-28",
          "2020-01-29",
          "2020-01-30",
          "2020-01-31",
          "2020-02-01",
          "2020-02-02",
          "2020-02-03",
          "2020-02-04",
          "2020-02-05",
          "2020-02-06",
          "2020-02-07",
          "2020-02-08",
          "2020-02-09",
          "2020-02-10",
          "2020-02-11",
          "2020-02-12",
          "2020-02-13",
          "2020-02-14",
          "2020-02-15",
          "2020-02-16",
          "2020-02-17",
          "2020-02-18",
          "2020-02-19",
          "2020-02-20",
          "2020-02-21",
          "2020-02-22",
          "2020-02-23",
          "2020-02-24",
          "2020-02-25",
          "2020-02-26",
          "2020-02-27",
          "2020-02-28",
          "2020-02-29",
          "2020-03-01",
          "2020-03-02",
          "2020-03-03",
          "2020-03-04",
          "2020-03-05",
          "2020-03-06",
          "2020-03-07",
          "2020-03-08",
          "2020-03-09",
          "2020-03-10",
          "2020-03-11",
          "2020-03-12",
          "2020-03-13",
          "2020-03-14",
          "2020-03-15",
          "2020-03-16",
          "2020-03-17",
          "2020-03-18",
          "2020-03-19",
          "2020-03-20",
          "2020-03-21",
          "2020-03-22",
          "2020-03-23",
          "2020-03-24",
          "2020-03-25",
          "2020-03-26",
          "2020-03-27",
          "2020-03-28",
          "2020-03-29",
          "2020-03-30",
          "2020-03-31",
          "2020-04-01",
          "2020-04-02",
          "2020-04-03",
          "2020-04-04",
          "2020-04-05",
          "2020-04-06",
          "2020-04-07",
          "2020-04-08",
          "2020-04-09",
          "2020-04-10",
          "2020-04-11",
          "2020-04-12",
          "2020-04-13",
          "2020-04-14",
          "2020-04-15",
          "2020-04-16",
          "2020-04-17",
          "2020-04-18",
          "2020-04-19"
         ],
         "y": [
          303,
          301,
          306,
          318,
          311,
          290,
          285,
          314,
          304,
          284,
          276,
          312,
          301,
          314,
          299,
          300,
          307,
          305,
          295,
          299,
          315,
          314,
          290,
          281,
          299,
          292,
          316,
          303,
          284,
          303,
          282,
          310,
          282,
          296,
          283,
          303,
          291,
          305,
          316,
          295,
          301,
          294,
          280,
          280,
          296,
          292,
          302,
          301,
          302,
          298,
          301,
          316,
          286,
          314,
          312,
          305,
          303,
          319,
          307,
          308,
          288,
          300,
          299,
          301,
          314,
          303,
          284,
          291,
          294,
          305,
          300,
          303,
          317,
          307,
          266,
          298,
          294,
          281,
          297,
          286,
          316,
          286,
          301,
          295,
          295,
          304,
          301,
          278,
          292,
          295
         ]
        }
       ],
       "layout": {
        "template": {
         "data": {
          "bar": [
           {
            "error_x": {
             "color": "#2a3f5f"
            },
            "error_y": {
             "color": "#2a3f5f"
            },
            "marker": {
             "line": {
              "color": "#E5ECF6",
              "width": 0.5
             }
            },
            "type": "bar"
           }
          ],
          "barpolar": [
           {
            "marker": {
             "line": {
              "color": "#E5ECF6",
              "width": 0.5
             }
            },
            "type": "barpolar"
           }
          ],
          "carpet": [
           {
            "aaxis": {
             "endlinecolor": "#2a3f5f",
             "gridcolor": "white",
             "linecolor": "white",
             "minorgridcolor": "white",
             "startlinecolor": "#2a3f5f"
            },
            "baxis": {
             "endlinecolor": "#2a3f5f",
             "gridcolor": "white",
             "linecolor": "white",
             "minorgridcolor": "white",
             "startlinecolor": "#2a3f5f"
            },
            "type": "carpet"
           }
          ],
          "choropleth": [
           {
            "colorbar": {
             "outlinewidth": 0,
             "ticks": ""
            },
            "type": "choropleth"
           }
          ],
          "contour": [
           {
            "colorbar": {
             "outlinewidth": 0,
             "ticks": ""
            },
            "colorscale": [
             [
              0,
              "#0d0887"
             ],
             [
              0.1111111111111111,
              "#46039f"
             ],
             [
              0.2222222222222222,
              "#7201a8"
             ],
             [
              0.3333333333333333,
              "#9c179e"
             ],
             [
              0.4444444444444444,
              "#bd3786"
             ],
             [
              0.5555555555555556,
              "#d8576b"
             ],
             [
              0.6666666666666666,
              "#ed7953"
             ],
             [
              0.7777777777777778,
              "#fb9f3a"
             ],
             [
              0.8888888888888888,
              "#fdca26"
             ],
             [
              1,
              "#f0f921"
             ]
            ],
            "type": "contour"
           }
          ],
          "contourcarpet": [
           {
            "colorbar": {
             "outlinewidth": 0,
             "ticks": ""
            },
            "type": "contourcarpet"
           }
          ],
          "heatmap": [
           {
            "colorbar": {
             "outlinewidth": 0,
             "ticks": ""
            },
            "colorscale": [
             [
              0,
              "#0d0887"
             ],
             [
              0.1111111111111111,
              "#46039f"
             ],
             [
              0.2222222222222222,
              "#7201a8"
             ],
             [
              0.3333333333333333,
              "#9c179e"
             ],
             [
              0.4444444444444444,
              "#bd3786"
             ],
             [
              0.5555555555555556,
              "#d8576b"
             ],
             [
              0.6666666666666666,
              "#ed7953"
             ],
             [
              0.7777777777777778,
              "#fb9f3a"
             ],
             [
              0.8888888888888888,
              "#fdca26"
             ],
             [
              1,
              "#f0f921"
             ]
            ],
            "type": "heatmap"
           }
          ],
          "heatmapgl": [
           {
            "colorbar": {
             "outlinewidth": 0,
             "ticks": ""
            },
            "colorscale": [
             [
              0,
              "#0d0887"
             ],
             [
              0.1111111111111111,
              "#46039f"
             ],
             [
              0.2222222222222222,
              "#7201a8"
             ],
             [
              0.3333333333333333,
              "#9c179e"
             ],
             [
              0.4444444444444444,
              "#bd3786"
             ],
             [
              0.5555555555555556,
              "#d8576b"
             ],
             [
              0.6666666666666666,
              "#ed7953"
             ],
             [
              0.7777777777777778,
              "#fb9f3a"
             ],
             [
              0.8888888888888888,
              "#fdca26"
             ],
             [
              1,
              "#f0f921"
             ]
            ],
            "type": "heatmapgl"
           }
          ],
          "histogram": [
           {
            "marker": {
             "colorbar": {
              "outlinewidth": 0,
              "ticks": ""
             }
            },
            "type": "histogram"
           }
          ],
          "histogram2d": [
           {
            "colorbar": {
             "outlinewidth": 0,
             "ticks": ""
            },
            "colorscale": [
             [
              0,
              "#0d0887"
             ],
             [
              0.1111111111111111,
              "#46039f"
             ],
             [
              0.2222222222222222,
              "#7201a8"
             ],
             [
              0.3333333333333333,
              "#9c179e"
             ],
             [
              0.4444444444444444,
              "#bd3786"
             ],
             [
              0.5555555555555556,
              "#d8576b"
             ],
             [
              0.6666666666666666,
              "#ed7953"
             ],
             [
              0.7777777777777778,
              "#fb9f3a"
             ],
             [
              0.8888888888888888,
              "#fdca26"
             ],
             [
              1,
              "#f0f921"
             ]
            ],
            "type": "histogram2d"
           }
          ],
          "histogram2dcontour": [
           {
            "colorbar": {
             "outlinewidth": 0,
             "ticks": ""
            },
            "colorscale": [
             [
              0,
              "#0d0887"
             ],
             [
              0.1111111111111111,
              "#46039f"
             ],
             [
              0.2222222222222222,
              "#7201a8"
             ],
             [
              0.3333333333333333,
              "#9c179e"
             ],
             [
              0.4444444444444444,
              "#bd3786"
             ],
             [
              0.5555555555555556,
              "#d8576b"
             ],
             [
              0.6666666666666666,
              "#ed7953"
             ],
             [
              0.7777777777777778,
              "#fb9f3a"
             ],
             [
              0.8888888888888888,
              "#fdca26"
             ],
             [
              1,
              "#f0f921"
             ]
            ],
            "type": "histogram2dcontour"
           }
          ],
          "mesh3d": [
           {
            "colorbar": {
             "outlinewidth": 0,
             "ticks": ""
            },
            "type": "mesh3d"
           }
          ],
          "parcoords": [
           {
            "line": {
             "colorbar": {
              "outlinewidth": 0,
              "ticks": ""
             }
            },
            "type": "parcoords"
           }
          ],
          "pie": [
           {
            "automargin": true,
            "type": "pie"
           }
          ],
          "scatter": [
           {
            "marker": {
             "colorbar": {
              "outlinewidth": 0,
              "ticks": ""
             }
            },
            "type": "scatter"
           }
          ],
          "scatter3d": [
           {
            "line": {
             "colorbar": {
              "outlinewidth": 0,
              "ticks": ""
             }
            },
            "marker": {
             "colorbar": {
              "outlinewidth": 0,
              "ticks": ""
             }
            },
            "type": "scatter3d"
           }
          ],
          "scattercarpet": [
           {
            "marker": {
             "colorbar": {
              "outlinewidth": 0,
              "ticks": ""
             }
            },
            "type": "scattercarpet"
           }
          ],
          "scattergeo": [
           {
            "marker": {
             "colorbar": {
              "outlinewidth": 0,
              "ticks": ""
             }
            },
            "type": "scattergeo"
           }
          ],
          "scattergl": [
           {
            "marker": {
             "colorbar": {
              "outlinewidth": 0,
              "ticks": ""
             }
            },
            "type": "scattergl"
           }
          ],
          "scattermapbox": [
           {
            "marker": {
             "colorbar": {
              "outlinewidth": 0,
              "ticks": ""
             }
            },
            "type": "scattermapbox"
           }
          ],
          "scatterpolar": [
           {
            "marker": {
             "colorbar": {
              "outlinewidth": 0,
              "ticks": ""
             }
            },
            "type": "scatterpolar"
           }
          ],
          "scatterpolargl": [
           {
            "marker": {
             "colorbar": {
              "outlinewidth": 0,
              "ticks": ""
             }
            },
            "type": "scatterpolargl"
           }
          ],
          "scatterternary": [
           {
            "marker": {
             "colorbar": {
              "outlinewidth": 0,
              "ticks": ""
             }
            },
            "type": "scatterternary"
           }
          ],
          "surface": [
           {
            "colorbar": {
             "outlinewidth": 0,
             "ticks": ""
            },
            "colorscale": [
             [
              0,
              "#0d0887"
             ],
             [
              0.1111111111111111,
              "#46039f"
             ],
             [
              0.2222222222222222,
              "#7201a8"
             ],
             [
              0.3333333333333333,
              "#9c179e"
             ],
             [
              0.4444444444444444,
              "#bd3786"
             ],
             [
              0.5555555555555556,
              "#d8576b"
             ],
             [
              0.6666666666666666,
              "#ed7953"
             ],
             [
              0.7777777777777778,
              "#fb9f3a"
             ],
             [
              0.8888888888888888,
              "#fdca26"
             ],
             [
              1,
              "#f0f921"
             ]
            ],
            "type": "surface"
           }
          ],
          "table": [
           {
            "cells": {
             "fill": {
              "color": "#EBF0F8"
             },
             "line": {
              "color": "white"
             }
            },
            "header": {
             "fill": {
              "color": "#C8D4E3"
             },
             "line": {
              "color": "white"
             }
            },
            "type": "table"
           }
          ]
         },
         "layout": {
          "annotationdefaults": {
           "arrowcolor": "#2a3f5f",
           "arrowhead": 0,
           "arrowwidth": 1
          },
          "coloraxis": {
           "colorbar": {
            "outlinewidth": 0,
            "ticks": ""
           }
          },
          "colorscale": {
           "diverging": [
            [
             0,
             "#8e0152"
            ],
            [
             0.1,
             "#c51b7d"
            ],
            [
             0.2,
             "#de77ae"
            ],
            [
             0.3,
             "#f1b6da"
            ],
            [
             0.4,
             "#fde0ef"
            ],
            [
             0.5,
             "#f7f7f7"
            ],
            [
             0.6,
             "#e6f5d0"
            ],
            [
             0.7,
             "#b8e186"
            ],
            [
             0.8,
             "#7fbc41"
            ],
            [
             0.9,
             "#4d9221"
            ],
            [
             1,
             "#276419"
            ]
           ],
           "sequential": [
            [
             0,
             "#0d0887"
            ],
            [
             0.1111111111111111,
             "#46039f"
            ],
            [
             0.2222222222222222,
             "#7201a8"
            ],
            [
             0.3333333333333333,
             "#9c179e"
            ],
            [
             0.4444444444444444,
             "#bd3786"
            ],
            [
             0.5555555555555556,
             "#d8576b"
            ],
            [
             0.6666666666666666,
             "#ed7953"
            ],
            [
             0.7777777777777778,
             "#fb9f3a"
            ],
            [
             0.8888888888888888,
             "#fdca26"
            ],
            [
             1,
             "#f0f921"
            ]
           ],
           "sequentialminus": [
            [
             0,
             "#0d0887"
            ],
            [
             0.1111111111111111,
             "#46039f"
            ],
            [
             0.2222222222222222,
             "#7201a8"
            ],
            [
             0.3333333333333333,
             "#9c179e"
            ],
            [
             0.4444444444444444,
             "#bd3786"
            ],
            [
             0.5555555555555556,
             "#d8576b"
            ],
            [
             0.6666666666666666,
             "#ed7953"
            ],
            [
             0.7777777777777778,
             "#fb9f3a"
            ],
            [
             0.8888888888888888,
             "#fdca26"
            ],
            [
             1,
             "#f0f921"
            ]
           ]
          },
          "colorway": [
           "#636efa",
           "#EF553B",
           "#00cc96",
           "#ab63fa",
           "#FFA15A",
           "#19d3f3",
           "#FF6692",
           "#B6E880",
           "#FF97FF",
           "#FECB52"
          ],
          "font": {
           "color": "#2a3f5f"
          },
          "geo": {
           "bgcolor": "white",
           "lakecolor": "white",
           "landcolor": "#E5ECF6",
           "showlakes": true,
           "showland": true,
           "subunitcolor": "white"
          },
          "hoverlabel": {
           "align": "left"
          },
          "hovermode": "closest",
          "mapbox": {
           "style": "light"
          },
          "paper_bgcolor": "white",
          "plot_bgcolor": "#E5ECF6",
          "polar": {
           "angularaxis": {
            "gridcolor": "white",
            "linecolor": "white",
            "ticks": ""
           },
           "bgcolor": "#E5ECF6",
           "radialaxis": {
            "gridcolor": "white",
            "linecolor": "white",
            "ticks": ""
           }
          },
          "scene": {
           "xaxis": {
            "backgroundcolor": "#E5ECF6",
            "gridcolor": "white",
            "gridwidth": 2,
            "linecolor": "white",
            "showbackground": true,
            "ticks": "",
            "zerolinecolor": "white"
           },
           "yaxis": {
            "backgroundcolor": "#E5ECF6",
            "gridcolor": "white",
            "gridwidth": 2,
            "linecolor": "white",
            "showbackground": true,
            "ticks": "",
            "zerolinecolor": "white"
           },
           "zaxis": {
            "backgroundcolor": "#E5ECF6",
            "gridcolor": "white",
            "gridwidth": 2,
            "linecolor": "white",
            "showbackground": true,
            "ticks": "",
            "zerolinecolor": "white"
           }
          },
          "shapedefaults": {
           "line": {
            "color": "#2a3f5f"
           }
          },
          "ternary": {
           "aaxis": {
            "gridcolor": "white",
            "linecolor": "white",
            "ticks": ""
           },
           "baxis": {
            "gridcolor": "white",
            "linecolor": "white",
            "ticks": ""
           },
           "bgcolor": "#E5ECF6",
           "caxis": {
            "gridcolor": "white",
            "linecolor": "white",
            "ticks": ""
           }
          },
          "title": {
           "x": 0.05
          },
          "xaxis": {
           "automargin": true,
           "gridcolor": "white",
           "linecolor": "white",
           "ticks": "",
           "title": {
            "standoff": 15
           },
           "zerolinecolor": "white",
           "zerolinewidth": 2
          },
          "yaxis": {
           "automargin": true,
           "gridcolor": "white",
           "linecolor": "white",
           "ticks": "",
           "title": {
            "standoff": 15
           },
           "zerolinecolor": "white",
           "zerolinewidth": 2
          }
         }
        },
        "title": {
         "text": "Soma das Sequencias de Unders por dia"
        },
        "xaxis": {
         "title": {
          "text": "Periodo"
         }
        },
        "yaxis": {
         "title": {
          "text": "Quantidade"
         }
        }
       }
      },
      "text/html": [
       "<div>\n",
       "        \n",
       "        \n",
       "            <div id=\"da41c524-0d3d-4b16-9df7-d03db463682d\" class=\"plotly-graph-div\" style=\"height:525px; width:100%;\"></div>\n",
       "            <script type=\"text/javascript\">\n",
       "                require([\"plotly\"], function(Plotly) {\n",
       "                    window.PLOTLYENV=window.PLOTLYENV || {};\n",
       "                    \n",
       "                if (document.getElementById(\"da41c524-0d3d-4b16-9df7-d03db463682d\")) {\n",
       "                    Plotly.newPlot(\n",
       "                        'da41c524-0d3d-4b16-9df7-d03db463682d',\n",
       "                        [{\"marker\": {\"color\": [\"lightblue\", \"lightblue\", \"lightblue\", \"lightblue\", \"lightblue\", \"red\", \"red\", \"lightblue\", \"lightblue\", \"red\", \"red\", \"lightblue\", \"lightblue\", \"lightblue\", \"lightblue\", \"lightblue\", \"lightblue\", \"lightblue\", \"red\", \"lightblue\", \"lightblue\", \"lightblue\", \"red\", \"red\", \"lightblue\", \"red\", \"lightblue\", \"lightblue\", \"red\", \"lightblue\", \"red\", \"lightblue\", \"red\", \"red\", \"red\", \"lightblue\", \"red\", \"lightblue\", \"lightblue\", \"red\", \"lightblue\", \"red\", \"red\", \"red\", \"red\", \"red\", \"lightblue\", \"lightblue\", \"lightblue\", \"red\", \"lightblue\", \"lightblue\", \"red\", \"lightblue\", \"lightblue\", \"lightblue\", \"lightblue\", \"lightblue\", \"lightblue\", \"lightblue\", \"red\", \"lightblue\", \"lightblue\", \"lightblue\", \"lightblue\", \"lightblue\", \"red\", \"red\", \"red\", \"lightblue\", \"lightblue\", \"lightblue\", \"lightblue\", \"lightblue\", \"red\", \"red\", \"red\", \"red\", \"red\", \"red\", \"lightblue\", \"red\", \"lightblue\", \"red\", \"red\", \"lightblue\", \"lightblue\", \"red\", \"red\", \"red\"], \"line\": {\"color\": \"#333\", \"width\": 2}}, \"opacity\": 0.7, \"type\": \"bar\", \"x\": [\"2020-01-21\", \"2020-01-22\", \"2020-01-23\", \"2020-01-24\", \"2020-01-25\", \"2020-01-26\", \"2020-01-27\", \"2020-01-28\", \"2020-01-29\", \"2020-01-30\", \"2020-01-31\", \"2020-02-01\", \"2020-02-02\", \"2020-02-03\", \"2020-02-04\", \"2020-02-05\", \"2020-02-06\", \"2020-02-07\", \"2020-02-08\", \"2020-02-09\", \"2020-02-10\", \"2020-02-11\", \"2020-02-12\", \"2020-02-13\", \"2020-02-14\", \"2020-02-15\", \"2020-02-16\", \"2020-02-17\", \"2020-02-18\", \"2020-02-19\", \"2020-02-20\", \"2020-02-21\", \"2020-02-22\", \"2020-02-23\", \"2020-02-24\", \"2020-02-25\", \"2020-02-26\", \"2020-02-27\", \"2020-02-28\", \"2020-02-29\", \"2020-03-01\", \"2020-03-02\", \"2020-03-03\", \"2020-03-04\", \"2020-03-05\", \"2020-03-06\", \"2020-03-07\", \"2020-03-08\", \"2020-03-09\", \"2020-03-10\", \"2020-03-11\", \"2020-03-12\", \"2020-03-13\", \"2020-03-14\", \"2020-03-15\", \"2020-03-16\", \"2020-03-17\", \"2020-03-18\", \"2020-03-19\", \"2020-03-20\", \"2020-03-21\", \"2020-03-22\", \"2020-03-23\", \"2020-03-24\", \"2020-03-25\", \"2020-03-26\", \"2020-03-27\", \"2020-03-28\", \"2020-03-29\", \"2020-03-30\", \"2020-03-31\", \"2020-04-01\", \"2020-04-02\", \"2020-04-03\", \"2020-04-04\", \"2020-04-05\", \"2020-04-06\", \"2020-04-07\", \"2020-04-08\", \"2020-04-09\", \"2020-04-10\", \"2020-04-11\", \"2020-04-12\", \"2020-04-13\", \"2020-04-14\", \"2020-04-15\", \"2020-04-16\", \"2020-04-17\", \"2020-04-18\", \"2020-04-19\"], \"y\": [303.0, 301.0, 306.0, 318.0, 311.0, 290.0, 285.0, 314.0, 304.0, 284.0, 276.0, 312.0, 301.0, 314.0, 299.0, 300.0, 307.0, 305.0, 295.0, 299.0, 315.0, 314.0, 290.0, 281.0, 299.0, 292.0, 316.0, 303.0, 284.0, 303.0, 282.0, 310.0, 282.0, 296.0, 283.0, 303.0, 291.0, 305.0, 316.0, 295.0, 301.0, 294.0, 280.0, 280.0, 296.0, 292.0, 302.0, 301.0, 302.0, 298.0, 301.0, 316.0, 286.0, 314.0, 312.0, 305.0, 303.0, 319.0, 307.0, 308.0, 288.0, 300.0, 299.0, 301.0, 314.0, 303.0, 284.0, 291.0, 294.0, 305.0, 300.0, 303.0, 317.0, 307.0, 266.0, 298.0, 294.0, 281.0, 297.0, 286.0, 316.0, 286.0, 301.0, 295.0, 295.0, 304.0, 301.0, 278.0, 292.0, 295.0]}],\n",
       "                        {\"template\": {\"data\": {\"bar\": [{\"error_x\": {\"color\": \"#2a3f5f\"}, \"error_y\": {\"color\": \"#2a3f5f\"}, \"marker\": {\"line\": {\"color\": \"#E5ECF6\", \"width\": 0.5}}, \"type\": \"bar\"}], \"barpolar\": [{\"marker\": {\"line\": {\"color\": \"#E5ECF6\", \"width\": 0.5}}, \"type\": \"barpolar\"}], \"carpet\": [{\"aaxis\": {\"endlinecolor\": \"#2a3f5f\", \"gridcolor\": \"white\", \"linecolor\": \"white\", \"minorgridcolor\": \"white\", \"startlinecolor\": \"#2a3f5f\"}, \"baxis\": {\"endlinecolor\": \"#2a3f5f\", \"gridcolor\": \"white\", \"linecolor\": \"white\", \"minorgridcolor\": \"white\", \"startlinecolor\": \"#2a3f5f\"}, \"type\": \"carpet\"}], \"choropleth\": [{\"colorbar\": {\"outlinewidth\": 0, \"ticks\": \"\"}, \"type\": \"choropleth\"}], \"contour\": [{\"colorbar\": {\"outlinewidth\": 0, \"ticks\": \"\"}, \"colorscale\": [[0.0, \"#0d0887\"], [0.1111111111111111, \"#46039f\"], [0.2222222222222222, \"#7201a8\"], [0.3333333333333333, \"#9c179e\"], [0.4444444444444444, \"#bd3786\"], [0.5555555555555556, \"#d8576b\"], [0.6666666666666666, \"#ed7953\"], [0.7777777777777778, \"#fb9f3a\"], [0.8888888888888888, \"#fdca26\"], [1.0, \"#f0f921\"]], \"type\": \"contour\"}], \"contourcarpet\": [{\"colorbar\": {\"outlinewidth\": 0, \"ticks\": \"\"}, \"type\": \"contourcarpet\"}], \"heatmap\": [{\"colorbar\": {\"outlinewidth\": 0, \"ticks\": \"\"}, \"colorscale\": [[0.0, \"#0d0887\"], [0.1111111111111111, \"#46039f\"], [0.2222222222222222, \"#7201a8\"], [0.3333333333333333, \"#9c179e\"], [0.4444444444444444, \"#bd3786\"], [0.5555555555555556, \"#d8576b\"], [0.6666666666666666, \"#ed7953\"], [0.7777777777777778, \"#fb9f3a\"], [0.8888888888888888, \"#fdca26\"], [1.0, \"#f0f921\"]], \"type\": \"heatmap\"}], \"heatmapgl\": [{\"colorbar\": {\"outlinewidth\": 0, \"ticks\": \"\"}, \"colorscale\": [[0.0, \"#0d0887\"], [0.1111111111111111, \"#46039f\"], [0.2222222222222222, \"#7201a8\"], [0.3333333333333333, \"#9c179e\"], [0.4444444444444444, \"#bd3786\"], [0.5555555555555556, \"#d8576b\"], [0.6666666666666666, \"#ed7953\"], [0.7777777777777778, \"#fb9f3a\"], [0.8888888888888888, \"#fdca26\"], [1.0, \"#f0f921\"]], \"type\": \"heatmapgl\"}], \"histogram\": [{\"marker\": {\"colorbar\": {\"outlinewidth\": 0, \"ticks\": \"\"}}, \"type\": \"histogram\"}], \"histogram2d\": [{\"colorbar\": {\"outlinewidth\": 0, \"ticks\": \"\"}, \"colorscale\": [[0.0, \"#0d0887\"], [0.1111111111111111, \"#46039f\"], [0.2222222222222222, \"#7201a8\"], [0.3333333333333333, \"#9c179e\"], [0.4444444444444444, \"#bd3786\"], [0.5555555555555556, \"#d8576b\"], [0.6666666666666666, \"#ed7953\"], [0.7777777777777778, \"#fb9f3a\"], [0.8888888888888888, \"#fdca26\"], [1.0, \"#f0f921\"]], \"type\": \"histogram2d\"}], \"histogram2dcontour\": [{\"colorbar\": {\"outlinewidth\": 0, \"ticks\": \"\"}, \"colorscale\": [[0.0, \"#0d0887\"], [0.1111111111111111, \"#46039f\"], [0.2222222222222222, \"#7201a8\"], [0.3333333333333333, \"#9c179e\"], [0.4444444444444444, \"#bd3786\"], [0.5555555555555556, \"#d8576b\"], [0.6666666666666666, \"#ed7953\"], [0.7777777777777778, \"#fb9f3a\"], [0.8888888888888888, \"#fdca26\"], [1.0, \"#f0f921\"]], \"type\": \"histogram2dcontour\"}], \"mesh3d\": [{\"colorbar\": {\"outlinewidth\": 0, \"ticks\": \"\"}, \"type\": \"mesh3d\"}], \"parcoords\": [{\"line\": {\"colorbar\": {\"outlinewidth\": 0, \"ticks\": \"\"}}, \"type\": \"parcoords\"}], \"pie\": [{\"automargin\": true, \"type\": \"pie\"}], \"scatter\": [{\"marker\": {\"colorbar\": {\"outlinewidth\": 0, \"ticks\": \"\"}}, \"type\": \"scatter\"}], \"scatter3d\": [{\"line\": {\"colorbar\": {\"outlinewidth\": 0, \"ticks\": \"\"}}, \"marker\": {\"colorbar\": {\"outlinewidth\": 0, \"ticks\": \"\"}}, \"type\": \"scatter3d\"}], \"scattercarpet\": [{\"marker\": {\"colorbar\": {\"outlinewidth\": 0, \"ticks\": \"\"}}, \"type\": \"scattercarpet\"}], \"scattergeo\": [{\"marker\": {\"colorbar\": {\"outlinewidth\": 0, \"ticks\": \"\"}}, \"type\": \"scattergeo\"}], \"scattergl\": [{\"marker\": {\"colorbar\": {\"outlinewidth\": 0, \"ticks\": \"\"}}, \"type\": \"scattergl\"}], \"scattermapbox\": [{\"marker\": {\"colorbar\": {\"outlinewidth\": 0, \"ticks\": \"\"}}, \"type\": \"scattermapbox\"}], \"scatterpolar\": [{\"marker\": {\"colorbar\": {\"outlinewidth\": 0, \"ticks\": \"\"}}, \"type\": \"scatterpolar\"}], \"scatterpolargl\": [{\"marker\": {\"colorbar\": {\"outlinewidth\": 0, \"ticks\": \"\"}}, \"type\": \"scatterpolargl\"}], \"scatterternary\": [{\"marker\": {\"colorbar\": {\"outlinewidth\": 0, \"ticks\": \"\"}}, \"type\": \"scatterternary\"}], \"surface\": [{\"colorbar\": {\"outlinewidth\": 0, \"ticks\": \"\"}, \"colorscale\": [[0.0, \"#0d0887\"], [0.1111111111111111, \"#46039f\"], [0.2222222222222222, \"#7201a8\"], [0.3333333333333333, \"#9c179e\"], [0.4444444444444444, \"#bd3786\"], [0.5555555555555556, \"#d8576b\"], [0.6666666666666666, \"#ed7953\"], [0.7777777777777778, \"#fb9f3a\"], [0.8888888888888888, \"#fdca26\"], [1.0, \"#f0f921\"]], \"type\": \"surface\"}], \"table\": [{\"cells\": {\"fill\": {\"color\": \"#EBF0F8\"}, \"line\": {\"color\": \"white\"}}, \"header\": {\"fill\": {\"color\": \"#C8D4E3\"}, \"line\": {\"color\": \"white\"}}, \"type\": \"table\"}]}, \"layout\": {\"annotationdefaults\": {\"arrowcolor\": \"#2a3f5f\", \"arrowhead\": 0, \"arrowwidth\": 1}, \"coloraxis\": {\"colorbar\": {\"outlinewidth\": 0, \"ticks\": \"\"}}, \"colorscale\": {\"diverging\": [[0, \"#8e0152\"], [0.1, \"#c51b7d\"], [0.2, \"#de77ae\"], [0.3, \"#f1b6da\"], [0.4, \"#fde0ef\"], [0.5, \"#f7f7f7\"], [0.6, \"#e6f5d0\"], [0.7, \"#b8e186\"], [0.8, \"#7fbc41\"], [0.9, \"#4d9221\"], [1, \"#276419\"]], \"sequential\": [[0.0, \"#0d0887\"], [0.1111111111111111, \"#46039f\"], [0.2222222222222222, \"#7201a8\"], [0.3333333333333333, \"#9c179e\"], [0.4444444444444444, \"#bd3786\"], [0.5555555555555556, \"#d8576b\"], [0.6666666666666666, \"#ed7953\"], [0.7777777777777778, \"#fb9f3a\"], [0.8888888888888888, \"#fdca26\"], [1.0, \"#f0f921\"]], \"sequentialminus\": [[0.0, \"#0d0887\"], [0.1111111111111111, \"#46039f\"], [0.2222222222222222, \"#7201a8\"], [0.3333333333333333, \"#9c179e\"], [0.4444444444444444, \"#bd3786\"], [0.5555555555555556, \"#d8576b\"], [0.6666666666666666, \"#ed7953\"], [0.7777777777777778, \"#fb9f3a\"], [0.8888888888888888, \"#fdca26\"], [1.0, \"#f0f921\"]]}, \"colorway\": [\"#636efa\", \"#EF553B\", \"#00cc96\", \"#ab63fa\", \"#FFA15A\", \"#19d3f3\", \"#FF6692\", \"#B6E880\", \"#FF97FF\", \"#FECB52\"], \"font\": {\"color\": \"#2a3f5f\"}, \"geo\": {\"bgcolor\": \"white\", \"lakecolor\": \"white\", \"landcolor\": \"#E5ECF6\", \"showlakes\": true, \"showland\": true, \"subunitcolor\": \"white\"}, \"hoverlabel\": {\"align\": \"left\"}, \"hovermode\": \"closest\", \"mapbox\": {\"style\": \"light\"}, \"paper_bgcolor\": \"white\", \"plot_bgcolor\": \"#E5ECF6\", \"polar\": {\"angularaxis\": {\"gridcolor\": \"white\", \"linecolor\": \"white\", \"ticks\": \"\"}, \"bgcolor\": \"#E5ECF6\", \"radialaxis\": {\"gridcolor\": \"white\", \"linecolor\": \"white\", \"ticks\": \"\"}}, \"scene\": {\"xaxis\": {\"backgroundcolor\": \"#E5ECF6\", \"gridcolor\": \"white\", \"gridwidth\": 2, \"linecolor\": \"white\", \"showbackground\": true, \"ticks\": \"\", \"zerolinecolor\": \"white\"}, \"yaxis\": {\"backgroundcolor\": \"#E5ECF6\", \"gridcolor\": \"white\", \"gridwidth\": 2, \"linecolor\": \"white\", \"showbackground\": true, \"ticks\": \"\", \"zerolinecolor\": \"white\"}, \"zaxis\": {\"backgroundcolor\": \"#E5ECF6\", \"gridcolor\": \"white\", \"gridwidth\": 2, \"linecolor\": \"white\", \"showbackground\": true, \"ticks\": \"\", \"zerolinecolor\": \"white\"}}, \"shapedefaults\": {\"line\": {\"color\": \"#2a3f5f\"}}, \"ternary\": {\"aaxis\": {\"gridcolor\": \"white\", \"linecolor\": \"white\", \"ticks\": \"\"}, \"baxis\": {\"gridcolor\": \"white\", \"linecolor\": \"white\", \"ticks\": \"\"}, \"bgcolor\": \"#E5ECF6\", \"caxis\": {\"gridcolor\": \"white\", \"linecolor\": \"white\", \"ticks\": \"\"}}, \"title\": {\"x\": 0.05}, \"xaxis\": {\"automargin\": true, \"gridcolor\": \"white\", \"linecolor\": \"white\", \"ticks\": \"\", \"title\": {\"standoff\": 15}, \"zerolinecolor\": \"white\", \"zerolinewidth\": 2}, \"yaxis\": {\"automargin\": true, \"gridcolor\": \"white\", \"linecolor\": \"white\", \"ticks\": \"\", \"title\": {\"standoff\": 15}, \"zerolinecolor\": \"white\", \"zerolinewidth\": 2}}}, \"title\": {\"text\": \"Soma das Sequencias de Unders por dia\"}, \"xaxis\": {\"title\": {\"text\": \"Periodo\"}}, \"yaxis\": {\"title\": {\"text\": \"Quantidade\"}}},\n",
       "                        {\"responsive\": true}\n",
       "                    ).then(function(){\n",
       "                            \n",
       "var gd = document.getElementById('da41c524-0d3d-4b16-9df7-d03db463682d');\n",
       "var x = new MutationObserver(function (mutations, observer) {{\n",
       "        var display = window.getComputedStyle(gd).display;\n",
       "        if (!display || display === 'none') {{\n",
       "            console.log([gd, 'removed!']);\n",
       "            Plotly.purge(gd);\n",
       "            observer.disconnect();\n",
       "        }}\n",
       "}});\n",
       "\n",
       "// Listen for the removal of the full notebook cells\n",
       "var notebookContainer = gd.closest('#notebook-container');\n",
       "if (notebookContainer) {{\n",
       "    x.observe(notebookContainer, {childList: true});\n",
       "}}\n",
       "\n",
       "// Listen for the clearing of the current output cell\n",
       "var outputEl = gd.closest('.output');\n",
       "if (outputEl) {{\n",
       "    x.observe(outputEl, {childList: true});\n",
       "}}\n",
       "\n",
       "                        })\n",
       "                };\n",
       "                });\n",
       "            </script>\n",
       "        </div>"
      ]
     },
     "metadata": {},
     "output_type": "display_data"
    }
   ],
   "source": [
    "data = [go.Bar(x=unders_por_dia.index,\n",
    "               y=unders_por_dia.values,\n",
    "               marker = {'color': cores,  #lista de cores\n",
    "                         'line': {'color': '#333',\n",
    "                                  'width': 2}\n",
    "                        },\n",
    "               opacity= 0.7\n",
    "              )\n",
    "       ]\n",
    "\n",
    "# Criando Layout\n",
    "configuracoes_layout =  go.Layout(title='Soma das Sequencias de Unders por dia', yaxis={'title':'Quantidade'}, xaxis={'title': 'Periodo'})\n",
    "# Objeto figura\n",
    "\n",
    "fig = go.Figure(data=data, layout=configuracoes_layout)\n",
    "\n",
    "# plotando o grafico\n",
    "py.iplot(fig)"
   ]
  },
  {
   "cell_type": "code",
   "execution_count": null,
   "metadata": {},
   "outputs": [],
   "source": []
  }
 ],
 "metadata": {
  "kernelspec": {
   "display_name": "Python 3",
   "language": "python",
   "name": "python3"
  },
  "language_info": {
   "codemirror_mode": {
    "name": "ipython",
    "version": 3
   },
   "file_extension": ".py",
   "mimetype": "text/x-python",
   "name": "python",
   "nbconvert_exporter": "python",
   "pygments_lexer": "ipython3",
   "version": "3.5.3"
  }
 },
 "nbformat": 4,
 "nbformat_minor": 2
}
