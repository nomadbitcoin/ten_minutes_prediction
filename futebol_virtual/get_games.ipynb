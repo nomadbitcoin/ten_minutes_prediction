{
 "cells": [
  {
   "cell_type": "markdown",
   "metadata": {},
   "source": [
    "# Ira pegar os dados de futebol virtual dos ultimos 90 dias"
   ]
  },
  {
   "cell_type": "code",
   "execution_count": 37,
   "metadata": {},
   "outputs": [],
   "source": [
    "from selenium import webdriver\n",
    "from selenium.webdriver.common.keys import Keys\n",
    "import bs4, time\n",
    "from datetime import datetime, timedelta\n",
    "import pandas as pd\n",
    "pd.options.display.max_rows = None"
   ]
  },
  {
   "cell_type": "code",
   "execution_count": 20,
   "metadata": {},
   "outputs": [],
   "source": [
    "driver = webdriver.Chrome(executable_path='./webdriver/linux/chromedriver')"
   ]
  },
  {
   "cell_type": "code",
   "execution_count": 5,
   "metadata": {},
   "outputs": [],
   "source": [
    "# DIA DE HOJE\n",
    "d2 = datetime.strptime('2020-04-20', '%Y-%m-%d')\n",
    "\n",
    "# DIA LIMITE DE DADOS NA BETFAIR\n",
    "d1 = datetime.strptime('2020-01-21', '%Y-%m-%d')\n",
    "\n",
    "# Calculo da quantidade de dias\n",
    "quantidade_dias = abs((d2 - d1).days)\n",
    "\n",
    "# TALVEZ SO TENHA DADOS DE 90 DIAS, SE ISSO FOR VERDADE A DATA LIMITE MUDARA E NAO SERA DIA 21 DE JANEIRO"
   ]
  },
  {
   "cell_type": "code",
   "execution_count": 6,
   "metadata": {},
   "outputs": [],
   "source": [
    "event_data = {'date': '', 'time': '', 'team_home': '', 'score': '', 'team_back': ''}"
   ]
  },
  {
   "cell_type": "code",
   "execution_count": 7,
   "metadata": {},
   "outputs": [],
   "source": [
    "data = pd.DataFrame(columns=list(event_data.keys()), dtype=str)\n",
    "saved_days = []"
   ]
  },
  {
   "cell_type": "code",
   "execution_count": 25,
   "metadata": {
    "scrolled": true
   },
   "outputs": [
    {
     "name": "stdout",
     "output_type": "stream",
     "text": [
      "16 saved day: 2020-04-03\n",
      "17 saved day: 2020-04-02\n",
      "18 saved day: 2020-04-01\n",
      "19 saved day: 2020-03-31\n",
      "20 saved day: 2020-03-30\n",
      "21 saved day: 2020-03-29\n",
      "22 saved day: 2020-03-28\n",
      "23 saved day: 2020-03-27\n",
      "24 saved day: 2020-03-26\n",
      "25 saved day: 2020-03-25\n",
      "26 saved day: 2020-03-24\n",
      "27 saved day: 2020-03-23\n",
      "28 saved day: 2020-03-22\n",
      "29 saved day: 2020-03-21\n",
      "30 saved day: 2020-03-20\n",
      "31 saved day: 2020-03-19\n",
      "32 saved day: 2020-03-18\n",
      "33 saved day: 2020-03-17\n",
      "34 saved day: 2020-03-16\n",
      "35 saved day: 2020-03-15\n",
      "36 saved day: 2020-03-14\n",
      "37 saved day: 2020-03-13\n",
      "38 saved day: 2020-03-12\n",
      "39 saved day: 2020-03-11\n",
      "40 saved day: 2020-03-10\n",
      "41 saved day: 2020-03-09\n",
      "42 saved day: 2020-03-08\n",
      "43 saved day: 2020-03-07\n",
      "44 saved day: 2020-03-06\n",
      "45 saved day: 2020-03-05\n",
      "46 saved day: 2020-03-04\n",
      "47 saved day: 2020-03-03\n",
      "48 saved day: 2020-03-02\n",
      "49 saved day: 2020-03-01\n",
      "50 saved day: 2020-02-29\n",
      "51 saved day: 2020-02-28\n",
      "52 saved day: 2020-02-27\n",
      "53 saved day: 2020-02-26\n",
      "54 saved day: 2020-02-25\n",
      "55 saved day: 2020-02-24\n",
      "56 saved day: 2020-02-23\n",
      "57 saved day: 2020-02-22\n",
      "58 saved day: 2020-02-21\n",
      "59 saved day: 2020-02-20\n",
      "60 saved day: 2020-02-19\n",
      "61 saved day: 2020-02-18\n",
      "62 saved day: 2020-02-17\n",
      "63 saved day: 2020-02-16\n",
      "64 saved day: 2020-02-15\n",
      "65 saved day: 2020-02-14\n",
      "66 saved day: 2020-02-13\n",
      "67 saved day: 2020-02-12\n",
      "68 saved day: 2020-02-11\n",
      "69 saved day: 2020-02-10\n",
      "70 saved day: 2020-02-09\n",
      "71 saved day: 2020-02-08\n",
      "72 saved day: 2020-02-07\n",
      "73 saved day: 2020-02-06\n",
      "74 saved day: 2020-02-05\n",
      "75 saved day: 2020-02-04\n",
      "76 saved day: 2020-02-03\n",
      "77 saved day: 2020-02-02\n",
      "78 saved day: 2020-02-01\n",
      "79 saved day: 2020-01-31\n",
      "80 saved day: 2020-01-30\n",
      "81 saved day: 2020-01-29\n",
      "82 saved day: 2020-01-28\n",
      "83 saved day: 2020-01-27\n",
      "84 saved day: 2020-01-26\n",
      "85 saved day: 2020-01-25\n",
      "86 saved day: 2020-01-24\n",
      "87 saved day: 2020-01-23\n",
      "88 saved day: 2020-01-22\n",
      "89 saved day: 2020-01-21\n"
     ]
    }
   ],
   "source": [
    "for i in range(quantidade_dias):\n",
    "    day = '20' + (datetime.today() - timedelta(days=i+1)).strftime('%y-%m-%d')\n",
    "    \n",
    "    \n",
    "    if day not in saved_days:\n",
    "        link = 'https://www.betfair.com/sport/virtuals-results?sport=SOCCER&day=' + day\n",
    "        driver.get(link)\n",
    "\n",
    "        total = 0\n",
    "        count = 0\n",
    "        while total != '475':\n",
    "            total = driver.find_element_by_class_name('number-of-results').text\n",
    "            driver.find_element_by_tag_name('html').send_keys(Keys.END)\n",
    "            time.sleep(1)\n",
    "            driver.find_element_by_tag_name('html').send_keys(Keys.HOME)\n",
    "            count +=1\n",
    "            if count >=20:\n",
    "                print('\\ndia com menos de 475\\n')\n",
    "                next_or_break = input('1 para parar de tentar pegar os dados ou outra tecla para continuar\\n:')\n",
    "                if str(next_or_break) == '1':\n",
    "                    break\n",
    "\n",
    "        htmlPage = bs4.BeautifulSoup(driver.page_source, features='html.parser')\n",
    "        table_results = htmlPage.find('div',{'class':'result-list-wrapper'})\n",
    "\n",
    "        data_day = []\n",
    "        for event in table_results.find_all('div',{'class':'result-title'}):\n",
    "            content = event.text.split('\\n')\n",
    "            event_data = {'date': '', 'time': '', 'team_home': '', 'score': '', 'team_back': ''}\n",
    "\n",
    "            event_data['date'] = day\n",
    "            event_data['time'] = content[1]\n",
    "            event_data['team_home'] = content[2]\n",
    "            event_data['score'] = content[4]\n",
    "            event_data['team_back'] = content[6]\n",
    "\n",
    "            data_day.append(event_data)\n",
    "\n",
    "        df = pd.DataFrame(data_day, columns=list(event_data.keys()), dtype=str)\n",
    "\n",
    "        data = data.append(df)\n",
    "\n",
    "        saved_days.append(day)\n",
    "        print('{} saved day: {}'.format(i, day))\n",
    "#         if i == 2:\n",
    "#             break"
   ]
  },
  {
   "cell_type": "code",
   "execution_count": null,
   "metadata": {},
   "outputs": [],
   "source": []
  },
  {
   "cell_type": "code",
   "execution_count": 29,
   "metadata": {},
   "outputs": [
    {
     "data": {
      "text/plain": [
       "42725"
      ]
     },
     "execution_count": 29,
     "metadata": {},
     "output_type": "execute_result"
    }
   ],
   "source": [
    "len(data)"
   ]
  },
  {
   "cell_type": "code",
   "execution_count": 28,
   "metadata": {},
   "outputs": [],
   "source": [
    "data.drop_duplicates(inplace=True)"
   ]
  },
  {
   "cell_type": "code",
   "execution_count": 30,
   "metadata": {},
   "outputs": [],
   "source": [
    "data.reset_index(drop=True, inplace=True)"
   ]
  },
  {
   "cell_type": "code",
   "execution_count": 36,
   "metadata": {},
   "outputs": [],
   "source": [
    "data.to_csv('data.csv', index=None)"
   ]
  },
  {
   "cell_type": "code",
   "execution_count": null,
   "metadata": {},
   "outputs": [],
   "source": []
  }
 ],
 "metadata": {
  "kernelspec": {
   "display_name": "Python 3",
   "language": "python",
   "name": "python3"
  },
  "language_info": {
   "codemirror_mode": {
    "name": "ipython",
    "version": 3
   },
   "file_extension": ".py",
   "mimetype": "text/x-python",
   "name": "python",
   "nbconvert_exporter": "python",
   "pygments_lexer": "ipython3",
   "version": "3.5.3"
  }
 },
 "nbformat": 4,
 "nbformat_minor": 2
}
