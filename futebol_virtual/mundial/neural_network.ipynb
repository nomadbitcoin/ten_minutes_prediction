{
 "cells": [
  {
   "cell_type": "code",
   "execution_count": 6,
   "metadata": {},
   "outputs": [],
   "source": [
    "from selenium import webdriver\n",
    "import requests\n",
    "from selenium.webdriver.common.keys import Keys\n",
    "import bs4, time\n",
    "from datetime import datetime, timedelta\n",
    "import pandas as pd\n",
    "import numpy as np\n",
    "\n",
    "pd.options.display.max_rows = None\n",
    "pd.options.display.max_columns = None"
   ]
  },
  {
   "cell_type": "code",
   "execution_count": 133,
   "metadata": {},
   "outputs": [],
   "source": [
    "from twilio.rest import Client\n",
    "\n",
    "account_sid = 'AC9c0f990c8862e7233314e7cb4c763078'\n",
    "auth_token = '9e69cd4edea02c36f50f33483bbbdd3d'\n",
    "client = Client(account_sid, auth_token)\n",
    "\n",
    "# this is the Twilio sandbox testing number\n",
    "from_whatsapp_number='whatsapp:+14155238886'\n",
    "# replace this number with your own WhatsApp Messaging number\n",
    "yan_number='whatsapp:+554788917321'\n",
    "uilton_number='whatsapp:+557191289667'\n",
    "\n",
    "def sendMessage(message):\n",
    "    client.messages.create(body=message, from_=from_whatsapp_number, to=yan_number)\n",
    "#     time.sleep(0.3)\n",
    "#     client.messages.create(body=message, from_=from_whatsapp_number, to=uilton_number)\n",
    "    return True"
   ]
  },
  {
   "cell_type": "code",
   "execution_count": 21,
   "metadata": {},
   "outputs": [],
   "source": [
    "def getGames(market, data_hoje, games_now=False):\n",
    "    '''\n",
    "        Ira pegar os ultimos jogos\n",
    "        \n",
    "        games_now para pegar somente os jogos de agora\n",
    "    '''\n",
    "    total = 0\n",
    "    count = 0\n",
    "    \n",
    "    \n",
    "    if market == 'futebol_clubes':\n",
    "        main_url = 'https://www.betfair.com/sport/virtuals-results?sport=SOCCER&day='\n",
    "    elif market == 'futebol_mundial':\n",
    "        main_url = 'https://www.betfair.com/sport/virtuals-results?sport=SOCCER_WORLD_CUP&day='\n",
    "\n",
    "    link =  main_url + data_hoje\n",
    "        \n",
    "    if games_now != False:\n",
    "        req = requests.get(link)\n",
    "        if not req.status_code == 200:\n",
    "            return 'Problem with request'\n",
    "        else:\n",
    "            htmlPage = bs4.BeautifulSoup(req.content, features='html.parser')\n",
    "    else:\n",
    "        driver = webdriver.Chrome(executable_path='./webdriver/linux/chromedriver')\n",
    "        \n",
    "        driver.get(link)\n",
    "        time.sleep(1)\n",
    "        while total != '475':\n",
    "            total = driver.find_element_by_class_name('number-of-results').text\n",
    "            driver.find_element_by_tag_name('html').send_keys(Keys.END)\n",
    "            time.sleep(1)\n",
    "            driver.find_element_by_tag_name('html').send_keys(Keys.HOME)\n",
    "            count +=1\n",
    "            if count >=20:\n",
    "                print('\\ndia com menos de 475\\n')\n",
    "                next_or_break = input('1 para parar de tentar pegar os dados ou outra tecla para continuar\\n:')\n",
    "                if str(next_or_break) == '1':\n",
    "                    break        \n",
    "\n",
    "        htmlPage = bs4.BeautifulSoup(driver.page_source, features='html.parser')\n",
    "        driver.close()\n",
    "    \n",
    "    table_results = htmlPage.find('div',{'class':'result-list-wrapper'})\n",
    "\n",
    "    data_day = []\n",
    "    for event in table_results.find_all('div',{'class':'result-title'}):\n",
    "        content = event.text.split('\\n')\n",
    "        event_data = {'date': '', 'time': '', 'team_home': '', 'score': '', 'team_back': ''}\n",
    "\n",
    "        event_data['date'] = data_hoje\n",
    "        event_data['time'] = content[1]\n",
    "        event_data['team_home'] = content[2]\n",
    "        event_data['score'] = content[4]\n",
    "        event_data['team_back'] = content[6]\n",
    "\n",
    "        data_day.append(event_data)\n",
    "\n",
    "    data = pd.DataFrame(data_day, columns=list(event_data.keys()))\n",
    "#     print('saved day: {}'.format(data_hoje))\n",
    "\n",
    "    return data"
   ]
  },
  {
   "cell_type": "code",
   "execution_count": 22,
   "metadata": {},
   "outputs": [],
   "source": [
    "def cleanDatetime(data, data_today=True):\n",
    "    '''\n",
    "        Pre processa os dados e os deixa prontos para analise\n",
    "        \n",
    "        data_today=False para tratar dados que nao sejam de hoje\n",
    "    '''\n",
    "    for row in range(len(data)):\n",
    "        data.loc[row, 'datetime'] = data.loc[row, 'date'] + ' ' + data.loc[row, 'time']\n",
    "        data.loc[row, 'datetime'] = pd.to_datetime(data.loc[row, 'datetime'], errors='coerce')\n",
    "        \n",
    "        if data_today == True and data.loc[row, 'datetime'].hour > datetime.now().hour:\n",
    "            data.loc[row, 'datetime'] = data.loc[row, 'datetime']-timedelta(days=1)\n",
    "    \n",
    "    data.drop(['date', 'time'], axis=1, inplace=True)\n",
    "    data.sort_values(['datetime'], inplace=True)\n",
    "    data.reset_index(drop=True, inplace=True)\n",
    "    return data"
   ]
  },
  {
   "cell_type": "code",
   "execution_count": 23,
   "metadata": {},
   "outputs": [],
   "source": [
    "def saveDF(data, name=None):\n",
    "    name_save = name + '_' + data_hoje + '_' + str(len(data)) + '.csv'\n",
    "    data.to_csv('./dados/' + name_save, index=None)\n",
    "    return True"
   ]
  },
  {
   "cell_type": "code",
   "execution_count": 24,
   "metadata": {},
   "outputs": [],
   "source": [
    "def pipeline(data):\n",
    "    '''\n",
    "        deixa os dados prontos para treinamento e previsao\n",
    "    '''\n",
    "    \n",
    "    #transforma os valores do resultado de jogo para float\n",
    "    for row, content in data.T.iteritems():\n",
    "        game_result = content['score'].replace(' - ', '.')\n",
    "        data.loc[row, 'float_score'] = float(game_result)\n",
    "        \n",
    "    #adiciona em colunas os resultados dos 33 jogos anteriores\n",
    "    for row, content in data.T.iteritems():\n",
    "        #salva 1 se o resultado futuro for over e 0 se for under\n",
    "        numbers = str(content['float_score']).split('.')\n",
    "        soma = int(numbers[0]) + int(numbers[1])\n",
    "        if soma >2:\n",
    "            data.loc[row-1, 'future_result'] = int(1)\n",
    "        else:\n",
    "            data.loc[row-1, 'future_result'] = int(0)\n",
    "        \n",
    "        #adiciona em colunas os resultados dos 20 eventos anteriores\n",
    "        if row <=33:\n",
    "            pass\n",
    "        else:\n",
    "            for before in range(1,33):\n",
    "                data.loc[row, str(before)] = data.loc[row-before, 'float_score']\n",
    "            if row % 1000 == 0:\n",
    "                print('{} rows processed'.format(row))            \n",
    "    \n",
    "    data['predict'] = data['future_result']\n",
    "    data.drop(['future_result'], axis=1, inplace=True)\n",
    "    \n",
    "    data.drop(['team_back', 'team_home', 'score'], axis=1, inplace=True)\n",
    "    data.reset_index(drop=True, inplace=True)\n",
    "    \n",
    "    #retira as ultimas duas linhas que terao dados faltantes\n",
    "    data = data.drop([data.index[-1]])    \n",
    "    return data"
   ]
  },
  {
   "cell_type": "code",
   "execution_count": 25,
   "metadata": {},
   "outputs": [],
   "source": [
    "def includeYesterday(data, save=True):\n",
    "    '''\n",
    "        Junta os dados anteriores com os dados de ontem\n",
    "    '''\n",
    "    #carrega os dados anteriores\n",
    "    anteriores_file = './dados/clubes_20_jogos_anteriores.csv'\n",
    "    anteriores = pd.read_csv(anteriores_file)\n",
    "    \n",
    "    \n",
    "    dia_ontem = (datetime.today() - timedelta(days=1)).strftime('%Y-%m-%d')\n",
    "    \n",
    "    #pega os dados de ontem\n",
    "    data = getGames('futebol_clubes', dia_ontem)\n",
    "    \n",
    "    #limpa as datas\n",
    "    data = cleanDatetime(data, data_today=False)\n",
    "    \n",
    "    #ultimo jogo salvo no dataframe principal\n",
    "    ultimo_dia_salvo = anteriores.loc[len(anteriores)-1, 'datetime']\n",
    "\n",
    "    #posicao do ultimo jogo salvo no dataframe com os dias a serem incluidos\n",
    "    position = int(data[data['datetime'] == pd.to_datetime(ultimo_dia_salvo)].index[0])\n",
    "    \n",
    "    #salva os 20 jogos anteriores e a coluna com o resultado a ser previsto\n",
    "    data = pipeline(data)\n",
    "    \n",
    "    #ira pegar os dados que estao entre os dados anteriores e ate o ultimo item que estara vazio pois sera criada com o resultado futuro\n",
    "    data = data.loc[position+1:,:]\n",
    "\n",
    "    \n",
    "#     anteriores['predict'] = anteriores['future_result']\n",
    "    anteriores = anteriores.append(data, sort=False)\n",
    "    anteriores.reset_index(drop=True, inplace=True)\n",
    "    \n",
    "    if save == True:\n",
    "        saveDF(data, anteriores_file)"
   ]
  },
  {
   "cell_type": "code",
   "execution_count": 26,
   "metadata": {},
   "outputs": [],
   "source": [
    "data = pd.read_csv('futebol_mundial.csv')"
   ]
  },
  {
   "cell_type": "code",
   "execution_count": 9,
   "metadata": {},
   "outputs": [],
   "source": [
    "data = cleanDatetime(data,data_today=False)"
   ]
  },
  {
   "cell_type": "code",
   "execution_count": null,
   "metadata": {},
   "outputs": [],
   "source": [
    "data = pipeline(data)"
   ]
  },
  {
   "cell_type": "code",
   "execution_count": null,
   "metadata": {},
   "outputs": [],
   "source": []
  },
  {
   "cell_type": "code",
   "execution_count": null,
   "metadata": {},
   "outputs": [],
   "source": []
  },
  {
   "cell_type": "code",
   "execution_count": null,
   "metadata": {},
   "outputs": [],
   "source": []
  },
  {
   "cell_type": "code",
   "execution_count": 59,
   "metadata": {},
   "outputs": [],
   "source": [
    "def getLastGames(enough_games=True):\n",
    "    '''\n",
    "        enough_games para caso nao haja dados o suficiente ainda no dia e precise dos jogos anteriores\n",
    "    '''    \n",
    "    data = getGames('futebol_mundial', '2020-04-30', games_now=True)\n",
    "#     data = data2.append(data)\n",
    "    data.reset_index(drop=True, inplace=True)\n",
    "    data = cleanDatetime(data)\n",
    "    data = pipeline(data)\n",
    "    return data"
   ]
  },
  {
   "cell_type": "markdown",
   "metadata": {},
   "source": [
    "# o ultimo valor em future_result esta como nulo porque o modelo preditivo ira nos dizer qual sera o resultado futuro: 1.0 para OVER e 0.0 para UNDER"
   ]
  },
  {
   "cell_type": "code",
   "execution_count": 12,
   "metadata": {},
   "outputs": [
    {
     "data": {
      "text/plain": [
       "'2.1.0'"
      ]
     },
     "execution_count": 12,
     "metadata": {},
     "output_type": "execute_result"
    }
   ],
   "source": [
    "# %tensorflow_version 2.x\n",
    "import tensorflow as tf\n",
    "tf.__version__"
   ]
  },
  {
   "cell_type": "code",
   "execution_count": 13,
   "metadata": {},
   "outputs": [
    {
     "name": "stderr",
     "output_type": "stream",
     "text": [
      "Using TensorFlow backend.\n"
     ]
    }
   ],
   "source": [
    "from keras.models import model_from_json\n",
    "import keras\n",
    "# load json and create model\n",
    "file = open('./nn/mymodel.json', 'r')\n",
    "model_json = file.read()\n",
    "file.close()"
   ]
  },
  {
   "cell_type": "code",
   "execution_count": 14,
   "metadata": {},
   "outputs": [],
   "source": [
    "loading_model = tf.keras.models.model_from_json(model_json)"
   ]
  },
  {
   "cell_type": "code",
   "execution_count": 15,
   "metadata": {},
   "outputs": [],
   "source": [
    "# load weights\n",
    "loading_model.load_weights('./nn/weights2.h5')"
   ]
  },
  {
   "cell_type": "code",
   "execution_count": 16,
   "metadata": {},
   "outputs": [],
   "source": [
    "model = loading_model"
   ]
  },
  {
   "cell_type": "code",
   "execution_count": 74,
   "metadata": {},
   "outputs": [],
   "source": [
    "def predictLastGame():\n",
    "    global data\n",
    "    data = getLastGames(False)\n",
    "    \n",
    "    last = int(len(data)-1)\n",
    "\n",
    "    next_game = data.loc[last,'datetime'] + timedelta(minutes=3)\n",
    "    next_game = next_game + timedelta(hours=2)\n",
    "    next_game = next_game.time().strftime('%H:%M')\n",
    "\n",
    "    a = data.iloc[last,1:-1].to_numpy()\n",
    "\n",
    "    a = np.array([a])\n",
    "\n",
    "    X = np.asarray(a).astype(np.float32)\n",
    "\n",
    "    global y_predict\n",
    "    y_predict = model.predict(X)\n",
    "    \n",
    "    y_classes = np.argmax(y_predict)\n",
    "    \n",
    "    if next_game not in predicted.keys():\n",
    "#         print('previsao {}\\n'.format(y_predict))\n",
    "        \n",
    "        if y_classes == 1:\n",
    "            message = 'Futebol MUNDIAL às {} será OVER'.format(next_game)\n",
    "#             sendMessage(message)\n",
    "            print(message)\n",
    "            predicted[next_game] = y_classes\n",
    "    #         return True #pois pegou uma nova previsao\n",
    "        else:\n",
    "            message = 'Futebol MUNDIAL às {} será UNDER'.format(next_game)\n",
    "    #             sendMessage(message)\n",
    "            print(message)\n",
    "            predicted[next_game] = y_classes"
   ]
  },
  {
   "cell_type": "code",
   "execution_count": 80,
   "metadata": {},
   "outputs": [
    {
     "data": {
      "text/plain": [
       "{'14:34': 0, '14:37': 0, '14:40': 0, '14:43': 0, '14:46': 0}"
      ]
     },
     "execution_count": 80,
     "metadata": {},
     "output_type": "execute_result"
    }
   ],
   "source": [
    "# predicted = {}\n",
    "predicted"
   ]
  },
  {
   "cell_type": "code",
   "execution_count": null,
   "metadata": {},
   "outputs": [
    {
     "name": "stdout",
     "output_type": "stream",
     "text": [
      "Futebol MUNDIAL às 14:49 será UNDER\n",
      "Futebol MUNDIAL às 14:52 será OVER\n",
      "Futebol MUNDIAL às 14:55 será UNDER\n",
      "Futebol MUNDIAL às 14:58 será UNDER\n",
      "Futebol MUNDIAL às 15:01 será UNDER\n",
      "Futebol MUNDIAL às 15:04 será UNDER\n",
      "Futebol MUNDIAL às 15:07 será OVER\n",
      "Futebol MUNDIAL às 15:10 será UNDER\n",
      "Futebol MUNDIAL às 15:13 será UNDER\n",
      "Futebol MUNDIAL às 15:16 será UNDER\n",
      "Futebol MUNDIAL às 15:19 será OVER\n",
      "Futebol MUNDIAL às 15:22 será UNDER\n",
      "Futebol MUNDIAL às 15:25 será OVER\n",
      "Futebol MUNDIAL às 15:28 será UNDER\n",
      "Futebol MUNDIAL às 15:31 será UNDER\n",
      "Futebol MUNDIAL às 15:34 será UNDER\n",
      "Futebol MUNDIAL às 15:37 será UNDER\n",
      "Futebol MUNDIAL às 15:40 será UNDER\n",
      "Futebol MUNDIAL às 15:43 será UNDER\n",
      "Futebol MUNDIAL às 15:46 será UNDER\n"
     ]
    }
   ],
   "source": [
    "while True:\n",
    "    predictLastGame()\n",
    "    time.sleep(60)"
   ]
  },
  {
   "cell_type": "code",
   "execution_count": null,
   "metadata": {},
   "outputs": [],
   "source": []
  }
 ],
 "metadata": {
  "kernelspec": {
   "display_name": "Python 3",
   "language": "python",
   "name": "python3"
  },
  "language_info": {
   "codemirror_mode": {
    "name": "ipython",
    "version": 3
   },
   "file_extension": ".py",
   "mimetype": "text/x-python",
   "name": "python",
   "nbconvert_exporter": "python",
   "pygments_lexer": "ipython3",
   "version": "3.5.3"
  }
 },
 "nbformat": 4,
 "nbformat_minor": 2
}
