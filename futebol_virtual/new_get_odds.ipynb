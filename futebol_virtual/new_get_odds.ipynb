{
 "cells": [
  {
   "cell_type": "code",
   "execution_count": 284,
   "metadata": {},
   "outputs": [],
   "source": [
    "import requests\n",
    "import bs4\n",
    "import time\n",
    "from datetime import datetime\n",
    "\n",
    "import pandas as pd\n",
    "pd.options.display.max_rows = 100\n",
    "pd.options.display.max_columns = 100"
   ]
  },
  {
   "cell_type": "code",
   "execution_count": 2,
   "metadata": {},
   "outputs": [],
   "source": [
    "mundial = 'https://www.betfair.com/sport/virtuals/football-world-cup'"
   ]
  },
  {
   "cell_type": "code",
   "execution_count": 3,
   "metadata": {},
   "outputs": [],
   "source": []
  },
  {
   "cell_type": "markdown",
   "metadata": {},
   "source": [
    "### IRA PEGAR OS DADOS DO JOGO ATUAL"
   ]
  },
  {
   "cell_type": "code",
   "execution_count": 342,
   "metadata": {},
   "outputs": [
    {
     "data": {
      "text/plain": [
       "['8834475']"
      ]
     },
     "execution_count": 342,
     "metadata": {},
     "output_type": "execute_result"
    }
   ],
   "source": []
  },
  {
   "cell_type": "code",
   "execution_count": null,
   "metadata": {},
   "outputs": [],
   "source": []
  },
  {
   "cell_type": "code",
   "execution_count": null,
   "metadata": {},
   "outputs": [],
   "source": []
  },
  {
   "cell_type": "code",
   "execution_count": 340,
   "metadata": {},
   "outputs": [],
   "source": []
  },
  {
   "cell_type": "code",
   "execution_count": 324,
   "metadata": {},
   "outputs": [],
   "source": []
  },
  {
   "cell_type": "code",
   "execution_count": 349,
   "metadata": {},
   "outputs": [],
   "source": [
    "def saveDataToDF():\n",
    "    '''\n",
    "        Salva os dados no Dataframe\n",
    "    '''\n",
    "    colunas = ['hora', 'event_id', 'time_A', 'empate', 'time_B', 'under', 'over', 'resultado_1_0', 'resultado_2_0', 'resultado_2_1', 'resultado_0_0', 'resultado_1_1', 'resultado_2_2', 'resultado_0_1', 'resultado_0_2', 'resultado_1_2', 'visitado_empate', 'visitado_visitante', 'empate_visitante', 'total_0', 'total_1', 'total_2', 'total_3', 'total_4']\n",
    "    \n",
    "    row = 0\n",
    "    global data\n",
    "    data = pd.DataFrame(columns=colunas, dtype=str)\n",
    "    \n",
    "    data.loc[row, 'hora'] = hora\n",
    "    data.loc[row, 'event_id'] = event_id\n",
    "\n",
    "    data.loc[row, 'time_A'] = time_A\n",
    "    data.loc[row, 'empate'] = empate\n",
    "    data.loc[row, 'time_B'] = time_B\n",
    "\n",
    "    data.loc[row, 'under'] = under\n",
    "    data.loc[row, 'over'] = over\n",
    "\n",
    "    data.loc[row, 'resultado_1_0'] = resultado_1_0\n",
    "    data.loc[row, 'resultado_2_0'] = resultado_2_0\n",
    "    data.loc[row, 'resultado_2_1'] = resultado_2_1\n",
    "\n",
    "    data.loc[row, 'resultado_0_0'] = resultado_0_0\n",
    "    data.loc[row, 'resultado_1_1'] = resultado_1_1\n",
    "    data.loc[row, 'resultado_2_2'] = resultado_2_2\n",
    "\n",
    "    data.loc[row, 'resultado_0_1'] = resultado_0_1\n",
    "    data.loc[row, 'resultado_0_2'] = resultado_0_2\n",
    "    data.loc[row, 'resultado_1_2'] = resultado_1_2\n",
    "\n",
    "    data.loc[row, 'visitado_empate'] = visitado_empate\n",
    "    data.loc[row, 'visitado_visitante'] = visitado_visitante\n",
    "    data.loc[row, 'empate_visitante'] = empate_visitante\n",
    "\n",
    "    data.loc[row, 'total_0'] = total_0\n",
    "    data.loc[row, 'total_1'] = total_1\n",
    "    data.loc[row, 'total_2'] = total_2\n",
    "    data.loc[row, 'total_3'] = total_3\n",
    "    data.loc[row, 'total_4'] = total_4\n",
    "    return data"
   ]
  },
  {
   "cell_type": "code",
   "execution_count": 326,
   "metadata": {},
   "outputs": [],
   "source": [
    "# data_event = pd.DataFrame(columns=colunas, dtype=str)"
   ]
  },
  {
   "cell_type": "code",
   "execution_count": null,
   "metadata": {},
   "outputs": [],
   "source": [
    "data_event = pd.read_csv('data_event.csv')"
   ]
  },
  {
   "cell_type": "code",
   "execution_count": 360,
   "metadata": {},
   "outputs": [
    {
     "name": "stdout",
     "output_type": "stream",
     "text": [
      "dados salvos 18:50:16\n",
      "dados salvos 18:53:24\n",
      "dados salvos 18:56:30\n",
      "dados salvos 18:59:36\n",
      "dados salvos 19:02:43\n",
      "dados salvos 19:05:49\n"
     ]
    },
    {
     "ename": "KeyboardInterrupt",
     "evalue": "",
     "output_type": "error",
     "traceback": [
      "\u001b[0;31m---------------------------------------------------------------------------\u001b[0m",
      "\u001b[0;31mKeyboardInterrupt\u001b[0m                         Traceback (most recent call last)",
      "\u001b[0;32m<ipython-input-360-4fd91d895c3f>\u001b[0m in \u001b[0;36m<module>\u001b[0;34m\u001b[0m\n\u001b[1;32m     60\u001b[0m         \u001b[0mprint\u001b[0m\u001b[0;34m(\u001b[0m\u001b[0;34m'dados salvos {}'\u001b[0m\u001b[0;34m.\u001b[0m\u001b[0mformat\u001b[0m\u001b[0;34m(\u001b[0m\u001b[0mdatetime\u001b[0m\u001b[0;34m.\u001b[0m\u001b[0mnow\u001b[0m\u001b[0;34m(\u001b[0m\u001b[0;34m)\u001b[0m\u001b[0;34m.\u001b[0m\u001b[0mstrftime\u001b[0m\u001b[0;34m(\u001b[0m\u001b[0;34m'%H:%M:%S'\u001b[0m\u001b[0;34m)\u001b[0m\u001b[0;34m)\u001b[0m\u001b[0;34m)\u001b[0m\u001b[0;34m\u001b[0m\u001b[0m\n\u001b[1;32m     61\u001b[0m     \u001b[0;32melse\u001b[0m\u001b[0;34m:\u001b[0m\u001b[0;34m\u001b[0m\u001b[0m\n\u001b[0;32m---> 62\u001b[0;31m         \u001b[0mtime\u001b[0m\u001b[0;34m.\u001b[0m\u001b[0msleep\u001b[0m\u001b[0;34m(\u001b[0m\u001b[0;36m90\u001b[0m\u001b[0;34m)\u001b[0m\u001b[0;34m\u001b[0m\u001b[0m\n\u001b[0m",
      "\u001b[0;31mKeyboardInterrupt\u001b[0m: "
     ]
    }
   ],
   "source": [
    "while True:\n",
    "    # if req.status_code == 200:\n",
    "    req = requests.get(mundial)\n",
    "    htmlPage = bs4.BeautifulSoup(req.content, features='html.parser')\n",
    "    \n",
    "    evento_atual = htmlPage.find('div',{'class':'mod-virtuals-marketview'})\n",
    "    informacoes = evento_atual.find('span',{'data-gaaction':'Clicked'})\n",
    "    hora = informacoes.text.replace('\\n','')\n",
    "    event_id = informacoes.get('data-eventid')\n",
    "\n",
    "    if event_id not in data['event_id'].tolist():\n",
    "        \n",
    "        tabela_dados = evento_atual.find('div',{'class':'content eventid-' + str(event_id)})\n",
    "    \n",
    "        event_name = tabela_dados.find('div',{'class':'event-name'}).text\n",
    "\n",
    "        probabilidades = tabela_dados.find('div',{'class':'market type-match_odds'}).find_all('div',{'class':'bet-button'})\n",
    "        time_A = probabilidades[0].text.replace('\\n','')\n",
    "        empate = probabilidades[1].text.replace('\\n','')\n",
    "        time_B = probabilidades[2].text.replace('\\n','')\n",
    "\n",
    "        under_over = tabela_dados.find('div',{'class':'market type-over_under_25'}).find_all('div',{'class':'bet-button'})\n",
    "        under = under_over[0].text.replace('\\n','')\n",
    "        over = under_over[1].text.replace('\\n','')\n",
    "\n",
    "        resultado_correto = tabela_dados.find('div',{'class':'market market-correct-score type-correct_score'}).find_all('div',{'class':'cell'})\n",
    "\n",
    "        #para os resultados do time 1\n",
    "        resultado_1_0 = resultado_correto[1].find('span',{'class':'ui-runner-price'}).text.replace('\\n','')\n",
    "        resultado_2_0 = resultado_correto[2].find('span',{'class':'ui-runner-price'}).text.replace('\\n','')\n",
    "        resultado_2_1 = resultado_correto[3].find('span',{'class':'ui-runner-price'}).text.replace('\\n','')\n",
    "\n",
    "        #para os empates\n",
    "        resultado_0_0 = resultado_correto[5].find('span',{'class':'ui-runner-price'}).text.replace('\\n','')\n",
    "        resultado_1_1 = resultado_correto[6].find('span',{'class':'ui-runner-price'}).text.replace('\\n','')\n",
    "        resultado_2_2 = resultado_correto[7].find('span',{'class':'ui-runner-price'}).text.replace('\\n','')\n",
    "\n",
    "        #para os resultados do time 2\n",
    "        resultado_0_0 = resultado_correto[9].find('span',{'class':'ui-runner-price'}).text.replace('\\n','')\n",
    "        resultado_0_1 = resultado_correto[10].find('span',{'class':'ui-runner-price'}).text.replace('\\n','')\n",
    "        resultado_1_2 = resultado_correto[11].find('span',{'class':'ui-runner-price'}).text.replace('\\n','')\n",
    "\n",
    "        dupla_chance = tabela_dados.find('div',{'class':'market type-double_chance'}).find_all('div',{'class':'bet-button'})\n",
    "        visitado_empate = dupla_chance[0].text.replace('\\n','')\n",
    "        visitado_visitante = dupla_chance[1].text.replace('\\n','')\n",
    "        empate_visitante = dupla_chance[2].text.replace('\\n','')\n",
    "\n",
    "        total_gols = tabela_dados.find('div',{'class':'market type-total_goals'}).find_all('div',{'class':'bet-button'})\n",
    "        total_0 = total_gols[0].text.replace('\\n','')\n",
    "        total_1 = total_gols[1].text.replace('\\n','')\n",
    "        total_2 = total_gols[2].text.replace('\\n','')\n",
    "        total_3 = total_gols[3].text.replace('\\n','')\n",
    "        total_4 = total_gols[4].text.replace('\\n','')\n",
    "        \n",
    "        \n",
    "        saveDataToDF()\n",
    "        \n",
    "        data_event = data_event.append(data)\n",
    "        data_event.to_csv('data_event.csv', index=None)\n",
    "        print('dados salvos {}'.format(datetime.now().strftime('%H:%M:%S')))\n",
    "    else:\n",
    "        time.sleep(90)"
   ]
  },
  {
   "cell_type": "code",
   "execution_count": null,
   "metadata": {},
   "outputs": [],
   "source": []
  },
  {
   "cell_type": "code",
   "execution_count": null,
   "metadata": {},
   "outputs": [],
   "source": []
  }
 ],
 "metadata": {
  "kernelspec": {
   "display_name": "Python 3",
   "language": "python",
   "name": "python3"
  },
  "language_info": {
   "codemirror_mode": {
    "name": "ipython",
    "version": 3
   },
   "file_extension": ".py",
   "mimetype": "text/x-python",
   "name": "python",
   "nbconvert_exporter": "python",
   "pygments_lexer": "ipython3",
   "version": "3.5.3"
  }
 },
 "nbformat": 4,
 "nbformat_minor": 2
}
