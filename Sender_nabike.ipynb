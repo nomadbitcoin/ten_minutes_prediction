{
 "cells": [
  {
   "cell_type": "code",
   "execution_count": 1,
   "metadata": {},
   "outputs": [],
   "source": [
    "import time\n",
    "import bs4\n",
    "import platform\n",
    "from selenium import webdriver\n",
    "from selenium.webdriver.chrome.options import Options as ChromeOptions\n",
    "from selenium.webdriver.common.keys import Keys\n",
    "from selenium.webdriver.common.action_chains import ActionChains"
   ]
  },
  {
   "cell_type": "code",
   "execution_count": 2,
   "metadata": {},
   "outputs": [],
   "source": [
    "wait = 1"
   ]
  },
  {
   "cell_type": "code",
   "execution_count": 3,
   "metadata": {},
   "outputs": [],
   "source": [
    "# INSTANCE BROWSER\n",
    "def openBrowser(business):\n",
    "    '''\n",
    "        Verifica qual o sistema operacional para que use o driver e diretorio de usuarios certo\n",
    "    '''\n",
    "    \n",
    "    if platform.system() == 'Linux':\n",
    "        driver_path = './webdriver/linux/chromedriver'\n",
    "        profile_path = '/home/nomadbitcoin/whatsapp_profiles/' + business \n",
    "    elif platform.system() == 'Windows':\n",
    "        driver_path = r'C:\\\\Users\\\\Yan\\\\Desktop\\\\brisbane_bot\\\\webdriver\\\\win\\\\chromedriver.exe'\n",
    "        profile_path = \"C:\\\\Users\\\\Yan\\\\Desktop\\\\brisbane_bot\\\\profiles\\\\\" + business\n",
    "        print(profile_path)\n",
    "    \n",
    "    \n",
    "    global driver\n",
    "    try:\n",
    "        options = webdriver.ChromeOptions()\n",
    "        # open with saved informations in cache\n",
    "        options.add_argument(\"profile\")\n",
    "        options.add_argument(\"user-data-dir=\" + profile_path)\n",
    "        driver = webdriver.Chrome(options=options, executable_path=driver_path)\n",
    "#         driver.implicitly_wait(5) #tempo implicito de espera 1 segundo antes de cada acao\n",
    "        main_url = 'https://web.whatsapp.com/'\n",
    "        driver.get(main_url)\n",
    "        return True\n",
    "        if wait_connection(driver):\n",
    "            return True, 'opened in: {}'.format(main_url)\n",
    "    except Exception as error:\n",
    "        print(type(error), error)\n",
    "        return False\n",
    "    \n",
    "# PARA LIBERAR SOMENTE APOS TER ABERTO O WHATSAPP\n",
    "def wait_connection(driver):\n",
    "    waiting = True\n",
    "    while waiting:\n",
    "        try:\n",
    "            if driver.find_element_by_class_name('Qk8nZ').text == 'Keep your phone connected':\n",
    "                waiting = False\n",
    "                return True\n",
    "                break\n",
    "#             elif driver.find_element_by_class_name('_13HPh').text == 'Computer not connected':\n",
    "#                 waiting = False\n",
    "#                 return False, 'Computer not connected'\n",
    "        except KeyboardInterrupt:\n",
    "            waiting = False\n",
    "            return False\n",
    "        except:\n",
    "            time.sleep(10)\n",
    "            pass"
   ]
  },
  {
   "cell_type": "code",
   "execution_count": 4,
   "metadata": {},
   "outputs": [],
   "source": [
    "def scrollChats_to_end():\n",
    "    try:\n",
    "        chatList = driver.find_elements_by_class_name('_1H6CJ')\n",
    "        driver.execute_script(\"arguments[0].scrollIntoView(false);\", chatList[0])\n",
    "    except Exception as error:\n",
    "        print(type(error), error)\n",
    "        print('algo deu errado ao dar scroll')"
   ]
  },
  {
   "cell_type": "code",
   "execution_count": 5,
   "metadata": {},
   "outputs": [],
   "source": [
    "def click_contact():\n",
    "    try:\n",
    "        driver.find_elements_by_css_selector('span._3NWy8')[-1].click()\n",
    "        name = get_name()\n",
    "        return name\n",
    "    except Exception as error:\n",
    "        print(type(error), error)\n",
    "        return False\n",
    "    \n",
    "def get_name():\n",
    "    try:\n",
    "        name = driver.find_element_by_xpath(\"//div[@class='_19vo_']\").text\n",
    "        return name\n",
    "    except Exception as error:\n",
    "        print(type(error), error)        \n",
    "        return 'None'"
   ]
  },
  {
   "cell_type": "code",
   "execution_count": 6,
   "metadata": {},
   "outputs": [],
   "source": [
    "def total_conversations():\n",
    "    try:\n",
    "        chat_list = driver.find_elements_by_class_name('X7YrQ')\n",
    "        \n",
    "        total = 0\n",
    "        for chat in chat_list:\n",
    "            starter = chat.get_attribute('style').find(':')\n",
    "            delimiter = chat.get_attribute('style').find(';')\n",
    "            found = int(''.join(filter(str.isdigit, chat.get_attribute('style')[starter:delimiter])))\n",
    "            if found > total:\n",
    "                total = found\n",
    "        return total\n",
    "    except Exception as error:\n",
    "        print(type(error), error)\n",
    "        return 'Total Not Found'"
   ]
  },
  {
   "cell_type": "code",
   "execution_count": 7,
   "metadata": {},
   "outputs": [],
   "source": [
    "def sendImage(name):\n",
    "    try:\n",
    "        driver.find_element_by_class_name('_3u328').send_keys(Keys.CONTROL + \"v\")\n",
    "        time.sleep(wait)\n",
    "        driver.find_element_by_class_name('_3u328').send_keys(Keys.ENTER)\n",
    "        enviados.append(name)\n",
    "        return True\n",
    "    except Exception as error:\n",
    "        print(type(error), error)\n",
    "        return False"
   ]
  },
  {
   "cell_type": "code",
   "execution_count": 8,
   "metadata": {},
   "outputs": [
    {
     "name": "stdout",
     "output_type": "stream",
     "text": [
      "C:\\Users\\Yan\\Desktop\\brisbane_bot\\profiles\\nabike\n"
     ]
    },
    {
     "data": {
      "text/plain": [
       "True"
      ]
     },
     "execution_count": 8,
     "metadata": {},
     "output_type": "execute_result"
    }
   ],
   "source": [
    "openBrowser('nabike')"
   ]
  },
  {
   "cell_type": "code",
   "execution_count": null,
   "metadata": {},
   "outputs": [],
   "source": [
    "# input('Continue se Whatsapp esta aberto e conteudo estiver na area ctrl+c & ctrl+v: \\n')"
   ]
  },
  {
   "cell_type": "code",
   "execution_count": null,
   "metadata": {
    "scrolled": true
   },
   "outputs": [
    {
     "name": "stdout",
     "output_type": "stream",
     "text": [
      "0 de 788 // Enviando para: Alexandre Rosa\n",
      "1 de 788 // Enviando para: Emmely\n",
      "2 de 788 // Enviando para: Adelmi /PQ/Gentil Coelho/428\n",
      "3 de 788 // Enviando para: +55 47 9979-3482\n",
      "4 de 788 // Enviando para: Carolina /MP/230/Cidadania/LEFT\n",
      "5 de 788 // Enviando para: Alexandre Cunha\n",
      "6 de 788 // Enviando para: Dina\n",
      "7 de 788 // Enviando para: +55 47 9737-1610\n",
      "8 de 788 // Enviando para: Davidson\n",
      "9 de 788 // Enviando para: Caroline Albuquerque\n",
      "10 de 788 // Enviando para: Dra Bruna 2\n",
      "11 de 788 // Enviando para: D Cristiano\n",
      "12 de 788 // Enviando para: Francisco\n",
      "13 de 788 // Enviando para: Sirlei\n",
      "14 de 788 // Enviando para: Az Veiculos\n",
      "15 de 788 // Enviando para: Jessica /MP/Nereu Ramos/4016/101/RIGHT\n",
      "16 de 788 // Enviando para: Eulália\n",
      "17 de 788 // Enviando para: Samia /MP/2Av. esq. 280/Inusitta/LEFT\n",
      "18 de 788 // Enviando para: Eder 238 Obra\n",
      "19 de 788 // Enviando para: Ester Mar 258\n",
      "20 de 788 // Enviando para: Meu Numero\n",
      "21 de 788 // Enviando para: Evelin\n",
      "22 de 788 // Enviando para: Beto?\n",
      "23 de 788 // Enviando para: Drica (Yan)\n",
      "24 de 788 // Enviando para: Enxovais\n",
      "25 de 788 // Enviando para: D Aline\n",
      "26 de 788 // Enviando para: D Maiara\n",
      "27 de 788 // Enviando para: Betina Mazzuti\n",
      "28 de 788 // Enviando para: D Ane\n",
      "29 de 788 // Enviando para: Enxoval\n",
      "30 de 788 // Enviando para: Cris Prime Sush\n",
      "31 de 788 // Enviando para: D Anna\n",
      "32 de 788 // Enviando para: Egino Botijao\n",
      "33 de 788 // Enviando para: Adriana Bertolli\n",
      "34 de 788 // Enviando para: Camila Marine Cepavi\n",
      "35 de 788 // Enviando para: Camila\n",
      "36 de 788 // Enviando para: Beatriz\n",
      "37 de 788 // Enviando para: Daay Posto\n",
      "38 de 788 // Enviando para: Andrea Nutri\n",
      "39 de 788 // Enviando para: Andreia\n",
      "40 de 788 // Enviando para: Ana /MP/234/386/Esc. Silva e Silva\n",
      "41 de 788 // Enviando para: Marcia ?\n",
      "42 de 788 // Enviando para: +55 47 9250-5147\n",
      "43 de 788 // Enviando para: Cris\n",
      "44 de 788 // Enviando para: Eduarda Rubens Alves\n",
      "45 de 788 // Enviando para: Bento 300\n",
      "46 de 788 // Enviando para: Bruna Cris\n",
      "47 de 788 // Enviando para: Darlene\n",
      "48 de 788 // Enviando para: Clo Cris\n",
      "49 de 788 // Enviando para: Dauana\n",
      "50 de 788 // Enviando para: Airton Corretor Vip\n",
      "51 de 788 // Enviando para: Carimbo\n",
      "52 de 788 // Enviando para: Edu Lopes\n",
      "53 de 788 // Enviando para: Cris 260a\n",
      "54 de 788 // Enviando para: Costa Esmeralda Online\n",
      "55 de 788 // Enviando para: Elaine\n",
      "56 de 788 // Enviando para: B Hiperformulas\n",
      "57 de 788 // Enviando para: Ana 208 2\n",
      "58 de 788 // Enviando para: B Gabriela\n",
      "59 de 788 // Enviando para: Cecília\n",
      "60 de 788 // Enviando para: Beto Cidade\n",
      "61 de 788 // Enviando para: Celio Junior\n",
      "62 de 788 // Enviando para: Dirceu\n",
      "63 de 788 // Enviando para: Samara Ifood\n",
      "64 de 788 // Enviando para: Dione 248\n",
      "65 de 788 // Enviando para: Gracy Hellen\n",
      "66 de 788 // Enviando para: Espaco Blz 230\n",
      "67 de 788 // Enviando para: !duda\n",
      "68 de 788 // Enviando para: Claudinei\n",
      "69 de 788 // Enviando para: Sem Nome55\n",
      "70 de 788 // Enviando para: Alan Facchini\n",
      "71 de 788 // Enviando para: Edson Mar\n",
      "72 de 788 // Enviando para: Clovis Duarte\n",
      "73 de 788 // Enviando para: Bbnn\n",
      "74 de 788 // Enviando para: Lucas Marmita\n",
      "75 de 788 // Enviando para: Ana Luiza\n",
      "76 de 788 // Enviando para: Jeann Cliente\n",
      "77 de 788 // Enviando para: Gaybriel K\n",
      "78 de 788 // Enviando para: B Jaime E Sol\n",
      "79 de 788 // Enviando para: $Luiz Correa\n",
      "80 de 788 // Enviando para: Jaqueline /MP/254/166/Costa Ensolarada/RIGHT\n",
      "81 de 788 // Enviando para: Marcia 690\n",
      "82 de 788 // Enviando para: Daniel - Copal\n",
      "83 de 788 // Enviando para: B Toninho\n",
      "84 de 788 // Enviando para: Sem Nome28\n",
      "85 de 788 // Enviando para: Jo Jeans Mar\n",
      "86 de 788 // Enviando para: Luiz Henrique Mar\n",
      "87 de 788 // Enviando para: Jean Casa\n",
      "88 de 788 // Enviando para: Diego Philippe\n",
      "89 de 788 // Enviando para: Amiga Dida\n",
      "90 de 788 // Enviando para: Amigo Bruno\n",
      "91 de 788 // Enviando para: Elton Grando - Master Chopp\n",
      "92 de 788 // Enviando para: Analua\n",
      "93 de 788 // Enviando para: #dleon\n",
      "94 de 788 // Enviando para: Ana Fit\n",
      "95 de 788 // Enviando para: Adilson\n",
      "96 de 788 // Enviando para: Bc Fit\n",
      "97 de 788 // Enviando para: Argus\n",
      "98 de 788 // Enviando para: Face\n",
      "99 de 788 // Enviando para: Sem Nome57\n",
      "100 de 788 // Enviando para: B Italux\n",
      "101 de 788 // Enviando para: Alcadia\n",
      "102 de 788 // Enviando para: Sem Nome58\n",
      "103 de 788 // Enviando para: Havan17\n",
      "104 de 788 // Enviando para: Fg Imobiliaria\n",
      "105 de 788 // Enviando para: Havan16\n",
      "106 de 788 // Enviando para: Havan13\n",
      "107 de 788 // Enviando para: Havan12\n",
      "108 de 788 // Enviando para: Nadia Cris\n",
      "109 de 788 // Enviando para: Luiza W Mar\n",
      "110 de 788 // Enviando para: #kroma\n",
      "111 de 788 // Enviando para: Jáqueline Krass\n",
      "112 de 788 // Enviando para: Veronica 230\n",
      "113 de 788 // Enviando para: FernandoPB MP\n",
      "114 de 788 // Enviando para: Havan1\n",
      "115 de 788 // Enviando para: Eder Mar Taxi\n",
      "116 de 788 // Enviando para: Adriana Meia\n",
      "117 de 788 // Enviando para: Corretor\n",
      "118 de 788 // Enviando para: $Casinhas dirafael\n",
      "119 de 788 // Enviando para: 1 Jean Carlo 230\n",
      "120 de 788 // Enviando para: Rodrigo Vip\n",
      "121 de 788 // Enviando para: Jose Carlos Moto Taxi\n",
      "122 de 788 // Enviando para: Bate\n",
      "123 de 788 // Enviando para: Ana Esquina Do Pe\n",
      "124 de 788 // Enviando para: Ana 266/164\n",
      "125 de 788 // Enviando para: Ariana Fit Campeche\n",
      "126 de 788 // Enviando para: Lorrana Fit\n",
      "127 de 788 // Enviando para: Joni Bombinhas\n",
      "128 de 788 // Enviando para: Vanessa\n",
      "129 de 788 // Enviando para: B Bicho Peludo\n",
      "130 de 788 // Enviando para: Couve\n",
      "131 de 788 // Enviando para: Thiago Trevisan\n",
      "132 de 788 // Enviando para: Jonas Mar\n",
      "133 de 788 // Enviando para: #salao Sinal\n",
      "134 de 788 // Enviando para: Tamires Davi Cota\n",
      "135 de 788 // Enviando para: Alessandra 218/60/404\n",
      "136 de 788 // Enviando para: Thiago\n",
      "137 de 788 // Enviando para: Camila Chitolina 258\n",
      "138 de 788 // Enviando para: Thiago Antnio\n",
      "139 de 788 // Enviando para: Cea\n",
      "140 de 788 // Enviando para: Enio Mar\n",
      "141 de 788 // Enviando para: Bd Consertos\n",
      "142 de 788 // Enviando para: Ballon Baby\n",
      "143 de 788 // Enviando para: Cristiano (Yan)\n",
      "144 de 788 // Enviando para: Maria Rliana 284\n",
      "145 de 788 // Enviando para: Casa Grande 2\n",
      "146 de 788 // Enviando para: Luiza Lista\n",
      "147 de 788 // Enviando para: Bruno 230\n",
      "148 de 788 // Enviando para: Liriane MP\n"
     ]
    }
   ],
   "source": [
    "#pegar numero de conversas e contar quantas ja foram enviadas\n",
    "chats = total_conversations()\n",
    "count = 0\n",
    "enviados = []\n",
    "while count <= chats: #-2 porque tem dois grupos para os quais nao conseguira enviar\n",
    "    try:\n",
    "        time.sleep(wait)\n",
    "        scrollChats_to_end()\n",
    "        time.sleep(wait)\n",
    "        name = click_contact()\n",
    "        assert name != False, 'Nao conseguiu clicar no contato'\n",
    "        if name not in enviados:\n",
    "            time.sleep(wait)\n",
    "            print('{} de {} // Enviando para: {}'.format(count, chats,name))\n",
    "            sendImage(name)\n",
    "            count +=1\n",
    "    except Exception as error:\n",
    "        print(type(error), error)\n",
    "        \n",
    "print('\\n\\n ---------- TODOS ENVIADOS ---------- total [{}]\\n\\n'.format(count))"
   ]
  },
  {
   "cell_type": "markdown",
   "metadata": {},
   "source": [
    "## Envio atraves de encaminhamento"
   ]
  },
  {
   "cell_type": "code",
   "execution_count": 103,
   "metadata": {},
   "outputs": [],
   "source": [
    "# PEGA A UNICA MENSAGEM QUE HA NO CHAT 'TO_SEND' - FUNCIONANDO PARA IMAGENS\n",
    "def click_forward(content, have_text=False):\n",
    "    '''\n",
    "        Deve Haver uma conversa com as mensagens a serem encaminhadas e NADA MAIS,\n",
    "        pode ser um grupo sozinho ou uma conversa com alguem mas \n",
    "        é essencial que não tenha mais nenhuma mensagem na conversa além das mensagens a serem encaminnhadas\n",
    "    \n",
    "        o conteudo pode ser imagem, audio, video, ou texto e caso seja imagem ou video pode conter texto\n",
    "    '''\n",
    "    \n",
    "    # se o conteudo a ser encaminhado for imagem\n",
    "    if content == 'image':\n",
    "        try:\n",
    "            div_chat = driver.find_element_by_class_name('_1ays2')\n",
    "            mensagens = div_chat.find_elements_by_class_name('FTBzM')\n",
    "            for msg in mensagens:\n",
    "                try:\n",
    "                    #verifica se ha imagem a ser verificada e verifica se ja foi verificada\n",
    "                    src = msg.find_element_by_tag_name('img').get_attribute('src')\n",
    "                    msg.find_element_by_xpath('//span[@data-icon=\"forward-chat\"]').click()\n",
    "                    #retorna True para o clique e tambem o conteudo de texto da mensagem, senao somente True\n",
    "                    text = msg.text[:-8]if have_text == True else None\n",
    "                    return True, text #os ultimos 8 caracteres sao o horario da mensagem e nao devem ser enviados\n",
    "                except Exception as error:\n",
    "                    if 'Unable to locate element' not in str(error):\n",
    "                        print(type(error), error)\n",
    "                    pass\n",
    "\n",
    "        except Exception as error:\n",
    "            print(type(error), error)"
   ]
  },
  {
   "cell_type": "code",
   "execution_count": 140,
   "metadata": {},
   "outputs": [],
   "source": [
    "def click_to_send():\n",
    "    try:\n",
    "        driver.find_element_by_xpath('//div[@data-animate-btn=\"true\"]').click()\n",
    "        return True\n",
    "    except Exception as error:\n",
    "        print(type(error), error)\n",
    "        return False"
   ]
  },
  {
   "cell_type": "code",
   "execution_count": 105,
   "metadata": {},
   "outputs": [
    {
     "data": {
      "text/plain": [
       "(True, None)"
      ]
     },
     "execution_count": 105,
     "metadata": {},
     "output_type": "execute_result"
    }
   ],
   "source": [
    "click_forward('image')"
   ]
  },
  {
   "cell_type": "code",
   "execution_count": 140,
   "metadata": {},
   "outputs": [],
   "source": [
    "def getChats():\n",
    "    '''\n",
    "        Pega a lista de chats apos clicar no botao de encaminhar\n",
    "    '''\n",
    "    chats = driver.find_elements_by_class_name('_2UaNq')\n",
    "    return chats"
   ]
  },
  {
   "cell_type": "code",
   "execution_count": 141,
   "metadata": {},
   "outputs": [],
   "source": [
    "def isGroup(chat):\n",
    "    '''\n",
    "        Rececebe um chat e verifica se eh um grupo\n",
    "    \n",
    "        Quado eh grupo nao tera uma div especifica, entao retornara False\n",
    "    '''\n",
    "    try:\n",
    "        div_contact = chat.find_element_by_class_name('_3NWy8')\n",
    "        return False\n",
    "    except Exception as error:\n",
    "        if 'Unable to locate element' not in str(error):\n",
    "            print(type(error), error)\n",
    "        else:\n",
    "            return True"
   ]
  },
  {
   "cell_type": "code",
   "execution_count": 297,
   "metadata": {},
   "outputs": [],
   "source": [
    "def clickChat(chat):\n",
    "    try:\n",
    "        chat.click()\n",
    "        return True\n",
    "    except Exception as error:\n",
    "        return False\n",
    "\n",
    "def select_contacts(groups=False):\n",
    "    '''\n",
    "        Verifica se os chats sao grupo, ira selecionar 5 chats que nao sejam grupos\n",
    "    '''\n",
    "    try:\n",
    "        # caso nao seja para encaminhar para os grupos\n",
    "        if groups == False:\n",
    "            selected = 0\n",
    "            for chat in getChats():\n",
    "                time.sleep(wait)\n",
    "                if not isGroup(chat) and clickChat(chat) and selected <=5:\n",
    "                    print('{} selected: {}'.format(selected, chat.text))\n",
    "                    selected +=1\n",
    "                elif selected >=5:\n",
    "                    break\n",
    "            return True\n",
    "        # se for para selecionar grupos eh a mesma coisa mais nao ira verificar antes se eh grupo\n",
    "        else:\n",
    "            selected = 0\n",
    "            for chat in getChats():\n",
    "                time.sleep(wait)\n",
    "                if clickChat(chat) and selected <=5:\n",
    "                    print('{} selected: {}'.format(selected, chat.text))\n",
    "                    selected +=1\n",
    "                elif selected >=5:\n",
    "                    break\n",
    "            return True\n",
    "            \n",
    "    except Exception as error:\n",
    "        print(type(error), error)"
   ]
  },
  {
   "cell_type": "code",
   "execution_count": 184,
   "metadata": {},
   "outputs": [],
   "source": [
    "def scrollChats():\n",
    "    '''\n",
    "        Ira controlar os scrolls a serem dados na lista de chats\n",
    "    '''\n",
    "    pass"
   ]
  },
  {
   "cell_type": "code",
   "execution_count": 273,
   "metadata": {},
   "outputs": [],
   "source": [
    "# FUNCOES DE NAVEGACAO PELO WHATSAPP COM CLIQUES E TECLAS DO TECLADO\n",
    "def down_chat(force=False, page_down=True):\n",
    "    #force = True ira clicar na caixa de pesquisa e reiniciar o processo de clicar nos botoes\n",
    "    if 'press_down' not in globals() or force == True:\n",
    "        # CLICA NA CAIXA DE PESQUISA DE CONVERSAS\n",
    "        driver.find_element_by_class_name('_2zCfw').click()\n",
    "        \n",
    "        # PRESSIONA A TECLA DOWN PARA NAVEGAR ENTRE AS CONVERSAS\n",
    "        global press_down\n",
    "        press_down = ActionChains(driver)\n",
    "        press_down.send_keys(Keys.DOWN)\n",
    "        press_down.perform()\n",
    "    elif page_down == True:\n",
    "        press_down.send_keys(Keys.PAGE_DOWN)\n",
    "        press_down.perform()\n",
    "    else:\n",
    "        press_down.perform()"
   ]
  },
  {
   "cell_type": "code",
   "execution_count": 291,
   "metadata": {},
   "outputs": [],
   "source": [
    "down_chat()\n",
    "time.sleep(wait)\n",
    "select_contacts()"
   ]
  },
  {
   "cell_type": "code",
   "execution_count": 294,
   "metadata": {},
   "outputs": [
    {
     "data": {
      "text/plain": [
       "1070"
      ]
     },
     "execution_count": 294,
     "metadata": {},
     "output_type": "execute_result"
    }
   ],
   "source": [
    "total_conversations()"
   ]
  },
  {
   "cell_type": "code",
   "execution_count": 298,
   "metadata": {},
   "outputs": [],
   "source": [
    "# CLICA EM ENCAMINHAR MENSAGEM\n",
    "def click_forward():\n",
    "    '''\n",
    "        Verifica se a ultima mensagem foi a propria conta que enviou e se eh uma imagem e se o tempo esta valido,\n",
    "        apos clicar em encaminhar ira aguardar ate que o reloginho de enviando conclua\n",
    "        tempo valido sera se o horario atual comparado ao tempo que esperou enviar coincide com o horario da imagem enviada\n",
    "        (para casos em que a conta ja tenha enviado uma imagem antes)\n",
    "    '''\n",
    "    pass"
   ]
  },
  {
   "cell_type": "code",
   "execution_count": null,
   "metadata": {},
   "outputs": [],
   "source": [
    "#implementar relatorio de enviados em csv"
   ]
  }
 ],
 "metadata": {
  "kernelspec": {
   "display_name": "Python 3",
   "language": "python",
   "name": "python3"
  },
  "language_info": {
   "codemirror_mode": {
    "name": "ipython",
    "version": 3
   },
   "file_extension": ".py",
   "mimetype": "text/x-python",
   "name": "python",
   "nbconvert_exporter": "python",
   "pygments_lexer": "ipython3",
   "version": "3.7.3"
  }
 },
 "nbformat": 4,
 "nbformat_minor": 2
}
