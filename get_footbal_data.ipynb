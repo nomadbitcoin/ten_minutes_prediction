{
 "cells": [
  {
   "cell_type": "code",
   "execution_count": 33,
   "metadata": {},
   "outputs": [],
   "source": [
    "import bs4\n",
    "from selenium import webdriver\n",
    "import time\n",
    "from datetime import datetime\n",
    "from selenium.webdriver.common.keys import Keys\n",
    "import os\n",
    "import pandas as pd\n",
    "from sys import stdout"
   ]
  },
  {
   "cell_type": "code",
   "execution_count": 2,
   "metadata": {},
   "outputs": [],
   "source": [
    "wait = 3"
   ]
  },
  {
   "cell_type": "code",
   "execution_count": 3,
   "metadata": {},
   "outputs": [],
   "source": [
    "# INSTANCE BROWSER\n",
    "def openBrowser(url, exchange=None):\n",
    "    '''\n",
    "        Verifica qual o sistema operacional para que use o driver e diretorio de usuarios certo\n",
    "    '''\n",
    "    import platform\n",
    "    if platform.system() == 'Linux':\n",
    "        driver_path = './webdriver/linux/chromedriver'\n",
    "#         profile_path = '/home/nomadbitcoin/whatsapp_profiles/' + business \n",
    "    elif platform.system() == 'Windows':\n",
    "        driver_path = r'C:\\\\Users\\\\Yan\\\\Desktop\\\\brisbane_bot\\\\webdriver\\\\win\\\\chromedriver.exe'\n",
    "        profile_path = \"C:\\\\Users\\\\Yan\\\\Desktop\\\\TRADING\\\\ten_minutes_prediction\\\\browser_profile\\\\\" + 'academiadasapostas'\n",
    "        print(profile_path)\n",
    "    \n",
    "    \n",
    "    global driver\n",
    "    try:\n",
    "        options = webdriver.ChromeOptions()\n",
    "        # open with saved informations in cache\n",
    "        options.add_argument(\"profile\")\n",
    "        options.add_argument(\"user-data-dir=\" + profile_path)\n",
    "        driver = webdriver.Chrome(options=options, executable_path=driver_path)\n",
    "        driver.get(url)\n",
    "        return True\n",
    "    except Exception as error:\n",
    "        print(type(error), error)\n",
    "        return False"
   ]
  },
  {
   "cell_type": "code",
   "execution_count": 4,
   "metadata": {},
   "outputs": [],
   "source": [
    "academia_das_apostas = 'https://www.academiadasapostasbrasil.com/'"
   ]
  },
  {
   "cell_type": "code",
   "execution_count": 5,
   "metadata": {},
   "outputs": [],
   "source": [
    "def showAllEvents():\n",
    "    ''' clica em vizualizar todos os jogos ocultos, isso pode acontecer mais de uma vez'''\n",
    "    while True:\n",
    "        try:\n",
    "            show_more_games = driver.find_element_by_class_name('footer')\n",
    "            show_more_games.click()\n",
    "            time.sleep(wait+3)\n",
    "        except Exception as error:\n",
    "            if 'NoSuchElementException' in str(type(error)):\n",
    "                return True\n",
    "            else:\n",
    "                return False #ocorreu algum erro desconhecido"
   ]
  },
  {
   "cell_type": "code",
   "execution_count": 36,
   "metadata": {},
   "outputs": [],
   "source": [
    "# Salva em CSV os eventos do dia\n",
    "def saveCSV(data_events, last_datetime):\n",
    "    '''\n",
    "        Recebe a lista com os dicionarios dos dados dos eventos, transforma em um dataframe e salva em csv\n",
    "    '''\n",
    "    name_file = 'data\\\\' + last_datetime + '_with_' + str(len(data_events)) + '_events'  + '.csv'\n",
    "    \n",
    "    df = pd.DataFrame(data_events)\n",
    "    df.to_csv(name_file, index = False)\n",
    "    print('saved file: {}'.format(name_file))\n",
    "    return True"
   ]
  },
  {
   "cell_type": "code",
   "execution_count": 7,
   "metadata": {},
   "outputs": [],
   "source": [
    "def getEventsData():\n",
    "    '''\n",
    "        Ira pegar os dados dos eventos\n",
    "    '''\n",
    "    htmlPage = bs4.BeautifulSoup(driver.page_source, features='html.parser')\n",
    "    events_table = htmlPage.find('table',{'class':'competition-today'})\n",
    "    event_list = events_table.find_all('tr',{'type':'match'})\n",
    "    \n",
    "    global data_events \n",
    "    data_events = []\n",
    "    for event in event_list:\n",
    "        countrie = event.find('td',{'class':'flag tipsy-active'}).get('original-title')\n",
    "        timestamp = int(event.find('td',{'class':'hour'}).get('timestamp'))\n",
    "        date_time = datetime.fromtimestamp(int(event.find('td',{'class':'hour'}).get('timestamp'))).strftime('%d/%m/%y %H:%M:%S')\n",
    "        status = ''.join(filter(lambda clean_status: clean_status != ' ', (event.find('td',{'class':'status'}).text.replace('\\n', ''))))\n",
    "        home_team = event.find('td',{'class':'team-a'}).find('p').text\n",
    "        back_team = event.find('td',{'class':'team-b'}).find('p').textback_team = event.find('td',{'class':'team-b'}).find('p').text\n",
    "        event_link = event.find('td',{'class':'score'}).find('a').get('href')\n",
    "\n",
    "        event_info = {'timestamp': timestamp, 'status': status, 'countrie': countrie, 'home_team': home_team, \n",
    "                 'back_team': back_team, 'event_link': event_link, 'datetime':date_time}\n",
    "\n",
    "        data_events.append(event_info)\n",
    "\n",
    "    '''para salvar o arquivo com os dados dos jogos em csv'''\n",
    "    last_datetime = str(date_time).split(' ')[0].replace('/', '_')\n",
    "    if saveCSV(data_events, last_datetime):\n",
    "        return True\n",
    "    else:\n",
    "        return False"
   ]
  },
  {
   "cell_type": "code",
   "execution_count": 8,
   "metadata": {},
   "outputs": [],
   "source": [
    "def get_backPage():\n",
    "    '''clica para ir para a pagina anterior'''\n",
    "    try:\n",
    "        driver.find_element_by_xpath('//span[@class=\"aa-icon-back date-decrease\"]').click()\n",
    "#         time.sleep(wait)\n",
    "        return True\n",
    "    except Exception as error:\n",
    "        print(type(error), error)\n",
    "        return False"
   ]
  },
  {
   "cell_type": "code",
   "execution_count": 9,
   "metadata": {},
   "outputs": [
    {
     "name": "stdout",
     "output_type": "stream",
     "text": [
      "C:\\Users\\Yan\\Desktop\\TRADING\\ten_minutes_prediction\\browser_profile\\academiadasapostas\n"
     ]
    },
    {
     "data": {
      "text/plain": [
       "True"
      ]
     },
     "execution_count": 9,
     "metadata": {},
     "output_type": "execute_result"
    }
   ],
   "source": [
    "openBrowser(academia_das_apostas)"
   ]
  },
  {
   "cell_type": "code",
   "execution_count": 166,
   "metadata": {},
   "outputs": [
    {
     "data": {
      "text/plain": [
       "False"
      ]
     },
     "execution_count": 166,
     "metadata": {},
     "output_type": "execute_result"
    }
   ],
   "source": [
    "showAllEvents()"
   ]
  },
  {
   "cell_type": "code",
   "execution_count": 173,
   "metadata": {},
   "outputs": [
    {
     "data": {
      "text/plain": [
       "39"
      ]
     },
     "execution_count": 173,
     "metadata": {},
     "output_type": "execute_result"
    }
   ],
   "source": []
  },
  {
   "cell_type": "code",
   "execution_count": 32,
   "metadata": {},
   "outputs": [
    {
     "name": "stdout",
     "output_type": "stream",
     "text": [
      "saved file: data\\25_02_17_with_761_events.csv\n",
      "1110 Páginas salvas\n"
     ]
    }
   ],
   "source": [
    "total_saved = len(os.listdir(r'data'))\n",
    "# for i in range(total_saved + 9):\n",
    "#     get_backPage()\n",
    "    \n",
    "if getEventsData():\n",
    "    time.sleep(wait)\n",
    "    if not get_backPage():\n",
    "        print('problema em voltar para pagina anterior')\n",
    "#         break\n",
    "    else:\n",
    "        print('{} Páginas salvas'.format(total_saved))\n",
    "#         count +=1\n",
    "else: \n",
    "    print('problema em pegar os dados dos jogos')"
   ]
  },
  {
   "cell_type": "code",
   "execution_count": 34,
   "metadata": {},
   "outputs": [
    {
     "data": {
      "text/plain": [
       "True"
      ]
     },
     "execution_count": 34,
     "metadata": {},
     "output_type": "execute_result"
    }
   ],
   "source": [
    "get_backPage()"
   ]
  },
  {
   "cell_type": "code",
   "execution_count": 21,
   "metadata": {},
   "outputs": [],
   "source": []
  },
  {
   "cell_type": "code",
   "execution_count": 22,
   "metadata": {},
   "outputs": [
    {
     "data": {
      "text/plain": [
       "939"
      ]
     },
     "execution_count": 22,
     "metadata": {},
     "output_type": "execute_result"
    }
   ],
   "source": [
    "total_saved"
   ]
  },
  {
   "cell_type": "code",
   "execution_count": null,
   "metadata": {
    "scrolled": true
   },
   "outputs": [
    {
     "name": "stdout",
     "output_type": "stream",
     "text": [
      "Dados de jogos coletados: 260754\n",
      "saved file: data\\22_02_17_with_147_events.csv\n",
      "Dados de jogos coletados: 260901\n",
      "saved file: data\\21_02_17_with_28_events.csv\n",
      "Dados de jogos coletados: 260929\n",
      "problema em abrir os eventos\n",
      "Dados de jogos coletados: 260929\n",
      "Dados de jogos coletados: 260929\n",
      "problema em abrir os eventos\n",
      "Dados de jogos coletados: 260929\n",
      "saved file: data\\20_02_17_with_69_events.csv\n",
      "Dados de jogos coletados: 260998\n",
      "saved file: data\\19_02_17_with_29_events.csv\n",
      "Dados de jogos coletados: 261027\n",
      "problema em abrir os eventos\n",
      "Dados de jogos coletados: 261027\n",
      "saved file: data\\18_02_17_with_706_events.csv\n",
      "Dados de jogos coletados: 261733\n",
      "saved file: data\\17_02_17_with_25_events.csv\n",
      "Dados de jogos coletados: 261758\n",
      "problema em abrir os eventos\n",
      "Dados de jogos coletados: 261758\n",
      "problema em abrir os eventos\n",
      "Dados de jogos coletados: 261758\n",
      "Dados de jogos coletados: 261758\n",
      "problema em abrir os eventos\n",
      "Dados de jogos coletados: 261758\n",
      "problema em abrir os eventos\n",
      "Dados de jogos coletados: 261758\n"
     ]
    }
   ],
   "source": [
    "total_saved = len(os.listdir(r'data'))\n",
    "count = total_saved\n",
    "while True:\n",
    "    stdout.write('\\r'+ '\\nDados de jogos coletados: {}\\n'.format(sum([int(game.split('_')[-2]) for game in os.listdir(r'data')])))\n",
    "    if showAllEvents():\n",
    "        time.sleep(wait)\n",
    "        try:\n",
    "            if getEventsData():\n",
    "                time.sleep(wait)\n",
    "                if not get_backPage():\n",
    "                    print('problema em voltar para pagina anterior')\n",
    "                    break\n",
    "                else:\n",
    "#                     print('{} Páginas salvas'.format(count))\n",
    "                    count +=1\n",
    "            else:\n",
    "                print('problema em pegar os dados dos jogos')\n",
    "                break\n",
    "        except Exception as error:\n",
    "            if 'UnboundLocalError' in str(type(error)):\n",
    "                driver.get(academia_das_apostas)\n",
    "                time.sleep(wait)\n",
    "                total_saved = len(os.listdir(r'data'))\n",
    "                for i in range(total_saved + 9):\n",
    "                    get_backPage()\n",
    "            else:\n",
    "                break\n",
    "                print(type(error), error)\n",
    "                \n",
    "    else:\n",
    "        print('problema em abrir os eventos')\n",
    "        \n",
    "        #tenta passar o bug\n",
    "        try:\n",
    "            if driver.find_element_by_class_name('footer').text.startswith('+ 2'):\n",
    "                pass\n",
    "            else:\n",
    "                time.sleep(5)\n",
    "                driver.find_element_by_tag_name('html').send_keys(Keys.END)\n",
    "                driver.find_element_by_tag_name('html').send_keys(Keys.PAGE_UP)\n",
    "                driver.find_element_by_tag_name('html').send_keys(Keys.PAGE_UP)\n",
    "        except Exception as error:\n",
    "            if 'NoSuchElementException' in str(type(error)):\n",
    "                pass\n",
    "            "
   ]
  },
  {
   "cell_type": "code",
   "execution_count": 149,
   "metadata": {},
   "outputs": [
    {
     "data": {
      "text/plain": [
       "33"
      ]
     },
     "execution_count": 149,
     "metadata": {},
     "output_type": "execute_result"
    }
   ],
   "source": []
  },
  {
   "cell_type": "code",
   "execution_count": null,
   "metadata": {},
   "outputs": [],
   "source": []
  },
  {
   "cell_type": "code",
   "execution_count": null,
   "metadata": {},
   "outputs": [],
   "source": []
  },
  {
   "cell_type": "code",
   "execution_count": null,
   "metadata": {},
   "outputs": [],
   "source": [
    "#total de jogos coletados\n",
    "qntd = []\n",
    "for game in os.listdir(r'data'):\n",
    "    qntd.append(int(game.split('_')[-2]))\n",
    "    \n",
    "print(sum(qntd))"
   ]
  }
 ],
 "metadata": {
  "kernelspec": {
   "display_name": "Python 3",
   "language": "python",
   "name": "python3"
  },
  "language_info": {
   "codemirror_mode": {
    "name": "ipython",
    "version": 3
   },
   "file_extension": ".py",
   "mimetype": "text/x-python",
   "name": "python",
   "nbconvert_exporter": "python",
   "pygments_lexer": "ipython3",
   "version": "3.8.2"
  }
 },
 "nbformat": 4,
 "nbformat_minor": 2
}
