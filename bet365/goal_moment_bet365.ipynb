{
 "cells": [
  {
   "cell_type": "code",
   "execution_count": 1,
   "metadata": {},
   "outputs": [],
   "source": [
    "import bs4\n",
    "from selenium import webdriver\n",
    "import time"
   ]
  },
  {
   "cell_type": "code",
   "execution_count": 8,
   "metadata": {},
   "outputs": [],
   "source": [
    "# INSTANCE BROWSER\n",
    "def openBrowser(url, exchange=None):\n",
    "    '''\n",
    "        Verifica qual o sistema operacional para que use o driver e diretorio de usuarios certo\n",
    "    '''\n",
    "    import platform\n",
    "    if platform.system() == 'Linux':\n",
    "        driver_path = './webdriver/linux/chromedriver'\n",
    "#         profile_path = '/home/nomadbitcoin/whatsapp_profiles/' + business \n",
    "    elif platform.system() == 'Windows':\n",
    "        driver_path = r'C:\\\\Users\\\\Nycolas\\\\Desktop\\\\Yan\\\\brisbane_bot\\\\webdriver\\\\win\\\\chromedriver.exe'\n",
    "#         profile_path = \"C:\\\\Users\\\\Yan\\\\Desktop\\\\trading_betfair\\\\browser_profile\\\\\" + exchange\n",
    "#         print(profile_path)\n",
    "    \n",
    "    \n",
    "    global driver\n",
    "    try:\n",
    "        options = webdriver.ChromeOptions()\n",
    "        # open with saved informations in cache\n",
    "#         options.add_argument(\"profile\") \n",
    "#         options.add_argument(\"user-data-dir=\" + profile_path)?\n",
    "        driver = webdriver.Chrome(options=options, executable_path=driver_path)\n",
    "        driver.get(url)\n",
    "        return True\n",
    "    except Exception as error:\n",
    "        print(type(error), error)\n",
    "        return False"
   ]
  },
  {
   "cell_type": "code",
   "execution_count": 5,
   "metadata": {},
   "outputs": [],
   "source": [
    "games_next_3_hrs = 'https://www.bet365.com/#/AC/B1/C1/D13/E0/F2/J0/Q1/F^3'\n",
    "games_next_12_hrs = 'https://www.bet365.com/#/AC/B1/C1/D13/E0/F2/J0/Q1/F^12'\n",
    "games_next_24_hrs = 'https://www.bet365.com/#/AC/B1/C1/D13/E0/F2/J0/Q1/F^24'"
   ]
  },
  {
   "cell_type": "code",
   "execution_count": 11,
   "metadata": {},
   "outputs": [],
   "source": [
    "driver.execute_script(\"window.history.go(-1)\")"
   ]
  },
  {
   "cell_type": "code",
   "execution_count": 6,
   "metadata": {},
   "outputs": [
    {
     "name": "stdout",
     "output_type": "stream",
     "text": [
      "C:\\Users\\Yan\\Desktop\\trading_betfair\\browser_profile\\bet365\n"
     ]
    },
    {
     "data": {
      "text/plain": [
       "True"
      ]
     },
     "execution_count": 6,
     "metadata": {},
     "output_type": "execute_result"
    }
   ],
   "source": [
    "openBrowser(games_next_3_hrs, 'bet365')"
   ]
  },
  {
   "cell_type": "code",
   "execution_count": null,
   "metadata": {},
   "outputs": [],
   "source": []
  },
  {
   "cell_type": "code",
   "execution_count": 7,
   "metadata": {},
   "outputs": [],
   "source": [
    "def openGames():\n",
    "\n",
    "    championship_list = driver.find_elements_by_class_name('ufm-MarketGroupButtonUpcomingCompetition')\n",
    "\n",
    "    for count, championship in enumerate(championship_list):\n",
    "        try:\n",
    "            championship.click()\n",
    "            time.sleep(0.3)\n",
    "        except Exception as error:        \n",
    "            print(type(error), error)"
   ]
  },
  {
   "cell_type": "code",
   "execution_count": 8,
   "metadata": {},
   "outputs": [
    {
     "name": "stdout",
     "output_type": "stream",
     "text": [
      "<class 'selenium.common.exceptions.ElementClickInterceptedException'> Message: element click intercepted: Element <div class=\"ufm-MarketGroupButtonUpcomingCompetition gll-MarketGroup_Open \">...</div> is not clickable at point (463, 208). Other element would receive the click: <div class=\"gll-MarketColumnHeader ufm-MarketColumnHeaderC4FixtureSwitch \">...</div>\n",
      "  (Session info: chrome=80.0.3987.132)\n",
      "\n",
      "<class 'selenium.common.exceptions.ElementClickInterceptedException'> Message: element click intercepted: Element <div class=\"ufm-MarketGroupButtonUpcomingCompetition gll-MarketGroup_Open \">...</div> is not clickable at point (463, 204). Other element would receive the click: <div class=\"gll-MarketColumnHeader ufm-MarketColumnHeaderC4FixtureSwitch \">...</div>\n",
      "  (Session info: chrome=80.0.3987.132)\n",
      "\n",
      "<class 'selenium.common.exceptions.ElementClickInterceptedException'> Message: element click intercepted: Element <div class=\"ufm-MarketGroupButtonUpcomingCompetition gll-MarketGroup_Open \">...</div> is not clickable at point (463, 260). Other element would receive the click: <div class=\"gll-MarketColumnHeader ufm-MarketColumnHeaderC4FixtureSwitch \">...</div>\n",
      "  (Session info: chrome=80.0.3987.132)\n",
      "\n",
      "<class 'selenium.common.exceptions.ElementClickInterceptedException'> Message: element click intercepted: Element <div class=\"ufm-MarketGroupButtonUpcomingCompetition gll-MarketGroup_Open \">...</div> is not clickable at point (463, 316). Other element would receive the click: <div class=\"gll-MarketColumnHeader ufm-MarketColumnHeaderC4FixtureSwitch \">...</div>\n",
      "  (Session info: chrome=80.0.3987.132)\n",
      "\n",
      "<class 'selenium.common.exceptions.ElementClickInterceptedException'> Message: element click intercepted: Element <div class=\"ufm-MarketGroupButtonUpcomingCompetition gll-MarketGroup_Open \">...</div> is not clickable at point (463, 372). Other element would receive the click: <div class=\"gll-MarketColumnHeader ufm-MarketColumnHeaderC4FixtureSwitch \">...</div>\n",
      "  (Session info: chrome=80.0.3987.132)\n",
      "\n",
      "<class 'selenium.common.exceptions.ElementClickInterceptedException'> Message: element click intercepted: Element <div class=\"ufm-MarketGroupButtonUpcomingCompetition gll-MarketGroup_Open \">...</div> is not clickable at point (463, 428). Other element would receive the click: <div class=\"gll-MarketColumnHeader ufm-MarketColumnHeaderC4FixtureSwitch \">...</div>\n",
      "  (Session info: chrome=80.0.3987.132)\n",
      "\n",
      "<class 'selenium.common.exceptions.ElementClickInterceptedException'> Message: element click intercepted: Element <div class=\"ufm-MarketGroupButtonUpcomingCompetition gll-MarketGroup_Open \">...</div> is not clickable at point (460, 410). Other element would receive the click: <div class=\"ufm-MarketGroupButtonUpcomingCompetition \">...</div>\n",
      "  (Session info: chrome=80.0.3987.132)\n",
      "\n"
     ]
    }
   ],
   "source": [
    "openGames()"
   ]
  },
  {
   "cell_type": "code",
   "execution_count": null,
   "metadata": {},
   "outputs": [],
   "source": []
  },
  {
   "cell_type": "code",
   "execution_count": 121,
   "metadata": {},
   "outputs": [],
   "source": [
    "def expand_markets():\n",
    "    try:\n",
    "        #clica na seta para rolar as opcoes de mercados\n",
    "        driver.find_element_by_class_name('scr-NavBarScroller_RightArrow').click()\n",
    "        return True\n",
    "    except Exception as error:\n",
    "        print(type(error), error)\n",
    "        return False"
   ]
  },
  {
   "cell_type": "code",
   "execution_count": 298,
   "metadata": {},
   "outputs": [],
   "source": [
    "def click_minutes_market():\n",
    "    try:\n",
    "        markets = driver.find_element_by_class_name('ipe-GridHeaderMarketTabs').find_elements_by_class_name('ipe-GridHeaderTabLink ')\n",
    "\n",
    "        for market in markets:\n",
    "            if 'Minutos' in market.text:\n",
    "                market.click()\n",
    "                return True\n",
    "    except Exception as error:\n",
    "#         print(type(error), error)\n",
    "        return False"
   ]
  },
  {
   "cell_type": "code",
   "execution_count": 299,
   "metadata": {},
   "outputs": [],
   "source": [
    "def verify_market():\n",
    "    try:\n",
    "        submarkets = driver.find_elements_by_class_name('gll-MarketGroupButton')\n",
    "\n",
    "        for submarket in submarkets:\n",
    "            if 'Hora do 1º Gol' in submarket.text:\n",
    "                print('tem o mercado')\n",
    "                return True\n",
    "    except Exception as error:\n",
    "#         print(type(error), error)\n",
    "        return False"
   ]
  },
  {
   "cell_type": "code",
   "execution_count": 231,
   "metadata": {},
   "outputs": [],
   "source": [
    "def get_all_games():\n",
    "    try:\n",
    "        driver.get(games_next_12_hrs)\n",
    "        openGames(starting=True)\n",
    "        return True\n",
    "    except Exception as error:\n",
    "        print(type(error), error)\n",
    "        return False"
   ]
  },
  {
   "cell_type": "code",
   "execution_count": 7,
   "metadata": {},
   "outputs": [
    {
     "data": {
      "text/plain": [
       "True"
      ]
     },
     "execution_count": 7,
     "metadata": {},
     "output_type": "execute_result"
    }
   ],
   "source": [
    "openGames()"
   ]
  },
  {
   "cell_type": "code",
   "execution_count": 351,
   "metadata": {},
   "outputs": [],
   "source": [
    "def get_games():\n",
    "    games = driver.find_elements_by_class_name('sl-CouponParticipantWithBookCloses_NameContainer ')\n",
    "    return games\n",
    "def click_game(game):\n",
    "    try:\n",
    "        game.click()\n",
    "    except Exception as error:\n",
    "#         print(type(error), error)\n",
    "        return False"
   ]
  },
  {
   "cell_type": "code",
   "execution_count": 352,
   "metadata": {},
   "outputs": [],
   "source": []
  },
  {
   "cell_type": "code",
   "execution_count": 374,
   "metadata": {},
   "outputs": [],
   "source": [
    "get_all_games()\n",
    "total_events = len(get_games())\n",
    "games_verified = []\n",
    "to_play = []\n",
    "count = 1\n",
    "opened = 0\n",
    "need_open = False"
   ]
  },
  {
   "cell_type": "code",
   "execution_count": 375,
   "metadata": {
    "scrolled": true
   },
   "outputs": [
    {
     "name": "stdout",
     "output_type": "stream",
     "text": [
      " vs \n",
      "<class 'selenium.common.exceptions.ElementNotInteractableException'> Message: element not interactable\n",
      "  (Session info: chrome=80.0.3987.106)\n",
      "\n",
      "deu erro\n",
      "<class 'selenium.common.exceptions.ElementNotInteractableException'> Message: element not interactable\n",
      "  (Session info: chrome=80.0.3987.106)\n",
      "\n",
      " vs  - 2 verificado de 62\n",
      "Náutico Capibaribe vs Botafogo\n",
      "deu erro\n",
      "<class 'selenium.common.exceptions.ElementNotInteractableException'> Message: element not interactable\n",
      "  (Session info: chrome=80.0.3987.106)\n",
      "\n",
      "tem o mercado\n",
      "Náutico Capibaribe vs Botafogo - 3 verificado de 62\n",
      "Oeste vs Ceará\n",
      "deu erro\n",
      "<class 'selenium.common.exceptions.ElementNotInteractableException'> Message: element not interactable\n",
      "  (Session info: chrome=80.0.3987.106)\n",
      "\n",
      "tem o mercado\n",
      "Oeste vs Ceará - 4 verificado de 62\n",
      "Sociedade Esportiva do Gama vs Sociedade Esportiva Unaí DF\n",
      "deu erro\n",
      "<class 'selenium.common.exceptions.ElementNotInteractableException'> Message: element not interactable\n",
      "  (Session info: chrome=80.0.3987.106)\n",
      "\n",
      "Sociedade Esportiva do Gama vs Sociedade Esportiva Unaí DF - 5 verificado de 62\n",
      "Guarany de Sobral v Pacajus vs Guarany de Sobral v Pacajus\n",
      "deu erro\n",
      "<class 'selenium.common.exceptions.ElementNotInteractableException'> Message: element not interactable\n",
      "  (Session info: chrome=80.0.3987.106)\n",
      "\n",
      "Guarany de Sobral v Pacajus vs Guarany de Sobral v Pacajus - 6 verificado de 62\n",
      "Aguia Negra-MS vs Aquidauanense\n",
      "deu erro\n",
      "<class 'selenium.common.exceptions.ElementNotInteractableException'> Message: element not interactable\n",
      "  (Session info: chrome=80.0.3987.106)\n",
      "\n",
      "Aguia Negra-MS vs Aquidauanense - 7 verificado de 62\n",
      "Boa vs União Recreativa dos Trabalhadores\n",
      "deu erro\n",
      "<class 'selenium.common.exceptions.ElementNotInteractableException'> Message: element not interactable\n",
      "  (Session info: chrome=80.0.3987.106)\n",
      "\n",
      "Boa vs União Recreativa dos Trabalhadores - 8 verificado de 62\n",
      " vs \n",
      " vs  - 8 verificado de 62\n",
      " vs \n",
      " vs  - 8 verificado de 62\n",
      " vs \n",
      " vs  - 8 verificado de 62\n",
      " vs \n",
      " vs  - 8 verificado de 62\n",
      " vs \n",
      " vs  - 8 verificado de 62\n",
      " vs \n",
      " vs  - 8 verificado de 62\n"
     ]
    },
    {
     "ename": "KeyboardInterrupt",
     "evalue": "",
     "output_type": "error",
     "traceback": [
      "\u001b[1;31m---------------------------------------------------------------------------\u001b[0m",
      "\u001b[1;31mKeyboardInterrupt\u001b[0m                         Traceback (most recent call last)",
      "\u001b[1;32m<ipython-input-375-e7d0e76fa6de>\u001b[0m in \u001b[0;36m<module>\u001b[1;34m\u001b[0m\n\u001b[0;32m      1\u001b[0m \u001b[1;32mwhile\u001b[0m \u001b[0mlen\u001b[0m\u001b[1;33m(\u001b[0m\u001b[0mgames_verified\u001b[0m\u001b[1;33m)\u001b[0m \u001b[1;33m<=\u001b[0m \u001b[0mtotal_events\u001b[0m\u001b[1;33m:\u001b[0m\u001b[1;33m\u001b[0m\u001b[1;33m\u001b[0m\u001b[0m\n\u001b[0;32m      2\u001b[0m     \u001b[0mgames\u001b[0m \u001b[1;33m=\u001b[0m \u001b[0mget_games\u001b[0m\u001b[1;33m(\u001b[0m\u001b[1;33m)\u001b[0m\u001b[1;33m\u001b[0m\u001b[1;33m\u001b[0m\u001b[0m\n\u001b[1;32m----> 3\u001b[1;33m     \u001b[0mtime\u001b[0m\u001b[1;33m.\u001b[0m\u001b[0msleep\u001b[0m\u001b[1;33m(\u001b[0m\u001b[1;36m2\u001b[0m\u001b[1;33m)\u001b[0m\u001b[1;33m\u001b[0m\u001b[1;33m\u001b[0m\u001b[0m\n\u001b[0m\u001b[0;32m      4\u001b[0m \u001b[1;33m\u001b[0m\u001b[0m\n\u001b[0;32m      5\u001b[0m     \u001b[0mevent_name\u001b[0m \u001b[1;33m=\u001b[0m \u001b[0mgames\u001b[0m\u001b[1;33m[\u001b[0m\u001b[0mcount\u001b[0m\u001b[1;33m-\u001b[0m\u001b[1;36m1\u001b[0m\u001b[1;33m]\u001b[0m\u001b[1;33m.\u001b[0m\u001b[0mtext\u001b[0m\u001b[1;33m\u001b[0m\u001b[1;33m\u001b[0m\u001b[0m\n",
      "\u001b[1;31mKeyboardInterrupt\u001b[0m: "
     ]
    }
   ],
   "source": [
    "while len(games_verified) <= total_events:\n",
    "    games = get_games()\n",
    "    time.sleep(2)\n",
    "    \n",
    "    event_name = games[count-1].text\n",
    "    event_name = event_name.split('\\n')\n",
    "    event_name = event_name[0] + ' vs ' + event_name[-1]\n",
    "    print(event_name)\n",
    "    \n",
    "    if  event_name not in games_verified:\n",
    "        if click_game(games[count-1]):\n",
    "            print('clicou')\n",
    "        else:\n",
    "            print('deu erro')\n",
    "        time.sleep(2)\n",
    "        expand_markets()\n",
    "        time.sleep(2)\n",
    "        \n",
    "        #verifica se tem o mercado de minutos e se ha o momento do gol\n",
    "        if click_minutes_market() and verify_market():\n",
    "            #adiciona o jogo e url do mercado a lista to play\n",
    "            to_play.append({event_name:driver.current_url})\n",
    "        \n",
    "        games_verified.append(event_name)\n",
    "        driver.get(games_next_12_hrs)\n",
    "        time.sleep(2)\n",
    "        count+=1\n",
    "    elif count-1 == len(games) or need_open == True:\n",
    "        need_open = True\n",
    "        openGames(opened)\n",
    "        opened +=1\n",
    "        time.sleep(5)\n",
    "        \n",
    "    print('{} - {} verificado de {}'.format(event_name, count, total_events))"
   ]
  },
  {
   "cell_type": "code",
   "execution_count": 372,
   "metadata": {},
   "outputs": [
    {
     "data": {
      "text/plain": [
       "8"
      ]
     },
     "execution_count": 372,
     "metadata": {},
     "output_type": "execute_result"
    }
   ],
   "source": [
    "count"
   ]
  },
  {
   "cell_type": "code",
   "execution_count": 373,
   "metadata": {},
   "outputs": [
    {
     "data": {
      "text/plain": [
       "8"
      ]
     },
     "execution_count": 373,
     "metadata": {},
     "output_type": "execute_result"
    }
   ],
   "source": [
    "len(games)"
   ]
  },
  {
   "cell_type": "code",
   "execution_count": 350,
   "metadata": {},
   "outputs": [
    {
     "data": {
      "text/plain": [
       "9"
      ]
     },
     "execution_count": 350,
     "metadata": {},
     "output_type": "execute_result"
    }
   ],
   "source": [
    "count"
   ]
  },
  {
   "cell_type": "code",
   "execution_count": 344,
   "metadata": {},
   "outputs": [
    {
     "name": "stdout",
     "output_type": "stream",
     "text": [
      "CSA vs EC Bahia\n"
     ]
    }
   ],
   "source": [
    "event_name = games[count].text\n",
    "event_name = event_name.split('\\n')\n",
    "event_name = event_name[0] + ' vs ' + event_name[-1]\n",
    "print(event_name)"
   ]
  },
  {
   "cell_type": "code",
   "execution_count": 345,
   "metadata": {},
   "outputs": [],
   "source": [
    "if  event_name not in games_verified:\n",
    "        games[count].click()\n",
    "        time.sleep(2)\n",
    "        expand_markets()\n",
    "        time.sleep(2)\n",
    "        \n",
    "        #verifica se tem o mercado de minutos e se ha o momento do gol\n",
    "        if click_minutes_market() and verify_market():\n",
    "            #adiciona o jogo e url do mercado a lista to play\n",
    "            to_play.append({event_name:driver.current_url})\n",
    "        \n",
    "        games_verified.append(event_name)\n",
    "        driver.get(games_next_12_hrs)\n",
    "        time.sleep(2)\n",
    "#         count+=1"
   ]
  },
  {
   "cell_type": "code",
   "execution_count": null,
   "metadata": {},
   "outputs": [],
   "source": []
  },
  {
   "cell_type": "code",
   "execution_count": 9,
   "metadata": {},
   "outputs": [
    {
     "data": {
      "text/plain": [
       "True"
      ]
     },
     "execution_count": 9,
     "metadata": {},
     "output_type": "execute_result"
    }
   ],
   "source": [
    "openBrowser('http://www.car.gov.br/#/consultar')"
   ]
  },
  {
   "cell_type": "code",
   "execution_count": null,
   "metadata": {},
   "outputs": [],
   "source": []
  }
 ],
 "metadata": {
  "kernelspec": {
   "display_name": "Python 3",
   "language": "python",
   "name": "python3"
  },
  "language_info": {
   "codemirror_mode": {
    "name": "ipython",
    "version": 3
   },
   "file_extension": ".py",
   "mimetype": "text/x-python",
   "name": "python",
   "nbconvert_exporter": "python",
   "pygments_lexer": "ipython3",
   "version": "3.8.2"
  }
 },
 "nbformat": 4,
 "nbformat_minor": 2
}
